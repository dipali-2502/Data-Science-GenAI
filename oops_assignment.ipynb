{
  "nbformat": 4,
  "nbformat_minor": 0,
  "metadata": {
    "colab": {
      "provenance": []
    },
    "kernelspec": {
      "name": "python3",
      "display_name": "Python 3"
    },
    "language_info": {
      "name": "python"
    }
  },
  "cells": [
    {
      "cell_type": "markdown",
      "source": [
        "Q1. Explain Class and Object with respect to Object-Oriented Programming. Give a suitable example.\n",
        "\n",
        "ans. In Object-Oriented Programming (OOP):\n",
        "\n",
        "A Class is a blueprint or template for creating objects. It defines attributes (variables) and methods (functions).\n",
        "\n",
        "An Object is an instance of a class. It has actual values stored and can use the class methods.\n",
        "\n"
      ],
      "metadata": {
        "id": "ODWlZh6Tu8HV"
      }
    },
    {
      "cell_type": "code",
      "source": [
        "# Class definition\n",
        "class Car:\n",
        "    def __init__(self, brand, color):\n",
        "        self.brand = brand\n",
        "        self.color = color\n",
        "\n",
        "    def drive(self):\n",
        "        print(f\"The {self.color} {self.brand} is driving.\")\n",
        "\n",
        "# Object creation\n",
        "car1 = Car(\"Toyota\", \"Red\")\n",
        "car1.drive()\n"
      ],
      "metadata": {
        "id": "lw-6XW6fvxTA"
      },
      "execution_count": null,
      "outputs": []
    },
    {
      "cell_type": "markdown",
      "source": [
        "Q2. Name the four pillars of OOPs.\n",
        "\n",
        "ans. four pillars of Object-Oriented Programming (OOPs)** are:\n",
        "\n",
        "1. **Encapsulation** – Bundling data and methods that operate on that data within one unit (class), and restricting direct access to some components.\n",
        "\n",
        "2. **Abstraction** – Hiding complex implementation details and showing only the necessary features.\n",
        "\n",
        "3. **Inheritance** – One class (child) can inherit properties and methods from another class (parent).\n",
        "\n",
        "4. **Polymorphism** – The ability to use a common interface for multiple forms (e.g., method overriding or overloading).\n",
        "\n"
      ],
      "metadata": {
        "id": "TgH4zmcpv2js"
      }
    },
    {
      "cell_type": "markdown",
      "source": [
        "Q3. Explain why the __init__() function is used. Give a suitable example.\n",
        "\n",
        "ans. The __init__() function is a special method in Python classes. It is called automatically when a new object is created, and is used to initialize the object’s attributes.\n",
        "\n"
      ],
      "metadata": {
        "id": "ZETc691jwSEA"
      }
    },
    {
      "cell_type": "code",
      "source": [
        "class Student:\n",
        "    def __init__(self, name, grade):\n",
        "        self.name = name\n",
        "        self.grade = grade\n",
        "\n",
        "    def display(self):\n",
        "        print(f\"{self.name} is in grade {self.grade}.\")\n",
        "\n",
        "# Create object\n",
        "s1 = Student(\"Alice\", 10)\n",
        "s1.display()\n"
      ],
      "metadata": {
        "id": "eQSjbBthwfou"
      },
      "execution_count": null,
      "outputs": []
    },
    {
      "cell_type": "markdown",
      "source": [
        "Q4. Why self is used in OOPs?\n",
        "\n",
        "as. In OOPs, self refers to the current instance of the class. It is used to:\n",
        "\n",
        "Access instance variables and methods within the class.\n",
        "\n",
        "Differentiate between instance attributes and local variables.\n",
        "\n"
      ],
      "metadata": {
        "id": "YXFDDcWmwlnO"
      }
    },
    {
      "cell_type": "code",
      "source": [
        "class Dog:\n",
        "    def __init__(self, name):\n",
        "        self.name = name  # self.name is the instance variable\n",
        "\n",
        "    def speak(self):\n",
        "        print(f\"{self.name} says woof!\")\n",
        "\n",
        "d = Dog(\"Buddy\")\n",
        "d.speak()\n"
      ],
      "metadata": {
        "id": "KBe4U-15w6Pp"
      },
      "execution_count": null,
      "outputs": []
    },
    {
      "cell_type": "markdown",
      "source": [
        "Q5. What is inheritance? Give an example for each type of inheritance.\n",
        "\n",
        "Inheritance is an OOP concept where one class (child) inherits attributes and methods from another class (parent).\n",
        "It promotes code reuse and hierarchical relationships.\n",
        "\n",
        "check the example below-\n",
        "1.  1. Single Inheritance\n",
        "2. 2. Multiple Inheritance\n",
        "3. 3. Multilevel Inheritance\n"
      ],
      "metadata": {
        "id": "jRGS8XxVw9OT"
      }
    },
    {
      "cell_type": "code",
      "source": [
        "\n",
        "class Animal:\n",
        "    def sound(self):\n",
        "        print(\"Animal makes a sound\")\n",
        "\n",
        "class Dog(Animal):\n",
        "    def bark(self):\n",
        "        print(\"Dog barks\")\n",
        "\n",
        "d = Dog()\n",
        "d.sound()\n",
        "d.bark()\n"
      ],
      "metadata": {
        "colab": {
          "base_uri": "https://localhost:8080/"
        },
        "id": "8McflN2VxQRZ",
        "outputId": "5b793712-bcb8-4494-a934-d4fbcea30390"
      },
      "execution_count": 2,
      "outputs": [
        {
          "output_type": "stream",
          "name": "stdout",
          "text": [
            "Animal makes a sound\n",
            "Dog barks\n"
          ]
        }
      ]
    },
    {
      "cell_type": "code",
      "source": [
        "class A:\n",
        "    def feature1(self):\n",
        "        print(\"Feature 1\")\n",
        "\n",
        "class B:\n",
        "    def feature2(self):\n",
        "        print(\"Feature 2\")\n",
        "\n",
        "class C(A, B):\n",
        "    pass\n",
        "\n",
        "c = C()\n",
        "c.feature1()\n",
        "c.feature2()\n"
      ],
      "metadata": {
        "id": "iMaU4RYXxf9Y"
      },
      "execution_count": null,
      "outputs": []
    },
    {
      "cell_type": "code",
      "source": [
        "class Grandparent:\n",
        "    def grand(self):\n",
        "        print(\"Grandparent method\")\n",
        "\n",
        "class Parent(Grandparent):\n",
        "    def parent(self):\n",
        "        print(\"Parent method\")\n",
        "\n",
        "class Child(Parent):\n",
        "    def child(self):\n",
        "        print(\"Child method\")\n",
        "\n",
        "c = Child()\n",
        "c.grand()\n",
        "c.parent()\n",
        "c.child()\n"
      ],
      "metadata": {
        "id": "DZNUpCoDxjdC"
      },
      "execution_count": null,
      "outputs": []
    }
  ]
}