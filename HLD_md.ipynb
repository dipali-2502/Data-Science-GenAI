{
  "nbformat": 4,
  "nbformat_minor": 0,
  "metadata": {
    "colab": {
      "provenance": []
    },
    "kernelspec": {
      "name": "python3",
      "display_name": "Python 3"
    },
    "language_info": {
      "name": "python"
    }
  },
  "cells": [
    {
      "cell_type": "markdown",
      "source": [
        "# High-Level Design (HLD)\n",
        "\n",
        "## Project Objective\n",
        "To predict the **volatility** of a cryptocurrency using historical market data.\n",
        "\n",
        "## Input\n",
        "- CSV File: `dataset.csv`\n",
        "- Features: `open`, `high`, `low`, `close`, `volume`\n",
        "\n",
        "## Output\n",
        "- Predicted `volatility` (as target variable)\n",
        "\n",
        "## Steps Overview\n",
        "1. **Data Ingestion**  \n",
        "   - Load dataset from CSV\n",
        "2. **EDA**  \n",
        "   - Summary stats, missing value treatment, visualizations\n",
        "3. **Data Preprocessing**  \n",
        "   - Datetime conversion, sorting, null handling\n",
        "4. **Feature Engineering**\n",
        "   - Volatility formula: `(high - low)/open`\n",
        "   - Rolling mean and standard deviation\n",
        "   - Liquidity ratio = `volume / close`\n",
        "5. **Model Training**\n",
        "   - Scikit-learn pipeline with `StandardScaler` and `RandomForestRegressor`\n",
        "6. **Model Evaluation**\n",
        "   - RMSE, MAE, and R² Score\n",
        "\n",
        "## Tools & Libraries\n",
        "- Python (Pandas, Numpy, Scikit-learn, Matplotlib, Seaborn)\n",
        "- Jupyter Notebook / Google Colab\n"
      ],
      "metadata": {
        "id": "HLIDAV4i112V"
      }
    }
  ]
}