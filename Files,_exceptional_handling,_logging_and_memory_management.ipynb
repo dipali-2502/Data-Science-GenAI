{
  "nbformat": 4,
  "nbformat_minor": 0,
  "metadata": {
    "colab": {
      "provenance": []
    },
    "kernelspec": {
      "name": "python3",
      "display_name": "Python 3"
    },
    "language_info": {
      "name": "python"
    }
  },
  "cells": [
    {
      "cell_type": "markdown",
      "source": [
        "# Theory Questions"
      ],
      "metadata": {
        "id": "bwCSceYNkAj5"
      }
    },
    {
      "cell_type": "markdown",
      "source": [
        "1. What is the difference between interpreted and compiled languages?"
      ],
      "metadata": {
        "id": "y5h_QioskIDZ"
      }
    },
    {
      "cell_type": "markdown",
      "source": [
        "Ans. in compiler translates the codes before exeuting it hie interpreter translate the codes line by line then executes it."
      ],
      "metadata": {
        "id": "3pDN0yEwkUH6"
      }
    },
    {
      "cell_type": "markdown",
      "source": [
        "2. What is exception handling in Python?\n"
      ],
      "metadata": {
        "id": "GeINy4etaO_M"
      }
    },
    {
      "cell_type": "markdown",
      "source": [
        "Ans.Exception handling is a way of dealing with errors that might happen in a program while running. Instead of letting the program crash when something goes wrong."
      ],
      "metadata": {
        "id": "QxCK-Wtdadjt"
      }
    },
    {
      "cell_type": "markdown",
      "source": [
        "3. What is the purpose of the finally block in exception handling?\n"
      ],
      "metadata": {
        "id": "eG3aRAmffDDm"
      }
    },
    {
      "cell_type": "markdown",
      "source": [
        "Ans.The finally block in exception handling is used to run code that must always execute, no matter what—whether an error occurs or not. It is like cleanup crew for our program.\n",
        "\n"
      ],
      "metadata": {
        "id": "yIM6-jFKfPv3"
      }
    },
    {
      "cell_type": "markdown",
      "source": [
        "4. What is logging in Python?\n"
      ],
      "metadata": {
        "id": "MPXZkdk3femj"
      }
    },
    {
      "cell_type": "markdown",
      "source": [
        "Ans.Logging in Python is a way of tracking and recording events or messages in your program."
      ],
      "metadata": {
        "id": "UaZBtxIZfmiP"
      }
    },
    {
      "cell_type": "markdown",
      "source": [
        "5. What is the significance of the __del__ method in Python?\n"
      ],
      "metadata": {
        "id": "4BjvAM4cf-yL"
      }
    },
    {
      "cell_type": "markdown",
      "source": [
        "Ans.The __del__ method in Python is a special method, also known as a destructor, that is called when an object is about to be destroyed or garbage-collected."
      ],
      "metadata": {
        "id": "3aaWCc96gSnE"
      }
    },
    {
      "cell_type": "markdown",
      "source": [
        "6.What is the difference between import and from ... import in Python:?\n"
      ],
      "metadata": {
        "id": "nn651DYugo6O"
      }
    },
    {
      "cell_type": "markdown",
      "source": [
        "Ans.In Python, both import and from  import are used to bring modules or specific elements from a module into your code, but they work in slightly different ways.\n",
        "\n"
      ],
      "metadata": {
        "id": "XpUqzESogv5O"
      }
    },
    {
      "cell_type": "markdown",
      "source": [
        "7. How can you handle multiple exceptions in Python?\n"
      ],
      "metadata": {
        "id": "AfySuCcdhCzW"
      }
    },
    {
      "cell_type": "markdown",
      "source": [
        "Ans.In Python, we can handle multiple exceptions in several ways, depending on our needs.\n",
        "\n"
      ],
      "metadata": {
        "id": "930f25gphJEo"
      }
    },
    {
      "cell_type": "markdown",
      "source": [
        "8. What is the purpose of the with statement when handling files in Python?\n"
      ],
      "metadata": {
        "id": "ZtZ3GPL_hedE"
      }
    },
    {
      "cell_type": "markdown",
      "source": [
        "Ans.The with statement in Python is used to handle resources like files in a safe and efficient way. It ensures that resources are properly managed, even if an error occurs during the process.\n",
        "\n"
      ],
      "metadata": {
        "id": "g8P14y7qhmzX"
      }
    },
    {
      "cell_type": "markdown",
      "source": [
        "9. What is the difference between multithreading and multiprocessing?\n",
        "\n"
      ],
      "metadata": {
        "id": "8hwghdgoiItU"
      }
    },
    {
      "cell_type": "markdown",
      "source": [
        "Ans.Multithreading and multiprocessing are both techniques used to improve the performance of a program by executing multiple tasks concurrently. However, they are used in different situations and have key differences in how they work.\n",
        "\n"
      ],
      "metadata": {
        "id": "rDyaw5VdiYRr"
      }
    },
    {
      "cell_type": "markdown",
      "source": [
        "10. What are the advantages of using logging in a program?\n"
      ],
      "metadata": {
        "id": "pUW0vFVvipVr"
      }
    },
    {
      "cell_type": "markdown",
      "source": [
        "Ans.Using logging in a program provides several key advantages over simply printing messages to the console."
      ],
      "metadata": {
        "id": "pBYmSu8diugD"
      }
    },
    {
      "cell_type": "markdown",
      "source": [
        "11. What is memory management in Python?\n"
      ],
      "metadata": {
        "id": "UfqwXQSOjDsk"
      }
    },
    {
      "cell_type": "markdown",
      "source": [
        "Ans.Memory management in Python refers to how the Python interpreter allocates, manages, and frees memory for objects and data structures in your program. Efficient memory management is crucial for ensuring that your program runs smoothly and doesn't run out of memory or crash."
      ],
      "metadata": {
        "id": "SgSHT71KjrqL"
      }
    },
    {
      "cell_type": "markdown",
      "source": [
        "12. What are the basic steps involved in exception handling in Python?"
      ],
      "metadata": {
        "id": "bXRwdbBIj9nZ"
      }
    },
    {
      "cell_type": "markdown",
      "source": [
        "Ans. Exception handling in Python is used to manage errors gracefully and prevent the program from crashing unexpectedly. The basic steps involved in exception handling are:\n",
        "\n",
        "1. Use try Block\n",
        "2. Use else Block\n",
        "3. Use finally Block"
      ],
      "metadata": {
        "id": "F-CVtx2QkW-b"
      }
    },
    {
      "cell_type": "markdown",
      "source": [
        "13. Why is memory management important in Python?"
      ],
      "metadata": {
        "id": "_MflTvX6kqMs"
      }
    },
    {
      "cell_type": "markdown",
      "source": [
        "Ans. Memory management is crucial in Python because it ensures efficient use of system resources, prevents memory leaks, and enhances program performance. Python uses an automatic memory management system, but understanding its importance helps developers write optimized and error-free code."
      ],
      "metadata": {
        "id": "G4ebTy43ky7e"
      }
    },
    {
      "cell_type": "markdown",
      "source": [
        "14. What is the role of try and except in exception handling?"
      ],
      "metadata": {
        "id": "c8_WVoknk1dg"
      }
    },
    {
      "cell_type": "markdown",
      "source": [
        "Ans. The try and except blocks in Python play a crucial role in exception handling, allowing a program to handle runtime errors gracefully instead of crashing."
      ],
      "metadata": {
        "id": "ND6g8MmUlAU2"
      }
    },
    {
      "cell_type": "markdown",
      "source": [
        "15. How does Python's garbage collection system work?"
      ],
      "metadata": {
        "id": "NxIu4dQqlCoD"
      }
    },
    {
      "cell_type": "markdown",
      "source": [
        "Ans. Python’s garbage collection system is responsible for automatically managing memory by deallocating objects that are no longer in use. This helps prevent memory leaks and ensures efficient use of system resources."
      ],
      "metadata": {
        "id": "zozp4D-tlI5R"
      }
    },
    {
      "cell_type": "markdown",
      "source": [
        "16. What is the purpose of the else block in exception handling?"
      ],
      "metadata": {
        "id": "AwINEp1ClODZ"
      }
    },
    {
      "cell_type": "markdown",
      "source": [
        "Ans. The else block in Python's exception handling is used to execute code only if no exception occurs in the try block. It helps separate successful execution logic from error-handling logic, making the code more readable and structured."
      ],
      "metadata": {
        "id": "9wNMAWMAlU9w"
      }
    },
    {
      "cell_type": "markdown",
      "source": [
        "17. What are the common logging levels in Python?"
      ],
      "metadata": {
        "id": "sDqB59fslZ3I"
      }
    },
    {
      "cell_type": "markdown",
      "source": [
        "Ans. Python's common logging levels are **DEBUG**, **INFO**, **WARNING**, **ERROR**, and **CRITICAL**, each representing increasing severity for tracking and diagnosing issues in a program."
      ],
      "metadata": {
        "id": "M9VnyA8rleeP"
      }
    },
    {
      "cell_type": "markdown",
      "source": [
        "18. What is the difference between os.fork() and multiprocessing in Python?"
      ],
      "metadata": {
        "id": "Vq5zoSk0lzod"
      }
    },
    {
      "cell_type": "markdown",
      "source": [
        "Ans. `os.fork()` creates a child process by duplicating the parent (Unix-only), while `multiprocessing` provides a cross-platform way to create and manage processes."
      ],
      "metadata": {
        "id": "ExIxZh6LmCiK"
      }
    },
    {
      "cell_type": "markdown",
      "source": [
        "19. What is the importance of closing a file in Python?"
      ],
      "metadata": {
        "id": "kUJ0A7TwmXW1"
      }
    },
    {
      "cell_type": "markdown",
      "source": [
        "Ans. Closing a file in Python is important to ensure that all changes to the file are saved, resources are released, and memory is freed, preventing potential data corruption, memory leaks, and file locking issues."
      ],
      "metadata": {
        "id": "u8Kn7QCemhnA"
      }
    },
    {
      "cell_type": "markdown",
      "source": [
        "20. What is the difference between file.read() and file.readline() in Python?"
      ],
      "metadata": {
        "id": "PI4aXOGrmm4w"
      }
    },
    {
      "cell_type": "markdown",
      "source": [
        "Ans. `file.read()` reads the entire file content at once as a single string, while `file.readline()` reads one line at a time."
      ],
      "metadata": {
        "id": "8BkcLZQGmwhp"
      }
    },
    {
      "cell_type": "markdown",
      "source": [
        "21. What is the logging module in Python used for?"
      ],
      "metadata": {
        "id": "EVASmPYWm1Vj"
      }
    },
    {
      "cell_type": "markdown",
      "source": [
        "Ans. The `logging` module in Python is used to log messages for tracking events, errors, and debugging information during program execution, providing an organized way to record runtime behavior."
      ],
      "metadata": {
        "id": "rmFol8FVm2n7"
      }
    },
    {
      "cell_type": "markdown",
      "source": [
        "22. What is the os module in Python used for in file handling?"
      ],
      "metadata": {
        "id": "Nfu0H0qfm5iv"
      }
    },
    {
      "cell_type": "markdown",
      "source": [
        "Ans. The `os` module in Python is used for interacting with the operating system, including file handling tasks such as creating, removing, and manipulating files and directories, as well as accessing file properties."
      ],
      "metadata": {
        "id": "qsetbXG7nEv6"
      }
    },
    {
      "cell_type": "markdown",
      "source": [
        "23. What are the challenges associated with memory management in Python?"
      ],
      "metadata": {
        "id": "-7lx8s2JnKGz"
      }
    },
    {
      "cell_type": "markdown",
      "source": [
        "Ans. Challenges in Python memory management include inefficient garbage collection for cyclic references, memory fragmentation, high memory overhead due to dynamic typing, and the potential for memory leaks due to reference counting."
      ],
      "metadata": {
        "id": "fPHtMrOenLrC"
      }
    },
    {
      "cell_type": "markdown",
      "source": [
        "24. How do you raise an exception manually in Python?"
      ],
      "metadata": {
        "id": "Z7On-lcNnTNb"
      }
    },
    {
      "cell_type": "markdown",
      "source": [
        "Ans. You can raise an exception manually in Python using the raise keyword, followed by the exception type (optionally with a custom message)."
      ],
      "metadata": {
        "id": "i2IvF1-wnXjl"
      }
    },
    {
      "cell_type": "markdown",
      "source": [
        "25. Why is it important to use multithreading in certain applications?"
      ],
      "metadata": {
        "id": "-9xc66-enhJL"
      }
    },
    {
      "cell_type": "markdown",
      "source": [
        "Ans. Multithreading is important in certain applications because it allows concurrent execution of tasks, improving performance by making better use of CPU resources, particularly in I/O-bound operations (like file reading/writing or network communication) and applications requiring responsiveness, such as GUI applications. It helps in reducing program latency and enhancing the overall user experience."
      ],
      "metadata": {
        "id": "nsMMo6wAnka2"
      }
    },
    {
      "cell_type": "markdown",
      "source": [
        "# Practical Questions"
      ],
      "metadata": {
        "id": "WutIOfQyno_i"
      }
    },
    {
      "cell_type": "markdown",
      "source": [
        "1. How can you open a file for writing in Python and write a string to it?"
      ],
      "metadata": {
        "id": "xN8dP7TPnsPa"
      }
    },
    {
      "cell_type": "code",
      "source": [
        "with open(\"example.txt\", \"w\") as file:\n",
        "    file.write(\"This is a string written to the file.\")"
      ],
      "metadata": {
        "id": "La8JQ7lvn3OX"
      },
      "execution_count": 1,
      "outputs": []
    },
    {
      "cell_type": "markdown",
      "source": [
        "2. Write a Python program to read the contents of a file and print each line?"
      ],
      "metadata": {
        "id": "b7V3trZOn6n0"
      }
    },
    {
      "cell_type": "code",
      "source": [
        "with open(\"example.txt\", \"r\") as file:\n",
        "    for line in file:\n",
        "        print(line, end='')"
      ],
      "metadata": {
        "colab": {
          "base_uri": "https://localhost:8080/"
        },
        "id": "DTJc396uoBma",
        "outputId": "d64ede6e-0f81-49e1-860b-71138e182ec8"
      },
      "execution_count": 2,
      "outputs": [
        {
          "output_type": "stream",
          "name": "stdout",
          "text": [
            "This is a string written to the file."
          ]
        }
      ]
    },
    {
      "cell_type": "markdown",
      "source": [
        "3. How would you handle a case where the file doesn't exist while trying to open it for reading?"
      ],
      "metadata": {
        "id": "0mHtpPL2oWUQ"
      }
    },
    {
      "cell_type": "code",
      "source": [
        "try:\n",
        "    with open(\"example.txt\", \"r\") as file:\n",
        "        content = file.read()\n",
        "        print(content)\n",
        "except FileNotFoundError:\n",
        "    print(\"The file does not exist.\")"
      ],
      "metadata": {
        "colab": {
          "base_uri": "https://localhost:8080/"
        },
        "id": "gYHip624oY5O",
        "outputId": "0b4ff707-b351-4e82-f830-8918257c27e7"
      },
      "execution_count": 3,
      "outputs": [
        {
          "output_type": "stream",
          "name": "stdout",
          "text": [
            "This is a string written to the file.\n"
          ]
        }
      ]
    },
    {
      "cell_type": "markdown",
      "source": [
        "4. Write a Python script that reads from one file and writes its content to another file?"
      ],
      "metadata": {
        "id": "9GhwfNHrodHB"
      }
    },
    {
      "cell_type": "code",
      "source": [
        "with open(\"example.txt\", \"r\") as source_file:\n",
        "    content = source_file.read()\n",
        "with open(\"destination.txt\", \"w\") as destination_file:\n",
        "    destination_file.write(content)\n",
        "print(\"Content has been copied from source.txt to destination.txt.\")"
      ],
      "metadata": {
        "colab": {
          "base_uri": "https://localhost:8080/"
        },
        "id": "zBMm7oYhojAf",
        "outputId": "2b157c0e-f6f6-4cd2-e97a-4d17576c6d98"
      },
      "execution_count": 5,
      "outputs": [
        {
          "output_type": "stream",
          "name": "stdout",
          "text": [
            "Content has been copied from source.txt to destination.txt.\n"
          ]
        }
      ]
    },
    {
      "cell_type": "markdown",
      "source": [
        "5. How would you catch and handle division by zero error in Python?"
      ],
      "metadata": {
        "id": "vAFfg8pTo1T2"
      }
    },
    {
      "cell_type": "code",
      "source": [
        "try:\n",
        "    numerator = 10\n",
        "    denominator = 0\n",
        "    result = numerator / denominator\n",
        "except ZeroDivisionError:\n",
        "    print(\"Error: Cannot divide by zero.\")\n",
        "else:\n",
        "    print(\"The result is:\", result)"
      ],
      "metadata": {
        "colab": {
          "base_uri": "https://localhost:8080/"
        },
        "id": "rnNNFYdAo7jm",
        "outputId": "6669ca9f-4af8-482a-9e5d-46aa2374a2d2"
      },
      "execution_count": 6,
      "outputs": [
        {
          "output_type": "stream",
          "name": "stdout",
          "text": [
            "Error: Cannot divide by zero.\n"
          ]
        }
      ]
    },
    {
      "cell_type": "markdown",
      "source": [
        "6. Write a Python program that logs an error message to a log file when a division by zero exception occurs?"
      ],
      "metadata": {
        "id": "gbgxys2VpCjj"
      }
    },
    {
      "cell_type": "code",
      "source": [
        "import logging\n",
        "\n",
        "logging.basicConfig(filename='error_log.txt', level=logging.ERROR,\n",
        "                    format='%(asctime)s - %(levelname)s - %(message)s')\n",
        "\n",
        "try:\n",
        "    numerator = 10\n",
        "    denominator = 0\n",
        "    result = numerator / denominator\n",
        "except ZeroDivisionError as e:\n",
        "    logging.error(f\"Error occurred: {e}\")\n",
        "    print(\"An error occurred. Please check the log file for details.\")\n"
      ],
      "metadata": {
        "colab": {
          "base_uri": "https://localhost:8080/"
        },
        "id": "r-VvwnC-pEIY",
        "outputId": "0a2ca25c-08ee-4ca0-be6e-95dfab12d786"
      },
      "execution_count": 7,
      "outputs": [
        {
          "output_type": "stream",
          "name": "stderr",
          "text": [
            "ERROR:root:Error occurred: division by zero\n"
          ]
        },
        {
          "output_type": "stream",
          "name": "stdout",
          "text": [
            "An error occurred. Please check the log file for details.\n"
          ]
        }
      ]
    },
    {
      "cell_type": "markdown",
      "source": [
        "7. How do you log information at different levels (INFO, ERROR, WARNING) in Python using the logging module?"
      ],
      "metadata": {
        "id": "310ae_LBpRkY"
      }
    },
    {
      "cell_type": "code",
      "source": [
        "import logging\n",
        "\n",
        "logging.basicConfig(level=logging.INFO, format='%(asctime)s - %(levelname)s - %(message)s')\n",
        "\n",
        "logging.debug(\"This is a debug message.\")\n",
        "logging.info(\"This is an info message.\")\n",
        "logging.warning(\"This is a warning message.\")\n",
        "logging.error(\"This is an error message.\")\n",
        "logging.critical(\"This is a critical message.\")"
      ],
      "metadata": {
        "colab": {
          "base_uri": "https://localhost:8080/"
        },
        "id": "RZ5FmNrwpTZQ",
        "outputId": "f70f16ba-8880-4199-953b-0dc9f8eb6eef"
      },
      "execution_count": 8,
      "outputs": [
        {
          "output_type": "stream",
          "name": "stderr",
          "text": [
            "WARNING:root:This is a warning message.\n",
            "ERROR:root:This is an error message.\n",
            "CRITICAL:root:This is a critical message.\n"
          ]
        }
      ]
    },
    {
      "cell_type": "markdown",
      "source": [
        "8. Write a program to handle a file opening error using exception handling?"
      ],
      "metadata": {
        "id": "JrDANTodpgwf"
      }
    },
    {
      "cell_type": "code",
      "source": [
        "try:\n",
        "    with open(\"non_existent_file.txt\", \"r\") as file:\n",
        "        content = file.read()\n",
        "        print(content)\n",
        "except FileNotFoundError:\n",
        "    print(\"Error: The file does not exist.\")\n",
        "except Exception as e:\n",
        "    print(f\"An unexpected error occurred: {e}\")"
      ],
      "metadata": {
        "colab": {
          "base_uri": "https://localhost:8080/"
        },
        "id": "hhcSQvbTpi6n",
        "outputId": "5ef69af9-2ee0-4490-beb0-6f107bd8cc43"
      },
      "execution_count": 9,
      "outputs": [
        {
          "output_type": "stream",
          "name": "stdout",
          "text": [
            "Error: The file does not exist.\n"
          ]
        }
      ]
    },
    {
      "cell_type": "markdown",
      "source": [
        "9. How can you read a file line by line and store its content in a list in Python?"
      ],
      "metadata": {
        "id": "YA_FDEw5puir"
      }
    },
    {
      "cell_type": "code",
      "source": [
        "with open(\"example.txt\", \"r\") as file:\n",
        "    lines = file.readlines()\n",
        "\n",
        "print(lines)"
      ],
      "metadata": {
        "colab": {
          "base_uri": "https://localhost:8080/"
        },
        "id": "k4jWvXzCpyaR",
        "outputId": "30b3f503-0337-4a27-c98a-d8af1869cb23"
      },
      "execution_count": 10,
      "outputs": [
        {
          "output_type": "stream",
          "name": "stdout",
          "text": [
            "['This is a string written to the file.']\n"
          ]
        }
      ]
    },
    {
      "cell_type": "markdown",
      "source": [
        "10. How can you append data to an existing file in Python?"
      ],
      "metadata": {
        "id": "rbPuTc70qDE-"
      }
    },
    {
      "cell_type": "code",
      "source": [
        "with open(\"example.txt\", \"a\") as file:\n",
        "    file.write(\"This is the new data being appended.\\n\")\n",
        "print(\"Data has been appended to the file.\")"
      ],
      "metadata": {
        "colab": {
          "base_uri": "https://localhost:8080/"
        },
        "id": "ihxXVkkZqE8N",
        "outputId": "05a82874-9f00-488c-b012-794859331479"
      },
      "execution_count": 11,
      "outputs": [
        {
          "output_type": "stream",
          "name": "stdout",
          "text": [
            "Data has been appended to the file.\n"
          ]
        }
      ]
    },
    {
      "cell_type": "markdown",
      "source": [
        "11. Write a Python program that uses a try-except block to handle an error when attempting to access a\n",
        "dictionary key that doesn't exist?"
      ],
      "metadata": {
        "id": "MnSAmZc4qQ_Z"
      }
    },
    {
      "cell_type": "code",
      "source": [
        "my_dict = {'name': 'Alice', 'age': 25}\n",
        "\n",
        "try:\n",
        "    value = my_dict['address']\n",
        "except KeyError:\n",
        "    print(\"Error: The key 'address' does not exist in the dictionary.\")"
      ],
      "metadata": {
        "colab": {
          "base_uri": "https://localhost:8080/"
        },
        "id": "YTnwjeRmqStF",
        "outputId": "8111a447-3f0f-4f7a-a42e-0b4b9f7b9b17"
      },
      "execution_count": 12,
      "outputs": [
        {
          "output_type": "stream",
          "name": "stdout",
          "text": [
            "Error: The key 'address' does not exist in the dictionary.\n"
          ]
        }
      ]
    },
    {
      "cell_type": "markdown",
      "source": [
        "12.  Write a program that demonstrates using multiple except blocks to handle different types of exceptions?"
      ],
      "metadata": {
        "id": "Dh8VRtiAqfwN"
      }
    },
    {
      "cell_type": "code",
      "source": [
        "try:\n",
        "    num1 = int(input(\"Enter the first number: \"))\n",
        "    num2 = int(input(\"Enter the second number: \"))\n",
        "    result = num1 / num2\n",
        "\n",
        "except ValueError:\n",
        "    print(\"Error: Invalid input. Please enter valid integers.\")\n",
        "except ZeroDivisionError:\n",
        "    print(\"Error: Division by zero is not allowed.\")\n",
        "except Exception as e:\n",
        "    print(f\"An unexpected error occurred: {e}\")\n",
        "else:\n",
        "    print(f\"The result of the division is: {result}\")"
      ],
      "metadata": {
        "colab": {
          "base_uri": "https://localhost:8080/"
        },
        "id": "oT1tk-pCqhpT",
        "outputId": "7a346ebe-26d1-4ad1-d2b7-3f6c75d13394"
      },
      "execution_count": 13,
      "outputs": [
        {
          "output_type": "stream",
          "name": "stdout",
          "text": [
            "Enter the first number: 3\n",
            "Enter the second number: 5\n",
            "The result of the division is: 0.6\n"
          ]
        }
      ]
    },
    {
      "cell_type": "markdown",
      "source": [
        "13.  How would you check if a file exists before attempting to read it in Python?"
      ],
      "metadata": {
        "id": "rwgd_mkCqwvR"
      }
    },
    {
      "cell_type": "code",
      "source": [
        "import os\n",
        "\n",
        "file_path = \"example.txt\"\n",
        "\n",
        "if os.path.exists(file_path):\n",
        "    with open(file_path, \"r\") as file:\n",
        "        content = file.read()\n",
        "        print(content)\n",
        "else:\n",
        "    print(f\"The file '{file_path}' does not exist.\")"
      ],
      "metadata": {
        "colab": {
          "base_uri": "https://localhost:8080/"
        },
        "id": "WG_vVORAqzFd",
        "outputId": "42608dc4-0b37-4319-a7f4-43328698ac84"
      },
      "execution_count": 14,
      "outputs": [
        {
          "output_type": "stream",
          "name": "stdout",
          "text": [
            "This is a string written to the file.This is the new data being appended.\n",
            "\n"
          ]
        }
      ]
    },
    {
      "cell_type": "markdown",
      "source": [
        "14.  Write a program that uses the logging module to log both informational and error messages?"
      ],
      "metadata": {
        "id": "pg_M86gFrGs7"
      }
    },
    {
      "cell_type": "code",
      "source": [
        "import logging\n",
        "\n",
        "logging.basicConfig(filename='app.log', level=logging.DEBUG,\n",
        "                    format='%(asctime)s - %(levelname)s - %(message)s')\n",
        "\n",
        "logging.info(\"This is an informational message.\")\n",
        "\n",
        "try:\n",
        "    x = 10 / 0\n",
        "except ZeroDivisionError as e:\n",
        "    logging.error(f\"Error occurred: {e}\")\n",
        "\n",
        "print(\"Logging complete. Check the 'app.log' file.\")\n"
      ],
      "metadata": {
        "colab": {
          "base_uri": "https://localhost:8080/"
        },
        "id": "LQk6vAIgrIb0",
        "outputId": "9f9fe2be-7ffd-4ffb-eaa0-c051688425fd"
      },
      "execution_count": 15,
      "outputs": [
        {
          "output_type": "stream",
          "name": "stderr",
          "text": [
            "ERROR:root:Error occurred: division by zero\n"
          ]
        },
        {
          "output_type": "stream",
          "name": "stdout",
          "text": [
            "Logging complete. Check the 'app.log' file.\n"
          ]
        }
      ]
    },
    {
      "cell_type": "markdown",
      "source": [
        "15.  Write a Python program that prints the content of a file and handles the case when the file is empty?"
      ],
      "metadata": {
        "id": "zg9xow9mrRUo"
      }
    },
    {
      "cell_type": "code",
      "source": [
        "file_path = \"example.txt\"\n",
        "\n",
        "try:\n",
        "    with open(file_path, \"r\") as file:\n",
        "        content = file.read()\n",
        "        if not content:\n",
        "            print(\"The file is empty.\")\n",
        "        else:\n",
        "            print(\"File content:\")\n",
        "            print(content)\n",
        "except FileNotFoundError:\n",
        "    print(f\"Error: The file '{file_path}' does not exist.\")\n",
        "except Exception as e:\n",
        "    print(f\"An error occurred: {e}\")\n"
      ],
      "metadata": {
        "colab": {
          "base_uri": "https://localhost:8080/"
        },
        "id": "ec14dSaKrTQV",
        "outputId": "29d10cb0-ea2e-4ed2-b290-7baabdcfac35"
      },
      "execution_count": 16,
      "outputs": [
        {
          "output_type": "stream",
          "name": "stdout",
          "text": [
            "File content:\n",
            "This is a string written to the file.This is the new data being appended.\n",
            "\n"
          ]
        }
      ]
    },
    {
      "cell_type": "markdown",
      "source": [
        "16. Demonstrate how to use memory profiling to check the memory usage of a small program?"
      ],
      "metadata": {
        "id": "D-uF-0GWrfP-"
      }
    },
    {
      "cell_type": "code",
      "source": [
        "from memory_profiler import profile\n",
        "\n",
        "@profile\n",
        "def create_large_list():\n",
        "    large_list = [i for i in range(1000000)]\n",
        "    return large_list\n",
        "\n",
        "@profile\n",
        "def create_and_process_data():\n",
        "    data = create_large_list()\n",
        "    squared_data = [x ** 2 for x in data]\n",
        "    return squared_data\n",
        "\n",
        "if __name__ == \"__main__\":\n",
        "    create_and_process_data()"
      ],
      "metadata": {
        "colab": {
          "base_uri": "https://localhost:8080/",
          "height": 383
        },
        "id": "b-nQKR7wriWY",
        "outputId": "8d5f7132-eb08-442d-accb-5ba10f2d97ca"
      },
      "execution_count": 17,
      "outputs": [
        {
          "output_type": "error",
          "ename": "ModuleNotFoundError",
          "evalue": "No module named 'memory_profiler'",
          "traceback": [
            "\u001b[0;31m---------------------------------------------------------------------------\u001b[0m",
            "\u001b[0;31mModuleNotFoundError\u001b[0m                       Traceback (most recent call last)",
            "\u001b[0;32m<ipython-input-17-000bb9bfc9b6>\u001b[0m in \u001b[0;36m<cell line: 0>\u001b[0;34m()\u001b[0m\n\u001b[0;32m----> 1\u001b[0;31m \u001b[0;32mfrom\u001b[0m \u001b[0mmemory_profiler\u001b[0m \u001b[0;32mimport\u001b[0m \u001b[0mprofile\u001b[0m\u001b[0;34m\u001b[0m\u001b[0;34m\u001b[0m\u001b[0m\n\u001b[0m\u001b[1;32m      2\u001b[0m \u001b[0;34m\u001b[0m\u001b[0m\n\u001b[1;32m      3\u001b[0m \u001b[0;34m@\u001b[0m\u001b[0mprofile\u001b[0m\u001b[0;34m\u001b[0m\u001b[0;34m\u001b[0m\u001b[0m\n\u001b[1;32m      4\u001b[0m \u001b[0;32mdef\u001b[0m \u001b[0mcreate_large_list\u001b[0m\u001b[0;34m(\u001b[0m\u001b[0;34m)\u001b[0m\u001b[0;34m:\u001b[0m\u001b[0;34m\u001b[0m\u001b[0;34m\u001b[0m\u001b[0m\n\u001b[1;32m      5\u001b[0m     \u001b[0mlarge_list\u001b[0m \u001b[0;34m=\u001b[0m \u001b[0;34m[\u001b[0m\u001b[0mi\u001b[0m \u001b[0;32mfor\u001b[0m \u001b[0mi\u001b[0m \u001b[0;32min\u001b[0m \u001b[0mrange\u001b[0m\u001b[0;34m(\u001b[0m\u001b[0;36m1000000\u001b[0m\u001b[0;34m)\u001b[0m\u001b[0;34m]\u001b[0m\u001b[0;34m\u001b[0m\u001b[0;34m\u001b[0m\u001b[0m\n",
            "\u001b[0;31mModuleNotFoundError\u001b[0m: No module named 'memory_profiler'",
            "",
            "\u001b[0;31m---------------------------------------------------------------------------\u001b[0;32m\nNOTE: If your import is failing due to a missing package, you can\nmanually install dependencies using either !pip or !apt.\n\nTo view examples of installing some common dependencies, click the\n\"Open Examples\" button below.\n\u001b[0;31m---------------------------------------------------------------------------\u001b[0m\n"
          ],
          "errorDetails": {
            "actions": [
              {
                "action": "open_url",
                "actionText": "Open Examples",
                "url": "/notebooks/snippets/importing_libraries.ipynb"
              }
            ]
          }
        }
      ]
    },
    {
      "cell_type": "markdown",
      "source": [
        "17. Write a Python program to create and write a list of numbers to a file, one number per line?"
      ],
      "metadata": {
        "id": "NrewWUjesYJj"
      }
    },
    {
      "cell_type": "code",
      "source": [
        "numbers = [1, 2, 3, 4, 5, 6, 7, 8, 9, 10]\n",
        "\n",
        "with open(\"numbers.txt\", \"w\") as file:\n",
        "    for number in numbers:\n",
        "        file.write(f\"{number}\\n\")\n",
        "\n",
        "print(\"Numbers have been written to 'numbers.txt'.\")"
      ],
      "metadata": {
        "colab": {
          "base_uri": "https://localhost:8080/"
        },
        "id": "o3evYfLSsapM",
        "outputId": "8d30816d-dfde-49b7-e78e-8d755f91dded"
      },
      "execution_count": 18,
      "outputs": [
        {
          "output_type": "stream",
          "name": "stdout",
          "text": [
            "Numbers have been written to 'numbers.txt'.\n"
          ]
        }
      ]
    },
    {
      "cell_type": "markdown",
      "source": [
        "18. How would you implement a basic logging setup that logs to a file with rotation after 1MB?"
      ],
      "metadata": {
        "id": "cGotUMjUsmvh"
      }
    },
    {
      "cell_type": "code",
      "source": [
        "import logging\n",
        "from logging.handlers import RotatingFileHandler\n",
        "\n",
        "log_filename = \"app.log\"\n",
        "\n",
        "handler = RotatingFileHandler(log_filename, maxBytes=1*1024*1024, backupCount=3)\n",
        "handler.setLevel(logging.INFO)\n",
        "formatter = logging.Formatter('%(asctime)s - %(levelname)s - %(message)s')\n",
        "handler.setFormatter(formatter)\n",
        "\n",
        "logger = logging.getLogger()\n",
        "logger.setLevel(logging.INFO)\n",
        "logger.addHandler(handler)\n",
        "\n",
        "logger.info(\"This is an info message.\")\n",
        "logger.warning(\"This is a warning message.\")\n",
        "logger.error(\"This is an error message.\")\n",
        "\n",
        "for i in range(100000):\n",
        "    logger.debug(f\"Debug message {i}\")\n",
        "\n",
        "print(\"Logging setup complete with rotation after 1MB.\")"
      ],
      "metadata": {
        "colab": {
          "base_uri": "https://localhost:8080/"
        },
        "id": "_u67h2Uxsoan",
        "outputId": "b2275222-a67c-43b3-85ee-b51fd325733e"
      },
      "execution_count": 19,
      "outputs": [
        {
          "output_type": "stream",
          "name": "stderr",
          "text": [
            "INFO:root:This is an info message.\n",
            "WARNING:root:This is a warning message.\n",
            "ERROR:root:This is an error message.\n"
          ]
        },
        {
          "output_type": "stream",
          "name": "stdout",
          "text": [
            "Logging setup complete with rotation after 1MB.\n"
          ]
        }
      ]
    },
    {
      "cell_type": "markdown",
      "source": [
        "19. Write a program that handles both IndexError and KeyError using a try-except block?"
      ],
      "metadata": {
        "id": "rH2XTHjfs59y"
      }
    },
    {
      "cell_type": "code",
      "source": [
        "def handle_errors():\n",
        "    sample_list = [1, 2, 3]\n",
        "    sample_dict = {'a': 1, 'b': 2}\n",
        "\n",
        "    try:\n",
        "        print(sample_list[5])\n",
        "\n",
        "        print(sample_dict['c'])\n",
        "\n",
        "    except IndexError as e:\n",
        "        print(f\"IndexError occurred: {e}\")\n",
        "\n",
        "    except KeyError as e:\n",
        "        print(f\"KeyError occurred: {e}\")\n",
        "\n",
        "if __name__ == \"__main__\":\n",
        "    handle_errors()\n"
      ],
      "metadata": {
        "colab": {
          "base_uri": "https://localhost:8080/"
        },
        "id": "cDdV76Mcs8F1",
        "outputId": "49ea2104-14e4-41bb-a1a4-0a92f414a941"
      },
      "execution_count": 20,
      "outputs": [
        {
          "output_type": "stream",
          "name": "stdout",
          "text": [
            "IndexError occurred: list index out of range\n"
          ]
        }
      ]
    },
    {
      "cell_type": "markdown",
      "source": [
        "20. How would you open a file and read its contents using a context manager in Python?"
      ],
      "metadata": {
        "id": "rJDPoV9PtOMw"
      }
    },
    {
      "cell_type": "code",
      "source": [
        "file_name = 'example.txt'\n",
        "\n",
        "with open(file_name, 'r') as file:\n",
        "    contents = file.read()\n",
        "\n",
        "print(contents)\n"
      ],
      "metadata": {
        "colab": {
          "base_uri": "https://localhost:8080/"
        },
        "id": "AK_ugM6ktQIW",
        "outputId": "bc3f989e-2e2e-415a-8973-9248510e163a"
      },
      "execution_count": 21,
      "outputs": [
        {
          "output_type": "stream",
          "name": "stdout",
          "text": [
            "This is a string written to the file.This is the new data being appended.\n",
            "\n"
          ]
        }
      ]
    },
    {
      "cell_type": "markdown",
      "source": [
        "21. Write a Python program that reads a file and prints the number of occurrences of a specific word?"
      ],
      "metadata": {
        "id": "Y57kNxltt1WV"
      }
    },
    {
      "cell_type": "code",
      "source": [
        "def count_word_in_file(filename, target_word):\n",
        "    try:\n",
        "        with open(filename, 'r') as file:\n",
        "            content = file.read()\n",
        "\n",
        "        word_count = content.lower().split().count(target_word.lower())\n",
        "\n",
        "        print(f\"The word '{target_word}' occurs {word_count} times in the file.\")\n",
        "\n",
        "    except FileNotFoundError:\n",
        "        print(f\"Error: The file '{filename}' was not found.\")\n",
        "\n",
        "if __name__ == \"__main__\":\n",
        "    filename = 'example.txt'\n",
        "    target_word = 'python'\n",
        "\n",
        "    count_word_in_file(filename, target_word)\n"
      ],
      "metadata": {
        "colab": {
          "base_uri": "https://localhost:8080/"
        },
        "id": "lKdzqinDt27N",
        "outputId": "8b4525ef-8bea-4a51-9f65-6bc462dd0b73"
      },
      "execution_count": 22,
      "outputs": [
        {
          "output_type": "stream",
          "name": "stdout",
          "text": [
            "The word 'python' occurs 0 times in the file.\n"
          ]
        }
      ]
    },
    {
      "cell_type": "markdown",
      "source": [
        "22. How can you check if a file is empty before attempting to read its contents?"
      ],
      "metadata": {
        "id": "mT32qDY1uAqh"
      }
    },
    {
      "cell_type": "code",
      "source": [
        "import os\n",
        "\n",
        "def check_if_file_is_empty(filename):\n",
        "    if os.path.getsize(filename) == 0:\n",
        "        print(f\"The file '{filename}' is empty.\")\n",
        "    else:\n",
        "        with open(filename, 'r') as file:\n",
        "            content = file.read()\n",
        "            print(\"File contents:\")\n",
        "            print(content)\n",
        "\n",
        "if __name__ == \"__main__\":\n",
        "    filename = 'example.txt'\n",
        "    check_if_file_is_empty(filename)\n"
      ],
      "metadata": {
        "colab": {
          "base_uri": "https://localhost:8080/"
        },
        "id": "bgvB9FH5uB8z",
        "outputId": "3d8e721d-b4cd-4004-bc7a-19292832869b"
      },
      "execution_count": 23,
      "outputs": [
        {
          "output_type": "stream",
          "name": "stdout",
          "text": [
            "File contents:\n",
            "This is a string written to the file.This is the new data being appended.\n",
            "\n"
          ]
        }
      ]
    },
    {
      "cell_type": "markdown",
      "source": [
        "23. Write a Python program that writes to a log file when an error occurs during file handling."
      ],
      "metadata": {
        "id": "hsXb-OE5uJ1c"
      }
    },
    {
      "cell_type": "code",
      "source": [
        "import logging\n",
        "\n",
        "logging.basicConfig(filename='file_error.log', level=logging.ERROR,\n",
        "                    format='%(asctime)s - %(levelname)s - %(message)s')\n",
        "\n",
        "def read_file(filename):\n",
        "    try:\n",
        "        with open(filename, 'r') as file:\n",
        "            content = file.read()\n",
        "            print(content)\n",
        "\n",
        "    except FileNotFoundError as e:\n",
        "        logging.error(f\"FileNotFoundError: {e}\")\n",
        "        print(f\"Error: The file '{filename}' was not found.\")\n",
        "\n",
        "    except IOError as e:\n",
        "        logging.error(f\"IOError: {e}\")\n",
        "        print(f\"Error: An IOError occurred while handling the file '{filename}'.\")\n",
        "\n",
        "if __name__ == \"__main__\":\n",
        "    filename = 'non_existing_file.txt'\n",
        "    read_file(filename)\n"
      ],
      "metadata": {
        "colab": {
          "base_uri": "https://localhost:8080/"
        },
        "id": "bl8X0bgwuLy4",
        "outputId": "a71f783e-49d7-4f18-d424-bff653f2b73b"
      },
      "execution_count": 24,
      "outputs": [
        {
          "output_type": "stream",
          "name": "stderr",
          "text": [
            "ERROR:root:FileNotFoundError: [Errno 2] No such file or directory: 'non_existing_file.txt'\n"
          ]
        },
        {
          "output_type": "stream",
          "name": "stdout",
          "text": [
            "Error: The file 'non_existing_file.txt' was not found.\n"
          ]
        }
      ]
    }
  ]
}