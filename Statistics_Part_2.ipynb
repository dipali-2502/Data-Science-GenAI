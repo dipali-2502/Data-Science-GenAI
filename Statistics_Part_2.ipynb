{
  "nbformat": 4,
  "nbformat_minor": 0,
  "metadata": {
    "colab": {
      "provenance": []
    },
    "kernelspec": {
      "name": "python3",
      "display_name": "Python 3"
    },
    "language_info": {
      "name": "python"
    }
  },
  "cells": [
    {
      "cell_type": "markdown",
      "source": [
        "statistics part 2"
      ],
      "metadata": {
        "id": "nNY2qZtryYQx"
      }
    },
    {
      "cell_type": "markdown",
      "source": [
        "1.  What is hypothesis testing in statistics\n",
        "\n"
      ],
      "metadata": {
        "id": "jHZlZx8gybag"
      }
    },
    {
      "cell_type": "markdown",
      "source": [
        "Hypothesis testing is a statistical method used to make inferences or draw conclusions about a population based on sample data. It helps in determining whether there is enough evidence to support a specific claim or hypothesis about a population parameter.\n",
        "\n"
      ],
      "metadata": {
        "id": "haVnH3EQyqo_"
      }
    },
    {
      "cell_type": "markdown",
      "source": [
        "2.What is the null hypothesis, and how does it differ from the alternative hypothesis\n"
      ],
      "metadata": {
        "id": "nZKrekoxyxsv"
      }
    },
    {
      "cell_type": "markdown",
      "source": [
        "The null hypothesis is a statement that there is no effect, relationship, or difference in the population or data being studied. It's the hypothesis that assumes that any observed effect is due to random chance or sampling error. Researchers typically aim to test whether there is enough evidence to reject the null hypothesis.\n",
        "\n"
      ],
      "metadata": {
        "id": "qUDklnjfy5Mw"
      }
    },
    {
      "cell_type": "markdown",
      "source": [
        "3. What is the significance level in hypothesis testing, and why is it important\n"
      ],
      "metadata": {
        "id": "KM8emhkOzFMH"
      }
    },
    {
      "cell_type": "markdown",
      "source": [
        "The significance level in hypothesis testing is a threshold that helps determine whether the evidence is strong enough to reject the null hypothesis. It's typically denoted by α (alpha) and is expressed as a probability. Common values for the significance level are 0.05, 0.01, and 0.10, but the choice of α depends on the context of the test.\n",
        "\n"
      ],
      "metadata": {
        "id": "05bGVHppzNis"
      }
    },
    {
      "cell_type": "markdown",
      "source": [
        "4. What does a P-value represent in hypothesis testing\n"
      ],
      "metadata": {
        "id": "YNgxIJ2WzVoW"
      }
    },
    {
      "cell_type": "markdown",
      "source": [
        "In hypothesis testing, a p-value represents the probability of obtaining results at least as extreme as the results actually observed, given that the null hypothesis is true. It helps you assess the strength of the evidence against the null hypothesis.\n",
        "\n"
      ],
      "metadata": {
        "id": "VzJAk3WEzf-U"
      }
    },
    {
      "cell_type": "markdown",
      "source": [
        "5. How do you interpret the P-value in hypothesis testing\n"
      ],
      "metadata": {
        "id": "1du7FWN-zgym"
      }
    },
    {
      "cell_type": "markdown",
      "source": [
        "The p-value in hypothesis testing measures the probability of obtaining results at least as extreme as the observed data, assuming the **null hypothesis** is true.\n",
        "\n",
        "- If p-value ≤ α (e.g., 0.05)**: Reject the null hypothesis. This suggests strong evidence against the null hypothesis.\n",
        "- **If p-value > α**: Fail to reject the null hypothesis. This suggests weak evidence against the null hypothesis.\n",
        "\n",
        "In short, a smaller p-value means stronger evidence against the null hypothesis, while a larger p-value means the data is more consistent with the null hypothesis."
      ],
      "metadata": {
        "id": "bQMc_092ztoe"
      }
    },
    {
      "cell_type": "markdown",
      "source": [
        "6. What are Type 1 and Type 2 errors in hypothesis testing\n"
      ],
      "metadata": {
        "id": "gwPjzoFvz7Xp"
      }
    },
    {
      "cell_type": "markdown",
      "source": [
        "**Type 1 Error (False Positive)**: Rejecting the null hypothesis when it is actually true.\n",
        "\n",
        "**Type 2 Error (False Negative)**: Failing to reject the null hypothesis when it is actually false."
      ],
      "metadata": {
        "id": "037sLaK_0BKq"
      }
    },
    {
      "cell_type": "markdown",
      "source": [
        "7.  What is the difference between a one-tailed and a two-tailed test in hypothesis testing\n"
      ],
      "metadata": {
        "id": "fbsFb77z0Qit"
      }
    },
    {
      "cell_type": "markdown",
      "source": [
        "**One-tailed test**: Tests for the possibility of an effect in **one direction** (either greater than or less than a certain value).\n",
        "\n",
        "**Two-tailed test**: Tests for the possibility of an effect in **both directions** (either greater than or less than a certain value)."
      ],
      "metadata": {
        "id": "1hH769fZ0WTL"
      }
    },
    {
      "cell_type": "markdown",
      "source": [
        "8. What is the Z-test, and when is it used in hypothesis testing\n"
      ],
      "metadata": {
        "id": "oY_caBXi0gNT"
      }
    },
    {
      "cell_type": "markdown",
      "source": [
        "The **Z-test** is a statistical test used to determine if there is a significant difference between a sample mean and a population mean (or between two sample means), assuming the data is normally distributed and the population standard deviation is known.\n",
        "\n",
        "**When to use**:\n",
        "- The sample size is large (typically n > 30).\n",
        "- The population standard deviation is known."
      ],
      "metadata": {
        "id": "4u6uskXU0r1g"
      }
    },
    {
      "cell_type": "markdown",
      "source": [
        "9. How do you calculate the Z-score, and what does it represent in hypothesis testing\n"
      ],
      "metadata": {
        "id": "239Uqb0x1MkL"
      }
    },
    {
      "cell_type": "markdown",
      "source": [
        "The **Z-score** is calculated using the formula:\n",
        "\n",
        "\\[\n",
        "Z = \\frac{X - \\mu}{\\sigma}\n",
        "\\]\n",
        "\n",
        "Where:\n",
        "- **X** is the sample value (or sample mean),\n",
        "- **μ** is the population mean,\n",
        "- **σ** is the population standard deviation.\n",
        "\n",
        "### What it represents:\n",
        "- The **Z-score** measures how many standard deviations a data point (or sample mean) is away from the population mean.\n",
        "- In hypothesis testing, it helps determine how extreme a sample statistic is, compared to the null hypothesis. The higher the Z-score, the more evidence there is against the null hypothesis."
      ],
      "metadata": {
        "id": "AWaO3h1K1xXO"
      }
    },
    {
      "cell_type": "markdown",
      "source": [
        "10. What is the T-distribution, and when should it be used instead of the normal distribution\n"
      ],
      "metadata": {
        "id": "Uo1xZsZ92RG4"
      }
    },
    {
      "cell_type": "markdown",
      "source": [
        "The **T-distribution** is a type of probability distribution that is similar to the normal distribution but has **heavier tails**. It is used when the sample size is small (typically **n < 30**) and the population standard deviation is **unknown**.\n",
        "\n",
        "### When to use the T-distribution:\n",
        "- **Small sample sizes** (n < 30).\n",
        "- **Unknown population standard deviation** (use sample standard deviation instead).\n",
        "- When the data is approximately **normally distributed**.\n",
        "\n",
        "As the sample size increases, the T-distribution approaches the normal distribution."
      ],
      "metadata": {
        "id": "d1aa_yG623ce"
      }
    },
    {
      "cell_type": "markdown",
      "source": [
        "11. What is the difference between a Z-test and a T-test\n"
      ],
      "metadata": {
        "id": "lOW-B76c3DmN"
      }
    },
    {
      "cell_type": "markdown",
      "source": [
        "The main differences between a **Z-test** and a **T-test** are:\n",
        "\n",
        "### **Z-test**:\n",
        "- Used when the **population standard deviation** is known.\n",
        "- Typically used for **large sample sizes** (n > 30).\n",
        "- Assumes data follows a **normal distribution**.\n",
        "\n",
        "### **T-test**:\n",
        "- Used when the **population standard deviation** is unknown.\n",
        "- Typically used for **small sample sizes** (n < 30).\n",
        "- Uses the **sample standard deviation** to estimate the population standard deviation.\n",
        "\n",
        "In summary, use a **Z-test** for large samples with known population standard deviation, and a **T-test** for small samples or unknown population standard deviation."
      ],
      "metadata": {
        "id": "E_lhq5Z23MHe"
      }
    },
    {
      "cell_type": "markdown",
      "source": [],
      "metadata": {
        "id": "N_Ev6e4c1urm"
      }
    },
    {
      "cell_type": "markdown",
      "source": [],
      "metadata": {
        "id": "GbURijDJ05-G"
      }
    },
    {
      "cell_type": "markdown",
      "source": [
        "12. What is the T-test, and how is it used in hypothesis testing\n"
      ],
      "metadata": {
        "id": "mY5yzWc63S2_"
      }
    },
    {
      "cell_type": "markdown",
      "source": [
        "The T-test is a statistical test used to compare the means of two groups and determine if there is a significant difference between them. It is commonly used when the sample size is small, and the population standard deviation is unknown.\n",
        "\n",
        "When is it used?\n",
        "Small sample sizes (typically n < 30).\n",
        "\n",
        "Unknown population standard deviation.\n",
        "\n",
        "Data is approximately normally distributed."
      ],
      "metadata": {
        "id": "-mV9tl0E3X-C"
      }
    },
    {
      "cell_type": "markdown",
      "source": [
        "13. What is the relationship between Z-test and T-test in hypothesis testing?\n"
      ],
      "metadata": {
        "id": "GHMNEoSP3if8"
      }
    },
    {
      "cell_type": "markdown",
      "source": [
        "The Z-test and T-test are both used in hypothesis testing to compare means, but they differ in terms of the sample size and knowledge of the population standard deviation.\n",
        "\n",
        "Both tests aim to assess whether there is a significant difference between sample data and population data (or between two sample means).\n",
        "\n",
        "The Z-test is typically used when the population standard deviation is known and the sample size is large (n > 30).\n",
        "\n",
        "The T-test is used when the population standard deviation is unknown and the sample size is small (n < 30).\n",
        "\n"
      ],
      "metadata": {
        "id": "paMZTE4B38X1"
      }
    },
    {
      "cell_type": "markdown",
      "source": [
        "14. What is a confidence interval, and how is it used to interpret statistical results.\n"
      ],
      "metadata": {
        "id": "6SdRJIvN4GjH"
      }
    },
    {
      "cell_type": "markdown",
      "source": [
        "A **confidence interval** (CI) is a range of values, derived from sample data, that is likely to contain the true population parameter (such as the population mean) with a certain level of confidence.\n",
        "\n",
        "\n",
        "### How It’s Used:\n",
        "- **Interpretation**: A 95% confidence interval means that if you were to take 100 random samples, about 95 of them would produce intervals that contain the true population parameter.\n",
        "- **Statistical Results**: The CI gives a range of plausible values for the population parameter and helps assess the precision of the estimate. A **narrow CI** indicates a more precise estimate, while a **wide CI** suggests more uncertainty.\n"
      ],
      "metadata": {
        "id": "e0AkrX8Z4L9r"
      }
    },
    {
      "cell_type": "markdown",
      "source": [
        "15.  What is the margin of error, and how does it affect the confidence interval?\n"
      ],
      "metadata": {
        "id": "YciTxide4XDu"
      }
    },
    {
      "cell_type": "markdown",
      "source": [
        "The margin of error is the range around a sample estimate (such as a sample mean) within which the true population parameter is expected to fall. It represents the uncertainty in the estimate due to sampling variability.\n",
        "\n",
        "How it Affects the Confidence Interval:\n",
        "The margin of error determines how wide or narrow the confidence interval (CI) will be.\n",
        "\n",
        "A larger margin of error results in a wider CI, indicating greater uncertainty.\n",
        "\n",
        "A smaller margin of error results in a narrower CI, suggesting a more precise estimate.\n",
        "\n"
      ],
      "metadata": {
        "id": "ON_z9roX4br2"
      }
    },
    {
      "cell_type": "markdown",
      "source": [
        "16. How is Bayes' Theorem used in statistics, and what is its significance\n"
      ],
      "metadata": {
        "id": "aCwCPyY06THs"
      }
    },
    {
      "cell_type": "markdown",
      "source": [
        "**Bayes' Theorem** is a method used in statistics to update the probability of a hypothesis based on new evidence. It combines prior knowledge and new data to revise beliefs.\n",
        "\n",
        "### Formula:\n",
        "\\[\n",
        "P(A|B) = \\frac{P(B|A) \\cdot P(A)}{P(B)}\n",
        "\\]\n",
        "\n",
        "### Usage:\n",
        "- **Updating probabilities**: Used in fields like medical diagnostics, machine learning, and risk assessment.\n",
        "- **Significance**: Incorporates prior knowledge, allowing for dynamic updates of probabilities as new evidence becomes available."
      ],
      "metadata": {
        "id": "6jUdNC7_60DR"
      }
    },
    {
      "cell_type": "markdown",
      "source": [
        "17.  What is the Chi-square distribution, and when is it used?\n"
      ],
      "metadata": {
        "id": "hV6Be9lT7CsB"
      }
    },
    {
      "cell_type": "markdown",
      "source": [
        "The **Chi-square distribution** is a **right-skewed** distribution used in hypothesis testing for **categorical data**.\n",
        "\n",
        "### When used:\n",
        "- **Goodness-of-fit tests**\n",
        "- **Test of independence**\n",
        "- **Test of homogeneity**\n",
        "\n",
        "It is used to compare observed data with expected data."
      ],
      "metadata": {
        "id": "QZdJc5Qw7IFf"
      }
    },
    {
      "cell_type": "markdown",
      "source": [
        "18. What is the Chi-square goodness of fit test, and how is it applied?\n"
      ],
      "metadata": {
        "id": "JTc5P0sY7UbS"
      }
    },
    {
      "cell_type": "markdown",
      "source": [
        "The **Chi-square goodness of fit test** is used to determine if a set of observed categorical data matches an expected distribution.\n",
        "\n",
        "### **How it's applied**:\n",
        "1. **State Hypotheses**:\n",
        "   - Null hypothesis (**H₀**): The observed data fits the expected distribution.\n",
        "   - Alternative hypothesis (**H₁**): The observed data does not fit the expected distribution.\n",
        "\n",
        "2. **Calculate Chi-square statistic**:\n",
        "   \\[\n",
        "   \\chi^2 = \\sum \\frac{(O_i - E_i)^2"
      ],
      "metadata": {
        "id": "MTa-rsIl7ayS"
      }
    },
    {
      "cell_type": "markdown",
      "source": [
        "19. What is the Chi-square goodness of fit test, and how is it applied?\n"
      ],
      "metadata": {
        "id": "GVjqW_M87iMF"
      }
    },
    {
      "cell_type": "markdown",
      "source": [
        "The **Chi-square goodness of fit test** is used to determine if observed categorical data matches a specific expected distribution.\n",
        "\n",
        "### **How it’s applied**:\n",
        "1. **State Hypotheses**:\n",
        "   - **Null hypothesis (H₀)**: The data fits the expected distribution.\n",
        "   - **Alternative hypothesis (H₁)**: The data does not fit the expected distribution.\n",
        "\n",
        "2. **Calculate the Chi-square statistic**:\n",
        "   \\[\n",
        "   \\chi^2 = \\sum \\frac{(O_i - E_i)^2}{E_i}\n",
        "   \\]\n",
        "   - **Oᵢ** = observed frequency,\n",
        "   - **Eᵢ** = expected frequency.\n",
        "\n",
        "3. **Compare with the critical value**:\n",
        "   - Determine degrees of freedom (df = categories - 1).\n",
        "   - Compare the calculated Chi-square value to the critical value from the Chi-square distribution table at a chosen significance level (usually 0.05).\n",
        "   \n",
        "4. **Make a decision**:\n",
        "   - If the Chi-square value is greater than the critical value, **reject the null hypothesis**.\n",
        "   - If it's smaller, **fail to reject the null hypothesis**.\n",
        "\n"
      ],
      "metadata": {
        "id": "8U29gue87vC2"
      }
    },
    {
      "cell_type": "markdown",
      "source": [
        "19.  What is the F-distribution, and when is it used in hypothesis testing?\n"
      ],
      "metadata": {
        "id": "uNDRaGYH8I3d"
      }
    },
    {
      "cell_type": "markdown",
      "source": [
        "The **F-distribution** is a probability distribution used in **variance analysis**. It is the ratio of two **chi-square distributions**, each divided by their respective degrees of freedom.\n",
        "\n",
        "### **When it’s used in hypothesis testing**:\n",
        "- **ANOVA (Analysis of Variance)**: To compare the variances of more than two groups to see if at least one group has a significantly different mean.\n",
        "- **Test of equality of variances**: To test if two populations have the same variance (often used in the two-sample F-test).\n",
        "\n"
      ],
      "metadata": {
        "id": "VNhoS-ss8QNH"
      }
    },
    {
      "cell_type": "markdown",
      "source": [
        "20. What is an ANOVA test, and what are its assumptions?\n"
      ],
      "metadata": {
        "id": "4DpVX07g8b4-"
      }
    },
    {
      "cell_type": "markdown",
      "source": [
        "The **ANOVA (Analysis of Variance)** test is used to compare the means of three or more groups to determine if there is a statistically significant difference between them.\n",
        "\n",
        "### **Assumptions of ANOVA**:\n",
        "1. **Independence**: The samples from each group are independent of each other.\n",
        "2. **Normality**: The data in each group should be approximately normally distributed.\n",
        "3. **Homogeneity of variances**: The variances of the groups should be approximately equal (this can be checked using tests like Levene's test).\n",
        "\n",
        "ANOVA helps to determine if at least one group mean is significantly different from the others by comparing the **variance between groups** and the **variance within groups**."
      ],
      "metadata": {
        "id": "CNnWtoEe8g6V"
      }
    },
    {
      "cell_type": "markdown",
      "source": [
        "21. What are the different types of ANOVA tests?\n"
      ],
      "metadata": {
        "id": "2NIq2TqY8vQf"
      }
    },
    {
      "cell_type": "markdown",
      "source": [
        "There are three main types of **ANOVA tests**:\n",
        "\n",
        "1. **One-Way ANOVA**:\n",
        "   - Compares the means of three or more **independent** groups based on **one independent variable** (factor).\n",
        "   - Example: Comparing test scores of students from three different schools.\n",
        "\n",
        "2. **Two-Way ANOVA**:\n",
        "   - Compares the means of groups based on **two independent variables** (factors).\n",
        "   - It can also assess the **interaction effect** between the two factors.\n",
        "   - Example: Studying the effects of both gender and teaching method on test scores.\n",
        "\n",
        "3. Repeated Measures ANOVA:\n",
        "   - Compares means when the same participants are measured multiple times"
      ],
      "metadata": {
        "id": "loFgMVBv81RZ"
      }
    },
    {
      "cell_type": "markdown",
      "source": [
        "22. What is the F-test, and how does it relate to hypothesis testing?\n"
      ],
      "metadata": {
        "id": "FeUc--1B9A_s"
      }
    },
    {
      "cell_type": "markdown",
      "source": [
        "The **F-test** is used to compare variances between two or more groups. It tests if the variances are significantly different.\n",
        "\n",
        "### How it relates to hypothesis testing:\n",
        "- **Null hypothesis (H₀)**: The group variances are equal.\n",
        "- **Alternative hypothesis (H₁)**: At least one group has a different variance.\n",
        "\n",
        "The F-statistic is calculated by dividing the variance between groups by the variance within groups. If the F-statistic is greater than the critical value, reject the null hypothesis."
      ],
      "metadata": {
        "id": "0b6I5yX49H3b"
      }
    },
    {
      "cell_type": "markdown",
      "source": [
        "practical\n"
      ],
      "metadata": {
        "id": "HAdEmpm89QeJ"
      }
    },
    {
      "cell_type": "markdown",
      "source": [
        "  1.  Write a Python program to perform a Z-test for comparing a sample mean to a known population mean and interpret the results?\n",
        "\n"
      ],
      "metadata": {
        "id": "2cX_c5WF9Vu3"
      }
    },
    {
      "cell_type": "code",
      "source": [
        "import numpy as np\n",
        "import scipy.stats as stats\n",
        "\n",
        "# Sample data\n",
        "sample_data = np.array([20, 22, 19, 23, 21, 20, 25, 19, 20, 22])\n",
        "\n",
        "# Known population mean\n",
        "population_mean = 21\n",
        "\n",
        "# Population standard deviation (known)\n",
        "population_std_dev = 2\n",
        "\n",
        "# Sample size\n",
        "sample_size = len(sample_data)\n",
        "\n",
        "# Sample mean\n",
        "sample_mean = np.mean(sample_data)\n",
        "\n",
        "# Z-test formula: Z = (sample_mean - population_mean) / (population_std_dev / sqrt(sample_size))\n",
        "z_score = (sample_mean - population_mean) / (population_std_dev / np.sqrt(sample_size))\n",
        "\n",
        "# Calculate the p-value (two-tailed test)\n",
        "p_value = 2 * (1 - stats.norm.cdf(abs(z_score)))\n",
        "\n",
        "# Print results\n",
        "print(f\"Sample Mean: {sample_mean}\")\n",
        "print(f\"Z-score: {z_score}\")\n",
        "print(f\"P-value: {p_value}\")\n",
        "\n",
        "# Interpret the results\n",
        "alpha = 0.05  # significance level\n",
        "\n",
        "if p_value < alpha:\n",
        "    print(\"Reject the null hypothesis: There is a significant difference between the sample mean and the population mean.\")\n",
        "else:\n",
        "    print(\"Fail to reject the null hypothesis: There is no significant difference between the sample mean and the population mean.\")\n"
      ],
      "metadata": {
        "colab": {
          "base_uri": "https://localhost:8080/"
        },
        "id": "1dfcaCJL95qU",
        "outputId": "d0075525-f684-4a9e-ef70-4e6ade0683ce"
      },
      "execution_count": 1,
      "outputs": [
        {
          "output_type": "stream",
          "name": "stdout",
          "text": [
            "Sample Mean: 21.1\n",
            "Z-score: 0.15811388300842122\n",
            "P-value: 0.87436706116289\n",
            "Fail to reject the null hypothesis: There is no significant difference between the sample mean and the population mean.\n"
          ]
        }
      ]
    },
    {
      "cell_type": "markdown",
      "source": [
        "2. Simulate random data to perform hypothesis testing and calculate the corresponding P-value using Python?\n"
      ],
      "metadata": {
        "id": "3Yg87vFw97Au"
      }
    },
    {
      "cell_type": "code",
      "source": [
        "import numpy as np\n",
        "import scipy.stats as stats\n",
        "\n",
        "# Simulate random sample data (let's say we want to simulate exam scores)\n",
        "np.random.seed(42)  # For reproducibility\n",
        "sample_size = 50  # Number of data points in the sample\n",
        "population_mean = 70  # Known population mean\n",
        "population_std_dev = 10  # Known population standard deviation\n",
        "\n",
        "# Generate random sample data (Normal distribution with mean 70 and std dev 10)\n",
        "sample_data = np.random.normal(loc=population_mean, scale=population_std_dev, size=sample_size)\n",
        "\n",
        "# Calculate the sample mean\n",
        "sample_mean = np.mean(sample_data)\n",
        "\n",
        "# Perform Z-test (one-sample)\n",
        "z_score = (sample_mean - population_mean) / (population_std_dev / np.sqrt(sample_size))\n",
        "\n",
        "# Calculate the p-value for a two-tailed test\n",
        "p_value = 2 * (1 - stats.norm.cdf(abs(z_score)))\n",
        "\n",
        "# Print results\n",
        "print(f\"Sample Mean: {sample_mean}\")\n",
        "print(f\"Z-score: {z_score}\")\n",
        "print(f\"P-value: {p_value}\")\n",
        "\n",
        "# Hypothesis test interpretation\n",
        "alpha = 0.05  # significance level\n",
        "\n",
        "if p_value < alpha:\n",
        "    print(\"Reject the null hypothesis: There is a significant difference between the sample mean and the population mean.\")\n",
        "else:\n",
        "    print(\"Fail to reject the null hypothesis: There is no significant difference between the sample mean and the population mean.\")\n"
      ],
      "metadata": {
        "colab": {
          "base_uri": "https://localhost:8080/"
        },
        "id": "LYkBX-DP-Cdu",
        "outputId": "0d5356d2-2374-4e87-aac9-94207bd98444"
      },
      "execution_count": 3,
      "outputs": [
        {
          "output_type": "stream",
          "name": "stdout",
          "text": [
            "Sample Mean: 67.7452609474386\n",
            "Z-score: -1.5943412738723008\n",
            "P-value: 0.1108596180002146\n",
            "Fail to reject the null hypothesis: There is no significant difference between the sample mean and the population mean.\n"
          ]
        }
      ]
    },
    {
      "cell_type": "markdown",
      "source": [
        "3.  Implement a one-sample Z-test using Python to compare the sample mean with the population mean?\n"
      ],
      "metadata": {
        "id": "wIeunoyg-RoV"
      }
    },
    {
      "cell_type": "code",
      "source": [
        "import numpy as np\n",
        "import scipy.stats as stats\n",
        "\n",
        "# Sample data (You can replace this with your own data)\n",
        "np.random.seed(42)  # For reproducibility\n",
        "sample_data = np.random.normal(loc=50, scale=5, size=100)  # Mean=50, Std=5, Sample size=100\n",
        "\n",
        "# Known population mean\n",
        "population_mean = 50\n",
        "\n",
        "# Known population standard deviation (If unknown, estimate it from the sample data)\n",
        "population_std_dev = 5\n",
        "\n",
        "# Sample size\n",
        "sample_size = len(sample_data)\n",
        "\n",
        "# Calculate the sample mean\n",
        "sample_mean = np.mean(sample_data)\n",
        "\n",
        "# Calculate the Z-score for the one-sample Z-test\n",
        "z_score = (sample_mean - population_mean) / (population_std_dev / np.sqrt(sample_size))\n",
        "\n",
        "# Calculate the two-tailed p-value\n",
        "p_value = 2 * (1 - stats.norm.cdf(abs(z_score)))\n",
        "\n",
        "# Print the results\n",
        "print(f\"Sample Mean: {sample_mean}\")\n",
        "print(f\"Z-score: {z_score}\")\n",
        "print(f\"P-value: {p_value}\")\n",
        "\n",
        "# Hypothesis testing interpretation\n",
        "alpha = 0.05  # Significance level\n",
        "\n",
        "if p_value < alpha:\n",
        "    print(\"Reject the null hypothesis: The sample mean is significantly different from the population mean.\")\n",
        "else:\n",
        "    print(\"Fail to reject the null hypothesis: The sample mean is not significantly different from the population mean.\")\n"
      ],
      "metadata": {
        "colab": {
          "base_uri": "https://localhost:8080/"
        },
        "id": "eLFWF48H-XD2",
        "outputId": "58730eee-59a2-436b-95a1-997c3bb47e3b"
      },
      "execution_count": 4,
      "outputs": [
        {
          "output_type": "stream",
          "name": "stdout",
          "text": [
            "Sample Mean: 49.48076741302953\n",
            "Z-score: -1.038465173940935\n",
            "P-value: 0.29905354078600865\n",
            "Fail to reject the null hypothesis: The sample mean is not significantly different from the population mean.\n"
          ]
        }
      ]
    },
    {
      "cell_type": "markdown",
      "source": [
        "4.  Perform a two-tailed Z-test using Python and visualize the decision region on a plot?\n"
      ],
      "metadata": {
        "id": "-Ou_slCz-jvM"
      }
    },
    {
      "cell_type": "code",
      "source": [
        "import numpy as np\n",
        "import matplotlib.pyplot as plt\n",
        "import scipy.stats as stats\n",
        "\n",
        "# Sample data (replace with your own data)\n",
        "np.random.seed(42)\n",
        "sample_data = np.random.normal(loc=50, scale=5, size=100)  # Mean=50, Std=5, Sample size=100\n",
        "\n",
        "# Known population parameters\n",
        "population_mean = 50\n",
        "population_std_dev = 5\n",
        "\n",
        "# Sample size\n",
        "sample_size = len(sample_data)\n",
        "\n",
        "# Calculate the sample mean\n",
        "sample_mean = np.mean(sample_data)\n",
        "\n",
        "# Calculate the Z-score for the two-tailed Z-test\n",
        "z_score = (sample_mean - population_mean) / (population_std_dev / np.sqrt(sample_size))\n",
        "\n",
        "# Significance level\n",
        "alpha = 0.05\n",
        "\n",
        "# Calculate the critical Z-value for a two-tailed test at alpha = 0.05\n",
        "z_critical = stats.norm.ppf(1 - alpha / 2)\n",
        "\n",
        "# Calculate the p-value for the two-tailed test\n",
        "p_value = 2 * (1 - stats.norm.cdf(abs(z_score)))\n",
        "\n",
        "# Print results\n",
        "print(f\"Sample Mean: {sample_mean}\")\n",
        "print(f\"Z-score: {z_score}\")\n",
        "print(f\"P-value: {p_value}\")\n",
        "\n",
        "# Hypothesis testing interpretation\n",
        "if p_value < alpha:\n",
        "    print(\"Reject the null hypothesis: The sample mean is significantly different from the population mean.\")\n",
        "else:\n",
        "    print(\"Fail to reject the null hypothesis: The sample mean is not significantly different from the population mean.\")\n",
        "\n",
        "# Plotting the decision region and the Z-score\n",
        "x = np.linspace(-4, 4, 1000)  # Range of Z-scores\n",
        "y = stats.norm.pdf(x)  # PDF of the standard normal distribution\n",
        "\n",
        "plt.plot(x, y, label=\"Standard Normal Distribution\", color=\"blue\")\n",
        "\n",
        "# Shading the rejection regions (tail areas)\n",
        "plt.fill_between(x, 0, y, where=(x <= -z_critical) | (x >= z_critical), color=\"red\", alpha=0.5, label=\"Rejection Region\")\n",
        "\n",
        "# Mark the Z-score on the plot\n",
        "plt.axvline(z_score, color=\"green\", linestyle=\"dashed\", label=f\"Z-score = {z_score:.2f}\")\n",
        "\n",
        "# Mark the critical values on the plot\n",
        "plt.axvline(-z_critical, color=\"orange\", linestyle=\"dashed\", label=f\"Critical Z = {-z_critical:.2f}\")\n",
        "plt.axvline(z_critical, color=\"orange\", linestyle=\"dashed\", label=f\"Critical Z = {z_critical:.2f}\")\n",
        "\n",
        "# Adding labels and title\n",
        "plt.title(\"Two-tailed Z-test: Decision Region Visualization\")\n",
        "plt.xlabel(\"Z-score\")\n",
        "plt.ylabel(\"Probability Density Function (PDF)\")\n",
        "plt.legend()\n",
        "\n",
        "# Show the plot\n",
        "plt.show()\n"
      ],
      "metadata": {
        "id": "H58zW4zj-pfQ"
      },
      "execution_count": null,
      "outputs": []
    },
    {
      "cell_type": "markdown",
      "source": [
        "5.  Create a Python function that calculates and visualizes Type 1 and Type 2 errors during hypothesis testing?\n"
      ],
      "metadata": {
        "id": "YTCDvFzx-1XN"
      }
    },
    {
      "cell_type": "code",
      "source": [
        "import numpy as np\n",
        "import matplotlib.pyplot as plt\n",
        "import scipy.stats as stats\n",
        "\n",
        "def visualize_type_errors(sample_size, population_mean, population_std_dev, alternative_mean, alpha=0.05):\n",
        "    # Simulate data under the null hypothesis (H₀) and alternative hypothesis (H₁)\n",
        "    np.random.seed(42)\n",
        "\n",
        "    # Null hypothesis distribution (H₀): Mean = population_mean, Std = population_std_dev\n",
        "    null_data = np.random.normal(loc=population_mean, scale=population_std_dev, size=sample_size)\n",
        "\n",
        "    # Alternative hypothesis distribution (H₁): Mean = alternative_mean (different from population_mean)\n",
        "    alternative_data = np.random.normal(loc=alternative_mean, scale=population_std_dev, size=sample_size)\n",
        "\n",
        "    # Calculate sample means\n",
        "    sample_mean_null = np.mean(null_data)\n",
        "    sample_mean_alt = np.mean(alternative_data)\n",
        "\n",
        "    # Calculate the Z-score for the null hypothesis sample mean\n",
        "    z_score_null = (sample_mean_null - population_mean) / (population_std_dev / np.sqrt(sample_size))\n",
        "\n",
        "    # Calculate the critical Z-value for a two-tailed test at alpha = 0.05\n",
        "    z_critical = stats.norm.ppf(1 - alpha / 2)\n",
        "\n",
        "    # Calculate Type I error (rejecting H₀ when H₀ is true)\n",
        "    type_1_error_area = stats.norm.cdf(-z_critical) + (1 - stats.norm.cdf(z_critical))  # Rejecting H₀\n",
        "\n",
        "    # Calculate Type II error (failing to reject H₀ when H₁ is true)\n",
        "    # Area under the curve in the acceptance region for the alternative hypothesis\n",
        "    z_score_alt = (sample_mean_alt - population_mean) / (population_std_dev / np.sqrt(sample_size))\n",
        "    type_2_error_area = stats.norm.cdf(z_critical - z_score_alt) - stats.norm.cdf(-z_critical - z_score_alt)  # Failing to reject H₀\n",
        "\n",
        "    # Visualize the distributions and error regions\n",
        "    x = np.linspace(-4, 4, 1000)\n",
        "    y_null = stats.norm.pdf(x, loc=0, scale=1)  # Standard normal for H₀ (Z-distribution)\n",
        "    y_alt = stats.norm.pdf(x, loc=(alternative_mean - population_mean) / (population_std_dev / np.sqrt(sample_size)), scale=1)  # Z-distribution for H₁\n",
        "\n",
        "    # Plotting\n",
        "    plt.figure(figsize=(10, 6))\n",
        "\n",
        "    # Null distribution (H₀)\n",
        "    plt.plot(x, y_null, label=\"Null Distribution (H₀)\", color='blue')\n",
        "\n",
        "    # Alternative distribution (H₁)\n",
        "    plt.plot(x, y_alt, label=\"Alternative Distribution (H₁)\", color='orange')\n",
        "\n",
        "    # Shading rejection regions (Type I error areas)\n",
        "    plt.fill_between(x, 0, y_null, where=(x <= -z_critical) | (x >= z_critical), color=\"red\", alpha=0.5, label=\"Rejection Region (Type I Error)\")\n",
        "\n",
        "    # Shading Type II error region (acceptance region for H₀ when H₁ is true)\n",
        "    plt.fill_between(x, 0, y_alt, where=(x >= -z_critical) & (x <= z_critical), color=\"green\", alpha=0.5, label=\"Type II Error Region\")\n",
        "\n",
        "    # Mark critical Z values\n",
        "    plt.axvline(-z_critical, color=\"black\", linestyle=\"dashed\", label=f\"Critical Z = {-z_critical:.2f}\")\n",
        "    plt.axvline(z_critical, color=\"black\", linestyle=\"dashed\", label=f\"Critical Z = {z_critical:.2f}\")\n",
        "\n",
        "    # Title and Labels\n",
        "    plt.title(f\"Type I and Type II Error Visualization\\nSample Size = {sample_size}, Alpha = {alpha}\")\n",
        "    plt.xlabel(\"Z-score\")\n",
        "    plt.ylabel(\"Probability Density Function (PDF)\")\n",
        "    plt.legend()\n",
        "\n",
        "    # Show the plot\n",
        "    plt.show()\n",
        "\n",
        "    print(f\"Type I Error Probability (alpha): {alpha}\")\n",
        "    print(f\"Type II Error Probability: {type_2_error_area:.4f}\")\n",
        "\n",
        "# Example usage\n",
        "sample_size = 100\n",
        "population_mean = 50\n",
        "population_std_dev = 5\n",
        "alternative_mean = 55  # A different mean for H₁ (alternative hypothesis)\n",
        "alpha = 0.05  # Significance level\n",
        "\n",
        "visualize_type_errors(sample_size, population_mean, population_std_dev, alternative_mean, alpha)\n"
      ],
      "metadata": {
        "colab": {
          "base_uri": "https://localhost:8080/",
          "height": 620
        },
        "id": "sx1ZnqJL_kKW",
        "outputId": "2a96caf9-e9da-4806-ef25-fc36721388c9"
      },
      "execution_count": 5,
      "outputs": [
        {
          "output_type": "display_data",
          "data": {
            "text/plain": [
              "<Figure size 1000x600 with 1 Axes>"
            ],
            "image/png": "[encoded data removed]"
          },
          "metadata": {}
        },
        {
          "output_type": "stream",
          "name": "stdout",
          "text": [
            "Type I Error Probability (alpha): 0.05\n",
            "Type II Error Probability: 0.0000\n"
          ]
        }
      ]
    },
    {
      "cell_type": "markdown",
      "source": [
        "6.  Write a Python program to perform an independent T-test and interpret the results?\n"
      ],
      "metadata": {
        "id": "5o6ECXcW_of9"
      }
    },
    {
      "cell_type": "code",
      "source": [
        "import numpy as np\n",
        "from scipy import stats\n",
        "\n",
        "# Step 1: Generate two independent sample datasets (replace with your actual data)\n",
        "np.random.seed(42)\n",
        "\n",
        "# Sample data for group 1 and group 2\n",
        "group_1 = np.random.normal(loc=50, scale=10, size=100)  # Mean=50, Std=10, Size=100\n",
        "group_2 = np.random.normal(loc=55, scale=10, size=100)  # Mean=55, Std=10, Size=100\n",
        "\n",
        "# Step 2: Perform the independent T-test\n",
        "t_statistic, p_value = stats.ttest_ind(group_1, group_2)\n",
        "\n",
        "# Step 3: Interpret the results\n",
        "alpha = 0.05  # Significance level\n",
        "\n",
        "print(f\"T-statistic: {t_statistic:.3f}\")\n",
        "print(f\"P-value: {p_value:.3f}\")\n",
        "\n",
        "# Interpretation\n",
        "if p_value < alpha:\n",
        "    print(\"Reject the null hypothesis: There is a significant difference between the two groups.\")\n",
        "else:\n",
        "    print(\"Fail to reject the null hypothesis: There is no significant difference between the two groups.\")\n"
      ],
      "metadata": {
        "id": "4wgwLy8c_6qT"
      },
      "execution_count": null,
      "outputs": []
    },
    {
      "cell_type": "markdown",
      "source": [
        "7. Perform a paired sample T-test using Python and visualize the comparison results?\n"
      ],
      "metadata": {
        "id": "uiSPyfFj_8cK"
      }
    },
    {
      "cell_type": "code",
      "source": [
        "import numpy as np\n",
        "import matplotlib.pyplot as plt\n",
        "from scipy import stats\n",
        "\n",
        "# Step 1: Simulate paired data (e.g., before and after treatment)\n",
        "np.random.seed(42)\n",
        "\n",
        "# Simulating before and after measurements (for 30 individuals)\n",
        "before_treatment = np.random.normal(loc=60, scale=15, size=30)  # Mean=60, Std=15\n",
        "after_treatment = before_treatment + np.random.normal(loc=-5, scale=5, size=30)  # After treatment mean decrease of 5\n",
        "\n",
        "# Step 2: Perform the paired sample T-test\n",
        "t_statistic, p_value = stats.ttest_rel(before_treatment, after_treatment)\n",
        "\n",
        "# Step 3: Interpret the results\n",
        "alpha = 0.05  # Significance level\n",
        "\n",
        "print(f\"T-statistic: {t_statistic:.3f}\")\n",
        "print(f\"P-value: {p_value:.3f}\")\n",
        "\n",
        "if p_value < alpha:\n",
        "    print(\"Reject the null hypothesis: There is a significant difference between the before and after measurements.\")\n",
        "else:\n",
        "    print(\"Fail to reject the null hypothesis: There is no significant difference between the before and after measurements.\")\n",
        "\n",
        "# Step 4: Visualize the comparison results\n",
        "plt.figure(figsize=(8, 6))\n",
        "\n",
        "# Plotting before and after data side by side for each individual\n",
        "plt.plot(before_treatment, label='Before Treatment', marker='o', linestyle='-', color='blue')\n",
        "plt.plot(after_treatment, label='After Treatment', marker='o', linestyle='-', color='orange')\n",
        "\n",
        "# Adding labels and title\n",
        "plt.title('Before and After Treatment Comparison')\n",
        "plt.xlabel('Individual')\n",
        "plt.ylabel('Measurement Value')\n",
        "plt.legend()\n",
        "plt.show()\n",
        "\n",
        "# Optionally, plot a bar chart showing the means of before and after treatment\n",
        "plt.figure(figsize=(6, 6))\n",
        "mean_before = np.mean(before_treatment)\n",
        "mean_after = np.mean(after_treatment)\n",
        "\n",
        "plt.bar(['Before Treatment', 'After Treatment'], [mean_before, mean_after], color=['blue', 'orange'])\n",
        "plt.title('Mean Comparison: Before vs After Treatment')\n",
        "plt.ylabel('Mean Measurement')\n",
        "plt.show()\n"
      ],
      "metadata": {
        "id": "I_EFJe5qABbD"
      },
      "execution_count": null,
      "outputs": []
    },
    {
      "cell_type": "markdown",
      "source": [
        "8. Simulate data and perform both Z-test and T-test, then compare the results using Python?\n"
      ],
      "metadata": {
        "id": "hX9CbOlpAK9R"
      }
    },
    {
      "cell_type": "code",
      "source": [
        "import numpy as np\n",
        "from scipy import stats\n",
        "import matplotlib.pyplot as plt\n",
        "\n",
        "# Step 1: Simulate data\n",
        "np.random.seed(42)\n",
        "\n",
        "# Sample size\n",
        "sample_size = 30\n",
        "\n",
        "# Population parameters\n",
        "population_mean = 50\n",
        "population_std_dev = 10\n",
        "\n",
        "# Simulate sample data from a normal distribution\n",
        "sample_data = np.random.normal(loc=population_mean, scale=population_std_dev, size=sample_size)\n",
        "\n",
        "# Step 2: Perform Z-test\n",
        "# For Z-test, we need to assume that the population variance is known.\n",
        "# Z = (sample_mean - population_mean) / (population_std_dev / sqrt(sample_size))\n",
        "sample_mean = np.mean(sample_data)\n",
        "z_statistic = (sample_mean - population_mean) / (population_std_dev / np.sqrt(sample_size))\n",
        "# Calculate the p-value for the two-tailed Z-test\n",
        "z_p_value = 2 * (1 - stats.norm.cdf(abs(z_statistic)))\n",
        "\n",
        "# Step 3: Perform T-test\n",
        "# T-test does not require known population standard deviation (works when using sample standard deviation).\n",
        "t_statistic, t_p_value = stats.ttest_1samp(sample_data, population_mean)\n",
        "\n",
        "# Step 4: Print results and compare\n",
        "alpha = 0.05  # Significance level\n",
        "\n",
        "print(f\"Z-test statistic: {z_statistic:.3f}\")\n",
        "print(f\"Z-test p-value: {z_p_value:.3f}\")\n",
        "\n",
        "print(f\"T-test statistic: {t_statistic:.3f}\")\n",
        "print(f\"T-test p-value: {t_p_value:.3f}\")\n",
        "\n",
        "# Step 5: Compare the results\n",
        "print(\"\\nComparison:\")\n",
        "if z_p_value < alpha:\n",
        "    print(\"Z-test: Reject the null hypothesis (significant difference).\")\n",
        "else:\n",
        "    print(\"Z-test: Fail to reject the null hypothesis (no significant difference).\")\n",
        "\n",
        "if t_p_value < alpha:\n",
        "    print(\"T-test: Reject the null hypothesis (significant difference).\")\n",
        "else:\n",
        "    print(\"T-test: Fail to reject the null hypothesis (no significant difference).\")\n",
        "\n",
        "# Step 6: Visualization\n",
        "plt.figure(figsize=(8, 6))\n",
        "\n",
        "# Plot the sample data and the population mean\n",
        "plt.hist(sample_data, bins=10, alpha=0.7, color='skyblue', edgecolor='black', label=\"Sample Data\")\n",
        "plt.axvline(population_mean, color='red', linestyle='dashed', linewidth=2, label=\"Population Mean\")\n",
        "\n",
        "plt.title(\"Histogram of Sample Data with Population Mean\")\n",
        "plt.xlabel(\"Value\")\n",
        "plt.ylabel(\"Frequency\")\n",
        "plt.legend()\n",
        "plt.show()\n"
      ],
      "metadata": {
        "id": "At1CPj6UAVM1"
      },
      "execution_count": null,
      "outputs": []
    },
    {
      "cell_type": "markdown",
      "source": [
        "9. Write a Python function to calculate the confidence interval for a sample mean and explain its significance.\n"
      ],
      "metadata": {
        "id": "1h9C3csZAenQ"
      }
    },
    {
      "cell_type": "code",
      "source": [
        "import numpy as np\n",
        "from scipy import stats\n",
        "\n",
        "def calculate_confidence_interval(sample_data, confidence_level=0.95):\n",
        "    \"\"\"\n",
        "    Calculate the confidence interval for the sample mean.\n",
        "\n",
        "    Parameters:\n",
        "    - sample_data (array-like): The sample data (list, numpy array, etc.)\n",
        "    - confidence_level (float): The confidence level (default is 95%)\n",
        "\n",
        "    Returns:\n",
        "    - tuple: (lower bound, upper bound) of the confidence interval\n",
        "    \"\"\"\n",
        "    # Step 1: Calculate sample mean and standard deviation\n",
        "    sample_mean = np.mean(sample_data)\n",
        "    sample_std = np.std(sample_data, ddof=1)  # Use sample standard deviation (ddof=1 for unbiased estimator)\n",
        "    sample_size = len(sample_data)\n",
        "\n",
        "    # Step 2: Determine the critical value (Z or T)\n",
        "    if sample_size > 30:  # Use Z-distribution for large samples\n",
        "        critical_value = stats.norm.ppf(1 - (1 - confidence_level) / 2)\n",
        "    else:  # Use T-distribution for small samples\n",
        "        critical_value = stats.t.ppf(1 - (1 - confidence_level) / 2, df=sample_size - 1)\n",
        "\n",
        "    # Step 3: Calculate the margin of error\n",
        "    margin_of_error = critical_value * (sample_std / np.sqrt(sample_size))\n",
        "\n",
        "    # Step 4: Calculate the confidence interval\n",
        "    lower_bound = sample_mean - margin_of_error\n",
        "    upper_bound = sample_mean + margin_of_error\n",
        "\n",
        "    return lower_bound, upper_bound\n",
        "\n",
        "# Example usage:\n",
        "np.random.seed(42)\n",
        "\n",
        "# Simulate some sample data (e.g., test scores of 50 students)\n",
        "sample_data = np.random.normal(loc=75, scale=10, size=50)\n",
        "\n",
        "# Calculate the confidence interval for the sample mean\n",
        "confidence_level = 0.95\n",
        "lower, upper = calculate_confidence_interval(sample_data, confidence_level)\n",
        "\n",
        "print(f\"Confidence Interval ({confidence_level * 100}%): ({lower:.2f}, {upper:.2f})\")\n"
      ],
      "metadata": {
        "id": "_euv4HVEAp4m"
      },
      "execution_count": null,
      "outputs": []
    },
    {
      "cell_type": "markdown",
      "source": [
        "10.  Write a Python program to calculate the margin of error for a given confidence level using sample data?\n"
      ],
      "metadata": {
        "id": "ozVTOHrBArbz"
      }
    },
    {
      "cell_type": "code",
      "source": [
        "import numpy as np\n",
        "from scipy import stats\n",
        "\n",
        "def calculate_margin_of_error(sample_data, confidence_level=0.95):\n",
        "    \"\"\"\n",
        "    Calculate the margin of error for the given sample data and confidence level.\n",
        "\n",
        "    Parameters:\n",
        "    - sample_data (array-like): The sample data (list, numpy array, etc.)\n",
        "    - confidence_level (float): The confidence level (default is 95%)\n",
        "\n",
        "    Returns:\n",
        "    - float: The margin of error\n",
        "    \"\"\"\n",
        "    # Step 1: Calculate sample mean and sample standard deviation\n",
        "    sample_mean = np.mean(sample_data)\n",
        "    sample_std = np.std(sample_data, ddof=1)  # Sample standard deviation (ddof=1 for unbiased estimator)\n",
        "    sample_size = len(sample_data)\n",
        "\n",
        "    # Step 2: Determine the critical value (Z or T)\n",
        "    if sample_size > 30:  # Use Z-distribution for large samples\n",
        "        critical_value = stats.norm.ppf(1 - (1 - confidence_level) / 2)\n",
        "    else:  # Use T-distribution for small samples\n",
        "        critical_value = stats.t.ppf(1 - (1 - confidence_level) / 2, df=sample_size - 1)\n",
        "\n",
        "    # Step 3: Calculate the margin of error\n",
        "    margin_of_error = critical_value * (sample_std / np.sqrt(sample_size))\n",
        "\n",
        "    return margin_of_error\n",
        "\n",
        "# Example usage:\n",
        "np.random.seed(42)\n",
        "\n",
        "# Simulate some sample data (e.g., test scores of 50 students)\n",
        "sample_data = np.random.normal(loc=75, scale=10, size=50)\n",
        "\n",
        "# Calculate the margin of error for the sample data\n",
        "confidence_level = 0.95\n",
        "margin_of_error = calculate_margin_of_error(sample_data, confidence_level)\n",
        "\n",
        "print(f\"Margin of Error for {confidence_level * 100}% confidence level: {margin_of_error:.2f}\")\n"
      ],
      "metadata": {
        "id": "GOUSCb4nAx-q"
      },
      "execution_count": null,
      "outputs": []
    },
    {
      "cell_type": "markdown",
      "source": [
        "11. Implement a Bayesian inference method using Bayes' Theorem in Python and explain the process?\n"
      ],
      "metadata": {
        "id": "TTN1X2a2A-gT"
      }
    },
    {
      "cell_type": "code",
      "source": [
        "def bayesian_inference(prior_disease, sensitivity, specificity, test_result_pos):\n",
        "    \"\"\"\n",
        "    Perform Bayesian inference to compute the probability of having the disease given a positive test result.\n",
        "\n",
        "    Parameters:\n",
        "    - prior_disease (float): Prior probability of having the disease (P(Disease)).\n",
        "    - sensitivity (float): Sensitivity of the test (P(Pos | Disease)).\n",
        "    - specificity (float): Specificity of the test (P(Neg | No Disease)).\n",
        "    - test_result_pos (bool): True if the test result is positive, False if negative.\n",
        "\n",
        "    Returns:\n",
        "    - float: The posterior probability of having the disease given the test result (P(Disease | Pos)).\n",
        "    \"\"\"\n",
        "    # Step 1: Calculate P(Pos | Disease) and P(Pos | No Disease)\n",
        "    P_pos_given_disease = sensitivity\n",
        "    P_pos_given_no_disease = 1 - specificity\n",
        "\n",
        "    # Step 2: Calculate prior probabilities\n",
        "    P_no_disease = 1 - prior_disease  # P(No Disease) = 1 - P(Disease)\n",
        "\n",
        "    # Step 3: Compute the total probability of the data (P(Pos))\n",
        "    P_pos = (P_pos_given_disease * prior_disease) + (P_pos_given_no_disease * P_no_disease)\n",
        "\n",
        "    # Step 4: Apply Bayes' Theorem: P(Disease | Pos) = (P(Pos | Disease) * P(Disease)) / P(Pos)\n",
        "    if test_result_pos:\n",
        "        P_disease_given_pos = (P_pos_given_disease * prior_disease) / P_pos\n",
        "    else:\n",
        "        P_disease_given_pos = (P_pos_given_no_disease * P_no_disease) / (1 - P_pos)\n",
        "\n",
        "    return P_disease_given_pos\n",
        "\n",
        "# Example usage:\n",
        "prior_disease = 0.01  # 1% of the population has the disease\n",
        "sensitivity = 0.9      # 90% chance of positive result given disease\n",
        "specificity = 0.95     # 95% chance of negative result given no disease\n",
        "test_result_pos = True  # The test result is positive\n",
        "\n",
        "# Perform Bayesian Inference\n",
        "posterior = bayesian_inference(prior_disease, sensitivity, specificity, test_result_pos)\n",
        "\n",
        "print(f\"Posterior Probability of having the disease given a positive test result: {posterior:.4f}\")\n"
      ],
      "metadata": {
        "id": "2Y-EyacRBF_l"
      },
      "execution_count": null,
      "outputs": []
    },
    {
      "cell_type": "markdown",
      "source": [
        "12.  Perform a Chi-square test for independence between two categorical variables in Python?\n"
      ],
      "metadata": {
        "id": "VCutVHlsBUtE"
      }
    },
    {
      "cell_type": "code",
      "source": [
        "import numpy as np\n",
        "import pandas as pd\n",
        "from scipy.stats import chi2_contingency\n",
        "\n",
        "# Sample Data: Gender vs Preference\n",
        "data = {'Coffee': [30, 10], 'Tea': [20, 40]}\n",
        "df = pd.DataFrame(data, index=['Male', 'Female'])\n",
        "\n",
        "# Print the contingency table\n",
        "print(\"Contingency Table:\")\n",
        "print(df)\n",
        "\n",
        "# Perform Chi-square test for independence\n",
        "chi2, p, dof, expected = chi2_contingency(df)\n",
        "\n",
        "# Output the results\n",
        "print(\"\\nChi-square Test Results:\")\n",
        "print(f\"Chi-square statistic: {chi2}\")\n",
        "print(f\"Degrees of Freedom: {dof}\")\n",
        "print(f\"p-value: {p}\")\n",
        "print(f\"Expected frequencies:\\n{expected}\")\n",
        "\n",
        "# Interpret the results\n",
        "alpha = 0.05  # significance level\n",
        "\n",
        "if p < alpha:\n",
        "    print(\"\\nWe reject the null hypothesis: The variables are dependent.\")\n",
        "else:\n",
        "    print(\"\\nWe fail to reject the null hypothesis: The variables are independent.\")\n"
      ],
      "metadata": {
        "id": "fkUDX_OGBczJ"
      },
      "execution_count": null,
      "outputs": []
    },
    {
      "cell_type": "markdown",
      "source": [
        "13.  Write a Python program to calculate the expected frequencies for a Chi-square test based on observed data ?\n"
      ],
      "metadata": {
        "id": "2Bxnsy-rBttt"
      }
    },
    {
      "cell_type": "code",
      "source": [
        "import numpy as np\n",
        "\n",
        "def calculate_expected_frequencies(observed):\n",
        "    \"\"\"\n",
        "    Calculate the expected frequencies for a Chi-square test.\n",
        "\n",
        "    Parameters:\n",
        "    - observed (2D array or list): The observed frequencies in the contingency table.\n",
        "\n",
        "    Returns:\n",
        "    - expected (2D array): The expected frequencies based on observed data.\n",
        "    \"\"\"\n",
        "    # Convert the observed frequencies into a numpy array\n",
        "    observed = np.array(observed)\n",
        "\n",
        "    # Calculate the row totals, column totals, and grand total\n",
        "    row_totals = np.sum(observed, axis=1)  # Sum along rows\n",
        "    column_totals = np.sum(observed, axis=0)  # Sum along columns\n",
        "    grand_total = np.sum(observed)  # Sum of all observations\n",
        "\n",
        "    # Calculate expected frequencies\n",
        "    expected = np.outer(row_totals, column_totals) / grand_total\n",
        "\n",
        "    return expected\n",
        "\n",
        "# Example data (contingency table: observed frequencies)\n",
        "observed = [\n",
        "    [30, 10],  # Male: Coffee, Tea\n",
        "    [20, 40]   # Female: Coffee, Tea\n",
        "]\n",
        "\n",
        "# Calculate expected frequencies\n",
        "expected = calculate_expected_frequencies(observed)\n",
        "\n",
        "# Display the results\n",
        "print(\"Observed Frequencies:\")\n",
        "print(np.array(observed))\n",
        "\n",
        "print(\"\\nExpected Frequencies:\")\n",
        "print(np.round(expected, 2))  # Round to 2 decimal places\n"
      ],
      "metadata": {
        "colab": {
          "base_uri": "https://localhost:8080/"
        },
        "id": "3z9OJJxhB81y",
        "outputId": "9e55f79d-b685-4d7d-c9df-12aa00f7cd2e"
      },
      "execution_count": 6,
      "outputs": [
        {
          "output_type": "stream",
          "name": "stdout",
          "text": [
            "Observed Frequencies:\n",
            "[[30 10]\n",
            " [20 40]]\n",
            "\n",
            "Expected Frequencies:\n",
            "[[20. 20.]\n",
            " [30. 30.]]\n"
          ]
        }
      ]
    },
    {
      "cell_type": "markdown",
      "source": [
        "14.  Perform a goodness-of-fit test using Python to compare the observed data to an expected distribution?\n"
      ],
      "metadata": {
        "id": "wR5QTyfBCIhL"
      }
    },
    {
      "cell_type": "code",
      "source": [
        "import numpy as np\n",
        "from scipy.stats import chisquare\n",
        "\n",
        "# Observed frequencies (e.g., the outcomes of 60 dice rolls)\n",
        "observed = [10, 12, 9, 11, 8, 10]  # Rolls of 1, 2, 3, 4, 5, and 6\n",
        "\n",
        "# Expected frequencies (for a fair die, each face should appear 10 times in 60 rolls)\n",
        "expected = [10, 10, 10, 10, 10, 10]  # Expected frequency for each outcome (fair die)\n",
        "\n",
        "# Perform the Chi-square goodness-of-fit test\n",
        "chi2_stat, p_value = chisquare(observed, expected)\n",
        "\n",
        "# Output the results\n",
        "print(f\"Chi-square statistic: {chi2_stat}\")\n",
        "print(f\"P-value: {p_value}\")\n",
        "\n",
        "# Interpret the result\n",
        "alpha = 0.05  # significance level\n",
        "if p_value < alpha:\n",
        "    print(\"\\nWe reject the null hypothesis: The data does not fit the expected distribution.\")\n",
        "else:\n",
        "    print(\"\\nWe fail to reject the null hypothesis: The data fits the expected distribution.\")\n"
      ],
      "metadata": {
        "colab": {
          "base_uri": "https://localhost:8080/"
        },
        "id": "rGWMD13sCNQh",
        "outputId": "09f5e0be-a892-451a-c897-72eb024482ea"
      },
      "execution_count": 7,
      "outputs": [
        {
          "output_type": "stream",
          "name": "stdout",
          "text": [
            "Chi-square statistic: 1.0\n",
            "P-value: 0.9625657732472964\n",
            "\n",
            "We fail to reject the null hypothesis: The data fits the expected distribution.\n"
          ]
        }
      ]
    },
    {
      "cell_type": "markdown",
      "source": [
        "15.  Create a Python script to simulate and visualize the Chi-square distribution and discuss its characteristics?\n"
      ],
      "metadata": {
        "id": "eLQLW9oDCrAT"
      }
    },
    {
      "cell_type": "code",
      "source": [
        "import numpy as np\n",
        "import matplotlib.pyplot as plt\n",
        "\n",
        "# Function to simulate and visualize Chi-square distribution\n",
        "def plot_chi_square_distribution(df_values, size=10000):\n",
        "    plt.figure(figsize=(10, 6))\n",
        "\n",
        "    # Loop through the different degrees of freedom and plot each distribution\n",
        "    for df in df_values:\n",
        "        chi_square_data = np.random.chisquare(df, size)\n",
        "        plt.hist(chi_square_data, bins=50, alpha=0.6, label=f'df = {df}', density=True)\n",
        "\n",
        "    # Adding titles and labels\n",
        "    plt.title(\"Chi-square Distribution for Different Degrees of Freedom\", fontsize=14)\n",
        "    plt.xlabel(\"Chi-square Value\", fontsize=12)\n",
        "    plt.ylabel(\"Density\", fontsize=12)\n",
        "    plt.legend(title=\"Degrees of Freedom\")\n",
        "\n",
        "    # Show the plot\n",
        "    plt.grid(True)\n",
        "    plt.show()\n",
        "\n",
        "# Degrees of freedom to simulate (e.g., 1, 2, 5, 10, 50)\n",
        "df_values = [1, 2, 5, 10, 50]\n",
        "plot_chi_square_distribution(df_values)\n"
      ],
      "metadata": {
        "id": "sZ0Afs49Cw7_"
      },
      "execution_count": null,
      "outputs": []
    },
    {
      "cell_type": "markdown",
      "source": [
        "16. Implement an F-test using Python to compare the variances of two random samples?\n"
      ],
      "metadata": {
        "id": "V68e4WM2C6eJ"
      }
    },
    {
      "cell_type": "code",
      "source": [
        "import numpy as np\n",
        "from scipy.stats import f\n",
        "\n",
        "# Function to perform an F-test to compare two variances\n",
        "def f_test(sample1, sample2, alpha=0.05):\n",
        "    # Calculate the sample variances\n",
        "    var1 = np.var(sample1, ddof=1)  # ddof=1 for sample variance (unbiased)\n",
        "    var2 = np.var(sample2, ddof=1)\n",
        "\n",
        "    # Calculate the F-statistic (larger variance / smaller variance)\n",
        "    f_statistic = max(var1, var2) / min(var1, var2)\n",
        "\n",
        "    # Calculate the degrees of freedom\n",
        "    df1 = len(sample1) - 1  # Degrees of freedom for sample 1\n",
        "    df2 = len(sample2) - 1  # Degrees of freedom for sample 2\n",
        "\n",
        "    # Calculate the p-value using the F-distribution\n",
        "    p_value = 2 * min(f.cdf(f_statistic, df1, df2), 1 - f.cdf(f_statistic, df1, df2))\n",
        "\n",
        "    # Output the results\n",
        "    print(f\"F-statistic: {f_statistic}\")\n",
        "    print(f\"P-value: {p_value}\")\n",
        "\n",
        "    # Interpret the result\n",
        "    if p_value < alpha:\n",
        "        print(\"\\nWe reject the null hypothesis: The variances are significantly different.\")\n",
        "    else:\n",
        "        print(\"\\nWe fail to reject the null hypothesis: The variances are equal.\")\n",
        "\n",
        "# Example data (two random samples)\n",
        "sample1 = np.random.normal(loc=10, scale=2, size=30)  # Sample 1 from normal distribution\n",
        "sample2 = np.random.normal(loc=10, scale=3, size=30)  # Sample 2 from normal distribution\n",
        "\n",
        "# Perform the F-test\n",
        "f_test(sample1, sample2, alpha=0.05)\n"
      ],
      "metadata": {
        "colab": {
          "base_uri": "https://localhost:8080/"
        },
        "id": "N-B0-xDnDClV",
        "outputId": "480271e3-2f9c-4383-c030-cfdf98e937f9"
      },
      "execution_count": 9,
      "outputs": [
        {
          "output_type": "stream",
          "name": "stdout",
          "text": [
            "F-statistic: 3.8861859468383084\n",
            "P-value: 0.0004680283931941531\n",
            "\n",
            "We reject the null hypothesis: The variances are significantly different.\n"
          ]
        }
      ]
    },
    {
      "cell_type": "markdown",
      "source": [
        "17. Write a Python program to perform an ANOVA test to compare means between multiple groups and interpret the results?\n"
      ],
      "metadata": {
        "id": "JGdcxfK4DUCt"
      }
    },
    {
      "cell_type": "code",
      "source": [
        "import numpy as np\n",
        "from scipy.stats import f_oneway\n",
        "\n",
        "# Function to perform ANOVA test\n",
        "def anova_test(*groups):\n",
        "    # Perform the ANOVA test\n",
        "    f_statistic, p_value = f_oneway(*groups)\n",
        "\n",
        "    # Output the results\n",
        "    print(f\"F-statistic: {f_statistic}\")\n",
        "    print(f\"P-value: {p_value}\")\n",
        "\n",
        "    # Interpret the result\n",
        "    alpha = 0.05  # Significance level\n",
        "    if p_value < alpha:\n",
        "        print(\"\\nWe reject the null hypothesis: At least one group mean is different.\")\n",
        "    else:\n",
        "        print(\"\\nWe fail to reject the null hypothesis: The group means are equal.\")\n",
        "\n",
        "# Example data (three groups with different means)\n",
        "group1 = np.random.normal(loc=10, scale=2, size=30)  # Group 1 with mean 10\n",
        "group2 = np.random.normal(loc=12, scale=2, size=30)  # Group 2 with mean 12\n",
        "group3 = np.random.normal(loc=15, scale=2, size=30)  # Group 3 with mean 15\n",
        "\n",
        "# Perform the ANOVA test\n",
        "anova_test(group1, group2, group3)\n"
      ],
      "metadata": {
        "colab": {
          "base_uri": "https://localhost:8080/"
        },
        "id": "Y05DnOjxDgfj",
        "outputId": "b1f0a56d-321c-425f-9e37-e1ab4ea05cac"
      },
      "execution_count": 8,
      "outputs": [
        {
          "output_type": "stream",
          "name": "stdout",
          "text": [
            "F-statistic: 25.637561031404914\n",
            "P-value: 1.7649048292494421e-09\n",
            "\n",
            "We reject the null hypothesis: At least one group mean is different.\n"
          ]
        }
      ]
    },
    {
      "cell_type": "markdown",
      "source": [
        "18.  Perform a one-way ANOVA test using Python to compare the means of different groups and plot the results?\n"
      ],
      "metadata": {
        "id": "krffAQPoDuSr"
      }
    },
    {
      "cell_type": "code",
      "source": [
        "import numpy as np\n",
        "import matplotlib.pyplot as plt\n",
        "import seaborn as sns\n",
        "from scipy.stats import f_oneway\n",
        "\n",
        "# Function to perform one-way ANOVA test\n",
        "def anova_test(*groups):\n",
        "    # Perform the ANOVA test\n",
        "    f_statistic, p_value = f_oneway(*groups)\n",
        "\n",
        "    # Output the results\n",
        "    print(f\"F-statistic: {f_statistic}\")\n",
        "    print(f\"P-value: {p_value}\")\n",
        "\n",
        "    # Interpret the result\n",
        "    alpha = 0.05  # Significance level\n",
        "    if p_value < alpha:\n",
        "        print(\"\\nWe reject the null hypothesis: At least one group mean is different.\")\n",
        "    else:\n",
        "        print(\"\\nWe fail to reject the null hypothesis: The group means are equal.\")\n",
        "\n",
        "# Example data (three groups with different means)\n",
        "group1 = np.random.normal(loc=10, scale=2, size=30)  # Group 1 with mean 10\n",
        "group2 = np.random.normal(loc=12, scale=2, size=30)  # Group 2 with mean 12\n",
        "group3 = np.random.normal(loc=15, scale=2, size=30)  # Group 3 with mean 15\n",
        "\n",
        "# Perform the ANOVA test\n",
        "anova_test(group1, group2, group3)\n",
        "\n",
        "# Combine all groups into a list for plotting\n",
        "all_data = [group1, group2, group3]\n",
        "\n",
        "# Create labels for each group\n",
        "group_labels = ['Group 1', 'Group 2', 'Group 3']\n",
        "\n",
        "# Plotting the results using a boxplot\n",
        "plt.figure(figsize=(8, 6))\n",
        "sns.boxplot(data=all_data, labels=group_labels)\n",
        "plt.title(\"One-way ANOVA: Comparing Group Means\")\n",
        "plt.xlabel(\"Group\")\n",
        "plt.ylabel(\"Values\")\n",
        "plt.grid(True)\n",
        "plt.show()\n"
      ],
      "metadata": {
        "id": "vbugfMtgD9zx"
      },
      "execution_count": null,
      "outputs": []
    },
    {
      "cell_type": "markdown",
      "source": [
        "19. Write a Python function to check the assumptions (normality, independence, and equal variance) for ANOVA?\n"
      ],
      "metadata": {
        "id": "VEwbZ9S7D--v"
      }
    },
    {
      "cell_type": "code",
      "source": [
        "import numpy as np\n",
        "import scipy.stats as stats\n",
        "import matplotlib.pyplot as plt\n",
        "import seaborn as sns\n",
        "\n",
        "# Function to check the assumptions for ANOVA\n",
        "def check_anova_assumptions(*groups):\n",
        "    # 1. Check Normality (using Shapiro-Wilk test)\n",
        "    print(\"Normality Test (Shapiro-Wilk):\")\n",
        "    for i, group in enumerate(groups, 1):\n",
        "        stat, p_value = stats.shapiro(group)\n",
        "        print(f\"Group {i}: W-statistic = {stat:.3f}, p-value = {p_value:.3f}\")\n",
        "        if p_value < 0.05:\n",
        "            print(f\"  -> Group {i} is NOT normally distributed.\\n\")\n",
        "        else:\n",
        "            print(f\"  -> Group {i} is normally distributed.\\n\")\n",
        "\n",
        "    # 2. Check Equal Variance (Levene's test)\n",
        "    print(\"Equal Variance Test (Levene's test):\")\n",
        "    stat, p_value = stats.levene(*groups)\n",
        "    print(f\"Levene's Test: Statistic = {stat:.3f}, p-value = {p_value:.3f}\")\n",
        "    if p_value < 0.05:\n",
        "        print(\"  -> The variances are NOT equal.\\n\")\n",
        "    else:\n",
        "        print(\"  -> The variances are equal.\\n\")\n",
        "\n",
        "    # 3. Check Normality visually with Q-Q plots\n",
        "    print(\"Visualizing Normality with Q-Q plots...\")\n",
        "    plt.figure(figsize=(12, 8))\n",
        "    for i, group in enumerate(groups, 1):\n",
        "        plt.subplot(1, len(groups), i)\n",
        "        stats.probplot(group, dist=\"norm\", plot=plt)\n",
        "        plt.title(f\"Q-Q Plot - Group {i}\")\n",
        "    plt.tight_layout()\n",
        "    plt.show()\n",
        "\n",
        "# Example data (three groups with different means)\n",
        "group1 = np.random.normal(loc=10, scale=2, size=30)  # Group 1 with mean 10\n",
        "group2 = np.random.normal(loc=12, scale=2, size=30)  # Group 2 with mean 12\n",
        "group3 = np.random.normal(loc=15, scale=2, size=30)  # Group 3 with mean 15\n",
        "\n",
        "# Perform the assumption checks\n",
        "check_anova_assumptions(group1, group2, group3)\n"
      ],
      "metadata": {
        "id": "nML_h0FbED2K"
      },
      "execution_count": null,
      "outputs": []
    },
    {
      "cell_type": "markdown",
      "source": [
        "20.  Perform a two-way ANOVA test using Python to study the interaction between two factors and visualize the results.\n"
      ],
      "metadata": {
        "id": "8SVOX7spENrZ"
      }
    },
    {
      "cell_type": "code",
      "source": [
        "import pandas as pd\n",
        "import numpy as np\n",
        "import statsmodels.api as sm\n",
        "from statsmodels.formula.api import ols\n",
        "from statsmodels.stats.anova import anova_lm\n",
        "import seaborn as sns\n",
        "import matplotlib.pyplot as plt\n",
        "\n",
        "# Function to perform Two-Way ANOVA and visualize the interaction\n",
        "def two_way_anova(data, dependent_var, factor1, factor2):\n",
        "    # Fit the model using OLS (Ordinary Least Squares)\n",
        "    model = ols(f'{dependent_var} ~ C({factor1}) * C({factor2})', data=data).fit()\n",
        "\n",
        "    # Perform ANOVA\n",
        "    anova_table = anova_lm(model)\n",
        "    print(anova_table)\n",
        "\n",
        "    # Interpretation of the p-values:\n",
        "    if anova_table['PR(>F)'][0] < 0.05:\n",
        "        print(\"\\nFactor 1 (Main effect of factor 1) is significant.\")\n",
        "    else:\n",
        "        print(\"\\nFactor 1 is not significant.\")\n",
        "\n",
        "    if anova_table['PR(>F)'][1] < 0.05:\n",
        "        print(\"Factor 2 (Main effect of factor 2) is significant.\")\n",
        "    else:\n",
        "        print(\"Factor 2 is not significant.\")\n",
        "\n",
        "    if anova_table['PR(>F)'][2] < 0.05:\n",
        "        print(\"Interaction between Factor 1 and Factor 2 is significant.\")\n",
        "    else:\n",
        "        print(\"No significant interaction between Factor 1 and Factor 2.\")\n",
        "\n",
        "    # Visualizing the interaction\n",
        "    plt.figure(figsize=(8, 6))\n",
        "    sns.boxplot(x=factor1, y=dependent_var, hue=factor2, data=data)\n",
        "    plt.title('Two-Way ANOVA Interaction Plot')\n",
        "    plt.show()\n",
        "\n",
        "# Example data: Study on the effects of two factors on a dependent variable\n",
        "# Factor1: \"Treatment\" (A and B)\n",
        "# Factor2: \"Time\" (T1 and T2)\n",
        "# Dependent variable: \"Score\" (Measured score for each combination)\n",
        "\n",
        "# Simulate some data\n",
        "np.random.seed(0)\n",
        "data = {\n",
        "    'Treatment': np.repeat(['A', 'B'], 20),\n",
        "    'Time': np.tile(np.repeat(['T1', 'T2'], 10), 2),\n",
        "    'Score': np.random.normal(loc=50, scale=10, size=40)\n",
        "}\n",
        "data['Score'][0:10] += 5  # Adding some effect for \"Treatment A at Time T1\"\n",
        "data['Score'][10:20] -= 5  # Adding some effect for \"Treatment A at Time T2\"\n",
        "data['Score'][20:30] += 10  # Adding some effect for \"Treatment B at Time T1\"\n",
        "data['Score'][30:40] += 2   # Adding a smaller effect for \"Treatment B at Time T2\"\n",
        "\n",
        "df = pd.DataFrame(data)\n",
        "\n",
        "# Perform Two-Way ANOVA and visualize the interaction\n",
        "two_way_anova(df, dependent_var='Score', factor1='Treatment', factor2='Time')\n"
      ],
      "metadata": {
        "id": "A7YU0nVEEVfS"
      },
      "execution_count": null,
      "outputs": []
    },
    {
      "cell_type": "markdown",
      "source": [
        "21.  Write a Python program to visualize the F-distribution and discuss its use in hypothesis testing?\n"
      ],
      "metadata": {
        "id": "4wYwprtCEiuy"
      }
    },
    {
      "cell_type": "code",
      "source": [
        "import numpy as np\n",
        "import matplotlib.pyplot as plt\n",
        "from scipy.stats import f\n",
        "\n",
        "# Function to plot the F-distribution\n",
        "def plot_f_distribution(df1, df2):\n",
        "    # Generate a range of x values\n",
        "    x = np.linspace(0, 5, 1000)\n",
        "\n",
        "    # Calculate the probability density function (PDF) of the F-distribution\n",
        "    y = f.pdf(x, df1, df2)\n",
        "\n",
        "    # Plot the F-distribution\n",
        "    plt.figure(figsize=(8, 6))\n",
        "    plt.plot(x, y, label=f'F-distribution (df1={df1}, df2={df2})', color='blue')\n",
        "    plt.fill_between(x, y, color='skyblue', alpha=0.4)\n",
        "    plt.title(f'F-distribution (df1={df1}, df2={df2})')\n",
        "    plt.xlabel('F value')\n",
        "    plt.ylabel('Probability Density')\n",
        "    plt.legend()\n",
        "    plt.grid(True)\n",
        "    plt.show()\n",
        "\n",
        "# Example usage: Plot F-distributions for different degrees of freedom\n",
        "plot_f_distribution(df1=5, df2=10)  # F-distribution with df1=5, df2=10\n",
        "plot_f_distribution(df1=10, df2=20)  # F-distribution with df1=10, df2=20\n"
      ],
      "metadata": {
        "id": "xRkdhz3CEpqE"
      },
      "execution_count": null,
      "outputs": []
    },
    {
      "cell_type": "markdown",
      "source": [
        "22. Perform a one-way ANOVA test in Python and visualize the results with boxplots to compare group means?\n"
      ],
      "metadata": {
        "id": "527qQ9JnE2al"
      }
    },
    {
      "cell_type": "code",
      "source": [
        "import numpy as np\n",
        "import pandas as pd\n",
        "import scipy.stats as stats\n",
        "import seaborn as sns\n",
        "import matplotlib.pyplot as plt\n",
        "\n",
        "# Step 1: Simulate data for three groups\n",
        "np.random.seed(42)  # For reproducibility\n",
        "\n",
        "# Simulate data for three different groups\n",
        "group_1 = np.random.normal(loc=50, scale=10, size=30)  # Group 1: mean=50, std=10\n",
        "group_2 = np.random.normal(loc=55, scale=12, size=30)  # Group 2: mean=55, std=12\n",
        "group_3 = np.random.normal(loc=60, scale=15, size=30)  # Group 3: mean=60, std=15\n",
        "\n",
        "# Combine data into a DataFrame\n",
        "data = pd.DataFrame({\n",
        "    'score': np.concatenate([group_1, group_2, group_3]),\n",
        "    'group': ['Group 1'] * 30 + ['Group 2'] * 30 + ['Group 3'] * 30\n",
        "})\n",
        "\n",
        "# Step 2: Perform One-Way ANOVA test\n",
        "f_stat, p_value = stats.f_oneway(group_1, group_2, group_3)\n",
        "\n",
        "# Step 3: Visualize with boxplot\n",
        "plt.figure(figsize=(8, 6))\n",
        "sns.boxplot(x='group', y='score', data=data, palette='Set3')\n",
        "plt.title('One-Way ANOVA: Comparison of Group Means')\n",
        "plt.xlabel('Group')\n",
        "plt.ylabel('Score')\n",
        "plt.show()\n",
        "\n",
        "# Print ANOVA result\n",
        "print(f'F-statistic: {f_stat:.4f}')\n",
        "print(f'P-value: {p_value:.4f}')\n",
        "\n",
        "# Interpretation of the result\n",
        "if p_value < 0.05:\n",
        "    print(\"There is a significant difference between the group means.\")\n",
        "else:\n",
        "    print(\"There is no significant difference between the group means.\")\n"
      ],
      "metadata": {
        "id": "BB5cGEz-E8cp"
      },
      "execution_count": null,
      "outputs": []
    },
    {
      "cell_type": "markdown",
      "source": [
        "23.  Simulate random data from a normal distribution, then perform hypothesis testing to evaluate the means?\n"
      ],
      "metadata": {
        "id": "pdGlkDiaFP7D"
      }
    },
    {
      "cell_type": "code",
      "source": [
        "import numpy as np\n",
        "import scipy.stats as stats\n",
        "\n",
        "# Step 1: Simulate random data from a normal distribution\n",
        "np.random.seed(42)  # For reproducibility\n",
        "\n",
        "# Group 1: Sample size = 50, Mean = 100, Standard deviation = 15\n",
        "group_1 = np.random.normal(loc=100, scale=15, size=50)\n",
        "\n",
        "# Group 2: Sample size = 50, Mean = 105, Standard deviation = 15\n",
        "group_2 = np.random.normal(loc=105, scale=15, size=50)\n",
        "\n",
        "# Step 2: Formulate the hypothesis\n",
        "# H₀: The means of the two groups are equal (μ₁ = μ₂)\n",
        "# H₁: The means of the two groups are not equal (μ₁ ≠ μ₂)\n",
        "\n",
        "# Step 3: Perform Two-Sample t-test\n",
        "t_stat, p_value = stats.ttest_ind(group_1, group_2)\n",
        "\n",
        "# Step 4: Interpretation of the result\n",
        "print(f\"T-statistic: {t_stat:.4f}\")\n",
        "print(f\"P-value: {p_value:.4f}\")\n",
        "\n",
        "if p_value < 0.05:\n",
        "    print(\"Reject the null hypothesis: There is a significant difference between the group means.\")\n",
        "else:\n",
        "    print(\"Fail to reject the null hypothesis: There is no significant difference between the group means.\")\n"
      ],
      "metadata": {
        "id": "KdQ9YAzQFWMC"
      },
      "execution_count": null,
      "outputs": []
    },
    {
      "cell_type": "markdown",
      "source": [
        "24. Perform a hypothesis test for population variance using a Chi-square distribution and interpret the results?\n"
      ],
      "metadata": {
        "id": "3T5VhXkWFgGl"
      }
    },
    {
      "cell_type": "code",
      "source": [
        "import numpy as np\n",
        "import scipy.stats as stats\n",
        "\n",
        "# Step 1: Simulate sample data\n",
        "np.random.seed(42)  # For reproducibility\n",
        "sample_data = np.random.normal(loc=50, scale=10, size=30)  # Sample of size 30, mean=50, std=10\n",
        "\n",
        "# Step 2: Define the hypothesized population variance\n",
        "hypothesized_variance = 100  # Hypothesized population variance (sigma_0^2)\n",
        "\n",
        "# Step 3: Calculate sample variance and sample size\n",
        "sample_variance = np.var(sample_data, ddof=1)  # Sample variance (using ddof=1 for an unbiased estimate)\n",
        "sample_size = len(sample_data)\n",
        "\n",
        "# Step 4: Calculate the Chi-square test statistic\n",
        "chi_square_statistic = (sample_size - 1) * sample_variance / hypothesized_variance\n",
        "\n",
        "# Step 5: Define significance level (alpha)\n",
        "alpha = 0.05  # Common significance level\n",
        "\n",
        "# Step 6: Calculate the critical values for the Chi-square distribution\n",
        "df = sample_size - 1  # Degrees of freedom\n",
        "critical_value_lower = stats.chi2.ppf(alpha / 2, df)\n",
        "critical_value_upper = stats.chi2.ppf(1 - alpha / 2, df)\n",
        "\n",
        "# Step 7: Perform the hypothesis test and interpret the results\n",
        "print(f\"Chi-square Statistic: {chi_square_statistic:.4f}\")\n",
        "print(f\"Critical Value Lower: {critical_value_lower:.4f}\")\n",
        "print(f\"Critical Value Upper: {critical_value_upper:.4f}\")\n",
        "\n",
        "if chi_square_statistic < critical_value_lower or chi_square_statistic > critical_value_upper:\n",
        "    print(\"Reject the null hypothesis: The population variance is significantly different from the hypothesized variance.\")\n",
        "else:\n",
        "    print(\"Fail to reject the null hypothesis: The population variance is not significantly different from the hypothesized variance.\")\n"
      ],
      "metadata": {
        "id": "Zb4tlF4bFml3"
      },
      "execution_count": null,
      "outputs": []
    },
    {
      "cell_type": "markdown",
      "source": [
        "25.  Write a Python script to perform a Z-test for comparing proportions between two datasets or groups?\n"
      ],
      "metadata": {
        "id": "qpG1gv8QFyuR"
      }
    },
    {
      "cell_type": "code",
      "source": [
        "import numpy as np\n",
        "import scipy.stats as stats\n",
        "\n",
        "def z_test_for_proportions(successes_1, sample_size_1, successes_2, sample_size_2, alpha=0.05):\n",
        "    # Step 1: Calculate sample proportions\n",
        "    p1 = successes_1 / sample_size_1\n",
        "    p2 = successes_2 / sample_size_2\n",
        "\n",
        "    # Step 2: Calculate pooled proportion\n",
        "    pooled_proportion = (successes_1 + successes_2) / (sample_size_1 + sample_size_2)\n",
        "\n",
        "    # Step 3: Calculate the standard error\n",
        "    standard_error = np.sqrt(pooled_proportion * (1 - pooled_proportion) * (1 / sample_size_1 + 1 / sample_size_2))\n",
        "\n",
        "    # Step 4: Calculate the Z-statistic\n",
        "    z_statistic = (p1 - p2) / standard_error\n",
        "\n",
        "    # Step 5: Calculate the p-value\n",
        "    p_value = 2 * (1 - stats.norm.cdf(abs(z_statistic)))  # Two-tailed test\n",
        "\n",
        "    # Step 6: Interpret the result\n",
        "    print(f\"Z-statistic: {z_statistic:.4f}\")\n",
        "    print(f\"P-value: {p_value:.4f}\")\n",
        "\n",
        "    if p_value < alpha:\n",
        "        print(\"Reject the null hypothesis: The proportions are significantly different.\")\n",
        "    else:\n",
        "        print(\"Fail to reject the null hypothesis: The proportions are not significantly different.\")\n",
        "\n",
        "# Example Data\n",
        "successes_1 = 60  # Number of successes in group 1\n",
        "sample_size_1 = 100  # Sample size of group 1\n",
        "\n",
        "successes_2 = 50  # Number of successes in group 2\n",
        "sample_size_2 = 120  # Sample size of group 2\n",
        "\n",
        "# Perform Z-test for proportions\n",
        "z_test_for_proportions(successes_1, sample_size_1, successes_2, sample_size_2)\n"
      ],
      "metadata": {
        "id": "3qydyvdDF6CG"
      },
      "execution_count": null,
      "outputs": []
    },
    {
      "cell_type": "markdown",
      "source": [
        "26. Implement an F-test for comparing the variances of two datasets, then interpret and visualize the results?\n"
      ],
      "metadata": {
        "id": "Hbh8Se7RGIs5"
      }
    },
    {
      "cell_type": "code",
      "source": [
        "import numpy as np\n",
        "import scipy.stats as stats\n",
        "import matplotlib.pyplot as plt\n",
        "\n",
        "# Step 1: Simulate two datasets (group 1 and group 2)\n",
        "np.random.seed(42)  # For reproducibility\n",
        "group_1 = np.random.normal(loc=50, scale=10, size=100)  # Mean=50, std=10, sample size=100\n",
        "group_2 = np.random.normal(loc=50, scale=15, size=100)  # Mean=50, std=15, sample size=100\n",
        "\n",
        "# Step 2: Calculate sample variances\n",
        "var_1 = np.var(group_1, ddof=1)  # Sample variance of group 1\n",
        "var_2 = np.var(group_2, ddof=1)  # Sample variance of group 2\n",
        "\n",
        "# Step 3: Calculate the F-statistic\n",
        "f_statistic = var_1 / var_2 if var_1 >= var_2 else var_2 / var_1  # F-statistic is always the ratio of larger variance to smaller variance\n",
        "\n",
        "# Step 4: Degrees of freedom\n",
        "df_1 = len(group_1) - 1  # Degrees of freedom for group 1\n",
        "df_2 = len(group_2) - 1  # Degrees of freedom for group 2\n",
        "\n",
        "# Step 5: Calculate the p-value for the F-statistic\n",
        "p_value = 2 * min(stats.f.cdf(f_statistic, df_1, df_2), 1 - stats.f.cdf(f_statistic, df_1, df_2))\n",
        "\n",
        "# Step 6: Define significance level (alpha)\n",
        "alpha = 0.05\n",
        "\n",
        "# Step 7: Visualization of the F-distribution\n",
        "x = np.linspace(0, 5, 500)\n",
        "y = stats.f.pdf(x, df_1, df_2)\n",
        "\n",
        "plt.plot(x, y, label=f'F-distribution (df1={df_1}, df2={df_2})')\n",
        "plt.fill_between(x, y, where=(x >= f_statistic), color='red', alpha=0.5, label='Critical region')\n",
        "\n",
        "# Mark the F-statistic\n",
        "plt.axvline(f_statistic, color='orange', linestyle='--', label=f'F-statistic = {f_statistic:.2f}')\n",
        "\n",
        "plt.title(\"F-distribution and the F-statistic\")\n",
        "plt.xlabel(\"F-statistic\")\n",
        "plt.ylabel(\"Density\")\n",
        "plt.legend()\n",
        "plt.grid(True)\n",
        "plt.show()\n",
        "\n",
        "# Step 8: Interpretation of the results\n",
        "print(f\"F-statistic: {f_statistic:.4f}\")\n",
        "print(f\"P-value: {p_value:.4f}\")\n",
        "\n",
        "if p_value < alpha:\n",
        "    print(\"Reject the null hypothesis: The variances are significantly different.\")\n",
        "else:\n",
        "    print(\"Fail to reject the null hypothesis: The variances are not significantly different.\")\n"
      ],
      "metadata": {
        "id": "nf5WZvdkGO-3"
      },
      "execution_count": null,
      "outputs": []
    },
    {
      "cell_type": "markdown",
      "source": [
        "27.  Perform a Chi-square test for goodness of fit with simulated data and analyze the results."
      ],
      "metadata": {
        "id": "bZTiyzMUGaOS"
      }
    },
    {
      "cell_type": "code",
      "source": [
        "import numpy as np\n",
        "import scipy.stats as stats\n",
        "import matplotlib.pyplot as plt\n",
        "\n",
        "# Step 1: Simulate observed data (e.g., frequencies of categorical outcomes)\n",
        "# Suppose we have 6 categories, and we simulate the observed frequencies\n",
        "observed = np.array([15, 18, 10, 12, 22, 23])  # Simulated observed frequencies\n",
        "\n",
        "# Step 2: Define the expected frequencies (for example, we assume uniform distribution)\n",
        "expected = np.array([20, 20, 20, 20, 20, 20])  # Expected frequencies assuming a uniform distribution\n",
        "\n",
        "# Step 3: Perform the Chi-square goodness of fit test\n",
        "chi2_stat, p_value = stats.chisquare(observed, expected)\n",
        "\n",
        "# Step 4: Calculate the degrees of freedom\n",
        "df = len(observed) - 1\n",
        "\n",
        "# Step 5: Visualize the observed vs expected frequencies\n",
        "categories = ['A', 'B', 'C', 'D', 'E', 'F']\n",
        "x = np.arange(len(categories))\n",
        "\n",
        "plt.bar(x - 0.2, observed, 0.4, label=\"Observed\", color='blue')\n",
        "plt.bar(x + 0.2, expected, 0.4, label=\"Expected\", color='orange')\n",
        "\n",
        "plt.xticks(x, categories)\n",
        "plt.xlabel('Categories')\n",
        "plt.ylabel('Frequency')\n",
        "plt.title('Observed vs Expected Frequencies')\n",
        "plt.legend()\n",
        "plt.show()\n",
        "\n",
        "# Step 6: Interpretation of results\n",
        "print(f\"Chi-square Statistic: {chi2_stat:.4f}\")\n",
        "print(f\"P-value: {p_value:.4f}\")\n",
        "print(f\"Degrees of Freedom: {df}\")\n",
        "\n",
        "# Step 7: Decision based on the p-value\n",
        "alpha = 0.05  # Significance level\n",
        "\n",
        "if p_value < alpha:\n",
        "    print(\"Reject the null hypothesis: The observed frequencies do not match the expected distribution.\")\n",
        "else:\n",
        "    print(\"Fail to reject the null hypothesis: The observed frequencies match the expected distribution.\")\n"
      ],
      "metadata": {
        "id": "5SkZ7ZkBGqRp"
      },
      "execution_count": null,
      "outputs": []
    },
    {
      "cell_type": "markdown",
      "source": [],
      "metadata": {
        "id": "tCRfpPelDqY4"
      }
    },
    {
      "cell_type": "markdown",
      "source": [],
      "metadata": {
        "id": "kpcKST-GCpMQ"
      }
    },
    {
      "cell_type": "markdown",
      "source": [],
      "metadata": {
        "id": "ME60e52aCC6-"
      }
    },
    {
      "cell_type": "markdown",
      "source": [],
      "metadata": {
        "id": "62KjLUa0_l-O"
      }
    },
    {
      "cell_type": "markdown",
      "source": [],
      "metadata": {
        "id": "ERSu-LOe_bk6"
      }
    },
    {
      "cell_type": "markdown",
      "source": [],
      "metadata": {
        "id": "TcArCTnH9rni"
      }
    },
    {
      "cell_type": "markdown",
      "source": [],
      "metadata": {
        "id": "PoshTYrb9S3U"
      }
    }
  ]
}