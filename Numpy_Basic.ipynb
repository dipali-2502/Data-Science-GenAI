{
  "nbformat": 4,
  "nbformat_minor": 0,
  "metadata": {
    "colab": {
      "provenance": []
    },
    "kernelspec": {
      "name": "python3",
      "display_name": "Python 3"
    },
    "language_info": {
      "name": "python"
    }
  },
  "cells": [
    {
      "cell_type": "markdown",
      "source": [
        "Yes, there is a difference in the data types of the variables list_ and array_list.\n",
        "\n",
        "list_ is a Python list that contains string elements.\n",
        "\n",
        "array_list is a NumPy array created from that list. Even though the elements are the same, the type of container (list vs. array) is different, and so are their data types."
      ],
      "metadata": {
        "id": "BARRcP8OTHg-"
      }
    },
    {
      "cell_type": "code",
      "source": [
        "import numpy as np\n",
        "\n",
        "list_ = ['1', '2', '3', '4', '5']  # Corrected quotation marks\n",
        "array_list = np.array(object=list_)\n",
        "\n",
        "# Print data types\n",
        "print(\"Data type of list_:\", type(list_))\n",
        "print(\"Data type of array_list:\", type(array_list))\n",
        "\n",
        "# To check the data type of elements in the NumPy array\n",
        "print(\"Data type of elements in array_list:\", array_list.dtype)\n"
      ],
      "metadata": {
        "colab": {
          "base_uri": "https://localhost:8080/"
        },
        "id": "_cq0ZdIITVr6",
        "outputId": "8ce709f6-9fdd-4653-e5f8-a8375594b1f8"
      },
      "execution_count": 1,
      "outputs": [
        {
          "output_type": "stream",
          "name": "stdout",
          "text": [
            "Data type of list_: <class 'list'>\n",
            "Data type of array_list: <class 'numpy.ndarray'>\n",
            "Data type of elements in array_list: <U1\n"
          ]
        }
      ]
    },
    {
      "cell_type": "markdown",
      "source": [
        "Q2. Write a code to print the data type of each and every element of both the variables list_ and\n",
        "arra_list."
      ],
      "metadata": {
        "id": "hZEfx2a8TZz-"
      }
    },
    {
      "cell_type": "code",
      "source": [
        "import numpy as np\n",
        "\n",
        "list_ = ['1', '2', '3', '4', '5']  # Corrected quotes\n",
        "array_list = np.array(object=list_)\n",
        "\n",
        "# Print data types of each element in list_\n",
        "print(\"Data types of elements in list_:\")\n",
        "for item in list_:\n",
        "    print(f\"{item} -> {type(item)}\")\n",
        "\n",
        "# Print data types of each element in array_list\n",
        "print(\"\\nData types of elements in array_list:\")\n",
        "for item in array_list:\n",
        "    print(f\"{item} -> {type(item)}\")\n"
      ],
      "metadata": {
        "colab": {
          "base_uri": "https://localhost:8080/"
        },
        "id": "pOxCnDe4Tl3R",
        "outputId": "fb14eaeb-0766-491d-f8c7-ef391a3b30fb"
      },
      "execution_count": 2,
      "outputs": [
        {
          "output_type": "stream",
          "name": "stdout",
          "text": [
            "Data types of elements in list_:\n",
            "1 -> <class 'str'>\n",
            "2 -> <class 'str'>\n",
            "3 -> <class 'str'>\n",
            "4 -> <class 'str'>\n",
            "5 -> <class 'str'>\n",
            "\n",
            "Data types of elements in array_list:\n",
            "1 -> <class 'numpy.str_'>\n",
            "2 -> <class 'numpy.str_'>\n",
            "3 -> <class 'numpy.str_'>\n",
            "4 -> <class 'numpy.str_'>\n",
            "5 -> <class 'numpy.str_'>\n"
          ]
        }
      ]
    },
    {
      "cell_type": "markdown",
      "source": [
        "Q3. Considering the following changes in the variable, array_list:\n",
        "array_list = np.array(object = list_, dtype = int)\n",
        "Will there be any difference in the data type of the elements present in both the variables, list_ and\n",
        "arra_list? If so then print the data types of each and every element present in both the variables, list_\n",
        "and arra_list.\n",
        "Consider the below code to answer further questions:\n",
        "import numpy as np\n",
        "num_list = [ [ 1 , 2 , 3 ] , [ 4 , 5 , 6 ] ]\n",
        "num_array = np.array(object = num_list)\n",
        "\n",
        "\n",
        "\n",
        "\n",
        "ans. Yes, there will be a difference in the data types of the elements present in list_ and array_list after converting the elements in array_list to integers using:\n",
        "\n"
      ],
      "metadata": {
        "id": "WKAuUxXzT7Kp"
      }
    },
    {
      "cell_type": "code",
      "source": [
        "import numpy as np\n",
        "\n",
        "# Original list with string elements\n",
        "list_ = ['1', '2', '3', '4', '5']\n",
        "\n",
        "# NumPy array with integer dtype\n",
        "array_list = np.array(object=list_, dtype=int)\n",
        "\n",
        "# Print data types of each element in list_\n",
        "print(\"Data types of elements in list_:\")\n",
        "for item in list_:\n",
        "    print(f\"{item} -> {type(item)}\")\n",
        "\n",
        "# Print data types of each element in array_list\n",
        "print(\"\\nData types of elements in array_list:\")\n",
        "for item in array_list:\n",
        "    print(f\"{item} -> {type(item)}\")\n"
      ],
      "metadata": {
        "colab": {
          "base_uri": "https://localhost:8080/"
        },
        "id": "dI5qhPbsUIWp",
        "outputId": "12ddd615-4af0-43de-c503-c952264f26d9"
      },
      "execution_count": 3,
      "outputs": [
        {
          "output_type": "stream",
          "name": "stdout",
          "text": [
            "Data types of elements in list_:\n",
            "1 -> <class 'str'>\n",
            "2 -> <class 'str'>\n",
            "3 -> <class 'str'>\n",
            "4 -> <class 'str'>\n",
            "5 -> <class 'str'>\n",
            "\n",
            "Data types of elements in array_list:\n",
            "1 -> <class 'numpy.int64'>\n",
            "2 -> <class 'numpy.int64'>\n",
            "3 -> <class 'numpy.int64'>\n",
            "4 -> <class 'numpy.int64'>\n",
            "5 -> <class 'numpy.int64'>\n"
          ]
        }
      ]
    },
    {
      "cell_type": "markdown",
      "source": [
        "Q4. Write a code to find the following characteristics of variable, num_array:\n",
        "(i) shape\n",
        "(ii) size"
      ],
      "metadata": {
        "id": "NyoSXdZMUMzk"
      }
    },
    {
      "cell_type": "code",
      "source": [
        "import numpy as np\n",
        "\n",
        "# Define the nested list and convert it to a NumPy array\n",
        "num_list = [[1, 2, 3], [4, 5, 6]]\n",
        "num_array = np.array(object=num_list)\n",
        "\n",
        "# Print shape and size\n",
        "print(\"Shape of num_array:\", num_array.shape)\n",
        "print(\"Size of num_array:\", num_array.size)\n"
      ],
      "metadata": {
        "colab": {
          "base_uri": "https://localhost:8080/"
        },
        "id": "aKZX-2QeUp6_",
        "outputId": "d4159483-ec80-4be9-dc1f-70ce6c644ded"
      },
      "execution_count": 4,
      "outputs": [
        {
          "output_type": "stream",
          "name": "stdout",
          "text": [
            "Shape of num_array: (2, 3)\n",
            "Size of num_array: 6\n"
          ]
        }
      ]
    },
    {
      "cell_type": "markdown",
      "source": [
        "Q5. Write a code to create numpy array of 3*3 matrix containing zeros only, using a numpy array\n",
        "creation function.\n",
        "[Hint: The size of the array will be 9 and the shape will be (3,3).]"
      ],
      "metadata": {
        "id": "pnZm-3bcU7PM"
      }
    },
    {
      "cell_type": "code",
      "source": [
        "import numpy as np\n",
        "\n",
        "# Create a 3x3 matrix of zeros\n",
        "zero_matrix = np.zeros((3, 3))\n",
        "\n",
        "# Print the array\n",
        "print(\"3x3 Zero Matrix:\")\n",
        "print(zero_matrix)\n"
      ],
      "metadata": {
        "colab": {
          "base_uri": "https://localhost:8080/"
        },
        "id": "bsV8zCPiU5qN",
        "outputId": "59b767ec-31f9-4fe4-ab7f-8eeaf0822f4b"
      },
      "execution_count": 5,
      "outputs": [
        {
          "output_type": "stream",
          "name": "stdout",
          "text": [
            "3x3 Zero Matrix:\n",
            "[[0. 0. 0.]\n",
            " [0. 0. 0.]\n",
            " [0. 0. 0.]]\n"
          ]
        }
      ]
    },
    {
      "cell_type": "markdown",
      "source": [
        "Q6. Create an identity matrix of shape (5,5) using numpy functions?\n",
        "[Hint: An identity matrix is a matrix containing 1 diagonally and other elements will be 0.]"
      ],
      "metadata": {
        "id": "Up8Cb0FrVLOX"
      }
    },
    {
      "cell_type": "code",
      "source": [
        "import numpy as np\n",
        "\n",
        "# Create a 5x5 identity matrix\n",
        "identity_matrix = np.eye(5)\n",
        "\n",
        "# Print the matrix\n",
        "print(\"5x5 Identity Matrix:\")\n",
        "print(identity_matrix)\n"
      ],
      "metadata": {
        "id": "_RGOly-nVRWO"
      },
      "execution_count": null,
      "outputs": []
    }
  ]
}