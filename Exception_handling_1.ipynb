{
  "nbformat": 4,
  "nbformat_minor": 0,
  "metadata": {
    "colab": {
      "provenance": []
    },
    "kernelspec": {
      "name": "python3",
      "display_name": "Python 3"
    },
    "language_info": {
      "name": "python"
    }
  },
  "cells": [
    {
      "cell_type": "markdown",
      "source": [
        "Q1. What is an Exception in python? Write the difference between Exceptions and Syntax errors.\n",
        "\n",
        "ans. An Exception in Python is an event that occurs during the execution of a program that disrupts the normal flow of instructions. It usually happens when the program encounters an error that it cannot handle, such as dividing by zero, accessing an invalid index in a list, or trying to open a non-existent file.\n",
        "\n",
        "When such an error occurs, Python creates an Exception object. If the program does not handle it using a try-except block, the program will terminate and display a traceback error message.\n",
        "\n",
        "exaple:\n",
        "\n"
      ],
      "metadata": {
        "id": "xLKZoja-M2BW"
      }
    },
    {
      "cell_type": "code",
      "source": [
        "try:\n",
        "    result = 10 / 0\n",
        "except ZeroDivisionError:\n",
        "    print(\"You can't divide by zero!\")\n"
      ],
      "metadata": {
        "colab": {
          "base_uri": "https://localhost:8080/"
        },
        "id": "pBgW5Zu_Nrwe",
        "outputId": "84333935-2d69-4b8c-a60e-2bfef8d13b6e"
      },
      "execution_count": 1,
      "outputs": [
        {
          "output_type": "stream",
          "name": "stdout",
          "text": [
            "You can't divide by zero!\n"
          ]
        }
      ]
    },
    {
      "cell_type": "markdown",
      "source": [
        "Q2. What happens when an exception is not handled? Explain with an example.\n",
        "\n",
        "ans. When an exception is not handled in Python (i.e., there is no try-except block to catch it), the program stops executing immediately at the point where the exception occurs. Python then prints an error message (traceback) to the console, which shows the type of exception, the line number where it occurred, and a call stack.\n",
        "\n",
        "example:\n",
        "\n"
      ],
      "metadata": {
        "id": "-6h2GE_BNv2q"
      }
    },
    {
      "cell_type": "code",
      "source": [
        "num1 = 10\n",
        "num2 = 0\n",
        "\n",
        "result = num1 / num2  # This will raise ZeroDivisionError\n",
        "print(\"This line will not execute.\")\n"
      ],
      "metadata": {
        "id": "kfXdGienOCmi"
      },
      "execution_count": null,
      "outputs": []
    },
    {
      "cell_type": "markdown",
      "source": [
        "Q3. Which Python statements are used to catch and handle exceptions? Explain with an example.\n",
        "\n",
        "ans. Python uses the try and except statements to catch and handle exceptions. These statements allow you to gracefully handle errors without crashing the program.\n",
        "\n",
        "example;"
      ],
      "metadata": {
        "id": "bF727tPOOK_F"
      }
    },
    {
      "cell_type": "code",
      "source": [
        "try:\n",
        "    num = int(input(\"Enter a number: \"))\n",
        "    result = 10 / num\n",
        "    print(\"Result:\", result)\n",
        "except ZeroDivisionError:\n",
        "    print(\" You cannot divide by zero.\")\n",
        "except ValueError:\n",
        "    print(\" Invalid input. Please enter a valid number.\")\n",
        "except KeyboardInterrupt:\n",
        "    print(\"\\n Program interrupted by user (KeyboardInterrupt).\")\n",
        "finally:\n",
        "    print(\" Program completed.\")\n"
      ],
      "metadata": {
        "colab": {
          "base_uri": "https://localhost:8080/"
        },
        "id": "g5ioYrIrO1Q2",
        "outputId": "0a2d7ff0-655f-4024-fec1-9d6b7a9b22f9"
      },
      "execution_count": 6,
      "outputs": [
        {
          "output_type": "stream",
          "name": "stdout",
          "text": [
            "\n",
            "❌ Program interrupted by user (KeyboardInterrupt).\n",
            "✅ Program completed.\n"
          ]
        }
      ]
    },
    {
      "cell_type": "markdown",
      "source": [
        "Q4. Explain with an example:\n",
        "\n",
        "a.try and else\n",
        "\n",
        "b.finall\n",
        "\n",
        "c.raise\n",
        "\n",
        "\n",
        "ans. Python provides structured exception handling using try, except, else, finally, and raise.\n",
        "\n",
        "example:"
      ],
      "metadata": {
        "id": "st_q5CRCPGrr"
      }
    },
    {
      "cell_type": "code",
      "source": [
        "try:\n",
        "    num = int(input(\"Enter a number: \"))\n",
        "    result = 10 / num\n",
        "except ZeroDivisionError:\n",
        "    print(\"You cannot divide by zero.\")\n",
        "else:\n",
        "    print(\"Division successful! Result =\", result)\n"
      ],
      "metadata": {
        "id": "61LLj1pKPqOO"
      },
      "execution_count": null,
      "outputs": []
    },
    {
      "cell_type": "markdown",
      "source": [
        "Q5. What are Custom Exceptions in python? Why do we need Custom Exceptions? Explain with an example.\n",
        "\n",
        "\n",
        "ans. Custom Exceptions in Python are user-defined exceptions that allow you to create your own meaningful error types for specific situations in your program. They are subclasses of the built-in Exception class.\n",
        "\n",
        "#Why Do We Need Custom Exceptions?\n",
        "To provide clear, specific error messages.\n",
        "\n",
        "To make your code more readable and maintainable.\n",
        "\n",
        "To handle application-specific conditions (e.g., InvalidPassword, NegativeBalance).\n",
        "\n",
        "To follow good coding practices in large or complex systems\n",
        "\n",
        "example:\n"
      ],
      "metadata": {
        "id": "wnoB4C5oPv6k"
      }
    },
    {
      "cell_type": "code",
      "source": [
        "# Step 1: Define the custom exception\n",
        "class NegativeAgeError(Exception):\n",
        "    def __init__(self, message=\"Age cannot be negative.\"):\n",
        "        self.message = message\n",
        "        super().__init__(self.message)\n",
        "\n",
        "# Step 2: Use it in a program\n",
        "def validate_age(age):\n",
        "    if age < 0:\n",
        "        raise NegativeAgeError  # Raise the custom exception\n",
        "    else:\n",
        "        print(\"Valid age:\", age)\n",
        "\n",
        "# Step 3: Handle it using try-except\n",
        "try:\n",
        "    user_age = int(input(\"Enter your age: \"))\n",
        "    validate_age(user_age)\n",
        "except NegativeAgeError as e:\n",
        "    print(\"Custom Exception Caught:\", e)\n",
        "except ValueError:\n",
        "    print(\"Invalid input. Please enter a number.\")\n"
      ],
      "metadata": {
        "id": "NRMjZYKxQH_J"
      },
      "execution_count": null,
      "outputs": []
    },
    {
      "cell_type": "markdown",
      "source": [
        "Q6. Create a custom exception class. Use this class to handle an exception.\n",
        "\n",
        "\n"
      ],
      "metadata": {
        "id": "FEPd9uVAQKp_"
      }
    },
    {
      "cell_type": "code",
      "source": [
        "# Custom Exception Class\n",
        "class InvalidMarksError(Exception):\n",
        "    \"\"\"Custom exception for invalid marks (should be between 0 and 100).\"\"\"\n",
        "    def __init__(self, message=\"Marks must be between 0 and 100.\"):\n",
        "        self.message = message\n",
        "        super().__init__(self.message)\n",
        "\n",
        "# Function that uses the custom exception\n",
        "def enter_marks(marks):\n",
        "    if marks < 0 or marks > 100:\n",
        "        raise InvalidMarksError  # Raise custom exception\n",
        "    else:\n",
        "        print(\"Marks entered successfully:\", marks)\n",
        "\n",
        "# Main Program\n",
        "try:\n",
        "    score = int(input(\"Enter your marks (0-100): \"))\n",
        "    enter_marks(score)\n",
        "except InvalidMarksError as e:\n",
        "    print(\"Custom Exception Caught:\", e)\n",
        "except ValueError:\n",
        "    print(\"Invalid input. Please enter a numeric value.\")\n",
        "finally:\n",
        "    print(\"Program ended.\")\n"
      ],
      "metadata": {
        "id": "t3QddNUrQo_D"
      },
      "execution_count": null,
      "outputs": []
    },
    {
      "cell_type": "markdown",
      "source": [],
      "metadata": {
        "id": "dKG8c43HPsUy"
      }
    },
    {
      "cell_type": "markdown",
      "source": [],
      "metadata": {
        "id": "kpnmg9I3PEYE"
      }
    },
    {
      "cell_type": "markdown",
      "source": [],
      "metadata": {
        "id": "fqF9OX5xOubI"
      }
    }
  ]
}