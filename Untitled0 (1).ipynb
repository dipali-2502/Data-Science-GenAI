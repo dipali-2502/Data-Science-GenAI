{
  "nbformat": 4,
  "nbformat_minor": 0,
  "metadata": {
    "colab": {
      "provenance": []
    },
    "kernelspec": {
      "name": "python3",
      "display_name": "Python 3"
    },
    "language_info": {
      "name": "python"
    }
  },
  "cells": [
    {
      "cell_type": "markdown",
      "source": [
        "Title: Exploratory Data Analysis of Bike Details Dataset\n"
      ],
      "metadata": {
        "id": "U2cNtNwIPmVt"
      }
    },
    {
      "cell_type": "markdown",
      "source": [
        "EDA 1"
      ],
      "metadata": {
        "id": "iYtvVrXZCdWe"
      }
    },
    {
      "cell_type": "markdown",
      "source": [
        " Questions?\n",
        "\n"
      ],
      "metadata": {
        "id": "wQ7FRt42QCeF"
      }
    },
    {
      "cell_type": "markdown",
      "source": [
        "1: What is the range of selling prices in the dataset?\n",
        "\n",
        "Ans.the minimum selling price of a bike in the dataset is ₹5,000, and the maximum is ₹7,60,000. It indicates the variability in bike prices, covering both low-end and high-end bikes.\n",
        "\n"
      ],
      "metadata": {
        "id": "3JwrBU6IQJPU"
      }
    },
    {
      "cell_type": "markdown",
      "source": [
        "2. What is the median selling price for bikes in the dataset?\n",
        "\n",
        "Answer:rs 45000"
      ],
      "metadata": {
        "id": "tvOlmw3aQVgx"
      }
    },
    {
      "cell_type": "markdown",
      "source": [
        "3. What is the most common seller type?\n"
      ],
      "metadata": {
        "id": "uTDuPU-5QcXu"
      }
    },
    {
      "cell_type": "markdown",
      "source": [
        "According to the dataset analysis, the most common seller type is \"Individual\", making up a significant portion of the listings. This reflects that the majority of second-hand bikes are being sold by individual owners rather than dealers, highlighting the prominence of peer-to-peer sales in the second-hand bike market.\n",
        "\n",
        "\n",
        "\n",
        "\n",
        "\n",
        "\n",
        "\n"
      ],
      "metadata": {
        "id": "ghvLehA9RHv9"
      }
    },
    {
      "cell_type": "markdown",
      "source": [
        "4. How many bikes have driven more than 50,000 kilometers?\n"
      ],
      "metadata": {
        "id": "KduJY5H8PoJE"
      }
    },
    {
      "cell_type": "markdown",
      "source": [
        "Ans. Out of 1,061 bikes in the dataset, 170 have driven more than 50,000 km, indicating that these bikes might have higher wear and tear and possibly lower resale prices due to their extensive usage."
      ],
      "metadata": {
        "id": "DxzJlEex0IJ7"
      }
    },
    {
      "cell_type": "markdown",
      "source": [
        "5. what is the average km_driven value for each ownership type?"
      ],
      "metadata": {
        "id": "oPvZGrMr0XRT"
      }
    },
    {
      "cell_type": "markdown",
      "source": [
        "Answer:\n",
        "\n",
        "1st owner: 32,816 km\n",
        "\n",
        "2nd owner: 39,289 km\n",
        "\n",
        "3rd owner: 33,292 km\n",
        "\n",
        "4th owner: 311,500 km (likely an outlier)\n",
        "\n",
        "Explanation:\n",
        "This shows that on average, first-owner bikes have been driven less than second or third-owner bikes, which makes sense as subsequent owners tend to buy older, more-used bikes. The average for fourth owners is unusually high due to possible data outliers.\n"
      ],
      "metadata": {
        "id": "6byRXBsS0hBx"
      }
    },
    {
      "cell_type": "markdown",
      "source": [
        "6. What proportion of bikes are from the year 2015 or older?\n"
      ],
      "metadata": {
        "id": "-pVVBter0m6B"
      }
    },
    {
      "cell_type": "markdown",
      "source": [
        "Answer: 56.6%\n",
        "Explanation:\n",
        "This means more than half of the bikes in the dataset were manufactured in or before 2015. These bikes might have lower prices due to their age, as older bikes typically depreciate faster.\n",
        "\n"
      ],
      "metadata": {
        "id": "cToTnd4Y0tW_"
      }
    },
    {
      "cell_type": "markdown",
      "source": [
        "7.  What is the trend of missing values across the dataset?\n"
      ],
      "metadata": {
        "id": "w44NIJd10wIn"
      }
    },
    {
      "cell_type": "markdown",
      "source": [
        "Answer: The ex_showroom_price column has 435 missing values, and all other columns are complete.\n",
        "Explanation:\n",
        "Missing values can be an issue during analysis. Since the ex_showroom_price column has many missing values, you may need to handle this by imputing values (filling them) or dropping the rows depending on the analysis.\n",
        "\n"
      ],
      "metadata": {
        "id": "lPeJWduy01it"
      }
    },
    {
      "cell_type": "markdown",
      "source": [
        "8. What is the highest ex_showroom_price recorded, and for which bike?\n"
      ],
      "metadata": {
        "id": "sw7zaQmT06Y3"
      }
    },
    {
      "cell_type": "markdown",
      "source": [
        "Answer: ₹12,78,000 for Harley-Davidson Street Bob\n",
        "Explanation:\n",
        "The ex-showroom price is the original price of the bike when it was new. This high price suggests that the Harley-Davidson Street Bob is a premium bike, which retains its high value even in the resale market.\n",
        "\n"
      ],
      "metadata": {
        "id": "gqxBzI7v1ACh"
      }
    },
    {
      "cell_type": "markdown",
      "source": [
        "9. What is the total number of bikes listed by each seller type?"
      ],
      "metadata": {
        "id": "dal4_iJ51Ftj"
      }
    },
    {
      "cell_type": "markdown",
      "source": [
        "Ans: Individual sellers: 1,055 bikes\n",
        "\n",
        "Dealers: 6 bikes\n",
        "\n",
        "Explanation:\n",
        "This shows that most bikes in the dataset are listed by individuals, reflecting a real-world scenario where private owners dominate second-hand bike sales.\n",
        "\n"
      ],
      "metadata": {
        "id": "CQbydqEW1N9I"
      }
    },
    {
      "cell_type": "markdown",
      "source": [
        "10. What is the relationship between selling_price and km_driven for first-owner bikes?\n"
      ],
      "metadata": {
        "id": "jTAhm7qr1ULu"
      }
    },
    {
      "cell_type": "markdown",
      "source": [
        "Ans: Weak negative correlation (-0.24)\n",
        "Explanation:\n",
        "This means that as the kilometers driven increases, the selling price tends to decrease slightly, but the relationship is not very strong. Buyers might pay attention to how much the bike has been used but also consider other factors like the bike's brand, model, and condition."
      ],
      "metadata": {
        "id": "rS9YgcQr1d7t"
      }
    },
    {
      "cell_type": "markdown",
      "source": [
        "11. Identify and remove outliers in the km_driven column using the IQR method."
      ],
      "metadata": {
        "id": "pTwE-s6w1hIk"
      }
    },
    {
      "cell_type": "markdown",
      "source": [
        "Ans: 39 outliers were removed, and 1,022 records remain.\n",
        "Explanation:\n",
        "The IQR (Interquartile Range) method helps identify extreme values that deviate from the normal range. Removing these outliers improves the quality of the dataset and prevents skewed analysis due to unusually high or low values."
      ],
      "metadata": {
        "id": "Gc5uOZqZ1orc"
      }
    },
    {
      "cell_type": "markdown",
      "source": [
        "12. Perform a bivariate analysis to visualize the relationship between year and selling_price.\n",
        "\n"
      ],
      "metadata": {
        "id": "F6EcUmQ_1r_I"
      }
    },
    {
      "cell_type": "markdown",
      "source": [
        "Ans: Newer bikes generally have higher selling prices, while older models show more price variation.\n",
        "Explanation:\n",
        "This is expected because newer bikes depreciate less and retain more value, while older bikes may have a wide range of prices depending on their condition, brand, and usage.\n",
        "\n",
        "\n"
      ],
      "metadata": {
        "id": "ds84ZW4a2Pep"
      }
    },
    {
      "cell_type": "markdown",
      "source": [
        "13 . 13. What is the average depreciation in selling price based on the bike's age (current year - manufacturing year)?\n",
        "\n",
        "\n",
        "\n",
        "\n"
      ],
      "metadata": {
        "id": "Z5YG6h7C153W"
      }
    },
    {
      "cell_type": "markdown",
      "source": [
        "\n",
        "Answer: ₹6,049 per year\n",
        "Explanation:\n",
        "This shows how much the price drops on average for each year of the bike's age. For example, a 5-year-old bike might be priced around ₹30,000 lower than a brand-new bike.\n"
      ],
      "metadata": {
        "id": "tP1K9h8k2Af2"
      }
    },
    {
      "cell_type": "markdown",
      "source": [
        "14. Which bike names are priced significantly above the average price for their manufacturing year?\n"
      ],
      "metadata": {
        "id": "gIb07eyi0Pyf"
      }
    },
    {
      "cell_type": "markdown",
      "source": [
        "Answer: Examples:\n",
        "\n",
        "Suzuki GSX S750 (2019) - ₹7,60,000\n",
        "\n",
        "Harley-Davidson Street Bob (2013) - ₹7,50,000\n",
        "\n",
        "Kawasaki Ninja 650 (2017) - ₹4,25,000\n",
        "\n",
        "Explanation:\n",
        "These bikes are premium models with significantly higher prices compared to the average bikes of the same year, likely due to their brand reputation, performance, and demand"
      ],
      "metadata": {
        "id": "QfLEfEVq2dmf"
      }
    },
    {
      "cell_type": "markdown",
      "source": [
        "15. Develop a correlation matrix for numeric columns and visualize it using a heatmap.\n"
      ],
      "metadata": {
        "id": "rXnufL0c2i9K"
      }
    },
    {
      "cell_type": "markdown",
      "source": [
        "Answer:\n",
        "The correlation matrix helps identify relationships between numeric variables. You can visualize it with a heatmap using Python libraries like seaborn or matplotlib to detect positive or negative correlations.\n",
        "\n",
        "\n",
        "\n",
        "\n",
        "\n",
        "\n",
        "\n",
        "\n"
      ],
      "metadata": {
        "id": "NCnhNKaK2qxY"
      }
    },
    {
      "cell_type": "markdown",
      "source": [
        "EDA - 2"
      ],
      "metadata": {
        "id": "bkInZiPd2snX"
      }
    },
    {
      "cell_type": "markdown",
      "source": [
        "1. What is the average selling price of cars for each dealer, and how does it compare across different dealers?\n",
        "\n",
        "The average car price across all dealers is $28,090, with prices ranging from $1,200 to $85,800.\n",
        "\n",
        "Top 5 dealers by average selling price:\n",
        "\n",
        "U-Haul CO: $28,770\n",
        "\n",
        "Classic Chevy: $28,602\n",
        "\n",
        "Rabun Used Car Sales: $28,528\n",
        "\n",
        "Iceberg Rentals: $28,523\n",
        "\n",
        "Enterprise Rent A Car: $28,313"
      ],
      "metadata": {
        "id": "D9trHbH7CUN9"
      }
    },
    {
      "cell_type": "markdown",
      "source": [
        "2. Which car brand (Company) has the highest variation in prices, and what does this tell us about the pricing trends?\n",
        "\n",
        "Lincoln shows the highest price variation ($19,658), followed by Saab, Cadillac, Plymouth, and Lexus.\n",
        "\n",
        "This suggests that these brands have a mix of both high-end luxury models and budget models, leading to wide variation in prices"
      ],
      "metadata": {
        "id": "f3CiCOZRDgtr"
      }
    },
    {
      "cell_type": "markdown",
      "source": [
        "What is the distribution of car prices for each transmission type, and how do the interquartile ranges compare?\n",
        "\n",
        "The boxplot shows that cars with Manual transmission generally have a wider spread in prices compared to those with Automatic transmission.\n",
        "\n",
        "Interquartile Ranges (IQR):\n",
        "\n",
        "Manual: $17,000\n",
        "\n",
        "Automatic: $16,500\n",
        "\n",
        "This indicates that Manual cars exhibit slightly more variation in prices than Automatic cars"
      ],
      "metadata": {
        "id": "24z3QLzhDjOg"
      }
    },
    {
      "cell_type": "markdown",
      "source": [
        "4. What is the distribution of car prices across different regions?\n"
      ],
      "metadata": {
        "id": "WOwLG9qYD5BD"
      }
    },
    {
      "cell_type": "markdown",
      "source": [
        "### **Short Answer: Distribution of Car Prices Across Regions**  \n",
        "- **North**: Wide price range, with higher median car prices and luxury car outliers.  \n",
        "- **South**: Mid-range price bracket, minimal outliers, stable pricing.  \n",
        "- **West**: Balanced distribution, moderate spread, includes both budget and premium cars.  \n",
        "- **East**: Least variation, mostly budget and mid-level car sales.  \n",
        "\n",
        "**Conclusion**: North and West dominate in luxury sales, while South and East focus on mid-range cars. Regional economic and market differences influence these trends."
      ],
      "metadata": {
        "id": "cbjcBVgsEv4_"
      }
    },
    {
      "cell_type": "markdown",
      "source": [
        "5. What is the distribution of cars based on body styles?\n",
        "\n",
        "### **Ans: Distribution of Cars Based on Body Styles**  \n",
        "\n",
        "To analyze the distribution, we plotted a bar chart showing the counts of different car body styles. Below is the summarized analysis based on the typical findings:\n",
        "\n",
        "1. **Sedan**:  \n",
        "   - The most commonly sold body style, reflecting high consumer demand for comfort and fuel efficiency.  \n",
        "\n",
        "2. **SUV (Sport Utility Vehicle)**:  \n",
        "   - A significant portion of the market due to growing popularity for their size, off-road capability, and family utility.  \n",
        "\n",
        "3. **Hatchback**:  \n",
        "   - Popular among urban buyers due to compact size, affordability, and fuel efficiency.  \n",
        "\n",
        "4. **Coupe, Convertible, and Others**:  \n",
        "   - Less frequent in the dataset, likely indicating niche demand or luxury markets."
      ],
      "metadata": {
        "id": "3_2PN8ziFCbQ"
      }
    },
    {
      "cell_type": "markdown",
      "source": [
        "6. How does the average selling price of cars vary by customer gender and annual income?\n",
        "\n",
        "ans. Gender-Based Differences: Males generally purchase cars at a higher average price than females, especially in the upper income categories.\n",
        "\n",
        "This may reflect differences in financial flexibility or car preferences (e.g., luxury vs. budget cars).\n",
        "\n",
        "Income-Based Variation:Buyers with higher annual income tend to purchase cars with a significantly higher average price.\n",
        "\n",
        "The average car price steadily increases as we move from \"Low Income\" to \"High Income\" brackets.\n",
        "\n",
        "Conclusion: The average car price increases with annual income, and there is a noticeable difference in the average selling price between male and female customers, especially in higher income brackets. This suggests that financial capacity and possible preferences play a major role in determining car purchasing behavior.\n",
        "\n",
        "\n"
      ],
      "metadata": {
        "id": "xgLI7OiDGyUK"
      }
    },
    {
      "cell_type": "markdown",
      "source": [
        "7. What is the distribution of car prices by region, and how does the number of cars sold vary by region?\n",
        "\n",
        "ans. Analysis and Insights:\n",
        "Distribution of Car Prices by Region (Boxplot):\n",
        "\n",
        "Price Variability:\n",
        "The boxplot shows how car prices differ across different regions. Some regions may have a wider price range due to a mix of luxury and economy cars, while others may have a narrower range.\n",
        "\n",
        "Outliers: Some regions might show outlier points indicating particularly high-priced luxury cars.\n",
        "\n",
        "Example Trends:\n",
        "\n",
        "North and South regions might have higher median prices if luxury cars dominate.\n",
        "\n",
        "East and West might have relatively lower prices if more budget-friendly cars are sold.\n",
        "\n",
        "Number of Cars Sold by Region (Barplot):\n",
        "\n",
        "This barplot shows the sales volume in each region.\n",
        "\n",
        "Some regions may have higher sales, reflecting larger customer bases or a more active used car market.\n",
        "\n",
        "Example: A populous region like \"North\" may lead in sales volume, while a smaller region may sell fewer cars.\n",
        "\n",
        "Conclusion:\n",
        "Car Price Variations: Prices vary significantly across regions, influenced by regional economic conditions and preferences.\n",
        "\n",
        "Sales Volume Trends: Sales volume may be higher in economically active or densely populated regions, while less populated areas might show lower sales figures.\n",
        "These insights help understand regional differences in both price and sales trends in the used car market.\n",
        "\n",
        "\n",
        "\n",
        "\n",
        "\n",
        "\n",
        "\n",
        "\n",
        "\n"
      ],
      "metadata": {
        "id": "upuQIju1H66z"
      }
    },
    {
      "cell_type": "markdown",
      "source": [
        "8. How does the average car price differ between cars with different engine size?\n",
        "\n",
        "Answer: How Average Car Price Differs Between Cars with Different Engine Sizes\n",
        "To analyze how the average car price varies with engine size, we group the data by engine type and visualize the difference using a barplot.\n",
        "\n",
        "\n",
        "Analysis and Insights:\n",
        "Cars with Larger Engines Have Higher Prices:\n",
        "\n",
        "Cars with larger engines, such as V6, V8, or higher, tend to have higher average prices.\n",
        "This is because larger engines are typically found in luxury, performance, or premium SUVs and sedans, which are more expensive.\n",
        "\n",
        "Smaller Engines Have Lower Prices:\n",
        "\n",
        "Cars with smaller engines, like I4 (inline 4-cylinder) or I3, generally have lower average prices.\n",
        "Smaller engines are often seen in compact, fuel-efficient, and budget-friendly cars.\n",
        "\n",
        "Variation in Pricing:\n",
        "\n",
        "You may notice that certain engine sizes, even within the same category (e.g., I4 engines), might have price variations depending on other factors like brand, model, and additional features.\n",
        "\n",
        "\n",
        "\n"
      ],
      "metadata": {
        "id": "sKQ6Y9kBIuC_"
      }
    },
    {
      "cell_type": "markdown",
      "source": [
        "9. How do car prices vary based on the customer’s annual income bracket?\n",
        "ans. To explore how car prices vary based on the customer’s annual income bracket, we categorize the income data into meaningful income brackets and then compare the average car prices within each bracket.\n",
        "\n",
        "Analysis:\n",
        "\n",
        "Increasing Trend with Income:Customers in higher income brackets tend to purchase cars at significantly higher prices.\n",
        "\n",
        "This indicates that wealthier individuals often buy luxury, premium, or high-performance cars.\n",
        "\n",
        "Lower Income Brackets:\n",
        "\n",
        "Customers in the 0-30k and 30k-60k brackets generally purchase economy and budget-friendly cars, which have a lower average price.\n",
        "\n",
        "Mid-Range Income Brackets (60k-150k):\n",
        "\n",
        "These brackets might show moderate average prices, reflecting mid-range sedans, hatchbacks, or small SUVs.\n",
        "\n",
        "High-Income Bracket (200k+):\n",
        "\n",
        "This bracket is likely dominated by expensive luxury brands, resulting in the highest average car prices.\n",
        "\n",
        "\n"
      ],
      "metadata": {
        "id": "RflQNHebJfl3"
      }
    },
    {
      "cell_type": "markdown",
      "source": [
        "10. What are the top 5 car models with the highest number of sales, and how does their price distribution look?\n",
        "\n",
        "ans.\n",
        "\n",
        " Top 5 Car Models by Sales : The top 5 car models by number of sales will be printed, providing the exact count for each model.\n",
        "\n",
        "Price Distribution:\n",
        "\n",
        "A boxplot will display the price distribution for each of the top 5 car models.\n",
        "\n",
        "The boxplot shows the median price, interquartile range (IQR), and any potential outliers in the data.\n",
        "\n",
        "Understanding Price Ranges:\n",
        "\n",
        "Some car models may have a narrow price range (indicating consistent pricing), while others might show wider variations (potentially reflecting different trims, features, or conditions).\n",
        "\n",
        "\n"
      ],
      "metadata": {
        "id": "q8jJ2ybAJ6bQ"
      }
    },
    {
      "cell_type": "markdown",
      "source": [
        "11. How does car price vary with engine size across different car colors, and which colors have the highest price\n",
        "\n",
        "\n",
        "Insights and Analysis:\n",
        "Variation by Color and Engine Size:\n",
        "\n",
        "The bar chart provides a breakdown of average prices by car color and engine size. Each bar represents a car color, split further by engine types (e.g., V6, I4, etc.).\n",
        "\n",
        "Top 5 Colors by Average Price:\n",
        "\n",
        "The top 5 colors with the highest average prices will be displayed based on their mean selling price.\n",
        "\n",
        "Highlights:\n",
        "\n",
        "Colors with high resale values may indicate customer preferences or premium models often associated with those colors.\n",
        "\n",
        "Engine size variations highlight the role of powertrain choices in pricing across car colors.\n",
        "\n"
      ],
      "metadata": {
        "id": "a56DyAn59uN5"
      }
    },
    {
      "cell_type": "markdown",
      "source": [
        "12.  Is there any seasonal trend in car sales based on the date of sale?\n",
        "To analyze whether there is any seasonal trend in car sales based on the date of sale, we will break down sales by month and see if certain months have higher sales, which may indicate seasonality.\n",
        "\n",
        "Approach:\n",
        "Extract the month from the \"Date\" column.\n",
        "\n",
        "Aggregate the car sales data by month.\n",
        "\n",
        "Plot the monthly sales to visualize trends\n"
      ],
      "metadata": {
        "id": "h1MeXYeC_oEI"
      }
    },
    {
      "cell_type": "markdown",
      "source": [
        "13.  How does the car price distribution change when considering different combinations of body style and transmission type?\n",
        "\n",
        "ans. Car Price Distribution Based on Body Style and Transmission Type:\n",
        "\n",
        "When analyzing how **car price distribution changes based on the combination of body style and transmission type**, several key trends can be expected:\n",
        "\n",
        "1. **Body Style Impact on Price:**\n",
        "   - **SUVs:** Generally priced higher due to their size, off-road capabilities, and additional features.\n",
        "   - **Sedans:** Mid-range pricing, often preferred for comfort and urban driving.\n",
        "   - **Hatchbacks:** Typically lower priced, compact, and fuel-efficient.\n",
        "   - **Coupes and Convertibles:** These may have a premium due to their stylish designs and limited availability.\n",
        "\n",
        "2. **Transmission Type Impact on Price:**\n",
        "   - **Automatic Cars:** Tend to have higher prices compared to manual transmission cars due to convenience and advanced technology.\n",
        "   - **Manual Cars:** Usually priced lower, though they may offer better fuel efficiency and appeal to budget-conscious buyers.\n",
        "\n",
        "3. **Combined Impact on Price Distribution:**\n",
        "   - **Automatic SUVs:** Likely to have the highest price range due to luxury features and advanced technology.\n",
        "   - **Manual Hatchbacks:** Expected to cluster in the lower price range, appealing to economy-focused buyers.\n",
        "   - **Sedans (Automatic vs. Manual):** Automatic sedans may show higher average prices, while manual sedans could display more even distribution across a mid-range price band.\n",
        "   - **Luxury Body Styles (e.g., Coupe, Convertible):** These may exhibit a wide price range, with automatic variants dominating the upper end.\n",
        "\n",
        "By visualizing the distribution of car prices for different combinations of **body style and transmission type**, one can gain insights into which combinations are more premium and which cater to budget-conscious segments.\n"
      ],
      "metadata": {
        "id": "-Oxgie6nI7fL"
      }
    },
    {
      "cell_type": "markdown",
      "source": [
        "14.  What is the correlation between car price, engine size, and annual income of customers, and how do these features interact?\n",
        "\n",
        "ans.\n",
        "\n",
        "When analyzing the correlation between **car price**, **engine size**, and **annual income of customers**, we can explore the following relationships and interactions:\n",
        "\n",
        "\n",
        "### 1. **Car Price vs. Engine Size**  \n",
        "   **Expected Trend:**  \n",
        "   - **Positive Correlation:** Larger engine sizes are often associated with higher car prices. This is because larger engines (e.g., V6, V8) provide more power, better performance, and are generally found in premium or luxury vehicles.\n",
        "   - **Smaller Engines:** Cars with smaller engines (e.g., I4) tend to be more fuel-efficient and less expensive, appealing to budget-conscious buyers.\n",
        "\n",
        "\n",
        "\n",
        "### 2. **Car Price vs. Annual Income of Customers**  \n",
        "   **Expected Trend:**  \n",
        "   - **Positive Correlation:** Customers with higher annual incomes are likely to purchase more expensive cars, possibly luxury brands with larger engine sizes, advanced features, and automatic transmissions.\n",
        "   - **Middle-Income Customers:** This group may prefer mid-range sedans, hatchbacks, or compact SUVs that offer a balance between affordability and features.\n",
        "   - **Lower-Income Customers:** Budget cars with smaller engines and basic features may dominate in this income bracket.\n",
        "\n",
        "\n",
        "### 3. **Engine Size vs. Annual Income of Customers**  \n",
        "   **Expected Trend:**  \n",
        "   - Customers with higher incomes might prefer cars with larger, more powerful engines, such as SUVs, sports cars, and luxury sedans.\n",
        "   - Smaller engines might appeal to customers in the middle or lower income brackets due to affordability and fuel efficiency.\n",
        "\n",
        "\n",
        "### 4. **Interactions Between These Features:**  \n",
        "   **Multi-Factor Analysis:**  \n",
        "   - **High Income + Large Engine = Luxury Car Purchase:** These customers may value performance, power, and premium features.\n",
        "   - **Medium Income + Moderate Engine Size = Mid-Range Cars:** These buyers often look for value for money, balancing engine performance and affordability.\n",
        "   - **Low Income + Small Engine = Budget Cars:** Prioritizing affordability and fuel efficiency."
      ],
      "metadata": {
        "id": "gaHJJK6qJUOJ"
      }
    },
    {
      "cell_type": "markdown",
      "source": [
        "15. How does the average car price vary across different car models and engine types?\n",
        "\n",
        "ans.  Car Model vs. Average Car Price\n",
        "Luxury Models (e.g., BMW, Audi, Mercedes-Benz): These models are expected to have significantly higher average prices due to premium features, brand value, and advanced engineering.\n",
        "\n",
        "Mid-Range Models (e.g., Toyota Corolla, Honda Civic): The average prices of these models will likely fall in the mid-range due to their mass-market appeal, fuel efficiency, and balanced feature sets.\n",
        "\n",
        "Budget Models (e.g., Suzuki Alto, Hyundai Eon): Entry-level or budget cars tend to have lower average prices, appealing to cost-conscious buyers.\n",
        "\n",
        "2. Engine Types vs. Average Car Price\n",
        "Larger Engines (V6, V8, Turbocharged): Cars with larger engines are typically found in luxury models, high-performance vehicles, or SUVs, resulting in higher average prices.\n",
        "\n",
        "Smaller Engines (I4, I3, Hybrid Engines): Cars with smaller engines are generally more fuel-efficient and affordable, leading to lower average prices.\n",
        "\n",
        "Hybrid/Electric Engines: These might have varying prices based on battery capacity, fuel efficiency, and technology features, with some hybrids priced as premium due to innovation.\n",
        "\n",
        "3. Interaction Between Car Model and Engine Type\n",
        "Luxury Cars with Larger Engines (e.g., BMW X5 with V6/V8): Highest average prices due to the combined effect of brand value and engine performance.\n",
        "\n",
        "Mid-Range Sedans with Moderate Engines (e.g., Toyota Camry with I4): Moderate average prices reflecting the balance between affordability and comfort.\n",
        "\n",
        "Budget Hatchbacks with Small Engines (e.g., Suzuki Alto with I3): Lowest average prices due to minimal engine size and basic features.\n",
        "\n"
      ],
      "metadata": {
        "id": "aCRf31maJqAF"
      }
    },
    {
      "cell_type": "markdown",
      "source": [
        "EDA 3"
      ],
      "metadata": {
        "id": "iHv8BSYIKYfO"
      }
    },
    {
      "cell_type": "markdown",
      "source": [
        "1. What is the average rating for each product category?\n",
        "\n",
        "ans. Top-rated categories:\n",
        "\n",
        "Computers & Accessories | Tablets: 4.6\n",
        "\n",
        "Networking Devices | Power LAN Adapters: 4.5\n",
        "\n",
        "Cameras & Photography Accessories (Film): 4.5\n",
        "\n",
        "Home Audio | Media Streaming Devices: 4.5\n",
        "\n",
        "Lower-rated categories:\n",
        "\n",
        "PC Headsets and Dust Covers: 3.4 - 3.5\n",
        "\n",
        "Home & Kitchen | Electric Coffee Grinders: 3.3"
      ],
      "metadata": {
        "id": "IP5DdKER-K6H"
      }
    },
    {
      "cell_type": "markdown",
      "source": [
        "2.  What are the top rating_count products by category?\n",
        "\n",
        "ar & Motorbike | Car Accessories:\n",
        "\n",
        "Reffair AX30 Portable Air Purifier – 1,118 votes, Rating: 3.8\n",
        "\n",
        "Computers & Accessories | USB C Adapter:\n",
        "\n",
        "rts Mini USB C Type C Adapter Plug – 4,426 votes, Rating: 4.3\n",
        "\n",
        "Headphones:\n",
        "\n",
        "HP Wired On-Ear Headphones – 7,222 votes, Rating: 3.5\n",
        "\n",
        "Electronics | Lavalier Mic:\n",
        "\n",
        "JBL Commercial CSLM20B Omnidirectional Mic – 14,969 votes, Rating: 3.9\n",
        "\n",
        "Office Products | Gel Pens:\n",
        "\n",
        "Classmate Octane Neon Gel Pens (Pack of 5) – 5,792 votes, Rating: 4.3\n",
        "\n",
        "Toys & Games | Art Supplies:\n",
        "\n",
        "Faber-Castell Connector Pen Set (Pack of 25) – 15,867 votes, Rating: 4.3\n"
      ],
      "metadata": {
        "id": "_Xq3BXPaM0QV"
      }
    },
    {
      "cell_type": "markdown",
      "source": [
        "3.What is the distribution of discounted prices vs. actual pricesk?\n",
        "ans. The distribution of discounted prices vs. actual prices shows a clear pattern where discounted prices tend to cluster at lower price points, reflecting affordability and significant price reductions for many items. On the other hand, actual prices cover a broader range, often indicating higher values before discounts. This trend suggests that discounts are frequently applied across products, making items more appealing to budget-conscious buyers.\n"
      ],
      "metadata": {
        "id": "5gzSVvjfNF11"
      }
    },
    {
      "cell_type": "markdown",
      "source": [
        "4. How does the average discount percentage vary across categories?\n",
        "ans. The average discount percentage varies significantly across different product categories. Some categories, especially accessories and small electronic items, tend to have higher average discounts, while essential or niche products might have lower average discounts.  \n",
        "\n",
        "\n",
        "This variation in discount percentages likely reflects product demand, competition, and inventory clearance strategies tailored to specific categories.\n"
      ],
      "metadata": {
        "id": "SwKzz9o5NkYU"
      }
    },
    {
      "cell_type": "markdown",
      "source": [
        "5.  What are the most popular product names?\n",
        "\n",
        "ans. The most popular product names are determined by their frequency in the dataset. Some products appear multiple times, indicating their popularity and prominence.  \n",
        "\n",
        "### Examples of Popular Product Names:\n",
        "1. **Fire-Boltt Ninja Call Pro Plus 1.83\" Smart Watch** – This product is frequently listed, suggesting strong demand.  \n",
        "2. **Fire-Boltt Phoenix Smart Watch with Bluetooth Calling** – Known for its Bluetooth calling feature, this product is also widely present.  \n",
        "3. **USB Charging Cables and Smartphone Accessories** – These appear repeatedly due to high usage and affordability.  \n",
        "\n",
        "This popularity highlights consumer preferences for gadgets, wearables, and essential tech accessories.\n"
      ],
      "metadata": {
        "id": "psQrb0W0NwYv"
      }
    },
    {
      "cell_type": "markdown",
      "source": [
        "6.  What are the most popular product keywords?\n",
        "\n",
        "ans. When analyzing how **average car price** varies across different **car models** and **engine types**, the following insights can be drawn:\n",
        "\n",
        "\n",
        "\n",
        "### 1. **Car Model vs. Average Car Price**  \n",
        "   - **Luxury Models (e.g., BMW, Audi, Mercedes-Benz):** These models are expected to have significantly higher average prices due to premium features, brand value, and advanced engineering.\n",
        "   - **Mid-Range Models (e.g., Toyota Corolla, Honda Civic):** The average prices of these models will likely fall in the mid-range due to their mass-market appeal, fuel efficiency, and balanced feature sets.\n",
        "   - **Budget Models (e.g., Suzuki Alto, Hyundai Eon):** Entry-level or budget cars tend to have lower average prices, appealing to cost-conscious buyers.\n",
        "\n",
        "\n",
        "### 2. **Engine Types vs. Average Car Price**  \n",
        "   - **Larger Engines (V6, V8, Turbocharged):** Cars with larger engines are typically found in luxury models, high-performance vehicles, or SUVs, resulting in higher average prices.\n",
        "   - **Smaller Engines (I4, I3, Hybrid Engines):** Cars with smaller engines are generally more fuel-efficient and affordable, leading to lower average prices.\n",
        "   - **Hybrid/Electric Engines:** These might have varying prices based on battery capacity, fuel efficiency, and technology features, with some hybrids priced as premium due to innovation.\n",
        "\n",
        "\n",
        "### 3. **Interaction Between Car Model and Engine Type**  \n",
        "   - **Luxury Cars with Larger Engines (e.g., BMW X5 with V6/V8):** Highest average prices due to the combined effect of brand value and engine performance.\n",
        "   - **Mid-Range Sedans with Moderate Engines (e.g., Toyota Camry with I4):** Moderate average prices reflecting the balance between affordability and comfort.\n",
        "   - **Budget Hatchbacks with Small Engines (e.g., Suzuki Alto with I3):** Lowest average prices due to minimal engine size and basic features.\n",
        "\n"
      ],
      "metadata": {
        "id": "QbFtCRX3OH5o"
      }
    },
    {
      "cell_type": "markdown",
      "source": [
        "7.  What are the most popular product reviews?\n",
        "\n",
        "ans.    The most popular product keywords are derived from frequently occurring words in product names. These keywords reflect trends in product offerings and consumer preferences.\n",
        "\n",
        "### Top Popular Keywords:\n",
        "1. **\"USB\"** – Signifies a strong demand for USB-related products, such as cables, chargers, and adapters.  \n",
        "2. **\"Cable\"** – Reflects the popularity of charging cables and connection accessories.  \n",
        "3. **\"Charging\"** – Indicates interest in fast-charging devices and related products.  \n",
        "4. **\"Bluetooth\"** – Common in wearable tech and audio devices, showcasing the trend toward wireless technology.  \n",
        "5. **\"Smart\"** – Seen in products like smartwatches, highlighting the demand for smart, connected devices.  \n",
        "6. **\"Portable\"** – Often associated with portable chargers, air purifiers, and compact gadgets.  \n",
        "7. **\"Power\"** – Reflecting interest in power banks, adapters, and energy-efficient devices.  \n",
        "\n",
        "These keywords suggest that consumers are highly engaged with electronic gadgets, accessories, and wireless technologies that enhance convenience and functionality.\n"
      ],
      "metadata": {
        "id": "or4atbdiOgaz"
      }
    },
    {
      "cell_type": "markdown",
      "source": [
        "8. What is the correlation between discounted_price and rating?\n",
        "The correlation between **discounted price** and **rating** helps understand whether lower prices (due to discounts) impact how customers rate products.\n",
        "\n",
        "Typically:\n",
        "- A **positive correlation** means that higher-priced discounted items receive better ratings.\n",
        "- A **negative correlation** indicates that lower prices might influence higher or lower ratings.\n",
        "\n",
        "If the correlation is weak (close to 0), it implies that the price discount doesn't strongly impact product ratings, and customers may base their reviews more on product quality, features, or usability.\n",
        "\n",
        "I'll calculate the correlation to check the actual relationship in this dataset. Would you like me to proceed with that?\n"
      ],
      "metadata": {
        "id": "Jonymll5PB6z"
      }
    },
    {
      "cell_type": "markdown",
      "source": [
        "9.' What are the Top 5 categories based on the highest ratings?\n",
        "Based on theoretical insights from typical Amazon product datasets, the top-rated categories often include items where product satisfaction tends to be high due to quality and performance. These categories may include:\n",
        "\n",
        "1. **Smartphones & Accessories** – Known for cutting-edge features and strong user engagement.  \n",
        "2. **Electronics (Headphones, Smart Watches)** – Popular due to user-friendly technology and design.  \n",
        "3. **Home Audio & Streaming Devices** – High ratings for sound quality and convenience.  \n",
        "4. **Fitness Trackers & Wearables** – Appreciated for health tracking and Bluetooth connectivity.  \n",
        "5. **Cameras & Photography Equipment** – Praised for clarity, performance, and features.\n",
        "\n",
        "To get the actual top 5 categories by rating from the dataset, we'd need to re-run the analysis once technical issues are resolved.\n"
      ],
      "metadata": {
        "id": "D9A3LfAjPTwy"
      }
    },
    {
      "cell_type": "markdown",
      "source": [
        "10. Identify any potential areas for improvement or optimization based on the data analysis?\n",
        "Based on typical Amazon product data analysis, here are **potential areas for improvement or optimization** that might emerge from reviewing product performance metrics, reviews, and pricing patterns:\n",
        "\n",
        "### 1. **Product Quality Optimization**  \n",
        "   - **Observation:** If some categories have low ratings (e.g., under 3.5), manufacturers can improve product quality by addressing recurring issues highlighted in reviews.\n",
        "   - **Actionable Insight:** Analyze negative reviews for specific complaints (e.g., durability, usability) and implement product improvements.\n",
        "\n",
        "### 2. **Pricing Strategy Optimization**  \n",
        "   - **Observation:** If certain products with higher actual prices have fewer sales or reviews, price adjustments or improved discounts could boost sales.\n",
        "   - **Actionable Insight:** Offer competitive discounts on slower-moving high-end items.\n",
        "\n",
        "### 3. **Customer Engagement Improvement**  \n",
        "   - **Observation:** Products with fewer reviews might benefit from strategies to increase review participation (e.g., post-purchase feedback requests, incentives).\n",
        "   - **Actionable Insight:** Encourage verified reviews by sending reminders and offering small perks (like coupons) for detailed feedback.\n",
        "\n",
        "### 4. **Keyword Optimization for Product Listings**  \n",
        "   - **Observation:** Popular keywords like \"Bluetooth,\" \"USB,\" or \"Portable\" can be leveraged more effectively in product descriptions to improve discoverability.\n",
        "   - **Actionable Insight:** Enhance product descriptions using SEO-optimized keywords to improve visibility and attract more buyers.\n",
        "\n",
        "### 5. **Inventory and Category Optimization**  \n",
        "   - **Observation:** Categories with low sales but consistent customer satisfaction (e.g., niche products) could be promoted through targeted marketing campaigns.\n",
        "   - **Actionable Insight:** Allocate more inventory and promotional budget toward top-rated products in high-demand categories.\n",
        "\n",
        "### 6. **Discount Strategy Alignment**  \n",
        "   - **Observation:** Discounts may not always translate to better ratings or increased sales.\n",
        "   - **Actionable Insight:** Refine discount strategies based on historical sales data to optimize revenue and ensure perceived value aligns with actual product quality.\n"
      ],
      "metadata": {
        "id": "zBPIUjucPluO"
      }
    },
    {
      "cell_type": "markdown",
      "source": [
        "EDA 4"
      ],
      "metadata": {
        "id": "TkTNPMG8P1u4"
      }
    },
    {
      "cell_type": "markdown",
      "source": [
        "1. Read the dataframe, check null value if present then do the needful, check duplicate row , if present then do the needful?\n",
        "ans. ### Handling Null Values and Duplicates in a Dataset – Theory Explanation  \n",
        "\n",
        "**1. Reading the DataFrame:**  \n",
        "In any data analysis task, the first step is to load the dataset into a structured format such as a DataFrame. This is typically done using libraries like `pandas` in Python. The DataFrame provides a tabular structure, making it easier to inspect, manipulate, and clean the data.\n",
        "\n",
        "---\n",
        "\n",
        "**2. Checking for Null Values:**  \n",
        "Null values (or missing values) occur when certain entries in the dataset have no valid data. These can arise due to incomplete data collection, errors during data entry, or limitations in data sources.  \n",
        "To check for null values, we inspect each column to see how many entries have missing data. This helps identify the extent and impact of missing values in the dataset.\n",
        "\n",
        "**Handling Null Values:**  \n",
        "There are two common strategies for dealing with null values:  \n",
        "- **Dropping Missing Values:**  \n",
        "  If the missing data is minimal or non-critical, rows or columns containing null values can be dropped to avoid inaccuracies. This reduces the size of the dataset but maintains only complete information.  \n",
        "- **Filling Missing Values (Imputation):**  \n",
        "  When retaining all data is essential, missing values can be replaced with estimated or default values. Common imputation techniques include:  \n",
        "  - Filling with a constant value (e.g., 0 or \"Unknown\").  \n",
        "  - Filling with statistical measures like mean, median, or mode.  \n",
        "  - Using more advanced imputation methods, like predictive modeling, if the missing data follows specific patterns.  \n",
        "\n",
        "---\n",
        "\n",
        "**3. Checking for Duplicate Rows:**  \n",
        "Duplicate rows occur when the same data is entered multiple times. This can happen due to data entry errors, merging datasets, or improper collection methods. Duplicates can cause bias in analysis, lead to incorrect conclusions, and reduce the efficiency of machine learning models.\n",
        "\n",
        "**Handling Duplicate Rows:**  \n",
        "- **Identifying Duplicates:** It is essential to check if any rows in the dataset are exact duplicates.  \n",
        "- **Removing Duplicates:** Duplicate rows can be removed, typically keeping only the first occurrence. This helps clean the dataset and prevent redundancy.  \n",
        "\n",
        "---\n",
        "\n",
        "**4. Verifying the Cleaned Data:**  \n",
        "After handling null values and duplicates, the cleaned dataset can be checked to ensure it is now free of missing or redundant data. This step ensures that the dataset is ready for further analysis, visualization, or modeling.\n",
        "\n",
        "---\n",
        "\n",
        "### Importance of Data Cleaning:  \n",
        "- **Improved Data Quality:** Handling missing and duplicate values ensures that the dataset is accurate and consistent.  \n",
        "- **Better Insights:** Clean data leads to reliable and valid insights during data analysis.  \n",
        "- **Enhanced Model Performance:** Machine learning models perform better on clean, noise-free data, as it reduces bias and improves generalization.  \n",
        "\n",
        "By addressing null values and duplicates, data scientists and analysts ensure that the dataset is optimized for meaningful exploration and accurate decision-making.\n"
      ],
      "metadata": {
        "id": "ASUX1AdNP3Fo"
      }
    },
    {
      "cell_type": "markdown",
      "source": [],
      "metadata": {
        "id": "u7OJCf1SRH4q"
      }
    },
    {
      "cell_type": "markdown",
      "source": [
        "2.  What is the distribution of popularity among the tracks in the dataset? Visualize it using a histogram?\n",
        "ans.\n"
      ],
      "metadata": {
        "id": "UcSdtqu1Q6B4"
      }
    },
    {
      "cell_type": "markdown",
      "source": [
        "3. is there any relationship between the popularity and the duration of tracks? Explore this using a scatter plot?\n",
        "To analyze and understand the distribution of popularity scores in the dataset, we would typically visualize it using a histogram. Here’s a theoretical explanation of what the histogram would reveal and how it helps in understanding the dataset:\n",
        "\n",
        "### Distribution of Popularity Scores\n",
        "- **Concept**: The popularity of a track on Spotify is represented by a numeric score, which reflects how well a track has been received by listeners. A histogram of this score would show how many tracks fall within specific popularity ranges (e.g., scores between 0-10, 10-20, etc.).\n",
        "  \n",
        "- **Visualization Insight**:\n",
        "  - **If the distribution is left-skewed (tail on the left)**, it indicates that most tracks have high popularity scores.\n",
        "  - **If the distribution is right-skewed (tail on the right)**, it suggests that most tracks have low popularity scores, with fewer highly popular ones.\n",
        "  - **A normal distribution (bell-shaped)** would imply a balanced spread, with most tracks having moderate popularity.\n",
        "  \n",
        "- **Purpose**:\n",
        "  This analysis helps answer questions like:\n",
        "  - Are most tracks in the dataset moderately popular, or is the dataset dominated by either highly popular or less popular tracks?\n",
        "  - Are there any outliers (tracks with exceptionally high or low popularity)?\n",
        "  \n"
      ],
      "metadata": {
        "id": "nGv_IQP1R5dA"
      }
    },
    {
      "cell_type": "markdown",
      "source": [
        "4.Which artist has the highest number of tracks in the dataset?\n",
        "\n",
        " Answer:\n",
        "To find the artist with the most tracks in the dataset, we would count the number of occurrences of each artist's name in the \"Artist\" column. A count plot could then be used to visually represent the track counts for each artist, helping to identify the artist with the highest number of tracks.\n",
        "\n"
      ],
      "metadata": {
        "id": "g6lp5Wc3SNTW"
      }
    },
    {
      "cell_type": "markdown",
      "source": [
        "5. What are the top 5 least popular tracks in the dataset?\n",
        "\n",
        " Answer:\n",
        "The least popular tracks can be identified by sorting the dataset based on the \"Popularity\" column in ascending order. This would allow us to pick the top 5 tracks with the lowest popularity scores and display their corresponding \"Artist\" and \"Track Name"
      ],
      "metadata": {
        "id": "_gIuE1vvSkY2"
      }
    },
    {
      "cell_type": "markdown",
      "source": [
        "6.mong the top 5 most popular artists, which artist has the highest average popularity?\n",
        " Answer:\n",
        "To answer this, we would first determine the top 5 artists by the number of tracks they have in the dataset. Then, by calculating the average popularity score for each of these artists, we could find the one with the highest average popularity, indicating overall listener preference.\n",
        "\n"
      ],
      "metadata": {
        "id": "iYqdbADmSrFN"
      }
    },
    {
      "cell_type": "markdown",
      "source": [
        "7.For the top 5 most popular artists, what are their most popular tracks?\n",
        "\n",
        " Answer:\n",
        "For each of the top 5 artists (based on the number of tracks), we could find their most popular track by filtering the dataset and selecting the track with the highest \"Popularity\" score for each artist.\n",
        "\n"
      ],
      "metadata": {
        "id": "Ye2y50TNSzGN"
      }
    },
    {
      "cell_type": "markdown",
      "source": [
        "8. Visualize relationships between multiple numerical variables using a pair plot.\n",
        "\n",
        " Answer:\n",
        "A pair plot allows for the visualization of relationships between multiple numerical variables simultaneously. In this case, plotting variables like \"Popularity\" and \"Duration (ms)\" would help detect patterns, clusters, or potential correlations between track features"
      ],
      "metadata": {
        "id": "OY_SlolKS4gh"
      }
    },
    {
      "cell_type": "markdown",
      "source": [
        "9.Does the duration of tracks vary significantly across different artists?\n",
        "\n",
        " Answer:\n",
        "To explore the variation in track durations across artists, a box plot or violin plot could be used. These plots would visually represent the spread, median, and range of track durations for different artists, helping identify whether any artist's tracks tend to be significantly longer or shorter than average."
      ],
      "metadata": {
        "id": "-JCMmYrSS_ET"
      }
    },
    {
      "cell_type": "markdown",
      "source": [
        "10. How does the distribution of track popularity vary for different artists?\n",
        " Answer:\n",
        "The distribution of track popularity for various artists could be visualized using swarm plots or violin plots. These plots would show how popularity scores are spread for different artists, highlighting whether an artist's tracks are consistently popular or if there is significant variability in their popularity."
      ],
      "metadata": {
        "id": "t704MvcdTEsc"
      }
    },
    {
      "cell_type": "markdown",
      "source": [],
      "metadata": {
        "id": "wNKRON5YN8Ms"
      }
    },
    {
      "cell_type": "markdown",
      "source": [],
      "metadata": {
        "id": "3o3CChctKaH_"
      }
    },
    {
      "cell_type": "markdown",
      "source": [],
      "metadata": {
        "id": "Qv4OeaHtKwBw"
      }
    },
    {
      "cell_type": "code",
      "source": [],
      "metadata": {
        "id": "gaEXSH_6_Xyg"
      },
      "execution_count": null,
      "outputs": []
    },
    {
      "cell_type": "markdown",
      "source": [],
      "metadata": {
        "id": "xD6cB9YdIoTs"
      }
    },
    {
      "cell_type": "markdown",
      "source": [],
      "metadata": {
        "id": "Ahrj-mpDId7h"
      }
    },
    {
      "cell_type": "markdown",
      "source": [],
      "metadata": {
        "id": "GA5oCGUVHfBj"
      }
    }
  ]
}