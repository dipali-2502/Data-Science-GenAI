{
  "nbformat": 4,
  "nbformat_minor": 0,
  "metadata": {
    "colab": {
      "provenance": []
    },
    "kernelspec": {
      "name": "python3",
      "display_name": "Python 3"
    },
    "language_info": {
      "name": "python"
    }
  },
  "cells": [
    {
      "cell_type": "markdown",
      "source": [
        "Q1. How do you comment code in Python? What are the different types of comments?\n",
        "\n",
        "ans. Single-line comment: Starts with #\n",
        "\n",
        "Multi-line comment: Enclosed within triple quotes ''' or \"\"\"\n",
        "\n"
      ],
      "metadata": {
        "id": "xaOCcO3SaxVl"
      }
    },
    {
      "cell_type": "code",
      "source": [
        "# This is a single-line comment.\n",
        "\n",
        "\"\"\"\n",
        "This is a multi-line comment or docstring.\n",
        "It can span multiple lines and is often used for documentation.\n",
        "\"\"\"\n"
      ],
      "metadata": {
        "id": "iZEZVb6WcQHs"
      },
      "execution_count": null,
      "outputs": []
    },
    {
      "cell_type": "markdown",
      "source": [
        "Q2. What are variables in Python? How do you declare and assign values to variables?\n"
      ],
      "metadata": {
        "id": "pLnpU-UbcWb-"
      }
    },
    {
      "cell_type": "code",
      "source": [
        "\n",
        "# A variable is a named container that holds data.\n",
        "x = 10        # Integer\n",
        "name = \"John\" # String\n",
        "pi = 3.14     # Float\n"
      ],
      "metadata": {
        "id": "25PlMeE3cfP8"
      },
      "execution_count": null,
      "outputs": []
    },
    {
      "cell_type": "markdown",
      "source": [
        "Q3. How do you convert one data type to another in Python?\n"
      ],
      "metadata": {
        "id": "b8X8D8sBckWM"
      }
    },
    {
      "cell_type": "code",
      "source": [
        "\n",
        "x = 10\n",
        "float_x = float(x)    # Convert int to float\n",
        "\n",
        "y = \"123\"\n",
        "int_y = int(y)        # Convert string to int\n",
        "\n",
        "z = 9.87\n",
        "str_z = str(z)        # Convert float to string"
      ],
      "metadata": {
        "id": "_lF7bPVAcsd9"
      },
      "execution_count": null,
      "outputs": []
    },
    {
      "cell_type": "markdown",
      "source": [
        "Q4. How do you write and execute a Python script from the command line?\n"
      ],
      "metadata": {
        "id": "qgyDnXascvIC"
      }
    },
    {
      "cell_type": "code",
      "source": [
        "\n",
        "# Step 1: Create a script file, e.g., script.py\n",
        "# Step 2: Open terminal or command prompt\n",
        "# Step 3: Run the script\n",
        "python script.py\n"
      ],
      "metadata": {
        "id": "X5fgQMXpc0mN"
      },
      "execution_count": null,
      "outputs": []
    },
    {
      "cell_type": "markdown",
      "source": [
        "Q5. Given a list my_list = [1, 2, 3, 4, 5], write the code to slice the list and obtain the sub-list [2, 3]."
      ],
      "metadata": {
        "id": "1b6csGDGc3LQ"
      }
    },
    {
      "cell_type": "code",
      "source": [
        "my_list = [1, 2, 3, 4, 5]\n",
        "sub_list = my_list[1:3]\n",
        "print(sub_list)  # Output: [2, 3]\n"
      ],
      "metadata": {
        "id": "WNktS4R7dSU2"
      },
      "execution_count": null,
      "outputs": []
    },
    {
      "cell_type": "markdown",
      "source": [
        "Q6. What is a complex number in mathematics, and how is it represented in Python?"
      ],
      "metadata": {
        "id": "zNTSJ4VFdT6X"
      }
    },
    {
      "cell_type": "code",
      "source": [
        "# A complex number is of the form a + bj, where a is the real part and b is the imaginary part.\n",
        "c = 2 + 3j\n",
        "print(c.real)  # Real part: 2.0\n",
        "print(c.imag)  # Imaginary part: 3.0\n"
      ],
      "metadata": {
        "id": "DPA7m0eAdcew"
      },
      "execution_count": null,
      "outputs": []
    },
    {
      "cell_type": "markdown",
      "source": [
        "Q7. What is the correct way to declare a variable named age and assign the value 25 to it?"
      ],
      "metadata": {
        "id": "UCu0dxQJdek4"
      }
    },
    {
      "cell_type": "code",
      "source": [
        "age = 25\n"
      ],
      "metadata": {
        "id": "AXLnQYoydsxY"
      },
      "execution_count": null,
      "outputs": []
    },
    {
      "cell_type": "markdown",
      "source": [
        "Q8. Declare a variable named price and assign the value 9.99 to it. What data type does this variable\n",
        "belong to?"
      ],
      "metadata": {
        "id": "v_2S4FIydxzl"
      }
    },
    {
      "cell_type": "code",
      "source": [
        "price = 9.99\n",
        "print(type(price))  # Output: <class 'float'>\n"
      ],
      "metadata": {
        "id": "h0bXySRQd5jf"
      },
      "execution_count": null,
      "outputs": []
    },
    {
      "cell_type": "markdown",
      "source": [
        "Q9. Create a variable named name and assign your full name to it as a string. How would you print the\n",
        "value of this variable?"
      ],
      "metadata": {
        "id": "sZ7TlQKcd8iy"
      }
    },
    {
      "cell_type": "code",
      "source": [
        "name = \"Your Full Name\"\n",
        "print(name)\n"
      ],
      "metadata": {
        "id": "Ak6544YpeCRf"
      },
      "execution_count": null,
      "outputs": []
    },
    {
      "cell_type": "markdown",
      "source": [
        "Q10. Given the string \"Hello, World!\", extract the substring \"World\"."
      ],
      "metadata": {
        "id": "BEw3nnAgeFPl"
      }
    },
    {
      "cell_type": "code",
      "source": [
        "text = \"Hello, World!\"\n",
        "substring = text[7:12]\n",
        "print(substring)  # Output: World\n"
      ],
      "metadata": {
        "id": "NKeR4Z2EeL02"
      },
      "execution_count": null,
      "outputs": []
    },
    {
      "cell_type": "markdown",
      "source": [
        "Q11. Create a variable named \"is_student\" and assign it a boolean value indicating whether you are\n",
        "currently a student or not."
      ],
      "metadata": {
        "id": "D2_7wZtxeQXt"
      }
    },
    {
      "cell_type": "code",
      "source": [
        "is_student = True  # or False, depending on your status\n",
        "print(is_student)\n"
      ],
      "metadata": {
        "id": "A2Wwg1tseV9g"
      },
      "execution_count": null,
      "outputs": []
    },
    {
      "cell_type": "markdown",
      "source": [],
      "metadata": {
        "id": "v8Mywt-YeM8f"
      }
    }
  ]
}