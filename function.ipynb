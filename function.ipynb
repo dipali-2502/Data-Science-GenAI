{
  "nbformat": 4,
  "nbformat_minor": 0,
  "metadata": {
    "colab": {
      "provenance": []
    },
    "kernelspec": {
      "name": "python3",
      "display_name": "Python 3"
    },
    "language_info": {
      "name": "python"
    }
  },
  "cells": [
    {
      "cell_type": "markdown",
      "source": [
        "###Python"
      ],
      "metadata": {
        "id": "qNfuPi_lklrr"
      }
    },
    {
      "cell_type": "markdown",
      "source": [
        "1. Which keyword is used to create a function? Create a function to return a list of odd numbers in the\n",
        "range of 1 to 25.\n",
        "\n",
        "\n",
        "ans.  The keyword used to create a function in Python is def.\n",
        "\n",
        "\n"
      ],
      "metadata": {
        "id": "VXXm_JRZkqWl"
      }
    },
    {
      "cell_type": "code",
      "source": [
        "def get_odd_numbers():\n",
        "    return [i for i in range(1, 26) if i % 2 != 0]\n",
        "\n",
        "# Call the function and print the result\n",
        "print(get_odd_numbers())\n"
      ],
      "metadata": {
        "colab": {
          "base_uri": "https://localhost:8080/"
        },
        "id": "uHrkStZklDV_",
        "outputId": "c5a75e16-fa48-4f05-a89a-791e47a15997"
      },
      "execution_count": 1,
      "outputs": [
        {
          "output_type": "stream",
          "name": "stdout",
          "text": [
            "[1, 3, 5, 7, 9, 11, 13, 15, 17, 19, 21, 23, 25]\n"
          ]
        }
      ]
    },
    {
      "cell_type": "markdown",
      "source": [
        "2. Q2. Why args and kwargs is used in some functions? Create a function each for args and kwargs to\n",
        "demonstrate their use.\n",
        "\n",
        "ans. args and kwargs are used in Python functions to handle variable numbers of arguments:\n",
        "\n",
        "-args allows a function to accept any number of positional arguments as a tuple.\n",
        "\n",
        "-kwargs allows a function to accept any number of keyword arguments as a dictionary.\n"
      ],
      "metadata": {
        "id": "_BOQa_jklHQN"
      }
    },
    {
      "cell_type": "code",
      "source": [
        "def sum_all(*args):\n",
        "    return sum(args)\n",
        "\n",
        "# Usage\n",
        "print(sum_all(1, 2, 3, 4))  # Output: 10\n",
        "\n",
        "\n",
        "def print_details(**kwargs):\n",
        "    for key, value in kwargs.items():\n",
        "        print(f\"{key}: {value}\")\n",
        "\n",
        "# Usage\n",
        "print_details(name=\"Alice\", age=25, city=\"Mumbai\")\n"
      ],
      "metadata": {
        "colab": {
          "base_uri": "https://localhost:8080/"
        },
        "id": "ibXgPntfloQR",
        "outputId": "e0954d98-4cef-45c0-9c20-6b447904d835"
      },
      "execution_count": 2,
      "outputs": [
        {
          "output_type": "stream",
          "name": "stdout",
          "text": [
            "10\n",
            "name: Alice\n",
            "age: 25\n",
            "city: Mumbai\n"
          ]
        }
      ]
    },
    {
      "cell_type": "markdown",
      "source": [
        "3. Q3. What is an iterator in python? Name the method used to initialise the iterator object and the method\n",
        "used for iteration. Use these methods to print the first five elements of the given list [2, 4, 6, 8, 10, 12, 14, 16,\n",
        "18, 20].\n",
        "\n",
        "\n",
        "ans. An iterator in Python is an object used to iterate over iterable data types like lists, tuples, etc.\n",
        "It implements two key methods:\n",
        "\n",
        "__iter__() – Initializes the iterator object.\n",
        "\n",
        "__next__() – Returns the next element in the sequence.\n",
        "\n"
      ],
      "metadata": {
        "id": "_bRxTsCSlyuk"
      }
    },
    {
      "cell_type": "code",
      "source": [
        "\n",
        "\n",
        "# Given list\n",
        "numbers = [2, 4, 6, 8, 10, 12, 14, 16, 18, 20]\n",
        "\n",
        "# Create iterator\n",
        "iterator = iter(numbers)\n",
        "\n",
        "# Print first five elements\n",
        "for _ in range(5):\n",
        "    print(next(iterator))\n"
      ],
      "metadata": {
        "colab": {
          "base_uri": "https://localhost:8080/"
        },
        "id": "9uN5OUU6l6Vw",
        "outputId": "535dfc98-df0c-4513-d96d-324684bffa4d"
      },
      "execution_count": 4,
      "outputs": [
        {
          "output_type": "stream",
          "name": "stdout",
          "text": [
            "2\n",
            "4\n",
            "6\n",
            "8\n",
            "10\n"
          ]
        }
      ]
    },
    {
      "cell_type": "markdown",
      "source": [
        "4. Q4. What is a generator function in python? Why yield keyword is used? Give an example of a generator\n",
        "function.\n",
        "\n",
        "ans. A generator function in Python is a special type of function that returns an iterator and generates values one at a time using the yield keyword instead of return.\n",
        "\n",
        " Why yield is used:\n",
        "\n",
        "yield pauses the function and remembers its state, so it can resume from where it left off.\n",
        "\n",
        "It’s memory-efficient for large sequences since it generates values on the fly.\n",
        "\n"
      ],
      "metadata": {
        "id": "Ca-d7Mism_Kh"
      }
    },
    {
      "cell_type": "code",
      "source": [
        "def even_numbers(limit):\n",
        "    for i in range(2, limit + 1, 2):\n",
        "        yield i\n",
        "\n",
        "# Using the generator\n",
        "gen = even_numbers(10)\n",
        "for num in gen:\n",
        "    print(num)\n"
      ],
      "metadata": {
        "id": "8qww11a0nP1X"
      },
      "execution_count": null,
      "outputs": []
    },
    {
      "cell_type": "markdown",
      "source": [
        "5. Q5. Create a generator function for prime numbers less than 1000. Use the next() method to print the\n",
        "first 20 prime numbers.\n",
        "\n",
        "ans. Below is a generator function that yields prime numbers less than 1000, and uses next() to print the first 20 prime numbers.\n",
        "\n"
      ],
      "metadata": {
        "id": "vX9icEQBnTH1"
      }
    },
    {
      "cell_type": "code",
      "source": [
        "def prime_generator():\n",
        "    for num in range(2, 1000):\n",
        "        for i in range(2, int(num**0.5) + 1):\n",
        "            if num % i == 0:\n",
        "                break\n",
        "        else:\n",
        "            yield num\n",
        "\n",
        "# Create generator object\n",
        "primes = prime_generator()\n",
        "\n",
        "# Print first 20 prime numbers using next()\n",
        "for _ in range(20):\n",
        "    print(next(primes))\n"
      ],
      "metadata": {
        "id": "buUp2up8nXcx"
      },
      "execution_count": null,
      "outputs": []
    }
  ]
}