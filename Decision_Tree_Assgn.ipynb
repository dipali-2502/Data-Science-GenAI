{
  "nbformat": 4,
  "nbformat_minor": 0,
  "metadata": {
    "colab": {
      "provenance": []
    },
    "kernelspec": {
      "name": "python3",
      "display_name": "Python 3"
    },
    "language_info": {
      "name": "python"
    }
  },
  "cells": [
    {
      "cell_type": "markdown",
      "source": [
        "\n",
        "###Theoretical"
      ],
      "metadata": {
        "id": "4UFtzkw5sNLv"
      }
    },
    {
      "cell_type": "markdown",
      "source": [
        "1. What is a Decision Tree, and how does it work?\n",
        "\n",
        "ans. **Decision Tree--**  \n",
        "A **Decision Tree** is a type of machine learning model that looks like a flowchart. It helps make decisions by asking a series of **yes/no** or **true/false** questions.  \n",
        "At each step, it splits the data based on the answers, moving down different \"branches\" until it reaches a final decision or prediction (which we call a \"leaf node\").\n",
        "\n",
        "\n",
        "**How does a Decision Tree work?**\n",
        "1. **Start at the root** (the top of the tree).\n",
        "2. **Choose the best feature** (or question) to split the data.  \n",
        "   - This is done using metrics like **Gini Impurity**, **Entropy**, or **Information Gain** (for classification) or **variance reduction** (for regression).\n",
        "3. **Split the data** into groups based on the answer.\n",
        "4. **Repeat** the process for each group (sub-tree) until:\n",
        "   - You meet a stopping condition (like tree depth limit or minimum samples).\n",
        "   - Or all the data in a branch belongs to one class.\n",
        "\n"
      ],
      "metadata": {
        "id": "zqsMyHNcsc8A"
      }
    },
    {
      "cell_type": "markdown",
      "source": [
        "2. What are impurity measures in Decision Trees\t?\n",
        "\n",
        "ans. What are impurity measures in Decision Trees?\n",
        "An impurity measure tells us how mixed up the data is at a certain point in the tree.\n",
        "\n",
        "If a group (node) has only one class (say, all \"yes\" or all \"no\"), the impurity is low (or zero — meaning it's pure).\n",
        "\n",
        "If the group has a mix of classes (like 50% \"yes\" and 50% \"no\"), the impurity is high.\n",
        "\n",
        "When building a Decision Tree, we always try to reduce impurity as much as possible at each split — so each branch becomes as \"pure\" as it can.\n",
        "\n",
        "\n"
      ],
      "metadata": {
        "id": "d7TCyYA2tBe3"
      }
    },
    {
      "cell_type": "markdown",
      "source": [
        "3.  What is the mathematical formula for Gini Impurity\t?\n",
        "\n",
        "ans. **mathematical formula** for **Gini Impurity**:\n",
        "\n",
        "\\[\n",
        "Gini = 1 - \\sum_{i=1}^{n} p_i^2\n",
        "\\]\n",
        "\n",
        "Where:\n",
        "- \\( p_i \\) = the probability of picking an item of class \\( i \\) from the node\n",
        "- \\( n \\) = total number of class"
      ],
      "metadata": {
        "id": "nEiKD0MOtR0Z"
      }
    },
    {
      "cell_type": "markdown",
      "source": [
        "4. What is the mathematical formula for Entropy\t?\n",
        "\n",
        "ans.  **mathematical formula** for **Entropy**:\n",
        "\n",
        "\\[\n",
        "Entropy = -\\sum_{i=1}^{n} p_i \\log_2(p_i)\n",
        "\\]\n",
        "\n",
        "Where:\n",
        "- \\( p_i \\) = probability of class \\( i \\) at the node\n",
        "- \\( n \\) = total number of classes\n",
        "\n"
      ],
      "metadata": {
        "id": "nEsdIAU7thar"
      }
    },
    {
      "cell_type": "markdown",
      "source": [
        "5. What is Information Gain, and how is it used in Decision Trees\t?\n",
        "\n",
        "ans.  Information Gain (IG) measures how much \"uncertainty\" or \"disorder\" decreases after splitting the data based on a feature.\n",
        "\n",
        "In short:\n",
        "\n",
        "Before split: You have some disorder (measured by Entropy).\n",
        "\n",
        "After split: You check how much the disorder has reduced.\n",
        "\n",
        "Information Gain = (Entropy before split) – (Weighted entropy after split)\n",
        "\n",
        "The feature with the highest Information Gain is chosen to split the data at that step!\n",
        "\n",
        "Mathematical formula for Information Gain:\n",
        "\n",
        "𝐼\n",
        "𝐺\n",
        "=\n",
        "𝐸\n",
        "𝑛\n",
        "𝑡\n",
        "𝑟\n",
        "𝑜\n",
        "𝑝\n",
        "𝑦\n",
        "(\n",
        "parent\n",
        ")\n",
        "−\n",
        "∑\n",
        "𝑘\n",
        "=\n",
        "1\n",
        "𝐾\n",
        "(\n",
        "𝑁\n",
        "𝑘\n",
        "𝑁\n",
        "×\n",
        "𝐸\n",
        "𝑛\n",
        "𝑡\n",
        "𝑟\n",
        "𝑜\n",
        "𝑝\n",
        "𝑦\n",
        "(\n",
        "child\n",
        "𝑘\n",
        ")\n",
        ")\n",
        "IG=Entropy(parent)−\n",
        "k=1\n",
        "∑\n",
        "K\n",
        "​\n",
        " (\n",
        "N\n",
        "N\n",
        "k\n",
        "​\n",
        "\n",
        "​\n",
        " ×Entropy(child\n",
        "k\n",
        "​\n",
        " ))\n",
        "Where:\n",
        "\n",
        "𝑁\n",
        "N = total number of samples in parent\n",
        "\n",
        "𝑁\n",
        "𝑘\n",
        "N\n",
        "k\n",
        "​\n",
        "  = number of samples in child\n",
        "𝑘\n",
        "k\n",
        "\n",
        "𝐾\n",
        "K = number of child nodes\n",
        "\n",
        "How is it used in Decision Trees?\n",
        "At each node:\n",
        "\n",
        "Calculate the Entropy of the current data (parent node).\n",
        "\n",
        "For each feature:\n",
        "\n",
        "Imagine splitting the data based on that feature.\n",
        "\n",
        "Calculate the weighted Entropy of resulting groups (children).\n",
        "\n",
        "Find the Information Gain.\n",
        "\n",
        "Choose the feature with the highest Information Gain to split.\n",
        "\n",
        "Goal: Split the data to make it as pure as possible, as fast as possible!\n",
        "\n",
        "\n"
      ],
      "metadata": {
        "id": "iO8TVvG0t0O2"
      }
    },
    {
      "cell_type": "markdown",
      "source": [
        "6. What is the difference between Gini Impurity and Entropy\t?\n",
        "\n",
        "ans. Gini Impurity vs. Entropy\n",
        "\n",
        "Aspect\tGini Impurity\tEntropy\n",
        "Meaning\tMeasures how often a randomly chosen element would be incorrectly labeled if it was randomly labeled according to the distribution of labels.\tMeasures the amount of \"disorder\" or \"uncertainty\" in the dataset.\n",
        "Formula\n",
        "𝐺\n",
        "𝑖\n",
        "𝑛\n",
        "𝑖\n",
        "=\n",
        "1\n",
        "−\n",
        "∑\n",
        "𝑖\n",
        "=\n",
        "1\n",
        "𝑛\n",
        "𝑝\n",
        "𝑖\n",
        "2\n",
        "Gini=1−∑\n",
        "i=1\n",
        "n\n",
        "​\n",
        " p\n",
        "i\n",
        "2\n",
        "​\n",
        "\n",
        "𝐸\n",
        "𝑛\n",
        "𝑡\n",
        "𝑟\n",
        "𝑜\n",
        "𝑝\n",
        "𝑦\n",
        "=\n",
        "−\n",
        "∑\n",
        "𝑖\n",
        "=\n",
        "1\n",
        "𝑛\n",
        "𝑝\n",
        "𝑖\n",
        "log\n",
        "⁡\n",
        "2\n",
        "(\n",
        "𝑝\n",
        "𝑖\n",
        ")\n",
        "Entropy=−∑\n",
        "i=1\n",
        "n\n",
        "​\n",
        " p\n",
        "i\n",
        "​\n",
        " log\n",
        "2\n",
        "​\n",
        " (p\n",
        "i\n",
        "​\n",
        " )\n",
        "Value Range\tBetween 0 and 0.5 (for binary classification).\tBetween 0 and 1 (for binary classification).\n",
        "Interpretation\tLower Gini means purer groups.\tLower Entropy means purer groups.\n",
        "Calculation Speed\tFaster to compute (no logarithms).\tSlightly slower (uses logarithms).\n",
        "Usage\tOften used in CART (Classification and Regression Trees).\tOften used in ID3, C4.5 decision tree algorithms.\n",
        "Preference\tGood for when we want quicker, simpler trees.\tGood when you want more information-theoretic splitting.\n",
        "\n"
      ],
      "metadata": {
        "id": "-zuoF5gIMFNU"
      }
    },
    {
      "cell_type": "markdown",
      "source": [
        "7. What is the mathematical explanation behind Decision Trees\t?\n",
        "\n",
        "ans. Decision Trees split the data into subsets based on the value of features to make the groups purer.\n",
        "\n",
        "Mathematically:\n",
        "\n",
        "At each node, calculate an impurity measure (like Gini or Entropy).\n",
        "\n",
        "For each feature, compute how much splitting on it reduces impurity (Information Gain or Gini Gain).\n",
        "\n",
        "Choose the feature with the highest gain to split the node.\n",
        "\n",
        "Repeat the process for each child node until a stopping condition is met (like pure nodes or maximum depth).\n",
        "\n",
        "The tree grows by recursively minimizing impurity\n"
      ],
      "metadata": {
        "id": "-p9znSqvMkDz"
      }
    },
    {
      "cell_type": "markdown",
      "source": [
        "8. What is Pre-Pruning in Decision Trees\t?\n",
        "\n",
        "ans. Pre-Pruning (also called early stopping) means stopping the tree growth early, before it becomes too complex, to prevent overfitting.\n",
        "\n",
        "Instead of growing the full tree and then trimming it, in pre-pruning we apply conditions during tree building to decide when to stop splitting.\n",
        "\n",
        "\n",
        "\n"
      ],
      "metadata": {
        "id": "HVJwd9t0M9wS"
      }
    },
    {
      "cell_type": "markdown",
      "source": [
        "9. What is Post-Pruning in Decision Trees\t?\n",
        "\n",
        "ans. Post-Pruning means first growing the full Decision Tree and then trimming it back to remove unnecessary branches, after it has been built.\n",
        "\n",
        "It simplifies the tree by removing splits that do not improve the model's performance significantly, usually based on validation set results.\n",
        "\n",
        "\n"
      ],
      "metadata": {
        "id": "3mCvMJmXNS9U"
      }
    },
    {
      "cell_type": "markdown",
      "source": [
        "10. What is the difference between Pre-Pruning and Post-Pruning\t?\n",
        "\n",
        "ans.   \n",
        "###Pre-Pruning (Early Stopping)\n",
        "\n",
        "In Pre-Pruning, the Decision Tree is restricted while it is being built.\n",
        "The tree stops growing when a certain condition is met, such as:\n",
        "\n",
        "Maximum depth reached.\n",
        "\n",
        "Minimum number of samples in a node.\n",
        "\n",
        "Gain in impurity reduction is below a threshold.\n",
        "\n",
        "Purpose:\n",
        "\n",
        "To prevent the tree from becoming too large and complex.\n",
        "\n",
        "To avoid overfitting the training data early.\n",
        "\n",
        "Drawback:\n",
        "\n",
        "If the tree is stopped too soon, it may underfit the data (miss important patterns).\n",
        "\n",
        "###post-Pruning (Pruning After Full Growth)\n",
        "\n",
        "In Post-Pruning, the Decision Tree is allowed to grow fully without restrictions.\n",
        "After the tree is built:\n",
        "\n",
        "It is analyzed to find parts (branches) that do not contribute much to prediction accuracy.\n",
        "\n",
        "These branches are removed (pruned) based on performance on a validation set or cost-complexity criteria.\n",
        "\n",
        "Purpose:\n",
        "\n",
        "To reduce overfitting by simplifying the tree after it captures all possible patterns.\n",
        "\n",
        "Advantage:\n",
        "\n",
        "Post-pruning usually produces a tree that balances high accuracy and simplicity.\n",
        "\n",
        "Final Point:\n",
        "Pre-Pruning tries to control complexity during training.\n",
        "\n",
        "Post-Pruning tries to correct complexity after training.\n",
        "\n",
        "Both methods aim to create a tree that generalizes better to unseen data.\n",
        "\n",
        "\n"
      ],
      "metadata": {
        "id": "lBKpSnncNg47"
      }
    },
    {
      "cell_type": "markdown",
      "source": [
        "11. What is a Decision Tree Regressor\t?\n",
        "\n",
        "ans. ​A Decision Tree Regressor is a supervised machine learning algorithm used for predicting continuous numerical values. It operates by partitioning the data into subsets based on feature values, constructing a tree-like model where each internal node represents a decision on a feature, and each leaf node represents a predicted numerical value.​\n",
        "\n",
        "\n"
      ],
      "metadata": {
        "id": "BhJi6jTbPjq-"
      }
    },
    {
      "cell_type": "markdown",
      "source": [
        "12.  What are the advantages and disadvantages of Decision Trees\t?\n",
        "\n",
        "ans.\n",
        "\n",
        "**Advantages of Decision Trees:**\n",
        "\n",
        "- Easy to understand and interpret  \n",
        "- Little data preparation needed  \n",
        "- Handles classification and regression  \n",
        "- Captures nonlinear patterns  \n",
        "- Provides feature importance  \n",
        "- Can handle missing values\n",
        "\n",
        "**Disadvantages of Decision Trees:**\n",
        "\n",
        "- Prone to overfitting  \n",
        "- Sensitive to data changes  \n",
        "- Biased with imbalanced data  \n",
        "- Finds local, not global, optimum  \n",
        "- Poor at modeling smooth trends  \n",
        "- Weaker than ensemble methods\n"
      ],
      "metadata": {
        "id": "cDOKvHQ9HKhB"
      }
    },
    {
      "cell_type": "markdown",
      "source": [
        "13.  How does a Decision Tree handle missing values\t?\n",
        "\n",
        "ans.\n",
        "A **Decision Tree** can handle missing values in two main ways, depending on the implementation:\n",
        "\n",
        "1. **Ignoring missing values during splits**  \n",
        "   The tree splits only on available (non-missing) data when choosing the best split at each node.\n",
        "\n",
        "2. **Surrogate splits (used in some algorithms, like CART)**  \n",
        "   When a value is missing for the main splitting feature, the tree uses another correlated feature (surrogate) to decide which branch to follow.\n",
        "\n",
        "Some simpler implementations may just **exclude rows with missing data** or require preprocessing before training, so it depends on the software or library used.\n",
        "\n"
      ],
      "metadata": {
        "id": "KII7ZyU-sfFG"
      }
    },
    {
      "cell_type": "markdown",
      "source": [
        "14.  How does a Decision Tree handle categorical features\t?\n",
        "\n",
        " ans.\n",
        "A **Decision Tree** handles categorical features by splitting the data based on the category values.  \n",
        "\n",
        "Specifically:\n",
        "\n",
        "1. **For binary splits (e.g., CART):**  \n",
        "   It groups category values into two subsets that best separate the target (for example, {A, B} vs. {C, D}) and splits the node accordingly.\n",
        "\n",
        "2. **For multiway splits (e.g., ID3, C4.5):**  \n",
        "   It creates a separate branch for each category (for example, one branch each for A, B, C, D).\n",
        "\n",
        "3. **Using one-hot or ordinal encoding (sometimes required before training):**  \n",
        "   In some implementations, you first convert categories into numbers or dummy variables.\n",
        "\n",
        "So, decision trees can **natively handle categorical features** without needing you to preconvert them in most modern libraries.\n",
        "\n",
        "\n"
      ],
      "metadata": {
        "id": "R0pwhS01tFto"
      }
    },
    {
      "cell_type": "markdown",
      "source": [
        "15.  What are some real-world applications of Decision Trees?\n",
        "\n",
        "ans.  1. **Medical diagnosis** — predicting diseases based on symptoms and test results.  \n",
        "2. **Credit scoring** — evaluating if a person qualifies for a loan or credit card.  \n",
        "3. **Customer churn prediction** — identifying customers likely to leave a service.  \n",
        "4. **Fraud detection** — spotting suspicious transactions in banking or e-commerce.  \n",
        "5. **Marketing** — segmenting customers and predicting responses to campaigns.  \n",
        "6. **Manufacturing** — detecting equipment faults or predicting maintenance needs.  \n",
        "7. **Human resources** — screening job candidates or predicting employee turnover.  \n",
        "8. **Healthcare** — selecting treatment plans based on patient profiles.\n",
        "\n",
        "If you want, I can also give you two or three short example case studies! Let me know.\n"
      ],
      "metadata": {
        "id": "EAGvYqHvtcTh"
      }
    },
    {
      "cell_type": "markdown",
      "source": [
        "###Practical"
      ],
      "metadata": {
        "id": "nrWl4Ub-ttbU"
      }
    },
    {
      "cell_type": "markdown",
      "source": [
        "16. Write a Python program to train a Decision Tree Classifier on the Iris dataset and print the model accuracy?\n",
        "\n"
      ],
      "metadata": {
        "id": "TdqpeFzItxAb"
      }
    },
    {
      "cell_type": "code",
      "source": [
        "from sklearn.datasets import load_iris\n",
        "from sklearn.tree import DecisionTreeClassifier\n",
        "from sklearn.model_selection import train_test_split\n",
        "from sklearn.metrics import accuracy_score\n",
        "\n",
        "# Load the Iris dataset\n",
        "iris = load_iris()\n",
        "X = iris.data\n",
        "y = iris.target\n",
        "\n",
        "# Split into training and test sets (80% train, 20% test)\n",
        "X_train, X_test, y_train, y_test = train_test_split(X, y, test_size=0.2, random_state=42)\n",
        "\n",
        "# Create and train the Decision Tree Classifier\n",
        "clf = DecisionTreeClassifier(random_state=42)\n",
        "clf.fit(X_train, y_train)\n",
        "\n",
        "# Make predictions on the test set\n",
        "y_pred = clf.predict(X_test)\n",
        "\n",
        "# Calculate and print the accuracy\n",
        "accuracy = accuracy_score(y_test, y_pred)\n",
        "print(f\"Model accuracy: {accuracy:.2f}\")\n"
      ],
      "metadata": {
        "colab": {
          "base_uri": "https://localhost:8080/"
        },
        "id": "s8gb7eCNuIgb",
        "outputId": "fd375cbf-f33b-4908-fa3c-d01b98f161dd"
      },
      "execution_count": null,
      "outputs": [
        {
          "output_type": "stream",
          "name": "stdout",
          "text": [
            "Model accuracy: 1.00\n"
          ]
        }
      ]
    },
    {
      "cell_type": "markdown",
      "source": [
        "17.  Write a Python program to train a Decision Tree Classifier using Gini Impurity as the criterion and print the feature importances?\n",
        "\n"
      ],
      "metadata": {
        "id": "AskD-XUFuSqG"
      }
    },
    {
      "cell_type": "code",
      "source": [
        "from sklearn.datasets import load_iris\n",
        "from sklearn.tree import DecisionTreeClassifier\n",
        "from sklearn.model_selection import train_test_split\n",
        "\n",
        "# Load the Iris dataset\n",
        "iris = load_iris()\n",
        "X = iris.data\n",
        "y = iris.target\n",
        "\n",
        "# Split into training and test sets\n",
        "X_train, X_test, y_train, y_test = train_test_split(X, y, test_size=0.2, random_state=42)\n",
        "\n",
        "# Create and train the Decision Tree Classifier using Gini impurity\n",
        "clf = DecisionTreeClassifier(criterion='gini', random_state=42)\n",
        "clf.fit(X_train, y_train)\n",
        "\n",
        "# Print feature importances\n",
        "print(\"Feature importances:\")\n",
        "for feature, importance in zip(iris.feature_names, clf.feature_importances_):\n",
        "    print(f\"{feature}: {importance:.4f}\")\n"
      ],
      "metadata": {
        "colab": {
          "base_uri": "https://localhost:8080/"
        },
        "id": "0NtJ48CQuaE-",
        "outputId": "cc8f1dd5-5cc2-49d4-f35c-b5d9fe27107f"
      },
      "execution_count": null,
      "outputs": [
        {
          "output_type": "stream",
          "name": "stdout",
          "text": [
            "Feature importances:\n",
            "sepal length (cm): 0.0000\n",
            "sepal width (cm): 0.0167\n",
            "petal length (cm): 0.9061\n",
            "petal width (cm): 0.0772\n"
          ]
        }
      ]
    },
    {
      "cell_type": "markdown",
      "source": [
        "18. Write a Python program to train a Decision Tree Classifier using Entropy as the splitting criterion and print the model accuracy?\n",
        "\n"
      ],
      "metadata": {
        "id": "LrF0Bvd9ulkK"
      }
    },
    {
      "cell_type": "code",
      "source": [
        "from sklearn.datasets import load_iris\n",
        "from sklearn.tree import DecisionTreeClassifier\n",
        "from sklearn.model_selection import train_test_split\n",
        "from sklearn.metrics import accuracy_score\n",
        "\n",
        "# Load the Iris dataset\n",
        "iris = load_iris()\n",
        "X = iris.data\n",
        "y = iris.target\n",
        "\n",
        "# Split into training and test sets\n",
        "X_train, X_test, y_train, y_test = train_test_split(X, y, test_size=0.2, random_state=42)\n",
        "\n",
        "# Create and train the Decision Tree Classifier using Entropy\n",
        "clf = DecisionTreeClassifier(criterion='entropy', random_state=42)\n",
        "clf.fit(X_train, y_train)\n",
        "\n",
        "# Make predictions on the test set\n",
        "y_pred = clf.predict(X_test)\n",
        "\n",
        "# Calculate and print the accuracy\n",
        "accuracy = accuracy_score(y_test, y_pred)\n",
        "print(f\"Model accuracy using Entropy: {accuracy:.2f}\")\n"
      ],
      "metadata": {
        "colab": {
          "base_uri": "https://localhost:8080/"
        },
        "id": "yIKqknIJut4o",
        "outputId": "9fc32d99-1ba2-4e7a-9dbb-dbdaf660f561"
      },
      "execution_count": null,
      "outputs": [
        {
          "output_type": "stream",
          "name": "stdout",
          "text": [
            "Model accuracy using Entropy: 1.00\n"
          ]
        }
      ]
    },
    {
      "cell_type": "markdown",
      "source": [
        "19.  Write a Python program to train a Decision Tree Regressor on a housing dataset and evaluate using Mean Squared Error (MSE)?\n",
        "\n",
        "\n"
      ],
      "metadata": {
        "id": "mA9r0LiIu13G"
      }
    },
    {
      "cell_type": "code",
      "source": [
        "from sklearn.datasets import fetch_california_housing\n",
        "from sklearn.tree import DecisionTreeRegressor\n",
        "from sklearn.model_selection import train_test_split\n",
        "from sklearn.metrics import mean_squared_error\n",
        "\n",
        "# Load the California housing dataset\n",
        "data = fetch_california_housing()\n",
        "X = data.data\n",
        "y = data.target\n",
        "\n",
        "# Split the data into training and test sets\n",
        "X_train, X_test, y_train, y_test = train_test_split(X, y, test_size=0.2, random_state=42)\n",
        "\n",
        "# Create and train the Decision Tree Regressor\n",
        "regressor = DecisionTreeRegressor(random_state=42)\n",
        "regressor.fit(X_train, y_train)\n",
        "\n",
        "# Make predictions on the test set\n",
        "y_pred = regressor.predict(X_test)\n",
        "\n",
        "# Calculate and print the Mean Squared Error\n",
        "mse = mean_squared_error(y_test, y_pred)\n",
        "print(f\"Mean Squared Error: {mse:.2f}\")\n"
      ],
      "metadata": {
        "id": "pivnXBRtvC51"
      },
      "execution_count": null,
      "outputs": []
    },
    {
      "cell_type": "markdown",
      "source": [
        "20.  Write a Python program to train a Decision Tree Classifier and visualize the tree using graphviz?\n"
      ],
      "metadata": {
        "id": "UgPZp-djvPBb"
      }
    },
    {
      "cell_type": "code",
      "source": [
        "from sklearn.datasets import load_iris\n",
        "from sklearn.tree import DecisionTreeClassifier, export_graphviz\n",
        "from sklearn.model_selection import train_test_split\n",
        "from sklearn import tree\n",
        "import graphviz\n",
        "import pydotplus\n",
        "\n",
        "# Load the Iris dataset\n",
        "iris = load_iris()\n",
        "X = iris.data\n",
        "y = iris.target\n",
        "\n",
        "# Split into training and test sets\n",
        "X_train, X_test, y_train, y_test = train_test_split(X, y, test_size=0.3, random_state=42)\n",
        "\n",
        "# Create and train the Decision Tree Classifier\n",
        "clf = DecisionTreeClassifier(random_state=42)\n",
        "clf.fit(X_train, y_train)\n",
        "\n",
        "# Visualize the Decision Tree using Graphviz\n",
        "dot_data = export_graphviz(clf, out_file=None,\n",
        "                           feature_names=iris.feature_names,\n",
        "                           class_names=iris.target_names,\n",
        "                           filled=True, rounded=True,\n",
        "                           special_characters=True)\n",
        "\n",
        "# Create the Graphviz source and display the tree\n",
        "graph = graphviz.Source(dot_data)\n",
        "graph.render(\"decision_tree\")  # Save the tree as a PDF file\n",
        "graph.view()  # View the tree in the default PDF viewer\n"
      ],
      "metadata": {
        "id": "o43ml-HJvUz3"
      },
      "execution_count": null,
      "outputs": []
    },
    {
      "cell_type": "markdown",
      "source": [
        "21.  Write a Python program to train a Decision Tree Classifier with a maximum depth of 3 and compare its accuracy with a fully grown tree?\n",
        "\n"
      ],
      "metadata": {
        "id": "x8xZKBIdvdSb"
      }
    },
    {
      "cell_type": "code",
      "source": [
        "from sklearn.datasets import load_iris\n",
        "from sklearn.tree import DecisionTreeClassifier\n",
        "from sklearn.model_selection import train_test_split\n",
        "from sklearn.metrics import accuracy_score\n",
        "\n",
        "# Load the Iris dataset\n",
        "iris = load_iris()\n",
        "X = iris.data\n",
        "y = iris.target\n",
        "\n",
        "# Split into training and test sets (80% train, 20% test)\n",
        "X_train, X_test, y_train, y_test = train_test_split(X, y, test_size=0.2, random_state=42)\n",
        "\n",
        "# Train the Decision Tree Classifier with no max depth (fully grown tree)\n",
        "clf_full = DecisionTreeClassifier(random_state=42)\n",
        "clf_full.fit(X_train, y_train)\n",
        "\n",
        "# Make predictions on both the training set and the test set\n",
        "y_train_pred_full = clf_full.predict(X_train)\n",
        "y_test_pred_full = clf_full.predict(X_test)\n",
        "\n",
        "# Calculate and print the accuracy on both sets\n",
        "train_accuracy_full = accuracy_score(y_train, y_train_pred_full)\n",
        "test_accuracy_full = accuracy_score(y_test, y_test_pred_full)\n",
        "\n",
        "print(f\"Training Accuracy (Fully Grown Tree): {train_accuracy_full:.2f}\")\n",
        "print(f\"Test Accuracy (Fully Grown Tree): {test_accuracy_full:.2f}\")\n"
      ],
      "metadata": {
        "id": "AlqyHAjMvwjz"
      },
      "execution_count": null,
      "outputs": []
    },
    {
      "cell_type": "markdown",
      "source": [
        "22.  Write a Python program to train a Decision Tree Classifier using min_samples_split=5 and compare its accuracy with a default tree?\n",
        "\n"
      ],
      "metadata": {
        "id": "wQIgqNyKwPCA"
      }
    },
    {
      "cell_type": "code",
      "source": [
        "from sklearn.datasets import load_iris\n",
        "from sklearn.tree import DecisionTreeClassifier\n",
        "from sklearn.model_selection import train_test_split\n",
        "from sklearn.metrics import accuracy_score\n",
        "\n",
        "# Load the Iris dataset\n",
        "iris = load_iris()\n",
        "X = iris.data\n",
        "y = iris.target\n",
        "\n",
        "# Split into training and test sets (80% train, 20% test)\n",
        "X_train, X_test, y_train, y_test = train_test_split(X, y, test_size=0.2, random_state=42)\n",
        "\n",
        "# Create and train the default Decision Tree Classifier\n",
        "clf_default = DecisionTreeClassifier(random_state=42)\n",
        "clf_default.fit(X_train, y_train)\n",
        "\n",
        "# Create and train the Decision Tree Classifier with min_samples_split=5\n",
        "clf_min_samples_split = DecisionTreeClassifier(min_samples_split=5, random_state=42)\n",
        "clf_min_samples_split.fit(X_train, y_train)\n",
        "\n",
        "# Make predictions on both the training set and the test set for both classifiers\n",
        "y_train_pred_default = clf_default.predict(X_train)\n",
        "y_test_pred_default = clf_default.predict(X_test)\n",
        "\n",
        "y_train_pred_split = clf_min_samples_split.predict(X_train)\n",
        "y_test_pred_split = clf_min_samples_split.predict(X_test)\n",
        "\n",
        "# Calculate and print the accuracy on both sets for both models\n",
        "train_accuracy_default = accuracy_score(y_train, y_train_pred_default)\n",
        "test_accuracy_default = accuracy_score(y_test, y_test_pred_default)\n",
        "\n",
        "train_accuracy_split = accuracy_score(y_train, y_train_pred_split)\n",
        "test_accuracy_split = accuracy_score(y_test, y_test_pred_split)\n",
        "\n",
        "print(f\"Default Tree Training Accuracy: {train_accuracy_default:.2f}\")\n",
        "print(f\"Default Tree Test Accuracy: {test_accuracy_default:.2f}\")\n",
        "\n",
        "print(f\"Tree with min_samples_split=5 Training Accuracy: {train_accuracy_split:.2f}\")\n",
        "print(f\"Tree with min_samples_split=5 Test Accuracy: {test_accuracy_split:.2f}\")\n"
      ],
      "metadata": {
        "id": "zqdbe8IswWvW"
      },
      "execution_count": null,
      "outputs": []
    },
    {
      "cell_type": "markdown",
      "source": [
        "23.  Write a Python program to apply feature scaling before training a Decision Tree Classifier and compare its accuracy with unscaled data?\n",
        "\n"
      ],
      "metadata": {
        "id": "QfmoU5GfwgWy"
      }
    },
    {
      "cell_type": "code",
      "source": [
        "from sklearn.datasets import load_iris\n",
        "from sklearn.tree import DecisionTreeClassifier\n",
        "from sklearn.model_selection import train_test_split\n",
        "from sklearn.preprocessing import StandardScaler\n",
        "from sklearn.metrics import accuracy_score\n",
        "\n",
        "# Load the Iris dataset\n",
        "iris = load_iris()\n",
        "X = iris.data\n",
        "y = iris.target\n",
        "\n",
        "# Split into training and test sets (80% train, 20% test)\n",
        "X_train, X_test, y_train, y_test = train_test_split(X, y, test_size=0.2, random_state=42)\n",
        "\n",
        "# --- Without Feature Scaling ---\n",
        "# Create and train the Decision Tree Classifier without scaling\n",
        "clf_unscaled = DecisionTreeClassifier(random_state=42)\n",
        "clf_unscaled.fit(X_train, y_train)\n",
        "\n",
        "# Make predictions on the test set\n",
        "y_train_pred_unscaled = clf_unscaled.predict(X_train)\n",
        "y_test_pred_unscaled = clf_unscaled.predict(X_test)\n",
        "\n",
        "# Calculate and print the accuracy for unscaled data\n",
        "train_accuracy_unscaled = accuracy_score(y_train, y_train_pred_unscaled)\n",
        "test_accuracy_unscaled = accuracy_score(y_test, y_test_pred_unscaled)\n",
        "\n",
        "# --- With Feature Scaling ---\n",
        "# Apply StandardScaler to the data\n",
        "scaler = StandardScaler()\n",
        "X_train_scaled = scaler.fit_transform(X_train)\n",
        "X_test_scaled = scaler.transform(X_test)\n",
        "\n",
        "# Create and train the Decision Tree Classifier with scaled data\n",
        "clf_scaled = DecisionTreeClassifier(random_state=42)\n",
        "clf_scaled.fit(X_train_scaled, y_train)\n",
        "\n",
        "# Make predictions on the scaled test set\n",
        "y_train_pred_scaled = clf_scaled.predict(X_train_scaled)\n",
        "y_test_pred_scaled = clf_scaled.predict(X_test_scaled)\n",
        "\n",
        "# Calculate and print the accuracy for scaled data\n",
        "train_accuracy_scaled = accuracy_score(y_train, y_train_pred_scaled)\n",
        "test_accuracy_scaled = accuracy_score(y_test, y_test_pred_scaled)\n",
        "\n",
        "# Output the results\n",
        "print(f\"Accuracy without Feature Scaling:\")\n",
        "print(f\"  Training Accuracy: {train_accuracy_unscaled:.2f}\")\n",
        "print(f\"  Test Accuracy: {test_accuracy_unscaled:.2f}\")\n",
        "\n",
        "print(f\"\\nAccuracy with Feature Scaling:\")\n",
        "print(f\"  Training Accuracy: {train_accuracy_scaled:.2f}\")\n",
        "print(f\"  Test Accuracy: {test_accuracy_scaled:.2f}\")\n"
      ],
      "metadata": {
        "id": "PbVKJIqjwp8u"
      },
      "execution_count": null,
      "outputs": []
    },
    {
      "cell_type": "markdown",
      "source": [
        "24.  Write a Python program to train a Decision Tree Classifier using One-vs-Rest (OvR) strategy for multiclass classification?\n",
        "\n"
      ],
      "metadata": {
        "id": "WMWnrAbBwwco"
      }
    },
    {
      "cell_type": "code",
      "source": [
        "from sklearn.datasets import load_iris\n",
        "from sklearn.tree import DecisionTreeClassifier\n",
        "from sklearn.multiclass import OneVsRestClassifier\n",
        "from sklearn.model_selection import train_test_split\n",
        "from sklearn.metrics import accuracy_score\n",
        "\n",
        "# Load the Iris dataset\n",
        "iris = load_iris()\n",
        "X = iris.data\n",
        "y = iris.target\n",
        "\n",
        "# Split into training and test sets (80% train, 20% test)\n",
        "X_train, X_test, y_train, y_test = train_test_split(X, y, test_size=0.2, random_state=42)\n",
        "\n",
        "# Create a Decision Tree Classifier\n",
        "clf = DecisionTreeClassifier(random_state=42)\n",
        "\n",
        "# Wrap the classifier with OneVsRest strategy\n",
        "ovr_clf = OneVsRestClassifier(clf)\n",
        "\n",
        "# Train the model\n",
        "ovr_clf.fit(X_train, y_train)\n",
        "\n",
        "# Make predictions on the test set\n",
        "y_pred = ovr_clf.predict(X_test)\n",
        "\n",
        "# Calculate and print the accuracy\n",
        "accuracy = accuracy_score(y_test, y_pred)\n",
        "print(f\"Accuracy with One-vs-Rest strategy: {accuracy:.2f}\")\n"
      ],
      "metadata": {
        "id": "aDhbFsrHw3-x"
      },
      "execution_count": null,
      "outputs": []
    },
    {
      "cell_type": "markdown",
      "source": [
        "25.  Write a Python program to train a Decision Tree Classifier and display the feature importance scores?\n"
      ],
      "metadata": {
        "id": "WaG4CtrCw_qQ"
      }
    },
    {
      "cell_type": "code",
      "source": [
        "from sklearn.datasets import load_iris\n",
        "from sklearn.tree import DecisionTreeClassifier\n",
        "import pandas as pd\n",
        "\n",
        "# Load the Iris dataset\n",
        "iris = load_iris()\n",
        "X = iris.data\n",
        "y = iris.target\n",
        "feature_names = iris.feature_names\n",
        "\n",
        "# Create and train the Decision Tree Classifier\n",
        "clf = DecisionTreeClassifier(random_state=42)\n",
        "clf.fit(X, y)\n",
        "\n",
        "# Get the feature importance scores\n",
        "importance_scores = clf.feature_importances_\n",
        "\n",
        "# Create a DataFrame to display the feature names and their importance scores\n",
        "feature_importance_df = pd.DataFrame({\n",
        "    'Feature': feature_names,\n",
        "    'Importance Score': importance_scores\n",
        "})\n",
        "\n",
        "# Sort the DataFrame by importance score in descending order\n",
        "feature_importance_df = feature_importance_df.sort_values(by='Importance Score', ascending=False)\n",
        "\n",
        "# Display the feature importance scores\n",
        "print(\"Feature Importance Scores:\")\n",
        "print(feature_importance_df)\n"
      ],
      "metadata": {
        "id": "a3_tXDozxYn-"
      },
      "execution_count": null,
      "outputs": []
    },
    {
      "cell_type": "markdown",
      "source": [
        "26.  Write a Python program to train a Decision Tree Regressor with max_depth=5 and compare its performance with an unrestricted tree?\n",
        "\n"
      ],
      "metadata": {
        "id": "tvVfxMISy4zS"
      }
    },
    {
      "cell_type": "code",
      "source": [
        "from sklearn.datasets import load_boston\n",
        "from sklearn.tree import DecisionTreeRegressor\n",
        "from sklearn.model_selection import train_test_split\n",
        "from sklearn.metrics import mean_squared_error\n",
        "\n",
        "# Load the Boston housing dataset\n",
        "boston = load_boston()\n",
        "X = boston.data\n",
        "y = boston.target\n",
        "\n",
        "# Split into training and test sets (80% train, 20% test)\n",
        "X_train, X_test, y_train, y_test = train_test_split(X, y, test_size=0.2, random_state=42)\n",
        "\n",
        "# --- Unrestricted Decision Tree Regressor ---\n",
        "# Create and train the unrestricted Decision Tree Regressor\n",
        "clf_unrestricted = DecisionTreeRegressor(random_state=42)\n",
        "clf_unrestricted.fit(X_train, y_train)\n",
        "\n",
        "# Make predictions on the test set\n",
        "y_pred_unrestricted = clf_unrestricted.predict(X_test)\n",
        "\n",
        "# Calculate the Mean Squared Error (MSE) for the unrestricted model\n",
        "mse_unrestricted = mean_squared_error(y_test, y_pred_unrestricted)\n",
        "\n",
        "# --- Restricted Decision Tree Regressor (max_depth=5) ---\n",
        "# Create and train the Decision Tree Regressor with max_depth=5\n",
        "clf_restricted = DecisionTreeRegressor(max_depth=5, random_state=42)\n",
        "clf_restricted.fit(X_train, y_train)\n",
        "\n",
        "# Make predictions on the test set\n",
        "y_pred_restricted = clf_restricted.predict(X_test)\n",
        "\n",
        "# Calculate the Mean Squared Error (MSE) for the restricted model\n",
        "mse_restricted = mean_squared_error(y_test, y_pred_restricted)\n",
        "\n",
        "# Output the results\n",
        "print(f\"Unrestricted Tree MSE: {mse_unrestricted:.2f}\")\n",
        "print(f\"Restricted Tree (max_depth=5) MSE: {mse_restricted:.2f}\")\n"
      ],
      "metadata": {
        "id": "-gvbg0JVzKhf"
      },
      "execution_count": null,
      "outputs": []
    },
    {
      "cell_type": "markdown",
      "source": [
        "27.  Write a Python program to train a Decision Tree Classifier, apply Cost Complexity Pruning (CCP), and visualize its effect on accuracy?\n",
        "\n"
      ],
      "metadata": {
        "id": "0n26LwoFzL0V"
      }
    },
    {
      "cell_type": "code",
      "source": [
        "from sklearn.datasets import load_iris\n",
        "from sklearn.tree import DecisionTreeClassifier\n",
        "from sklearn.tree import plot_tree\n",
        "from sklearn.model_selection import train_test_split\n",
        "from sklearn.metrics import accuracy_score\n",
        "import matplotlib.pyplot as plt\n",
        "\n",
        "# Load the Iris dataset\n",
        "iris = load_iris()\n",
        "X = iris.data\n",
        "y = iris.target\n",
        "\n",
        "# Split into training and test sets (80% train, 20% test)\n",
        "X_train, X_test, y_train, y_test = train_test_split(X, y, test_size=0.2, random_state=42)\n",
        "\n",
        "# Step 1: Train a Decision Tree Classifier\n",
        "clf = DecisionTreeClassifier(random_state=42)\n",
        "clf.fit(X_train, y_train)\n",
        "\n",
        "# Step 2: Apply Cost Complexity Pruning (CCP)\n",
        "# Find the effective alphas (alpha values for pruning)\n",
        "path = clf.cost_complexity_pruning_path(X_train, y_train)\n",
        "ccp_alphas, impurities = path.ccp_alphas, path.impurities\n",
        "\n",
        "# Step 3: Train pruned trees for each alpha value\n",
        "clfs = []\n",
        "for alpha in ccp_alphas:\n",
        "    clf_pruned = DecisionTreeClassifier(random_state=42, ccp_alpha=alpha)\n",
        "    clf_pruned.fit(X_train, y_train)\n",
        "    clfs.append(clf_pruned)\n",
        "\n",
        "# Step 4: Visualize accuracy vs alpha (effect of pruning)\n",
        "train_accuracies = [accuracy_score(y_train, clf.predict(X_train)) for clf in clfs]\n",
        "test_accuracies = [accuracy_score(y_test, clf.predict(X_test)) for clf in clfs]\n",
        "\n",
        "# Plot accuracy vs alpha\n",
        "plt.figure(figsize=(10, 6))\n",
        "plt.plot(ccp_alphas, train_accuracies, label=\"Train Accuracy\", marker='o')\n",
        "plt.plot(ccp_alphas, test_accuracies, label=\"Test Accuracy\", marker='o')\n",
        "plt.xlabel(\"Alpha (ccp_alpha)\")\n",
        "plt.ylabel(\"Accuracy\")\n",
        "plt.title(\"Effect of Cost Complexity Pruning (CCP) on Accuracy\")\n",
        "plt.legend()\n",
        "plt.grid(True)\n",
        "plt.show()\n",
        "\n",
        "# Step 5: Display the pruned tree with the best alpha value\n",
        "# Find the best alpha based on test accuracy\n",
        "best_alpha = ccp_alphas[test_accuracies.index(max(test_accuracies))]\n",
        "clf_best_pruned = DecisionTreeClassifier(random_state=42, ccp_alpha=best_alpha)\n",
        "clf_best_pruned.fit(X_train, y_train)\n",
        "\n",
        "# Visualize the pruned tree\n",
        "plt.figure(figsize=(10, 8))\n",
        "plot_tree(clf_best_pruned, filled=True, feature_names=iris.feature_names, class_names=iris.target_names, rounded=True)\n",
        "plt.title(f\"Pruned Decision Tree (Best Alpha: {best_alpha})\")\n",
        "plt.show()\n",
        "\n",
        "# Print the best alpha value and corresponding accuracy\n",
        "print(f\"Best alpha value: {best_alpha}\")\n",
        "print(f\"Best Test Accuracy: {max(test_accuracies):.2f}\")\n"
      ],
      "metadata": {
        "id": "IofkhhlUzUld"
      },
      "execution_count": null,
      "outputs": []
    },
    {
      "cell_type": "markdown",
      "source": [
        "28.  Write a Python program to train a Decision Tree Classifier and evaluate its performance using Precision, Recall, and F1-Score?\n",
        "\n"
      ],
      "metadata": {
        "id": "A_tar7Fizicq"
      }
    },
    {
      "cell_type": "code",
      "source": [
        "from sklearn.datasets import load_iris\n",
        "from sklearn.model_selection import train_test_split\n",
        "from sklearn.tree import DecisionTreeClassifier\n",
        "from sklearn.metrics import precision_score, recall_score, f1_score, classification_report\n",
        "\n",
        "# Load the Iris dataset\n",
        "iris = load_iris()\n",
        "X = iris.data\n",
        "y = iris.target\n",
        "\n",
        "# Split into training and test sets (80% train, 20% test)\n",
        "X_train, X_test, y_train, y_test = train_test_split(X, y, test_size=0.2, random_state=42)\n",
        "\n",
        "# Create and train the Decision Tree Classifier\n",
        "clf = DecisionTreeClassifier(random_state=42)\n",
        "clf.fit(X_train, y_train)\n",
        "\n",
        "# Make predictions on the test set\n",
        "y_pred = clf.predict(X_test)\n",
        "\n",
        "# Calculate Precision, Recall, and F1-Score for each class\n",
        "precision = precision_score(y_test, y_pred, average='weighted')  # Weighted for multiclass\n",
        "recall = recall_score(y_test, y_pred, average='weighted')  # Weighted for multiclass\n",
        "f1 = f1_score(y_test, y_pred, average='weighted')  # Weighted for multiclass\n",
        "\n",
        "# Print Precision, Recall, and F1-Score\n",
        "print(f\"Precision: {precision:.2f}\")\n",
        "print(f\"Recall: {recall:.2f}\")\n",
        "print(f\"F1-Score: {f1:.2f}\")\n",
        "\n",
        "# Optionally, print a classification report for a more detailed analysis\n",
        "print(\"\\nClassification Report:\")\n",
        "print(classification_report(y_test, y_pred, target_names=iris.target_names))\n"
      ],
      "metadata": {
        "id": "YT7fDVef0M3V"
      },
      "execution_count": null,
      "outputs": []
    },
    {
      "cell_type": "markdown",
      "source": [
        "29. Write a Python program to train a Decision Tree Classifier and visualize the confusion matrix using seaborn?\n"
      ],
      "metadata": {
        "id": "TjGcIuYT0bpe"
      }
    },
    {
      "cell_type": "code",
      "source": [
        "import seaborn as sns\n",
        "import matplotlib.pyplot as plt\n",
        "from sklearn.datasets import load_iris\n",
        "from sklearn.model_selection import train_test_split\n",
        "from sklearn.tree import DecisionTreeClassifier\n",
        "from sklearn.metrics import confusion_matrix\n",
        "\n",
        "# Load the Iris dataset\n",
        "iris = load_iris()\n",
        "X = iris.data\n",
        "y = iris.target\n",
        "\n",
        "# Split into training and test sets (80% train, 20% test)\n",
        "X_train, X_test, y_train, y_test = train_test_split(X, y, test_size=0.2, random_state=42)\n",
        "\n",
        "# Create and train the Decision Tree Classifier\n",
        "clf = DecisionTreeClassifier(random_state=42)\n",
        "clf.fit(X_train, y_train)\n",
        "\n",
        "# Make predictions on the test set\n",
        "y_pred = clf.predict(X_test)\n",
        "\n",
        "# Calculate the confusion matrix\n",
        "cm = confusion_matrix(y_test, y_pred)\n",
        "\n",
        "# Visualize the confusion matrix using seaborn heatmap\n",
        "plt.figure(figsize=(8, 6))\n",
        "sns.heatmap(cm, annot=True, fmt=\"d\", cmap=\"Blues\", xticklabels=iris.target_names, yticklabels=iris.target_names)\n",
        "plt.title('Confusion Matrix for Decision Tree Classifier')\n",
        "plt.xlabel('Predicted')\n",
        "plt.ylabel('Actual')\n",
        "plt.show()\n"
      ],
      "metadata": {
        "colab": {
          "base_uri": "https://localhost:8080/",
          "height": 564
        },
        "id": "Hx2ycFV70hzX",
        "outputId": "88e27c3d-0a3f-4deb-bb33-eb268f587d77"
      },
      "execution_count": null,
      "outputs": [
        {
          "output_type": "display_data",
          "data": {
            "text/plain": [
              "<Figure size 800x600 with 2 Axes>"
            ],
            "image/png": "[encoded data removed]"
          },
          "metadata": {}
        }
      ]
    },
    {
      "cell_type": "markdown",
      "source": [
        "30.  Write a Python program to train a Decision Tree Classifier and use GridSearchCV to find the optimal values for max_depth and min_samples_split?\n",
        "\n"
      ],
      "metadata": {
        "id": "2SmjwYTk00xc"
      }
    },
    {
      "cell_type": "code",
      "source": [
        "from sklearn.datasets import load_iris\n",
        "from sklearn.model_selection import train_test_split, GridSearchCV\n",
        "from sklearn.tree import DecisionTreeClassifier\n",
        "from sklearn.metrics import accuracy_score\n",
        "\n",
        "# Load the Iris dataset\n",
        "iris = load_iris()\n",
        "X = iris.data\n",
        "y = iris.target\n",
        "\n",
        "# Split into training and test sets (80% train, 20% test)\n",
        "X_train, X_test, y_train, y_test = train_test_split(X, y, test_size=0.2, random_state=42)\n",
        "\n",
        "# Create the Decision Tree Classifier\n",
        "clf = DecisionTreeClassifier(random_state=42)\n",
        "\n",
        "# Define the parameter grid to search\n",
        "param_grid = {\n",
        "    'max_depth': [3, 5, 7, 10, None],  # Test different depths\n",
        "    'min_samples_split': [2, 5, 10, 15]  # Test different values for min_samples_split\n",
        "}\n",
        "\n",
        "# Apply GridSearchCV to find the best hyperparameters\n",
        "grid_search = GridSearchCV(estimator=clf, param_grid=param_grid, cv=5, scoring='accuracy')\n",
        "grid_search.fit(X_train, y_train)\n",
        "\n",
        "# Get the best parameters and the best score\n",
        "best_params = grid_search.best_params_\n",
        "best_score = grid_search.best_score_\n",
        "\n",
        "print(f\"Best Hyperparameters: {best_params}\")\n",
        "print(f\"Best Cross-validation Accuracy: {best_score:.4f}\")\n",
        "\n",
        "# Test the model with the best parameters on the test set\n",
        "best_clf = grid_search.best_estimator_\n",
        "y_pred = best_clf.predict(X_test)\n",
        "\n",
        "# Calculate accuracy on the test set\n",
        "test_accuracy = accuracy_score(y_test, y_pred)\n",
        "print(f\"Test Accuracy: {test_accuracy:.4f}\")\n"
      ],
      "metadata": {
        "id": "YZAa5zCp1LUf"
      },
      "execution_count": null,
      "outputs": []
    },
    {
      "cell_type": "markdown",
      "source": [],
      "metadata": {
        "id": "GYq_1zqV00La"
      }
    },
    {
      "cell_type": "markdown",
      "source": [],
      "metadata": {
        "id": "-954cF9HsUmb"
      }
    }
  ]
}