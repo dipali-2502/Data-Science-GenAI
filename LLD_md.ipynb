{
  "nbformat": 4,
  "nbformat_minor": 0,
  "metadata": {
    "colab": {
      "provenance": []
    },
    "kernelspec": {
      "name": "python3",
      "display_name": "Python 3"
    },
    "language_info": {
      "name": "python"
    }
  },
  "cells": [
    {
      "cell_type": "markdown",
      "source": [
        "# Low-Level Design (LLD)\n",
        "\n",
        "## Step-by-Step Design\n",
        "\n",
        "### 1. Data Loading\n",
        "```python\n",
        "df = pd.read_csv('dataset.csv')\n"
      ],
      "metadata": {
        "id": "YSMvLQId2Ja4"
      }
    }
  ]
}