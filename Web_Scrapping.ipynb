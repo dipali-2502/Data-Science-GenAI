{
  "nbformat": 4,
  "nbformat_minor": 0,
  "metadata": {
    "colab": {
      "provenance": []
    },
    "kernelspec": {
      "name": "python3",
      "display_name": "Python 3"
    },
    "language_info": {
      "name": "python"
    }
  },
  "cells": [
    {
      "cell_type": "markdown",
      "source": [
        "Q1. What is Web Scraping? Why is it Used? Give three areas where Web Scraping is used to get data.\n",
        "ans.\n",
        "\n",
        "**Web Scraping** is the process of automatically extracting data from websites using software tools or scripts. It involves fetching web pages and parsing their content to collect specific information, often in a structured format like CSV, Excel, or a database.\n",
        "\n",
        "\n",
        "\n",
        "**Why is it Used?**\n",
        "\n",
        "Web scraping is used to gather large amounts of data quickly and efficiently from websites where APIs may not be available or accessible. It helps in:\n",
        "\n",
        "* Collecting data for analysis or comparison\n",
        "* Automating repetitive data-gathering tasks\n",
        "* Monitoring changes on websites (e.g., price changes, news updates)\n",
        "\n",
        "\n",
        "**Three Areas Where Web Scraping is Used:**\n",
        "\n",
        "1. **E-commerce and Price Monitoring:**\n",
        "   Businesses scrape competitor websites to track product prices, reviews, and availability.\n",
        "\n",
        "2. **Market Research and Data Analytics:**\n",
        "   Companies collect user opinions, ratings, and comments from review sites or forums to analyze market trends.\n",
        "\n",
        "3. **Job Aggregation and Recruitment:**\n",
        "   Job portals use scraping to gather job listings from multiple company websites and job boards.\n",
        "\n"
      ],
      "metadata": {
        "id": "OOF3r-Y5kGyp"
      }
    },
    {
      "cell_type": "markdown",
      "source": [
        "Q2. What are the different methods used for Web Scraping?\n",
        "\n",
        "\n",
        "Answer:\n",
        "\n",
        "There are several methods used for web scraping, depending on the complexity of the website and the type of data required. Here are the most commonly used methods:\n",
        "\n",
        "\n",
        "### 1. **Manual Copy-Pasting**\n",
        "\n",
        "* The simplest form of scraping.\n",
        "* Involves manually copying data from a webpage and pasting it into a file or spreadsheet.\n",
        "* Suitable for small amounts of data.\n",
        "\n",
        "\n",
        "### 2. **HTML Parsing**\n",
        "\n",
        "* Uses libraries like **BeautifulSoup** (Python) or **Cheerio** (JavaScript) to parse HTML content.\n",
        "* Allows easy navigation and extraction of specific elements using tags, classes, or IDs.\n",
        "\n",
        "\n",
        "\n",
        "### 3. **DOM Parsing**\n",
        "\n",
        "* Accesses the Document Object Model (DOM) of the webpage using browsers or tools like **Selenium** or **Puppeteer**.\n",
        "* Useful for scraping data from JavaScript-heavy websites that require interaction (like clicking or scrolling).\n",
        "\n",
        "\n",
        "\n",
        "### 4. **XPath and CSS Selectors**\n",
        "\n",
        "* These are methods used to locate elements within the HTML tree.\n",
        "* XPath provides powerful navigation capabilities, while CSS selectors are simpler and faster for straightforward structures.\n",
        "\n",
        "\n",
        "\n",
        "### 5. **Regular Expressions (Regex)**\n",
        "\n",
        "* Extracts data based on patterns found in the raw HTML content.\n",
        "* Fast but fragile – small changes in structure can break the extraction.\n",
        "\n",
        "\n",
        "### 6. **APIs (When Available)**\n",
        "\n",
        "* Many websites provide APIs for structured access to data.\n",
        "* This is the most reliable and legal method of data extraction.\n",
        "\n",
        "\n",
        "### 7. **Web Scraping Tools and Frameworks**\n",
        "\n",
        "* Tools like **Scrapy**, **Octoparse**, **ParseHub**, and **WebHarvy** provide user-friendly or programmatic ways to scrape data efficiently.\n",
        "\n"
      ],
      "metadata": {
        "id": "uYfM7QMmmAuX"
      }
    },
    {
      "cell_type": "markdown",
      "source": [
        "Q3. What is Beautiful Soup? Why is it used?\n",
        "\n",
        "ans. Answer:\n",
        "\n",
        "Beautiful Soup is a Python library used for parsing HTML and XML documents. It creates a parse tree from the page source code that can be used to extract data easily.\n",
        "\n",
        "Why is it Used?\n",
        "Beautiful Soup is used in web scraping to:\n",
        "\n",
        "Navigate the structure of a web page (HTML/XML).\n",
        "\n",
        "Search and locate elements using tags, attributes, classes, or IDs.\n",
        "\n",
        "Extract the required data from specific parts of the page.\n",
        "\n",
        "Clean up and convert poorly structured or malformed HTML.\n",
        "\n",
        "Key Features:\n",
        "Works well with various HTML parsers (like html.parser, lxml, or html5lib).\n",
        "\n",
        "Handles broken HTML gracefully.\n",
        "\n",
        "Easy to integrate with other libraries like requests for downloading web pages.\n",
        "\n"
      ],
      "metadata": {
        "id": "hQclMhLbmcPd"
      }
    },
    {
      "cell_type": "code",
      "source": [
        "from bs4 import BeautifulSoup\n",
        "import requests\n",
        "\n",
        "url = \"https://example.com\"\n",
        "response = requests.get(url)\n",
        "soup = BeautifulSoup(response.text, \"html.parser\")\n",
        "\n",
        "# Extract the title of the page\n",
        "title = soup.title.text\n",
        "print(\"Page Title:\", title)\n"
      ],
      "metadata": {
        "colab": {
          "base_uri": "https://localhost:8080/"
        },
        "id": "cMjLltjlmtD_",
        "outputId": "18ace185-e70a-4c9f-9a67-94f985c34516"
      },
      "execution_count": 1,
      "outputs": [
        {
          "output_type": "stream",
          "name": "stdout",
          "text": [
            "Page Title: Example Domain\n"
          ]
        }
      ]
    },
    {
      "cell_type": "markdown",
      "source": [
        "Q4. Why is flask used in this Web Scraping project?\n",
        "\n",
        "ans.Answer:\n",
        "\n",
        "Flask is a lightweight and flexible web framework for Python. In a web scraping project, Flask is used to create a web application or interface that allows users to interact with the scraped data.\n",
        "\n",
        "Why Flask is Used in Web Scraping Projects:\n",
        "To Display Scraped Data in a Web Browser:\n",
        "\n",
        "Flask helps present the scraped data in a user-friendly format (like a table or dashboard) via HTML templates.\n",
        "\n",
        "To Trigger Scraping Through a Web Interface:\n",
        "\n",
        "You can create a button or form on a webpage that, when clicked or submitted, runs the scraping script.\n",
        "\n",
        "To Serve Scraped Data as an API:\n",
        "\n",
        "Flask can provide scraped data in JSON format via RESTful APIs, allowing other apps or systems to access the data.\n",
        "\n",
        "To Schedule or Monitor Scraping Jobs:\n",
        "\n",
        "A simple interface built with Flask can help you run scraping jobs manually or monitor results.\n",
        "\n",
        "Example Use Case:\n",
        "A user visits your Flask web app.\n",
        "\n",
        "They enter a product name in a search box.\n",
        "\n",
        "Flask calls the scraping function to collect product data from a website.\n",
        "\n",
        "The results are displayed in the browser in real time.\n",
        "\n",
        "example :"
      ],
      "metadata": {
        "id": "3dpWnubWmx1p"
      }
    },
    {
      "cell_type": "code",
      "source": [
        "from flask import Flask, render_template\n",
        "app = Flask(__name__)\n",
        "\n",
        "@app.route('/')\n",
        "def home():\n",
        "    return \"<h1>Welcome to the Web Scraper</h1>\"\n",
        "\n",
        "if __name__ == '__main__':\n",
        "    app.run(debug=True)\n"
      ],
      "metadata": {
        "id": "P-KmxWpbnLiE"
      },
      "execution_count": null,
      "outputs": []
    },
    {
      "cell_type": "markdown",
      "source": [
        "Q5. Write the names of AWS services used in this project. Also, explain the use of each service.\n",
        "\n",
        "ans.\n",
        "\n",
        "\n",
        "###  **1. Amazon EC2 (Elastic Compute Cloud)**\n",
        "\n",
        "* **Use:**\n",
        "  EC2 provides virtual servers (instances) where your **web scraping scripts and Flask app** can run.\n",
        "* **Why it's used:**\n",
        "  To host the scraper and keep it running 24/7 or on-demand with scalability.\n",
        "\n",
        "\n",
        "\n",
        "###  **2. Amazon S3 (Simple Storage Service)**\n",
        "\n",
        "* **Use:**\n",
        "  Used to **store scraped data**, such as CSV, JSON, or Excel files, and also to store logs or backups.\n",
        "* **Why it's used:**\n",
        "  For reliable, scalable, and cost-effective data storage.\n",
        "\n",
        "\n",
        "\n",
        "###  **3. Amazon RDS (Relational Database Service)**\n",
        "\n",
        "* **Use:**\n",
        "  Stores structured scraped data in relational databases like MySQL, PostgreSQL, etc.\n",
        "* **Why it's used:**\n",
        "  For organizing and querying large amounts of data efficiently.\n",
        "\n",
        "\n",
        "###  **4. AWS Lambda (Optional)**\n",
        "\n",
        "* **Use:**\n",
        "  Runs code in response to triggers (like a scheduled event) without provisioning servers.\n",
        "* **Why it's used:**\n",
        "  To **automate web scraping tasks** on a schedule (e.g., scrape every hour) without maintaining servers.\n",
        "\n",
        "\n",
        "\n",
        "###  **5. Amazon CloudWatch**\n",
        "\n",
        "* **Use:**\n",
        "  Monitors logs and performance of the web scraping application.\n",
        "* **Why it's used:**\n",
        "  For error tracking, logging, and setting up alerts if the scraping fails or behaves unexpectedly.\n",
        "\n",
        "\n",
        "\n",
        "###  **6. Amazon Route 53 (Optional)**\n",
        "\n",
        "* **Use:**\n",
        "  Manages custom domains for your Flask web app.\n",
        "* **Why it's used:**\n",
        "  To map a domain like `www.my-scraper-app.com` to your EC2 instance.\n",
        "\n",
        "\n",
        "###  **7. AWS IAM (Identity and Access Management)**\n",
        "\n",
        "* **Use:**\n",
        "  Manages **permissions and security** for users and applications accessing AWS services.\n",
        "* **Why it's used:**\n",
        "  To keep your AWS environment secure and grant limited access where necessary.\n",
        "\n"
      ],
      "metadata": {
        "id": "-t7hwCP8nMTB"
      }
    }
  ]
}