{
  "nbformat": 4,
  "nbformat_minor": 0,
  "metadata": {
    "colab": {
      "provenance": []
    },
    "kernelspec": {
      "name": "python3",
      "display_name": "Python 3"
    },
    "language_info": {
      "name": "python"
    }
  },
  "cells": [
    {
      "cell_type": "markdown",
      "source": [
        "# 📊 Pipeline Architecture\n",
        "\n",
        "This document outlines the step-by-step architecture followed in the cryptocurrency liquidity prediction project.\n",
        "\n",
        "---\n",
        "\n",
        "## 1. Data Ingestion\n",
        "- Source: `dataset.csv`\n",
        "- Method: CSV file uploaded to Google Colab\n",
        "- Libraries Used: `pandas`\n",
        "\n",
        "## 2. Data Cleaning & Preprocessing\n",
        "- Dropped missing values using `dropna()`\n",
        "- Converted `date` column to datetime format\n",
        "- Sorted data by date\n",
        "\n",
        "## 3. Feature Engineering\n",
        "- Created `volatility` as: (high - low) / open\n",
        "- Added rolling features:\n",
        "  - 7-day rolling mean of `close`\n",
        "  - 14-day rolling std dev of `volatility`\n",
        "  - `liquidity_ratio = volume / close`\n",
        "- Dropped rows with NaN due to rolling functions\n",
        "\n",
        "## 4. Feature Selection\n",
        "- Selected features: `open`, `high`, `low`, `close`, `volume`, `rolling_mean_close`, `rolling_volatility`, `liquidity_ratio`\n",
        "- Target: `volatility`\n",
        "\n",
        "## 5. Data Splitting\n",
        "- Split into training and testing sets using `train_test_split`\n",
        "\n",
        "## 6. Feature Scaling\n",
        "- Scaled features using `StandardScaler`\n",
        "\n",
        "## 7. Model Training\n",
        "- Algorithm: `RandomForestRegressor`\n",
        "- Trained on scaled features\n",
        "\n",
        "## 8. Model Evaluation\n",
        "- Metrics: RMSE, MAE, R² Score\n",
        "- Printed evaluation metrics on test data\n",
        "\n",
        "---\n",
        "\n",
        "## Tools and Libraries\n",
        "- Python\n",
        "- Pandas, NumPy, Scikit-learn\n",
        "- Matplotlib, Seaborn\n"
      ],
      "metadata": {
        "id": "8LK-iD3e41bh"
      }
    }
  ]
}