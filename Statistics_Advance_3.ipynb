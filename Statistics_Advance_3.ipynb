{
  "nbformat": 4,
  "nbformat_minor": 0,
  "metadata": {
    "colab": {
      "provenance": []
    },
    "kernelspec": {
      "name": "python3",
      "display_name": "Python 3"
    },
    "language_info": {
      "name": "python"
    }
  },
  "cells": [
    {
      "cell_type": "markdown",
      "source": [
        "Q1: What is Estimation Statistics? Explain point estimate and interval estimate.\n",
        "\n",
        "ans.Q1: What is Estimation Statistics? Explain point estimate and interval estimate.\n",
        "\n",
        "\n",
        "\n",
        "**Estimation Statistics** is a branch of statistics that deals with **estimating the values of population parameters** based on sample data. It helps make informed guesses about unknown population characteristics.\n",
        "\n",
        "### 1. **Point Estimate**\n",
        "\n",
        "* A **single value** calculated from the sample data used as the best guess of the population parameter.\n",
        "* It provides a **specific estimate** but does not show how accurate or reliable it is.\n",
        "* **Example:** The sample mean (average) height of 100 students is 170 cm; this is the point estimate of the population mean height.\n",
        "\n",
        "### 2. **Interval Estimate**\n",
        "\n",
        "* A **range of values** within which the population parameter is expected to lie, along with a certain level of confidence (like 95%).\n",
        "* It accounts for the **uncertainty** in estimation.\n",
        "* Also called a **confidence interval**.\n",
        "* **Example:** The average height of students is estimated to be between 168 cm and 172 cm with 95% confidence.\n",
        "\n",
        "\n",
        "\n",
        "### Summary:\n",
        "\n",
        "| Type of Estimate  | What it Gives               | Example                                         |\n",
        "| ----------------- | --------------------------- | ----------------------------------------------- |\n",
        "| Point Estimate    | Single best guess value     | Sample mean = 170 cm                            |\n",
        "| Interval Estimate | Range with confidence level | Mean height between 168-172 cm (95% confidence) |\n",
        "\n"
      ],
      "metadata": {
        "id": "ZI0xQF4BXr5N"
      }
    },
    {
      "cell_type": "markdown",
      "source": [
        "Q2. Write a Python function to estimate the population mean using a sample mean and standard deviation.\n",
        "\n",
        "ans. To estimate the population mean using a sample, you typically use the sample mean as a point estimate of the population mean. You can also compute a confidence interval (interval estimate) using the sample mean, standard deviation, and sample size.\n",
        "\n",
        "Here’s a Python function that calculates:\n",
        "\n",
        "Point estimate (sample mean)\n",
        "\n",
        "Confidence interval for the population mean\n",
        "\n",
        "\n"
      ],
      "metadata": {
        "id": "_HTCp99aY_Qj"
      }
    },
    {
      "cell_type": "code",
      "source": [
        "import scipy.stats as stats\n",
        "import numpy as np\n",
        "\n",
        "def estimate_population_mean(sample_data, confidence_level=0.95):\n",
        "    \"\"\"\n",
        "    Estimate the population mean from sample data using confidence interval.\n",
        "\n",
        "    Parameters:\n",
        "    sample_data (list or array): The sample data points.\n",
        "    confidence_level (float): The desired confidence level (default is 0.95 for 95%)\n",
        "\n",
        "    Returns:\n",
        "    tuple: (sample_mean, lower_bound, upper_bound)\n",
        "    \"\"\"\n",
        "    n = len(sample_data)\n",
        "    sample_mean = np.mean(sample_data)\n",
        "    sample_std = np.std(sample_data, ddof=1)  # use sample standard deviation\n",
        "    z_score = stats.t.ppf((1 + confidence_level) / 2, df=n-1)\n",
        "\n",
        "    margin_of_error = z_score * (sample_std / np.sqrt(n))\n",
        "\n",
        "    lower_bound = sample_mean - margin_of_error\n",
        "    upper_bound = sample_mean + margin_of_error\n",
        "\n",
        "    return sample_mean, lower_bound, upper_bound\n"
      ],
      "metadata": {
        "id": "j9-EKIY9ZaIx"
      },
      "execution_count": 1,
      "outputs": []
    },
    {
      "cell_type": "markdown",
      "source": [
        "Q3: What is Hypothesis testing? Why is it used? State the importance of Hypothesis testing.\n",
        "\n",
        "ans.\n",
        "\n",
        "**Hypothesis testing** is a statistical method used to decide whether a claim about a population is true, based on sample data.\n",
        "\n",
        "\n",
        "\n",
        "### **Why is it used?**\n",
        "\n",
        "* To test assumptions or claims (called hypotheses).\n",
        "* To make decisions using data instead of guesswork.\n",
        "\n",
        "\n",
        "### **Importance:**\n",
        "\n",
        "* Helps in research, business, and quality control.\n",
        "* Supports data-driven decisions.\n",
        "* Identifies real effects vs. random chance.\n",
        "\n",
        "\n",
        "### **Example:**\n",
        "\n",
        "Testing if a new medicine works better than the old one using sample results.\n"
      ],
      "metadata": {
        "id": "29NHgCpyZrWA"
      }
    },
    {
      "cell_type": "markdown",
      "source": [
        "Q4. Create a hypothesis that states whether the average weight of male college students is greater than the average weight of female college students.\n",
        "\n",
        "ans.\n",
        " Hypothesis on Weight Difference Between Male and Female College Students\n",
        "\n",
        "We want to **compare the average weight** of male and female college students and determine if **males weigh more on average**.\n",
        "\n",
        "\n",
        "\n",
        "\n",
        "#### 1. **Define the Claim:**\n",
        "\n",
        "We're testing if **male students** have a **higher average weight** than **female students**.\n",
        "\n",
        "\n",
        "#### 2. **Formulate the Hypotheses:**\n",
        "\n",
        "* **Null Hypothesis (H₀):**\n",
        "  There is **no difference** or **both groups have equal average weight**.\n",
        "   $\\mu_{\\text{male}} = \\mu_{\\text{female}}$\n",
        "\n",
        "* **Alternative Hypothesis (H₁):**\n",
        "  The **average weight of male students is greater** than that of female students.\n",
        "   $\\mu_{\\text{male}} > \\mu_{\\text{female}}$\n",
        "\n",
        "This is a **directional (one-tailed)** test because we are only interested in whether male weights are higher, not just different.\n",
        "\n",
        "\n",
        "\n",
        "###  What Happens Next (Statistical Testing Overview):\n",
        "\n",
        "* You collect a **random sample** of male and female student weights.\n",
        "* Perform a **t-test** (or z-test if population variance is known) to compare the means.\n",
        "* If the **p-value is less than your significance level** (e.g., 0.05), you **reject the null hypothesis**, concluding that male students do weigh more on average.\n",
        "\n",
        "\n",
        "\n",
        "###  Why This Is Useful:\n",
        "\n",
        "This method ensures your **conclusion is backed by data**, not assumptions. It's commonly used in education, health, and social sciences to test gender-based differences in variables like height, weight, scores, etc.\n",
        "\n",
        "\n"
      ],
      "metadata": {
        "id": "qn074rmmaJuW"
      }
    },
    {
      "cell_type": "markdown",
      "source": [
        "Q5. Write a Python script to conduct a hypothesis test on the difference between two population means, given a sample from each population.\n"
      ],
      "metadata": {
        "id": "z_98ey81bD6W"
      }
    },
    {
      "cell_type": "code",
      "source": [
        "import scipy.stats as stats\n",
        "\n",
        "def compare_means(sample1, sample2, alpha=0.05):\n",
        "    \"\"\"\n",
        "    Perform Welch's t-test to compare two population means.\n",
        "\n",
        "    Parameters:\n",
        "    - sample1: list or array of data for group 1\n",
        "    - sample2: list or array of data for group 2\n",
        "    - alpha: significance level (default 0.05)\n",
        "\n",
        "    Returns:\n",
        "    - t_stat: calculated t-statistic\n",
        "    - p_value: p-value of the test\n",
        "    - conclusion: string stating the result\n",
        "    \"\"\"\n",
        "    t_stat, p_value = stats.ttest_ind(sample1, sample2, equal_var=False)\n",
        "\n",
        "    conclusion = \"Reject H₀\" if p_value < alpha else \"Fail to reject H₀\"\n",
        "\n",
        "    return t_stat, p_value, conclusion\n",
        "\n",
        "# Example data: weights of male and female college students\n",
        "male_weights = [72, 75, 78, 80, 74, 76, 77]\n",
        "female_weights = [60, 62, 65, 63, 64, 61, 66]\n",
        "\n",
        "# Run hypothesis test\n",
        "t_stat, p_value, result = compare_means(male_weights, female_weights)\n",
        "\n",
        "print(f\"T-statistic: {t_stat:.3f}\")\n",
        "print(f\"P-value: {p_value:.4f}\")\n",
        "print(\"Conclusion:\", result)\n"
      ],
      "metadata": {
        "colab": {
          "base_uri": "https://localhost:8080/"
        },
        "id": "LP6CKmLIbmCa",
        "outputId": "d611baf7-8700-4b06-9391-f3f7143dabab"
      },
      "execution_count": 2,
      "outputs": [
        {
          "output_type": "stream",
          "name": "stdout",
          "text": [
            "T-statistic: 10.070\n",
            "P-value: 0.0000\n",
            "Conclusion: Reject H₀\n"
          ]
        }
      ]
    },
    {
      "cell_type": "markdown",
      "source": [
        "Q6: What is a null and alternative hypothesis? Give some examples.\n",
        "\n",
        "ans.\n",
        "\n",
        "\n",
        "### **1. Null Hypothesis (H₀):**\n",
        "\n",
        "The **null hypothesis** is a statement that there is **no effect or no difference**.\n",
        "It represents the **status quo** or a **baseline assumption** that we test against.\n",
        "\n",
        "* It is assumed to be **true** until evidence suggests otherwise.\n",
        "\n",
        "\n",
        "\n",
        "###  **2. Alternative Hypothesis (H₁ or Ha):**\n",
        "\n",
        "The **alternative hypothesis** is a statement that indicates the **presence of an effect** or a **difference**.\n",
        "\n",
        "* It's what the researcher usually **wants to prove**.\n",
        "\n",
        "\n",
        "\n",
        "###  **Examples:**\n",
        "\n",
        "####  Example 1: Comparing Exam Scores\n",
        "\n",
        "* **H₀:** The average exam scores of two classes are equal.\n",
        "  $H_0: \\mu_1 = \\mu_2$\n",
        "\n",
        "* **H₁:** The average exam scores of the two classes are different.\n",
        "  $H_1: \\mu_1 \\neq \\mu_2$\n",
        "\n",
        "\n",
        "\n",
        "####  Example 2: Drug Effectiveness\n",
        "\n",
        "* **H₀:** The new drug has **no effect** on blood pressure.\n",
        "  $H_0: \\mu_{\\text{drug}} = \\mu_{\\text{placebo}}$\n",
        "\n",
        "* **H₁:** The new drug **reduces blood pressure** more than the placebo.\n",
        "  $H_1: \\mu_{\\text{drug}} < \\mu_{\\text{placebo}}$\n",
        "\n",
        "\n",
        "\n",
        "####  Example 3: Gender Difference in Average Height\n",
        "\n",
        "* **H₀:** The average height of males and females is the same.\n",
        "  $H_0: \\mu_{\\text{male}} = \\mu_{\\text{female}}$\n",
        "\n",
        "* **H₁:** The average height of males is greater than females.\n",
        "  $H_1: \\mu_{\\text{male}} > \\mu_{\\text{female}}$\n",
        "\n"
      ],
      "metadata": {
        "id": "MGOmE_Cubnv-"
      }
    },
    {
      "cell_type": "markdown",
      "source": [
        "Q7: Write down the steps involved in hypothesis testing.\n",
        "\n",
        "ans.\n",
        "Hypothesis testing is a structured process used to determine if a claim about a population is supported by sample data. Here are the key steps:\n",
        "\n",
        "\n",
        "\n",
        "###  **1. Define Hypotheses**\n",
        "\n",
        "* **Null Hypothesis (H₀):** Assumes no effect or no difference.\n",
        "* **Alternative Hypothesis (H₁):** Assumes an effect or a difference exists.\n",
        "\n",
        "\n",
        "\n",
        "###  **2. Choose Significance Level (α)**\n",
        "\n",
        "* Common values: **0.05**, **0.01**, or **0.10**\n",
        "* It represents the **probability of rejecting H₀ when it's actually true** (Type I error).\n",
        "\n",
        "\n",
        "\n",
        "###  **3. Select the Test Type**\n",
        "\n",
        "* Based on data type and problem:\n",
        "\n",
        "  * **t-test** (for means)\n",
        "  * **z-test**\n",
        "  * **chi-square test**\n",
        "  * **ANOVA**, etc.\n",
        "\n",
        "\n",
        "\n",
        "###  **4. Calculate Test Statistic**\n",
        "\n",
        "* Use sample data to compute the test statistic (e.g., t-value, z-value).\n",
        "\n",
        "\n",
        "\n",
        "###  **5. Determine the p-value or critical value**\n",
        "\n",
        "* **p-value:** Probability of obtaining results as extreme as observed, assuming H₀ is true.\n",
        "* **Compare p-value with α**.\n",
        "\n",
        "\n",
        "\n",
        " **6. Make a Decision**\n",
        "\n",
        "* If **p-value ≤ α**, **reject H₀** (evidence supports H₁).\n",
        "* If **p-value > α**, **fail to reject H₀** (not enough evidence).\n",
        "\n",
        "\n",
        "\n",
        "###  **7. State the Conclusion**\n",
        "\n",
        "* Clearly explain the result in the context of the original problem.\n",
        "\n",
        "\n",
        "\n",
        "###  Example:\n",
        "\n",
        "You want to test if a new teaching method improves test scores.\n",
        "\n",
        "* **H₀:** New method = Old method\n",
        "* **H₁:** New method ≠ Old method\n",
        "* Run a t-test\n",
        "* If p-value < 0.05 → **Reject H₀** → Teaching method makes a difference.\n",
        "\n"
      ],
      "metadata": {
        "id": "YbjY-E2ncECx"
      }
    },
    {
      "cell_type": "markdown",
      "source": [
        "Q8. Define p-value and explain its significance in hypothesis testing."
      ],
      "metadata": {
        "id": "-w0ghZwNdh6O"
      }
    },
    {
      "cell_type": "code",
      "source": [
        "def explain_p_value():\n",
        "    explanation = \"\"\"\n",
        "The p-value (probability value) is the probability of observing your sample results,\n",
        "or something more extreme, assuming that the null hypothesis (H0) is true.\n",
        "\n",
        "Interpretation:\n",
        "- Small p-value (<= 0.05): Strong evidence against H0 — reject H0.\n",
        "- Large p-value (> 0.05): Weak evidence against H0 — fail to reject H0.\n",
        "\n",
        "Example:\n",
        "If a coin is flipped 100 times and you get 70 heads, the p-value tells you\n",
        "how likely that result is assuming the coin is fair (H0: p = 0.5).\n",
        "\"\"\"\n",
        "    print(explanation)\n",
        "\n",
        "explain_p_value()\n"
      ],
      "metadata": {
        "colab": {
          "base_uri": "https://localhost:8080/"
        },
        "id": "eJFt7Q4Dd0xA",
        "outputId": "787d9a23-4cd4-4d65-cf6c-fbbd71c9c38e"
      },
      "execution_count": 4,
      "outputs": [
        {
          "output_type": "stream",
          "name": "stdout",
          "text": [
            "\n",
            "The p-value (probability value) is the probability of observing your sample results, \n",
            "or something more extreme, assuming that the null hypothesis (H0) is true.\n",
            "\n",
            "Interpretation:\n",
            "- Small p-value (<= 0.05): Strong evidence against H0 — reject H0.\n",
            "- Large p-value (> 0.05): Weak evidence against H0 — fail to reject H0.\n",
            "\n",
            "Example:\n",
            "If a coin is flipped 100 times and you get 70 heads, the p-value tells you \n",
            "how likely that result is assuming the coin is fair (H0: p = 0.5).\n",
            "\n"
          ]
        }
      ]
    },
    {
      "cell_type": "markdown",
      "source": [
        "Q9. Generate a Student's t-distribution plot using Python's matplotlib library, with the degrees of freedom parameter set to 10.\n"
      ],
      "metadata": {
        "id": "kSqDDc_Xd5s4"
      }
    },
    {
      "cell_type": "code",
      "source": [
        "import numpy as np\n",
        "import matplotlib.pyplot as plt\n",
        "from scipy.stats import t\n",
        "\n",
        "# Degrees of freedom\n",
        "df = 10\n",
        "\n",
        "# Generate x values from -5 to 5\n",
        "x = np.linspace(-5, 5, 500)\n",
        "\n",
        "# Calculate the t-distribution PDF for each x\n",
        "y = t.pdf(x, df)\n",
        "\n",
        "# Plotting\n",
        "plt.figure(figsize=(8, 5))\n",
        "plt.plot(x, y, label=f\"t-distribution (df={df})\", color='blue')\n",
        "plt.title(\"Student's t-distribution (df=10)\")\n",
        "plt.xlabel(\"x\")\n",
        "plt.ylabel(\"Probability Density\")\n",
        "plt.grid(True)\n",
        "plt.legend()\n",
        "plt.show()\n"
      ],
      "metadata": {
        "colab": {
          "base_uri": "https://localhost:8080/",
          "height": 487
        },
        "id": "DmZ4thBreD22",
        "outputId": "ddc7f1db-1d4a-4bda-b1a9-167d5f64617d"
      },
      "execution_count": 5,
      "outputs": [
        {
          "output_type": "display_data",
          "data": {
            "text/plain": [
              "<Figure size 800x500 with 1 Axes>"
            ],
            "image/png": "[encoded data removed]"
          },
          "metadata": {}
        }
      ]
    },
    {
      "cell_type": "markdown",
      "source": [
        "Q10. Write a Python program to calculate the two-sample t-test for independent samples, given two random samples of equal size and a null hypothesis that the population means are equal.\n"
      ],
      "metadata": {
        "id": "4tpWdQpkeHLU"
      }
    },
    {
      "cell_type": "code",
      "source": [
        "import numpy as np\n",
        "from scipy.stats import ttest_ind\n",
        "\n",
        "def two_sample_ttest(sample1, sample2, alpha=0.05):\n",
        "    \"\"\"\n",
        "    Performs a two-sample t-test for independent samples.\n",
        "\n",
        "    Parameters:\n",
        "    - sample1: list or array of sample data from population 1\n",
        "    - sample2: list or array of sample data from population 2\n",
        "    - alpha: significance level (default 0.05)\n",
        "\n",
        "    Returns:\n",
        "    - t_stat: calculated t-statistic\n",
        "    - p_value: p-value of the test\n",
        "    - conclusion: decision about the null hypothesis\n",
        "    \"\"\"\n",
        "    t_stat, p_value = ttest_ind(sample1, sample2, equal_var=True)  # Assuming equal variances\n",
        "\n",
        "    if p_value < alpha:\n",
        "        conclusion = \"Reject the null hypothesis: Means are significantly different.\"\n",
        "    else:\n",
        "        conclusion = \"Fail to reject the null hypothesis: No significant difference in means.\"\n",
        "\n",
        "    return t_stat, p_value, conclusion\n",
        "\n",
        "# Example samples (equal size)\n",
        "sample1 = np.array([20, 22, 21, 23, 24])\n",
        "sample2 = np.array([30, 29, 31, 32, 28])\n",
        "\n",
        "t_stat, p_value, conclusion = two_sample_ttest(sample1, sample2)\n",
        "\n",
        "print(f\"T-statistic: {t_stat:.3f}\")\n",
        "print(f\"P-value: {p_value:.4f}\")\n",
        "print(\"Conclusion:\", conclusion)\n"
      ],
      "metadata": {
        "colab": {
          "base_uri": "https://localhost:8080/"
        },
        "id": "cHS1WVZUeSvn",
        "outputId": "a38a8d33-6c4e-4dae-f628-6ab191b3217d"
      },
      "execution_count": 6,
      "outputs": [
        {
          "output_type": "stream",
          "name": "stdout",
          "text": [
            "T-statistic: -8.000\n",
            "P-value: 0.0000\n",
            "Conclusion: Reject the null hypothesis: Means are significantly different.\n"
          ]
        }
      ]
    },
    {
      "cell_type": "markdown",
      "source": [
        "Q11: What is Student’s t distribution? When to use the t-Distribution.\n",
        "\n",
        "ans. Student’s t-distribution is a probability distribution that resembles the normal distribution but has heavier tails. It was introduced by William Sealy Gosset under the pseudonym \"Student.\" The shape of the t-distribution depends on the degrees of freedom, which are usually related to the sample size.\n",
        "\n",
        "The t-distribution is used primarily when the sample size is small (typically less than 30) and the population standard deviation is unknown. In such cases, the sample standard deviation is used to estimate the population standard deviation, which adds extra uncertainty. The t-distribution accounts for this by having wider tails compared to the normal distribution.\n",
        "\n",
        "As the sample size increases, the t-distribution approaches the normal distribution because the estimate of the population standard deviation becomes more accurate.\n",
        "\n",
        "Common uses of the t-distribution include constructing confidence intervals and performing hypothesis tests on the population mean when the population standard deviation is not known and the sample size is small.\n"
      ],
      "metadata": {
        "id": "ofXVkd5meUNq"
      }
    },
    {
      "cell_type": "markdown",
      "source": [
        "Q12: What is t-statistic? State the formula for t-statistic.\n",
        "\n",
        "ans.\n",
        "\n",
        "### What is t-statistic?\n",
        "\n",
        "The **t-statistic** is a value calculated from sample data during a t-test. It measures how far the sample mean is from the population mean (or another sample mean) in units of the estimated standard error. The t-statistic helps determine whether to reject the null hypothesis.\n",
        "\n",
        "### Formula for t-statistic\n",
        "\n",
        "For a **one-sample t-test** (testing sample mean against a known population mean):\n",
        "\n",
        "$$\n",
        "t = \\frac{\\bar{x} - \\mu}{s / \\sqrt{n}}\n",
        "$$\n",
        "\n",
        "Where:\n",
        "\n",
        "* $\\bar{x}$ = sample mean\n",
        "* $\\mu$ = population mean under the null hypothesis\n",
        "* $s$ = sample standard deviation\n",
        "* $n$ = sample size\n",
        "\n",
        "\n",
        "\n",
        "For a **two-sample t-test** (testing difference between two sample means, assuming equal variances):\n",
        "\n",
        "$$\n",
        "t = \\frac{\\bar{x}_1 - \\bar{x}_2}{s_p \\times \\sqrt{\\frac{1}{n_1} + \\frac{1}{n_2}}}\n",
        "$$\n",
        "\n",
        "Where:\n",
        "\n",
        "* $\\bar{x}_1, \\bar{x}_2$ = sample means of groups 1 and 2\n",
        "* $n_1, n_2$ = sample sizes\n",
        "* $s_p$ = pooled standard deviation calculated as:\n",
        "\n",
        "$$\n",
        "s_p = \\sqrt{\\frac{(n_1 -1)s_1^2 + (n_2 -1)s_2^2}{n_1 + n_2 - 2}}\n",
        "$$\n",
        "\n",
        "where $s_1, s_2$ are the sample standard deviations of the two groups.\n",
        "\n"
      ],
      "metadata": {
        "id": "sqsX0MBXegE3"
      }
    },
    {
      "cell_type": "markdown",
      "source": [
        "Q13. A coffee shop owner wants to estimate the average daily revenue for their shop. They take a random sample of 50 days and find the sample mean revenue to be $500 with a standard deviation of $50 Estimate the population mean revenue with a 95% confidence interval.\n",
        "\n",
        "ans.\n",
        "\n",
        "### Given:\n",
        "\n",
        "* Sample size, $n = 50$\n",
        "* Sample mean, $\\bar{x} = 500$\n",
        "* Sample standard deviation, $s = 50$\n",
        "* Confidence level = 95%\n",
        "\n",
        "\n",
        "\n",
        "### Step 1: Identify the critical t-value\n",
        "\n",
        "Since the population standard deviation is unknown and the sample size is less than 30 (here 50, but still we use t-distribution for safety), we use the **t-distribution** with degrees of freedom $df = n - 1 = 49$.\n",
        "\n",
        "Using a t-table or Python, the critical t-value for 95% confidence and df=49 is approximately:\n",
        "\n",
        "$$\n",
        "t^* \\approx 2.009\n",
        "$$\n",
        "\n",
        "\n",
        "\n",
        "### Step 2: Calculate the standard error (SE)\n",
        "\n",
        "$$\n",
        "SE = \\frac{s}{\\sqrt{n}} = \\frac{50}{\\sqrt{50}} \\approx \\frac{50}{7.071} \\approx 7.07\n",
        "$$\n",
        "\n",
        "\n",
        "\n",
        "### Step 3: Calculate the margin of error (ME)\n",
        "\n",
        "$$\n",
        "ME = t^* \\times SE = 2.009 \\times 7.07 \\approx 14.2\n",
        "$$\n",
        "\n",
        "\n",
        "\n",
        "### Step 4: Calculate the confidence interval (CI)\n",
        "\n",
        "$$\n",
        "\\text{Lower limit} = \\bar{x} - ME = 500 - 14.2 = 485.8\n",
        "$$\n",
        "\n",
        "$$\n",
        "\\text{Upper limit} = \\bar{x} + ME = 500 + 14.2 = 514.2\n",
        "$$\n",
        "\n",
        "\n",
        "\n",
        "### **Final answer:**\n",
        "\n",
        "The 95% confidence interval for the average daily revenue is:\n",
        "\n",
        "$$\n",
        "\\boxed{(485.8, 514.2)}\n",
        "$$\n",
        "\n",
        "This means the coffee shop owner can be 95% confident that the true average daily revenue lies between \\$485.80 and \\$514.20.\n",
        "\n"
      ],
      "metadata": {
        "id": "BN6x2zIlexY9"
      }
    },
    {
      "cell_type": "markdown",
      "source": [
        "Q14. A researcher hypothesizes that a new drug will decrease blood pressure by 10 mmHg. They conduct a clinical trial with 100 patients and find that the sample mean decrease in blood pressure is 8 mmHg with a standard deviation of 3 mmHg. Test the hypothesis with a significance level of 0.05.\n",
        "\n",
        "ans.\n",
        "\n",
        "### Given:\n",
        "\n",
        "* Sample size, $n = 100$\n",
        "* Sample mean decrease, $\\bar{x} = 8$ mmHg\n",
        "* Hypothesized mean decrease, $\\mu_0 = 10$ mmHg (from null hypothesis)\n",
        "* Sample standard deviation, $s = 3$ mmHg\n",
        "* Significance level, $\\alpha = 0.05$\n",
        "\n",
        "### Step 1: State the hypotheses\n",
        "\n",
        "* **Null hypothesis $H_0$:** The drug decreases blood pressure by **10 mmHg**\n",
        "  $H_0: \\mu = 10$\n",
        "\n",
        "* **Alternative hypothesis $H_a$:** The drug decreases blood pressure by **less than 10 mmHg**\n",
        "  $H_a: \\mu < 10$\n",
        "\n",
        "This is a **left-tailed test**.\n",
        "\n",
        "\n",
        "\n",
        "### Step 2: Calculate the test statistic (t-statistic)\n",
        "\n",
        "$$\n",
        "t = \\frac{\\bar{x} - \\mu_0}{s / \\sqrt{n}} = \\frac{8 - 10}{3 / \\sqrt{100}} = \\frac{-2}{3 / 10} = \\frac{-2}{0.3} = -6.67\n",
        "$$\n",
        "\n",
        "\n",
        "\n",
        "### Step 3: Find the critical t-value\n",
        "\n",
        "Degrees of freedom $df = n - 1 = 99$.\n",
        "\n",
        "At $\\alpha = 0.05$ for a left-tailed test and $df=99$, critical t-value $t_{critical} \\approx -1.66$ (from t-tables).\n",
        "\n",
        "\n",
        "\n",
        "### Step 4: Make a decision\n",
        "\n",
        "* Calculated $t = -6.67$\n",
        "* Critical $t_{critical} = -1.66$\n",
        "\n",
        "Since $-6.67 < -1.66$, **reject the null hypothesis**.\n",
        "\n",
        "\n",
        "### Step 5: Conclusion\n",
        "\n",
        "There is sufficient evidence at the 0.05 significance level to conclude that the new drug decreases blood pressure by **less than 10 mmHg** on average. The observed average decrease (8 mmHg) is significantly lower than the hypothesized 10 mmHg.\n",
        "\n",
        "\n",
        "\n",
        "If you want, I can also show you how to do this test in Python!\n",
        "\n"
      ],
      "metadata": {
        "id": "HFJ5tME4fNcW"
      }
    },
    {
      "cell_type": "markdown",
      "source": [
        "Q15. An electronics company produces a certain type of product with a mean weight of 5 pounds and a standard deviation of 0.5 pounds. A random sample of 25 products is taken, and the sample mean weight is found to be 4.8 pounds. Test the hypothesis that the true mean weight of the products is less than 5\n",
        "pounds with a significance level of 0.01.\n",
        "\n",
        "ans.\n",
        "\n"
      ],
      "metadata": {
        "id": "KQ-D0OLLfoFd"
      }
    },
    {
      "cell_type": "code",
      "source": [
        "from scipy.stats import norm\n",
        "import math\n",
        "\n",
        "# Given data\n",
        "mu_0 = 5         # hypothesized mean\n",
        "x_bar = 4.8      # sample mean\n",
        "sigma = 0.5      # population std deviation\n",
        "n = 25           # sample size\n",
        "alpha = 0.01     # significance level\n",
        "\n",
        "# Calculate z-test statistic\n",
        "z = (x_bar - mu_0) / (sigma / math.sqrt(n))\n",
        "\n",
        "# Find critical z-value (left-tailed test)\n",
        "z_critical = norm.ppf(alpha)\n",
        "\n",
        "print(f\"Test statistic (z): {z:.2f}\")\n",
        "print(f\"Critical value (z_critical): {z_critical:.2f}\")\n",
        "\n",
        "# Decision\n",
        "if z < z_critical:\n",
        "    print(\"Reject the null hypothesis: evidence suggests mean < 5\")\n",
        "else:\n",
        "    print(\"Do not reject the null hypothesis: insufficient evidence to conclude mean < 5\")\n"
      ],
      "metadata": {
        "colab": {
          "base_uri": "https://localhost:8080/"
        },
        "id": "GpGUCDeJgCr9",
        "outputId": "97e9c0db-7689-46d0-f054-55295a403d13"
      },
      "execution_count": 7,
      "outputs": [
        {
          "output_type": "stream",
          "name": "stdout",
          "text": [
            "Test statistic (z): -2.00\n",
            "Critical value (z_critical): -2.33\n",
            "Do not reject the null hypothesis: insufficient evidence to conclude mean < 5\n"
          ]
        }
      ]
    },
    {
      "cell_type": "markdown",
      "source": [
        "Q16. Two groups of students are given different study materials to prepare for a test. The first group (n1 = 30) has a mean score of 80 with a standard deviation of 10, and the second group (n2 = 40) has a mean score of 75 with a standard deviation of 8. Test the hypothesis that the population means for the two groups are equal with a significance level of 0.01.\n",
        "\n",
        "\n"
      ],
      "metadata": {
        "id": "DCKju1gJgEUO"
      }
    },
    {
      "cell_type": "code",
      "source": [
        "from scipy.stats import t\n",
        "import math\n",
        "\n",
        "# Given data\n",
        "n1, n2 = 30, 40\n",
        "x1_bar, x2_bar = 80, 75\n",
        "s1, s2 = 10, 8\n",
        "alpha = 0.01\n",
        "\n",
        "# Calculate t-statistic\n",
        "numerator = x1_bar - x2_bar\n",
        "denominator = math.sqrt(s1**2 / n1 + s2**2 / n2)\n",
        "t_stat = numerator / denominator\n",
        "\n",
        "# Calculate degrees of freedom (Welch-Satterthwaite equation)\n",
        "df_num = (s1**2 / n1 + s2**2 / n2)**2\n",
        "df_den = ((s1**2 / n1)**2) / (n1 - 1) + ((s2**2 / n2)**2) / (n2 - 1)\n",
        "df = df_num / df_den\n",
        "\n",
        "# Critical t value (two-tailed)\n",
        "t_critical = t.ppf(1 - alpha/2, df)\n",
        "\n",
        "print(f\"t-statistic: {t_stat:.3f}\")\n",
        "print(f\"Degrees of freedom: {df:.2f}\")\n",
        "print(f\"Critical t-value: ±{t_critical:.3f}\")\n",
        "\n",
        "if abs(t_stat) > t_critical:\n",
        "    print(\"Reject the null hypothesis: means are significantly different.\")\n",
        "else:\n",
        "    print(\"Do not reject the null hypothesis: no significant difference in means.\")\n"
      ],
      "metadata": {
        "colab": {
          "base_uri": "https://localhost:8080/"
        },
        "id": "JnV7x2pogmgY",
        "outputId": "eaf12f29-22a1-42eb-f74a-8d7669c64779"
      },
      "execution_count": 8,
      "outputs": [
        {
          "output_type": "stream",
          "name": "stdout",
          "text": [
            "t-statistic: 2.251\n",
            "Degrees of freedom: 54.23\n",
            "Critical t-value: ±2.670\n",
            "Do not reject the null hypothesis: no significant difference in means.\n"
          ]
        }
      ]
    },
    {
      "cell_type": "markdown",
      "source": [
        "Q17. A marketing company wants to estimate the average number of ads watched by viewers during a TV program. They take a random sample of 50 viewers and find that the sample mean is 4 with a standard deviation of 1.5. Estimate the population mean with a 99% confidence interval.\n",
        "\n",
        "ans. Given:\n",
        "Sample size,\n",
        "𝑛\n",
        "=\n",
        "50\n",
        "n=50\n",
        "\n",
        "Sample mean,\n",
        "𝑥\n",
        "ˉ\n",
        "=\n",
        "4\n",
        "x\n",
        "ˉ\n",
        " =4\n",
        "\n",
        "Sample standard deviation,\n",
        "𝑠\n",
        "=\n",
        "1.5\n",
        "s=1.5\n",
        "\n",
        "Confidence level = 99%\n",
        "\n",
        "Step 1: Identify the distribution\n",
        "Since population standard deviation is unknown and sample size is less than 30 (but here\n",
        "𝑛\n",
        "=\n",
        "50\n",
        "n=50 which is large), the t-distribution is generally used. For large samples, t and normal distribution values are close.\n",
        "\n",
        "Step 2: Find the critical t-value\n",
        "Degrees of freedom\n",
        "𝑑\n",
        "𝑓\n",
        "=\n",
        "𝑛\n",
        "−\n",
        "1\n",
        "=\n",
        "49\n",
        "df=n−1=49.\n",
        "\n",
        "For 99% confidence interval, two-tailed:\n",
        "\n",
        "𝛼\n",
        "=\n",
        "0.01\n",
        ",\n",
        "𝛼\n",
        "/\n",
        "2\n",
        "=\n",
        "0.005\n",
        "α=0.01,α/2=0.005\n",
        "Find\n",
        "𝑡\n",
        "𝛼\n",
        "/\n",
        "2\n",
        ",\n",
        "𝑑\n",
        "𝑓\n",
        "t\n",
        "α/2,df\n",
        "​\n",
        "  (critical t-value) from t-tables or Python.\n",
        "\n",
        "Step 3: Calculate the margin of error\n",
        "𝑀\n",
        "𝐸\n",
        "=\n",
        "𝑡\n",
        "𝛼\n",
        "/\n",
        "2\n",
        ",\n",
        "𝑑\n",
        "𝑓\n",
        "×\n",
        "𝑠\n",
        "𝑛\n",
        "ME=t\n",
        "α/2,df\n",
        "​\n",
        " ×\n",
        "n\n",
        "​\n",
        "\n",
        "s\n",
        "​\n",
        "\n",
        "Step 4: Calculate confidence interval\n",
        "𝐶\n",
        "𝐼\n",
        "=\n",
        "(\n",
        "𝑥\n",
        "ˉ\n",
        "−\n",
        "𝑀\n",
        "𝐸\n",
        ",\n",
        "𝑥\n",
        "ˉ\n",
        "+\n",
        "𝑀\n",
        "𝐸\n",
        ")\n",
        "CI=(\n",
        "x\n",
        "ˉ\n",
        " −ME,\n",
        "x\n",
        "ˉ\n",
        " +ME)\n",
        "\n",
        "\n"
      ],
      "metadata": {
        "id": "U-GRf1kfgojT"
      }
    },
    {
      "cell_type": "code",
      "source": [
        "from scipy.stats import t\n",
        "import math\n",
        "\n",
        "# Given data\n",
        "n = 50\n",
        "x_bar = 4\n",
        "s = 1.5\n",
        "confidence = 0.99\n",
        "\n",
        "# Degrees of freedom\n",
        "df = n - 1\n",
        "\n",
        "# Critical t-value\n",
        "alpha = 1 - confidence\n",
        "t_critical = t.ppf(1 - alpha/2, df)\n",
        "\n",
        "# Margin of Error\n",
        "ME = t_critical * (s / math.sqrt(n))\n",
        "\n",
        "# Confidence Interval\n",
        "lower_bound = x_bar - ME\n",
        "upper_bound = x_bar + ME\n",
        "\n",
        "print(f\"99% Confidence Interval for population mean: ({lower_bound:.3f}, {upper_bound:.3f})\")\n"
      ],
      "metadata": {
        "colab": {
          "base_uri": "https://localhost:8080/"
        },
        "id": "slHm_PiOg547",
        "outputId": "a5e769d3-2e8e-4855-ca3c-e3a936304bdd"
      },
      "execution_count": 9,
      "outputs": [
        {
          "output_type": "stream",
          "name": "stdout",
          "text": [
            "99% Confidence Interval for population mean: (3.431, 4.569)\n"
          ]
        }
      ]
    }
  ]
}