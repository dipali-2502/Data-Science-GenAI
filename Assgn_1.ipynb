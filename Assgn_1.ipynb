{
  "nbformat": 4,
  "nbformat_minor": 0,
  "metadata": {
    "colab": {
      "provenance": []
    },
    "kernelspec": {
      "name": "python3",
      "display_name": "Python 3"
    },
    "language_info": {
      "name": "python"
    }
  },
  "cells": [
    {
      "cell_type": "markdown",
      "source": [
        "# Theortical Questions"
      ],
      "metadata": {
        "id": "ty8PMfLnNwPr"
      }
    },
    {
      "cell_type": "markdown",
      "source": [
        "1. What is Python, and why is it popular?"
      ],
      "metadata": {
        "id": "-pcS7iyxNz_p"
      }
    },
    {
      "cell_type": "markdown",
      "source": [
        "Python is a high level object oriented programming language and it is popular because it has very clean and simple syntax which is very easy to learn and write."
      ],
      "metadata": {
        "id": "Ko_aQ2stN5Db"
      }
    },
    {
      "cell_type": "markdown",
      "source": [
        "2. What is an interpreter in Python?"
      ],
      "metadata": {
        "id": "i-jJTNkvOAYm"
      }
    },
    {
      "cell_type": "markdown",
      "source": [
        "Interpreter  is a program that execute python code easily without compiling it in machine language. It is direct and easy."
      ],
      "metadata": {
        "id": "3NVmRS4hOQSd"
      }
    },
    {
      "cell_type": "markdown",
      "source": [
        "3. What are pre-defined keywords in Python?"
      ],
      "metadata": {
        "id": "uqCEvoL7OWlN"
      }
    },
    {
      "cell_type": "markdown",
      "source": [
        "Pre-defined keywords are some reserved words in python and used to define the syntax of coding which cannot use it anywhere else. They carry some special meanings, some example of predefined keywords are lambda , if ,else, pass."
      ],
      "metadata": {
        "id": "TuMjahJxObAN"
      }
    },
    {
      "cell_type": "markdown",
      "source": [
        "4. Can keywords be used as variable names?"
      ],
      "metadata": {
        "id": "F6RZTXbrOnkG"
      }
    },
    {
      "cell_type": "markdown",
      "source": [
        "No, keywords cannot be used as variable names, keywords are reserved and predefined. If we will use keywords as variable it will show syntax error."
      ],
      "metadata": {
        "id": "4PLPiyG-OtVs"
      }
    },
    {
      "cell_type": "markdown",
      "source": [
        "5. What is mutability in Python?\n"
      ],
      "metadata": {
        "id": "E-f2pdR8OuYW"
      }
    },
    {
      "cell_type": "markdown",
      "source": [
        "In python, if a data type is mutable it can be changed, updated and modified.\n",
        "Example- Dictionaries, lists, sets"
      ],
      "metadata": {
        "id": "0OHKKQ7ePBV-"
      }
    },
    {
      "cell_type": "markdown",
      "source": [
        "6. Why are lists mutable, but tuples are immutable?"
      ],
      "metadata": {
        "id": "ji4uoNw_PCY6"
      }
    },
    {
      "cell_type": "markdown",
      "source": [
        "Lists are mutable because we can change and update it after creating it.Tuples are immutable because when its created it can't be changed."
      ],
      "metadata": {
        "id": "RKwP4CcFPJDx"
      }
    },
    {
      "cell_type": "markdown",
      "source": [
        "7. What is the difference between “==” and “is” operators in Python?"
      ],
      "metadata": {
        "id": "8LhCZYpMPUjx"
      }
    },
    {
      "cell_type": "markdown",
      "source": [
        "It is used for comparison. == is a equal to symbol when we have to compare either two values are same or not, on other hand “is” is a identity operator."
      ],
      "metadata": {
        "id": "k5hbR70mPaJ2"
      }
    },
    {
      "cell_type": "markdown",
      "source": [
        "8. What are logical operators in Python?"
      ],
      "metadata": {
        "id": "KE5fvFYOPibN"
      }
    },
    {
      "cell_type": "markdown",
      "source": [
        "They are used to check if condition are true or false and then give us result\n",
        " We use “and “ when both conditions must be True.\n",
        " We  use “or” when at least one condition can be True.\n",
        "  We use “not” for reverse a condition\n"
      ],
      "metadata": {
        "id": "onkT-iQkPnI6"
      }
    },
    {
      "cell_type": "markdown",
      "source": [
        "9. What is type casting in Python?"
      ],
      "metadata": {
        "id": "yWpBy6xSPsbV"
      }
    },
    {
      "cell_type": "markdown",
      "source": [
        "When we need to run operations on different data types we use type casting to change one data type to another data type. Simply changing your data type into another type."
      ],
      "metadata": {
        "id": "XYOsMxB9PyNZ"
      }
    },
    {
      "cell_type": "markdown",
      "source": [
        "10. What is the difference between implicit and explicit type casting?"
      ],
      "metadata": {
        "id": "R3hKtDSQP31l"
      }
    },
    {
      "cell_type": "markdown",
      "source": [
        "Implicit type casting is automatic conversion of one data type to another by compiler whereas explicit type casting stands for manual type change which requires a programmer to change it manually.\n"
      ],
      "metadata": {
        "id": "ZHU4LeebQAJH"
      }
    },
    {
      "cell_type": "markdown",
      "source": [
        "11. What is the purpose of conditional statements in Python?"
      ],
      "metadata": {
        "id": "LpIbZGZOQQOc"
      }
    },
    {
      "cell_type": "markdown",
      "source": [
        "The purpose of conditional statements is to decide if a condition is true or false. It tells the programme to execute any action depending on the condition."
      ],
      "metadata": {
        "id": "7N3LxR2TQU32"
      }
    },
    {
      "cell_type": "markdown",
      "source": [
        "12. How does the elif statement work?"
      ],
      "metadata": {
        "id": "WxYex1yaQe-w"
      }
    },
    {
      "cell_type": "markdown",
      "source": [
        "It is used to check multiple conditions. If first condition is not met then its automatically move to the next condition."
      ],
      "metadata": {
        "id": "7LtzqU3JQk5N"
      }
    },
    {
      "cell_type": "markdown",
      "source": [
        "13. What is the difference between for and while loops?"
      ],
      "metadata": {
        "id": "ildsuaZtQx-I"
      }
    },
    {
      "cell_type": "markdown",
      "source": [
        "When we exactly know how many times we want to repeat something then we use for loop. And we use while loop when we don't know how many times we want to repeat and it until specific condition becomes false."
      ],
      "metadata": {
        "id": "YDtc7BYeQ1Rc"
      }
    },
    {
      "cell_type": "markdown",
      "source": [
        "14. Describe a scenario where a while loop is more suitable than a for loop?"
      ],
      "metadata": {
        "id": "AddNib-PRHaX"
      }
    },
    {
      "cell_type": "markdown",
      "source": [
        "I am building a program that asks a user to guess right ans who is the pm of india. And we don't know how many guesses the user will take, so here while loop works better."
      ],
      "metadata": {
        "id": "oe4FDX8rRMpQ"
      }
    },
    {
      "cell_type": "markdown",
      "source": [
        "# Practical Questions"
      ],
      "metadata": {
        "id": "2UUSC8sdvd80"
      }
    },
    {
      "cell_type": "markdown",
      "source": [
        "1. Write a Python program to print \"Hello, World!"
      ],
      "metadata": {
        "id": "dbBdnN8_v4SG"
      }
    },
    {
      "cell_type": "code",
      "execution_count": 1,
      "metadata": {
        "colab": {
          "base_uri": "https://localhost:8080/",
          "height": 0
        },
        "id": "2NuMmiYGvK1D",
        "outputId": "e4cf735c-db00-40e6-8fcd-3023dda79478"
      },
      "outputs": [
        {
          "output_type": "stream",
          "name": "stdout",
          "text": [
            "Hello, World!\n"
          ]
        }
      ],
      "source": [
        "print('Hello, World!')"
      ]
    },
    {
      "cell_type": "markdown",
      "source": [
        "2. Write a Python program that displays your name and age"
      ],
      "metadata": {
        "id": "gblmi0fhwRtO"
      }
    },
    {
      "cell_type": "markdown",
      "source": [],
      "metadata": {
        "id": "DUgUtrds3IxB"
      }
    },
    {
      "cell_type": "code",
      "source": [
        "name = \"Dipali\"\n",
        "age = 23\n",
        "\n",
        "print('Name: {}, Age: {}'.format(name, age))"
      ],
      "metadata": {
        "colab": {
          "base_uri": "https://localhost:8080/",
          "height": 0
        },
        "id": "0FEjAg1u2_Yw",
        "outputId": "ef0796ea-5a93-4d98-afee-3d30fdf72b3a"
      },
      "execution_count": 3,
      "outputs": [
        {
          "output_type": "stream",
          "name": "stdout",
          "text": [
            "Name: Dipali, Age: 23\n"
          ]
        }
      ]
    },
    {
      "cell_type": "markdown",
      "source": [
        "3. Write code to print all the pre-defined keywords in Python using the keyword library"
      ],
      "metadata": {
        "id": "z8EQVLth3cwR"
      }
    },
    {
      "cell_type": "code",
      "source": [
        "import keyword\n",
        "\n",
        "print(\"All keywords are : \")\n",
        "print(keyword.kwlist)"
      ],
      "metadata": {
        "colab": {
          "base_uri": "https://localhost:8080/",
          "height": 0
        },
        "id": "MDhx2zDT3gn2",
        "outputId": "35857dc3-167e-499d-b467-a43c18c75028"
      },
      "execution_count": 5,
      "outputs": [
        {
          "output_type": "stream",
          "name": "stdout",
          "text": [
            "All keywords are : \n",
            "['False', 'None', 'True', 'and', 'as', 'assert', 'async', 'await', 'break', 'class', 'continue', 'def', 'del', 'elif', 'else', 'except', 'finally', 'for', 'from', 'global', 'if', 'import', 'in', 'is', 'lambda', 'nonlocal', 'not', 'or', 'pass', 'raise', 'return', 'try', 'while', 'with', 'yield']\n"
          ]
        }
      ]
    },
    {
      "cell_type": "markdown",
      "source": [
        "4.  Write a program that checks if a given word is a Python keyword"
      ],
      "metadata": {
        "id": "lJ6VzeMp4AmD"
      }
    },
    {
      "cell_type": "code",
      "source": [
        "import keyword\n",
        "\n",
        "word = \"and\"\n",
        "\n",
        "if keyword.iskeyword(word):\n",
        "  print(\"Given word is a Python keyword\")\n",
        "else:\n",
        "  print(\"Given word is not a Python keyword\")"
      ],
      "metadata": {
        "colab": {
          "base_uri": "https://localhost:8080/"
        },
        "id": "-cW7QYrR4B_B",
        "outputId": "f111141a-a39b-4d0c-f8c3-8b84fd319b51"
      },
      "execution_count": 37,
      "outputs": [
        {
          "output_type": "stream",
          "name": "stdout",
          "text": [
            "Given word is a Python keyword\n"
          ]
        }
      ]
    },
    {
      "cell_type": "markdown",
      "source": [
        "5. Create a list and tuple in Python, and demonstrate how attempting to change an element works differently\n",
        "for each"
      ],
      "metadata": {
        "id": "uOy-caqY5UOU"
      }
    },
    {
      "cell_type": "code",
      "source": [
        "list = ['a', 'b', 'c', 'd']\n",
        "tuple = ('a', 'b', 'c', 'd')\n",
        "\n",
        "list[0] = 'e';\n",
        "\n",
        "print(list)\n",
        "\n",
        "try:\n",
        "  tuple[0] = 'e'\n",
        "except TypeError as e:\n",
        "  print(\"Error:\", e)"
      ],
      "metadata": {
        "colab": {
          "base_uri": "https://localhost:8080/"
        },
        "id": "stAPCIYN5WIb",
        "outputId": "dee831c9-ba70-43ec-8117-3b08a6069e5f"
      },
      "execution_count": 38,
      "outputs": [
        {
          "output_type": "stream",
          "name": "stdout",
          "text": [
            "['e', 'b', 'c', 'd']\n",
            "Error: 'tuple' object does not support item assignment\n"
          ]
        }
      ]
    },
    {
      "cell_type": "markdown",
      "source": [
        "6. Write a function to demonstrate the behavior of mutable and immutable arguments"
      ],
      "metadata": {
        "id": "IoOT49E66dha"
      }
    },
    {
      "cell_type": "code",
      "source": [
        "def demMutability(list, number):\n",
        "  list.append('e')\n",
        "  number = number + 1\n",
        "  print(\"Inside the function:\")\n",
        "  print(\"List is:\", list)\n",
        "  print(\"Number is:\", number)\n",
        "\n",
        "list = ['a', 'b', 'c', 'd']\n",
        "num = 10\n",
        "\n",
        "demMutability(list, num)\n",
        "\n",
        "print(\"\\nOutside the function:\")\n",
        "print(\"List is:\", list)\n",
        "print(\"Number is:\", num)"
      ],
      "metadata": {
        "colab": {
          "base_uri": "https://localhost:8080/",
          "height": 0
        },
        "id": "3sZdVvUL6ff8",
        "outputId": "f7d76df8-6033-4ebc-aa8e-3883ad97aa35"
      },
      "execution_count": 16,
      "outputs": [
        {
          "output_type": "stream",
          "name": "stdout",
          "text": [
            "Inside the function:\n",
            "List is: ['a', 'b', 'c', 'd', 'e']\n",
            "Number is: 11\n",
            "\n",
            "Outside the function:\n",
            "List is: ['a', 'b', 'c', 'd', 'e']\n",
            "Number is: 10\n"
          ]
        }
      ]
    },
    {
      "cell_type": "markdown",
      "source": [
        "7. Write a program to demonstrate the use of logical operators"
      ],
      "metadata": {
        "id": "-EReG0MpIGlg"
      }
    },
    {
      "cell_type": "code",
      "source": [
        "a = True\n",
        "b = False\n",
        "print(\"a and b:\", a and b)\n",
        "print(\"a or b:\", a or b)\n",
        "print(\"not a:\", not a)\n",
        "print(\"not b:\", not b)"
      ],
      "metadata": {
        "colab": {
          "base_uri": "https://localhost:8080/",
          "height": 0
        },
        "id": "0GXWYoQkIYoU",
        "outputId": "6fc049f5-ec19-44f9-97c5-da6c7fdf7030"
      },
      "execution_count": 17,
      "outputs": [
        {
          "output_type": "stream",
          "name": "stdout",
          "text": [
            "a and b: False\n",
            "a or b: True\n",
            "not a: False\n",
            "not b: True\n"
          ]
        }
      ]
    },
    {
      "cell_type": "markdown",
      "source": [
        "8. Write a Python program to convert user input from string to integer, float, and boolean types"
      ],
      "metadata": {
        "id": "B7TSeY6eIqo-"
      }
    },
    {
      "cell_type": "code",
      "source": [
        "def change_data_types(input):\n",
        "    integer_value = int(input)\n",
        "    float_value = float(input)\n",
        "    boolean_value = bool(input)\n",
        "    return integer_value, float_value, boolean_value\n",
        "\n",
        "user_input = input(\"Enter a value: \")\n",
        "integer_val, float_val, boolean_val = change_data_types(user_input)\n",
        "\n",
        "print(f\"Integer is: {integer_val}\")\n",
        "print(f\"Float is : {float_val}\")\n",
        "print(f\"Boolean is : {boolean_val}\")"
      ],
      "metadata": {
        "colab": {
          "base_uri": "https://localhost:8080/",
          "height": 0
        },
        "id": "fEHaRk6SIsN_",
        "outputId": "c71a5909-19d1-4f31-d24c-b70269137af6"
      },
      "execution_count": 18,
      "outputs": [
        {
          "output_type": "stream",
          "name": "stdout",
          "text": [
            "Enter a value: 4\n",
            "Integer is: 4\n",
            "Float is : 4.0\n",
            "Boolean is : True\n"
          ]
        }
      ]
    },
    {
      "cell_type": "markdown",
      "source": [
        "9. Write code to demonstrate type casting with list elements"
      ],
      "metadata": {
        "id": "Ua9rmv3uJY2k"
      }
    },
    {
      "cell_type": "code",
      "source": [
        "def cast_list(list, data_type):\n",
        "    return [data_type(item) for item in list]\n",
        "\n",
        "list = [0, '1', '2', '3', '4']\n",
        "\n",
        "float_list = cast_list(list, float)\n",
        "print(\"Float list is:\", float_list)\n",
        "\n",
        "int_list = cast_list(list, int)\n",
        "print(\"Integer list is:\", int_list)\n",
        "\n",
        "bool_list = cast_list(list, bool)\n",
        "print(\"Boolean list is:\", bool_list)"
      ],
      "metadata": {
        "colab": {
          "base_uri": "https://localhost:8080/",
          "height": 0
        },
        "id": "oXb0pWELJdUZ",
        "outputId": "8b9e3dec-dced-41c8-88eb-63969aa164c9"
      },
      "execution_count": 27,
      "outputs": [
        {
          "output_type": "stream",
          "name": "stdout",
          "text": [
            "Float list is: [0.0, 1.0, 2.0, 3.0, 4.0]\n",
            "Integer list is: [0, 1, 2, 3, 4]\n",
            "Boolean list is: [False, True, True, True, True]\n"
          ]
        }
      ]
    },
    {
      "cell_type": "markdown",
      "source": [
        "10. Write a program that checks if a number is positive, negative, or zero"
      ],
      "metadata": {
        "id": "-PI8P272LROZ"
      }
    },
    {
      "cell_type": "code",
      "source": [
        "def check_number(num):\n",
        "  if num > 0:\n",
        "    return \"Positive\"\n",
        "  elif num < 0:\n",
        "    return \"Negative\"\n",
        "  else:\n",
        "    return \"Zero\"\n",
        "\n",
        "number = float(input(\"Enter a number: \"))\n",
        "\n",
        "result = check_number(number)\n",
        "print(f\"The number is: {result}\")"
      ],
      "metadata": {
        "colab": {
          "base_uri": "https://localhost:8080/",
          "height": 0
        },
        "id": "io8s9By6LS9T",
        "outputId": "9e5a9962-4f09-44c9-f05f-ccd58e37eccd"
      },
      "execution_count": 30,
      "outputs": [
        {
          "output_type": "stream",
          "name": "stdout",
          "text": [
            "Enter a number: 0\n",
            "The number is: Zero\n"
          ]
        }
      ]
    },
    {
      "cell_type": "markdown",
      "source": [
        "11. Write a for loop to print numbers from 1 to 10"
      ],
      "metadata": {
        "id": "7XZEtzbeMOHy"
      }
    },
    {
      "cell_type": "code",
      "source": [
        "for i in range(1, 11):\n",
        "  print(i)"
      ],
      "metadata": {
        "colab": {
          "base_uri": "https://localhost:8080/",
          "height": 0
        },
        "id": "uvFcqvinMTDg",
        "outputId": "f2789bdc-8fb1-4dd5-d697-abc4cb4ceb65"
      },
      "execution_count": 31,
      "outputs": [
        {
          "output_type": "stream",
          "name": "stdout",
          "text": [
            "1\n",
            "2\n",
            "3\n",
            "4\n",
            "5\n",
            "6\n",
            "7\n",
            "8\n",
            "9\n",
            "10\n"
          ]
        }
      ]
    },
    {
      "cell_type": "markdown",
      "source": [
        "12. Write a Python program to find the sum of all even numbers between 1 and 50"
      ],
      "metadata": {
        "id": "iyK0YERJMhMr"
      }
    },
    {
      "cell_type": "code",
      "source": [
        "sum = 0\n",
        "for number in range(1, 51):\n",
        "    if number % 2 == 0:\n",
        "        sum += number\n",
        "print(\"The sum of all even numbers between 1 and 50 is:\", sum)"
      ],
      "metadata": {
        "colab": {
          "base_uri": "https://localhost:8080/",
          "height": 0
        },
        "id": "nqMO0PT3Mi1t",
        "outputId": "8fe0159e-8edf-4cbd-9a68-206777f495fc"
      },
      "execution_count": 32,
      "outputs": [
        {
          "output_type": "stream",
          "name": "stdout",
          "text": [
            "The sum of all even numbers between 1 and 50 is: 650\n"
          ]
        }
      ]
    },
    {
      "cell_type": "markdown",
      "source": [
        "13. Write a program to reverse a string using a while loop"
      ],
      "metadata": {
        "id": "UhArrfoyM3h3"
      }
    },
    {
      "cell_type": "code",
      "source": [
        "def reverse_string(string):\n",
        "    reversed_string = \"\"\n",
        "    index = len(string) - 1\n",
        "    while index >= 0:\n",
        "        reversed_string += string[index]\n",
        "        index -= 1\n",
        "    return reversed_string\n",
        "\n",
        "string = input(\"Enter a string: \")\n",
        "reversed_string = reverse_string(string)\n",
        "print(\"Reversed string is:\", reversed_string)"
      ],
      "metadata": {
        "colab": {
          "base_uri": "https://localhost:8080/",
          "height": 0
        },
        "id": "rfP8z6_OM5K1",
        "outputId": "3691e790-be14-43f4-8953-87c10fd76c2f"
      },
      "execution_count": 34,
      "outputs": [
        {
          "output_type": "stream",
          "name": "stdout",
          "text": [
            "Enter a string: jugfyfdudxryj\n",
            "Reversed string is: jyrxdudfyfguj\n"
          ]
        }
      ]
    },
    {
      "cell_type": "markdown",
      "source": [
        "14. Write a Python program to calculate the factorial of a number provided by the user using a while loop"
      ],
      "metadata": {
        "id": "Zql4XK6cNXZl"
      }
    },
    {
      "cell_type": "code",
      "source": [
        "def factorial(n):\n",
        "  if n < 0:\n",
        "    return \"Factorial is not defined for negative numbers.\"\n",
        "  elif n == 0:\n",
        "    return 1\n",
        "  else:\n",
        "    factorial = 1\n",
        "    while n > 1:\n",
        "      factorial *= n\n",
        "      n -= 1\n",
        "    return factorial\n",
        "\n",
        "num = int(input(\"Enter a integer: \"))\n",
        "result = factorial(num)\n",
        "print(f\"The factorial of {num} is: {result}\")"
      ],
      "metadata": {
        "colab": {
          "base_uri": "https://localhost:8080/",
          "height": 0
        },
        "id": "DCKXn9mINZTG",
        "outputId": "8bb42208-0670-43ca-c4bb-dabbf39be77e"
      },
      "execution_count": 35,
      "outputs": [
        {
          "output_type": "stream",
          "name": "stdout",
          "text": [
            "Enter a integer: 7\n",
            "The factorial of 7 is: 5040\n"
          ]
        }
      ]
    }
  ]
}