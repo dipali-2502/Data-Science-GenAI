{
  "nbformat": 4,
  "nbformat_minor": 0,
  "metadata": {
    "colab": {
      "provenance": []
    },
    "kernelspec": {
      "name": "python3",
      "display_name": "Python 3"
    },
    "language_info": {
      "name": "python"
    }
  },
  "cells": [
    {
      "cell_type": "markdown",
      "source": [
        "###Ensemble Learning"
      ],
      "metadata": {
        "id": "BNlsPiEYRVY6"
      }
    },
    {
      "cell_type": "markdown",
      "source": [
        "1.  Can we use Bagging for regression problems?\n",
        "\n",
        "ans. Yes, Bagging (Bootstrap Aggregating) can be used for regression problems.\n",
        "\n",
        "How it works in regression:\n",
        "Bagging creates multiple training datasets by randomly sampling (with replacement) from the original training data.\n",
        "\n",
        "A regression model, such as a Decision Tree Regressor, is trained on each of these datasets.\n",
        "\n",
        "The final prediction is made by averaging the predictions from all the individual models.\n"
      ],
      "metadata": {
        "id": "Os7cCww8Rhpu"
      }
    },
    {
      "cell_type": "markdown",
      "source": [
        "2.  What is the difference between multiple model training and single model training?\n",
        "\n",
        "ans.\n",
        "\n",
        "**Single Model Training** uses one model for the entire task.\n",
        "\n",
        "* Simple, fast, easy to manage\n",
        "* May miss complex patterns\n",
        "\n",
        "**Multiple Model Training** uses several models (e.g., per segment or combined in ensembles).\n",
        "\n",
        "* More accurate, handles complex data\n",
        "* More complex and resource-heavy\n",
        "\n"
      ],
      "metadata": {
        "id": "PVnfqOA5SCBt"
      }
    },
    {
      "cell_type": "markdown",
      "source": [
        "3. Explain the concept of feature randomness in Random Forest?\n",
        "\n",
        "ans.\n",
        "\n",
        " **Feature randomness in Random Forest** refers to the process of selecting a **random subset of features** at each split in the decision trees.\n",
        "\n",
        "### Why it's used:\n",
        "\n",
        "To introduce **diversity** among the trees, which reduces correlation between them and improves overall model accuracy and generalization.\n",
        "\n",
        "### How it works:\n",
        "\n",
        "* At each node split, instead of considering **all features**, Random Forest picks a **random subset** (usually √(total features) for classification).\n",
        "* The best split is chosen from this subset.\n",
        "\n",
        "### Benefit:\n",
        "\n",
        "* Reduces overfitting\n",
        "* Makes the ensemble more robust and less biased\n"
      ],
      "metadata": {
        "id": "wubTaFAaSjsh"
      }
    },
    {
      "cell_type": "markdown",
      "source": [
        "4.  What is OOB (Out-of-Bag) Score?\n",
        "\n",
        "ans. **OOB (Out-of-Bag) Score** is a way to **evaluate the performance** of a Random Forest model **without using a separate validation set**.\n",
        "\n",
        "### How it works:\n",
        "\n",
        "* In Random Forest, each tree is trained on a **bootstrap sample** (random sample with replacement) of the data.\n",
        "* About **one-third** of the data is **not included** in that sample — these are called **Out-of-Bag samples**.\n",
        "* The tree is tested on its OOB samples, and the error is recorded.\n",
        "\n",
        "### OOB Score:\n",
        "\n",
        "* It's the **average accuracy (or error)** of all trees on their respective OOB samples.\n",
        "* Acts like a built-in cross-validation score.\n",
        "\n",
        "### Benefit:\n",
        "\n",
        "* Saves time and data — no need for separate validation.\n",
        "* Gives a reliable estimate of model performance.\n",
        "\n"
      ],
      "metadata": {
        "id": "2D-hror1Syvr"
      }
    },
    {
      "cell_type": "markdown",
      "source": [
        "5. How can you measure the importance of features in a Random Forest model?\n",
        "\n",
        "ans. we can measure feature importance in a Random Forest model using two main methods:\n",
        "\n",
        "\n",
        "\n",
        "### 1. **Mean Decrease in Impurity (MDI)**\n",
        "\n",
        "* Measures how much each feature reduces impurity (e.g., Gini index) when used in tree splits.\n",
        "* Higher impurity reduction = more important feature.\n",
        "* Automatically computed by most libraries (e.g., `feature_importances_` in scikit-learn).\n",
        "\n",
        "\n",
        "\n",
        "### 2. **Permutation Importance (Mean Decrease in Accuracy)**\n",
        "\n",
        "* Randomly shuffle values of one feature and measure how much the model’s accuracy drops.\n",
        "* A larger drop means the feature is more important.\n",
        "\n",
        "\n"
      ],
      "metadata": {
        "id": "eKFVy_6IXjS2"
      }
    },
    {
      "cell_type": "markdown",
      "source": [
        "6.  Explain the working principle of a Bagging Classifier?\n",
        "\n",
        "ans.\n",
        "\n",
        "### Bagging Classifier – Working Principle\n",
        "\n",
        "**Bagging** (Bootstrap Aggregating) is an ensemble method that improves model accuracy and reduces overfitting by training multiple models on random subsets of data.\n",
        "\n",
        "**Steps:**\n",
        "\n",
        "1. **Bootstrap Sampling**: Create multiple datasets by sampling the original data with replacement.\n",
        "2. **Train Models**: Fit a base learner (e.g., decision tree) on each dataset.\n",
        "3. **Aggregate Predictions**:\n",
        "\n",
        "   * **Classification**: Use majority voting.\n",
        "   * **Regression**: Take the average.\n",
        "\n"
      ],
      "metadata": {
        "id": "eb04Z2CLW5OE"
      }
    },
    {
      "cell_type": "markdown",
      "source": [
        "7.  How do you evaluate a Bagging Classifier’s performance?\n",
        "\n",
        "ans.\n",
        "1. **Train-Test Split or Cross-Validation**\n",
        "\n",
        "   * Split the data into training and testing sets, or use k-fold cross-validation to assess performance reliably.\n",
        "\n",
        "2. **Performance Metrics** (for classification):\n",
        "\n",
        "   * **Accuracy**: Overall correctness.\n",
        "   * **Precision & Recall**: Useful for imbalanced data.\n",
        "   * **F1-Score**: Harmonic mean of precision and recall.\n",
        "   * **Confusion Matrix**: Shows true vs. predicted classes.\n",
        "   * **ROC-AUC Score**: Measures classification quality across thresholds.\n",
        "\n",
        "3. **Compare with Baseline**\n",
        "\n",
        "   * Compare against individual base learners or simpler models to see the benefit of bagging.\n",
        "\n",
        "4. **Check Variance Reduction**\n",
        "\n",
        "   * Bagging usually reduces model variance. Compare standard deviations of predictions if needed.\n",
        "\n",
        "5. **Out-of-Bag (OOB) Score**\n",
        "\n",
        "   * Built-in feature for Bagging: uses unused samples during bootstrapping to evaluate performance without separate test data.\n",
        "\n"
      ],
      "metadata": {
        "id": "N6mwN2U9Xdyz"
      }
    },
    {
      "cell_type": "markdown",
      "source": [
        "8.  How does a Bagging Regressor work?\n",
        "\n",
        "ans.\n",
        "\n",
        "### 1. **Bagging Classifier – Working Principle**\n",
        "\n",
        "* Trains multiple models on different random subsets (with replacement) of data.\n",
        "* Combines predictions by **majority vote** (for classification).\n",
        "* Reduces variance and overfitting.\n",
        "* Example: Random Forest.\n",
        "\n",
        "\n",
        "### 2. **Evaluating Bagging Classifier**\n",
        "\n",
        "* Use **train-test split** or **cross-validation**.\n",
        "* Metrics: **Accuracy**, **Precision**, **Recall**, **F1-score**, **ROC-AUC**.\n",
        "* Use **OOB score** for built-in evaluation.\n",
        "* Compare with single model to see improvement.\n",
        "\n",
        "\n",
        "### 3. **Bagging Regressor – Working**\n",
        "\n",
        "* Trains multiple regressors on bootstrapped data.\n",
        "* Final prediction = **average** of all outputs.\n",
        "* Reduces overfitting, improves stability.\n",
        "* Works well with high-variance models.\n"
      ],
      "metadata": {
        "id": "i8H_2yzaX0a5"
      }
    },
    {
      "cell_type": "markdown",
      "source": [
        "9.  What is the main advantage of ensemble techniques?\n",
        "\n",
        "ans. ### Main Advantage of Ensemble Techniques (Brief Explanation)\n",
        "\n",
        "The main advantage is that they **combine multiple models** to make more **accurate and reliable predictions** than any single model alone.\n",
        "\n",
        "* **Reduce Variance**: Methods like **Bagging** (e.g., Random Forest) help avoid overfitting by averaging predictions.\n",
        "* **Reduce Bias**: Methods like **Boosting** (e.g., AdaBoost) focus on errors and improve weak models.\n",
        "* **More Robust**: Ensemble models are less sensitive to noise and changes in data.\n",
        "\n",
        "**Result**: Higher accuracy, better generalization, and more stable predictions.\n",
        "\n"
      ],
      "metadata": {
        "id": "GuRHrLnFYOrO"
      }
    },
    {
      "cell_type": "markdown",
      "source": [
        "10.  What is the main challenge of ensemble methods?\n",
        "\n",
        "ans.  Main Challenge of Ensemble Methods\n",
        "\n",
        "The main challenge is **increased complexity**.\n",
        "\n",
        "* **Hard to Interpret**: Combining many models makes the final output less transparent.\n",
        "* **High Computational Cost**: Training multiple models takes more time and resources.\n",
        "* **Risk of Overfitting** (in some ensembles like boosting, if not tuned properly).\n",
        "* **Difficult to Tune**: More hyperparameters and interactions to manage.\n",
        "\n",
        "In short: better performance, but at the cost of **complexity and interpretability**.\n",
        "\n"
      ],
      "metadata": {
        "id": "Tsu1UzTRYpf5"
      }
    },
    {
      "cell_type": "markdown",
      "source": [
        "11. Explain the key idea behind ensemble techniques?\n",
        "\n",
        "ans.  Key Idea Behind Ensemble Techniques\n",
        "\n",
        "The key idea of ensemble techniques is to **combine multiple weak models** to create a stronger overall model. This approach improves the model’s performance by leveraging the strengths of each individual model and reducing their individual weaknesses.\n",
        "\n",
        "* **Diversification**: Different models make different errors, so combining them reduces overall error.\n",
        "* **Aggregation**: Use methods like **voting** (for classification) or **averaging** (for regression) to combine predictions from multiple models.\n",
        "* **Improved Accuracy**: The ensemble is typically more accurate, stable, and generalizable than a single model.\n",
        "\n"
      ],
      "metadata": {
        "id": "LjdfwzuaY2EP"
      }
    },
    {
      "cell_type": "markdown",
      "source": [
        "12. What is a Random Forest Classifier?\n",
        "\n",
        "ans. Random Forest Classifier\n",
        "\n",
        "A **Random Forest Classifier** is an ensemble learning method that combines multiple decision trees to improve classification accuracy.\n",
        "\n",
        "#### Key Features:\n",
        "\n",
        "* **Bootstrap Sampling**: Multiple datasets are created by sampling with replacement from the original data.\n",
        "* **Random Feature Selection**: During each split in a decision tree, a random subset of features is considered.\n",
        "* **Majority Voting**: The final classification is determined by majority voting from all trees in the forest.\n",
        "\n",
        "#### Advantages:\n",
        "\n",
        "* **Reduces Overfitting**: Aggregates the predictions of many trees, making it less prone to overfitting.\n",
        "* **Handles High Variance**: Works well for complex datasets with high variance.\n",
        "* **Robust and Accurate**: Performs well in various types of data without heavy tuning.\n",
        "\n",
        "In short, a **Random Forest Classifier** is a powerful model that builds multiple decision trees and combines their results to make a more accurate and robust prediction.\n",
        "\n"
      ],
      "metadata": {
        "id": "OJto-NuBeSrM"
      }
    },
    {
      "cell_type": "markdown",
      "source": [
        "13. What are the main types of ensemble techniques?\n",
        "\n",
        "ans.  Main Types of Ensemble Techniques\n",
        "\n",
        "1. **Bagging (Bootstrap Aggregating)**\n",
        "\n",
        "   * **Idea**: Trains multiple models (typically the same type) on different random subsets of the data (with replacement).\n",
        "   * **Example**: Random Forest.\n",
        "   * **Goal**: Reduces variance and overfitting.\n",
        "\n",
        "2. **Boosting**\n",
        "\n",
        "   * **Idea**: Trains models sequentially, each model corrects the errors of the previous one by giving more weight to misclassified instances.\n",
        "   * **Example**: AdaBoost, Gradient Boosting.\n",
        "   * **Goal**: Reduces bias and improves prediction accuracy.\n",
        "\n",
        "3. **Stacking**\n",
        "\n",
        "   * **Idea**: Combines different types of models (base models) and uses a meta-model to combine their predictions.\n",
        "   * **Example**: Using a logistic regression model to combine outputs from decision trees, SVMs, etc.\n",
        "   * **Goal**: Leverages the strengths of multiple diverse models.\n",
        "\n",
        "4. **Voting**\n",
        "\n",
        "   * **Idea**: Combines the predictions of multiple models by taking a majority vote (for classification) or average (for regression).\n",
        "   * **Example**: Hard Voting (majority class wins) and Soft Voting (probabilities averaged).\n",
        "   * **Goal**: Combines the diverse outputs from multiple models.\n",
        "\n",
        "These methods are used to improve model performance by combining multiple weak learners into a stronger, more accurate model.\n",
        "\n"
      ],
      "metadata": {
        "id": "yyudGglSew7P"
      }
    },
    {
      "cell_type": "markdown",
      "source": [
        "14. What is ensemble learning in machine learning?\n",
        "\n",
        "ans.\n",
        "### Ensemble Learning in Machine Learning\n",
        "\n",
        "**Ensemble learning** is a technique where multiple models (often called \"learners\") are combined to solve a problem and improve performance compared to a single model.\n",
        "\n",
        "#### Key Ideas:\n",
        "\n",
        "* **Combining Predictions**: Multiple models are trained independently, and their predictions are aggregated (e.g., by voting for classification or averaging for regression).\n",
        "* **Improves Accuracy**: The combined model tends to perform better by reducing errors and improving stability.\n",
        "* **Reduces Overfitting**: Ensemble methods like Bagging (e.g., Random Forest) reduce variance, while Boosting reduces bias.\n",
        "\n",
        "#### Common Ensemble Methods:\n",
        "\n",
        "* **Bagging**: Uses multiple models trained on different subsets of the data (e.g., Random Forest).\n",
        "* **Boosting**: Models are trained sequentially, each focusing on the mistakes made by previous ones (e.g., AdaBoost, Gradient Boosting).\n",
        "* **Stacking**: Combines different types of models, using a meta-model to make the final prediction.\n",
        "\n",
        "In short, **ensemble learning** leverages the power of multiple models to make more robust, accurate predictions.\n"
      ],
      "metadata": {
        "id": "7de2eHdJfFqz"
      }
    },
    {
      "cell_type": "markdown",
      "source": [
        "15. When should we avoid using ensemble methods?\n",
        "\n",
        "ans.  When to Avoid Using Ensemble Methods:\n",
        "\n",
        "1. **High Computational Cost**:\n",
        "\n",
        "   * If you have limited resources or need real-time predictions, the computational overhead of training and maintaining multiple models can be prohibitive.\n",
        "\n",
        "2. **Simple Problems**:\n",
        "\n",
        "   * For relatively simple problems where a single model (like a decision tree or linear regression) already performs well, using an ensemble method may not provide significant improvements and can unnecessarily complicate the solution.\n",
        "\n",
        "3. **Interpretability Concerns**:\n",
        "\n",
        "   * If interpretability is a key requirement (e.g., in some regulatory or medical applications), ensemble methods like Random Forests or Boosting may be difficult to explain due to their complex structure.\n",
        "\n",
        "4. **Small Datasets**:\n",
        "\n",
        "   * Ensemble methods can lead to overfitting when used with very small datasets, especially if the individual models are already highly complex.\n",
        "\n",
        "5. **Imbalanced Datasets**:\n",
        "\n",
        "   * If the dataset is highly imbalanced, ensemble methods may still favor the majority class. Proper techniques like sampling or adjusting class weights should be considered.\n",
        "\n",
        "In these cases, simpler models might be more appropriate.\n",
        "\n"
      ],
      "metadata": {
        "id": "7WbGvIZWfiyr"
      }
    },
    {
      "cell_type": "markdown",
      "source": [
        "16. How does Bagging help in reducing overfitting?\n",
        "\n",
        "\n",
        "ans. How Bagging Helps in Reducing Overfitting\n",
        "\n",
        "**Bagging** (Bootstrap Aggregating) reduces overfitting by combining predictions from multiple models trained on different random subsets of the data. Here’s how it helps:\n",
        "\n",
        "1. **Averaging/Minority Voting**:\n",
        "\n",
        "   * By aggregating the predictions (averaging for regression, majority voting for classification), Bagging smooths out the individual errors of each model, leading to more stable and generalizable predictions.\n",
        "\n",
        "2. **Reduces Variance**:\n",
        "\n",
        "   * Overfitting occurs when a model becomes too sensitive to noise in the training data. Bagging reduces the variance of individual models by training them on different random subsets of data, so the model as a whole is less likely to overfit.\n",
        "\n",
        "3. **Training on Random Subsets**:\n",
        "\n",
        "   * Since each model is trained on a different subset of the data, each one has a slightly different view, reducing the likelihood that any one model will fit noise or outliers in the data.\n",
        "\n",
        "4. **Parallel Training**:\n",
        "\n",
        "   * Training multiple models in parallel means that the final ensemble is less likely to overfit the data compared to a single, overtrained model.\n",
        "\n"
      ],
      "metadata": {
        "id": "Iv00Gs3cf9VW"
      }
    },
    {
      "cell_type": "markdown",
      "source": [
        "17.  Why is Random Forest better than a single Decision Tree?\n",
        "\n",
        "ans.  Why Random Forest is Better than a Single Decision Tree\n",
        "\n",
        "1. **Reduces Overfitting**:\n",
        "\n",
        "   * A single decision tree is prone to overfitting, especially with complex data. Random Forest reduces this by averaging multiple trees, which reduces the model's variance.\n",
        "\n",
        "2. **Improved Accuracy**:\n",
        "\n",
        "   * Random Forest combines the predictions of many trees, leading to better overall accuracy. Each tree might make different errors, but the aggregation of results tends to give a more accurate prediction.\n",
        "\n",
        "3. **Handles Complex Data**:\n",
        "\n",
        "   * Random Forest is more robust and can handle a wide range of data, including noisy and missing data, better than a single decision tree.\n",
        "\n",
        "4. **More Robust to Outliers**:\n",
        "\n",
        "   * A single decision tree can be overly influenced by outliers, but Random Forest averages over many trees, making it less sensitive to outliers.\n",
        "\n",
        "5. **Feature Importance**:\n",
        "\n",
        "   * Random Forest can provide insights into feature importance, whereas a single decision tree might not give as detailed or reliable feature ranking.\n",
        "\n",
        "\n"
      ],
      "metadata": {
        "id": "SbujQJJmgP9O"
      }
    },
    {
      "cell_type": "markdown",
      "source": [
        "18.  What is the role of bootstrap sampling in Bagging?\n",
        "\n",
        "ans. Role of Bootstrap Sampling in Bagging\n",
        "\n",
        "**Bootstrap sampling** is a key technique in Bagging (Bootstrap Aggregating) that plays a crucial role in improving model performance. Here's how it works:\n",
        "\n",
        "1. **Create Multiple Training Sets**:\n",
        "\n",
        "   * Randomly select subsets of the original data with **replacement** (i.e., some instances may appear multiple times, while others may be missing). This is known as **bootstrap sampling**.\n",
        "\n",
        "2. **Independence in Models**:\n",
        "\n",
        "   * Each subset is used to train a different model (typically the same type, like decision trees). These models are trained independently of each other.\n",
        "\n",
        "3. **Reduces Overfitting**:\n",
        "\n",
        "   * By training on different data subsets, each model is less likely to overfit on noise or outliers in the data. The diversity among models helps reduce overfitting in the final ensemble.\n",
        "\n",
        "4. **Enhances Accuracy**:\n",
        "\n",
        "   * The aggregated predictions (via voting or averaging) from these different models lead to more stable and accurate predictions than any individual model, especially when the data is noisy.\n",
        "\n",
        "\n"
      ],
      "metadata": {
        "id": "MqmvDx1Lgqju"
      }
    },
    {
      "cell_type": "markdown",
      "source": [
        "19. What are some real-world applications of ensemble techniques?\n",
        "\n",
        "ans.  Real-World Applications of Ensemble Techniques\n",
        "\n",
        "1. **Financial Sector**:\n",
        "\n",
        "   * **Credit Scoring**: Predicting loan defaults using models like Random Forest or Gradient Boosting to improve accuracy and reduce risk.\n",
        "   * **Stock Price Prediction**: Combining multiple models to forecast market trends and stock prices.\n",
        "\n",
        "2. **Healthcare**:\n",
        "\n",
        "   * **Disease Prediction**: Ensemble methods like Random Forest are used to predict diseases based on patient data, improving accuracy and robustness in diagnosis.\n",
        "   * **Medical Imaging**: Combining various image classification models to detect anomalies like tumors in radiology scans.\n",
        "\n",
        "3. **E-commerce**:\n",
        "\n",
        "   * **Recommendation Systems**: Using ensemble models to provide better product recommendations by combining predictions from different algorithms (e.g., collaborative filtering + content-based filtering).\n",
        "   * **Customer Churn Prediction**: Predicting customer churn with higher precision by using ensemble methods.\n",
        "\n",
        "4. **Natural Language Processing (NLP)**:\n",
        "\n",
        "   * **Sentiment Analysis**: Combining predictions from multiple classifiers (e.g., SVM, Naive Bayes) for better sentiment analysis of reviews or social media posts.\n",
        "   * **Spam Detection**: Using ensemble techniques to classify emails as spam or not spam with higher accuracy.\n",
        "\n",
        "5. **Image and Speech Recognition**:\n",
        "\n",
        "   * **Face Recognition**: Improving face recognition accuracy by combining multiple models, such as Convolutional Neural Networks (CNNs) with other classifiers.\n",
        "   * **Speech-to-Text**: Combining different machine learning models for more accurate speech recognition systems.\n",
        "\n",
        "6. **Fraud Detection**:\n",
        "\n",
        "   * **Credit Card Fraud**: Ensemble models, like Random Forest or XGBoost, help identify fraudulent transactions by combining results from various classifiers.\n",
        "\n",
        "7. **Weather Forecasting**:\n",
        "\n",
        "   * Combining predictions from different weather models (ensemble forecasting) improves prediction accuracy in areas like temperature and precipitation.\n",
        "\n",
        "\n"
      ],
      "metadata": {
        "id": "xLZyp04ihELt"
      }
    },
    {
      "cell_type": "markdown",
      "source": [
        "20.  What is the difference between Bagging and Boosting?\n",
        "\n",
        "\n",
        "ans.\n",
        "\n",
        "### **Difference Between Bagging and Boosting**\n",
        "\n",
        "1. **Approach**:\n",
        "\n",
        "   * **Bagging**: Bagging stands for **Bootstrap Aggregating**. It uses parallel training of multiple models independently. Each model is trained on a random subset of the training data (with replacement). The final prediction is made by aggregating the predictions from all individual models.\n",
        "   * **Boosting**: Boosting is a sequential method where each model is trained one after the other. Each new model focuses on the errors made by the previous models, thus correcting them. The models in boosting are combined by weighted voting or summing.\n",
        "\n",
        "2. **Model Training**:\n",
        "\n",
        "   * **Bagging**: In bagging, each model is trained independently, typically using the same algorithm (e.g., decision trees), but on different bootstrapped subsets of the data. The idea is to reduce variance by combining many models.\n",
        "   * **Boosting**: In boosting, models are trained sequentially. Each new model tries to correct the errors made by the previous model, putting more weight on misclassified instances.\n",
        "\n",
        "3. **Goal**:\n",
        "\n",
        "   * **Bagging**: The primary goal of bagging is to reduce **variance** (i.e., overfitting). By averaging or voting over multiple models, the randomness in individual models is reduced, resulting in a more stable and generalized model.\n",
        "   * **Boosting**: Boosting's goal is to reduce **bias** (i.e., underfitting). It improves the model's accuracy by focusing on the mistakes made by previous models, resulting in stronger models that improve over time.\n",
        "\n",
        "4. **Data Subsets**:\n",
        "\n",
        "   * **Bagging**: Uses **bootstrap sampling**, meaning it generates multiple subsets of data by randomly sampling from the original dataset with replacement.\n",
        "   * **Boosting**: Uses the **entire dataset** for each model, but assigns more weight to the misclassified instances from previous models, ensuring that errors are corrected in the next iteration.\n",
        "\n",
        "5. **Aggregation**:\n",
        "\n",
        "   * **Bagging**: The predictions from multiple models are aggregated by **majority voting** (for classification) or **averaging** (for regression) to make the final prediction.\n",
        "   * **Boosting**: The predictions are combined by **weighted voting** or summing, where each model's contribution is weighted based on its accuracy.\n",
        "\n",
        "6. **Example Algorithms**:\n",
        "\n",
        "   * **Bagging**: Common algorithms include **Random Forest** and **Bagged Decision Trees**.\n",
        "   * **Boosting**: Common algorithms include **AdaBoost**, **Gradient Boosting**, and **XGBoost**.\n",
        "\n",
        "7. **Impact on Errors**:\n",
        "\n",
        "   * **Bagging**: Bagging mainly reduces **variance**, making it effective for models that are prone to overfitting (e.g., decision trees).\n",
        "   * **Boosting**: Boosting primarily reduces **bias**, making it effective for models that are underfitting and improving the accuracy of weak models.\n",
        "\n",
        "8. **Parallelization**:\n",
        "\n",
        "   * **Bagging**: Since the models are trained independently, bagging can be easily **parallelized** for faster computation.\n",
        "   * **Boosting**: Boosting cannot be fully parallelized because models are trained sequentially, where each model depends on the previous one.\n",
        "\n"
      ],
      "metadata": {
        "id": "_NBD4XU8hrYb"
      }
    },
    {
      "cell_type": "markdown",
      "source": [
        "###Practical"
      ],
      "metadata": {
        "id": "IwdFp-_OibPm"
      }
    },
    {
      "cell_type": "markdown",
      "source": [
        "21.  Train a Bagging Classifier using Decision Trees on a sample dataset and print model accuracy?\n"
      ],
      "metadata": {
        "id": "_pkp21Kyiim2"
      }
    },
    {
      "cell_type": "code",
      "source": [
        "# Import necessary libraries\n",
        "from sklearn.ensemble import BaggingClassifier\n",
        "from sklearn.tree import DecisionTreeClassifier\n",
        "from sklearn.datasets import load_iris\n",
        "from sklearn.model_selection import train_test_split\n",
        "from sklearn.metrics import accuracy_score\n",
        "\n",
        "# Load the Iris dataset\n",
        "data = load_iris()\n",
        "X = data.data  # Features\n",
        "y = data.target  # Labels\n",
        "\n",
        "# Split the dataset into training and testing sets\n",
        "X_train, X_test, y_train, y_test = train_test_split(X, y, test_size=0.3, random_state=42)\n",
        "\n",
        "# Create a Bagging Classifier with Decision Tree as the base estimator\n",
        "bagging_clf = BaggingClassifier(DecisionTreeClassifier(), n_estimators=50, random_state=42)\n",
        "\n",
        "# Train the model\n",
        "bagging_clf.fit(X_train, y_train)\n",
        "\n",
        "# Make predictions on the test set\n",
        "y_pred = bagging_clf.predict(X_test)\n",
        "\n",
        "# Calculate the accuracy of the model\n",
        "accuracy = accuracy_score(y_test, y_pred)\n",
        "\n",
        "# Print the model accuracy\n",
        "print(f'Model Accuracy: {accuracy * 100:.2f}%')\n"
      ],
      "metadata": {
        "colab": {
          "base_uri": "https://localhost:8080/"
        },
        "id": "aNL1q1yUkPXs",
        "outputId": "d75afb57-7777-494f-94d7-80113fd8e077"
      },
      "execution_count": 4,
      "outputs": [
        {
          "output_type": "stream",
          "name": "stdout",
          "text": [
            "Model Accuracy: 100.00%\n"
          ]
        }
      ]
    },
    {
      "cell_type": "markdown",
      "source": [
        "23.  Train a Random Forest Classifier on the Breast Cancer dataset and print feature importance scores?\n"
      ],
      "metadata": {
        "id": "Z81-V9kpkVEw"
      }
    },
    {
      "cell_type": "code",
      "source": [
        "# Import necessary libraries\n",
        "from sklearn.ensemble import RandomForestClassifier\n",
        "from sklearn.datasets import load_breast_cancer\n",
        "from sklearn.model_selection import train_test_split\n",
        "from sklearn.metrics import accuracy_score\n",
        "\n",
        "# Load the Breast Cancer dataset\n",
        "data = load_breast_cancer()\n",
        "X = data.data  # Features\n",
        "y = data.target  # Labels\n",
        "\n",
        "# Split the dataset into training and testing sets\n",
        "X_train, X_test, y_train, y_test = train_test_split(X, y, test_size=0.3, random_state=42)\n",
        "\n",
        "# Create and train a Random Forest Classifier\n",
        "rf_clf = RandomForestClassifier(n_estimators=100, random_state=42)\n",
        "rf_clf.fit(X_train, y_train)\n",
        "\n",
        "# Make predictions on the test set\n",
        "y_pred = rf_clf.predict(X_test)\n",
        "\n",
        "# Calculate the accuracy of the model\n",
        "accuracy = accuracy_score(y_test, y_pred)\n",
        "\n",
        "# Print the model accuracy\n",
        "print(f'Model Accuracy: {accuracy * 100:.2f}%')\n",
        "\n",
        "# Print the feature importance scores\n",
        "feature_importances = rf_clf.feature_importances_\n",
        "print(\"Feature Importance Scores:\")\n",
        "for feature, importance in zip(data.feature_names, feature_importances):\n",
        "    print(f\"{feature}: {importance:.4f}\")\n"
      ],
      "metadata": {
        "colab": {
          "base_uri": "https://localhost:8080/"
        },
        "id": "4to2wqrpkcpG",
        "outputId": "eae7f2fd-2da1-485e-f4e0-023a23697cef"
      },
      "execution_count": 5,
      "outputs": [
        {
          "output_type": "stream",
          "name": "stdout",
          "text": [
            "Model Accuracy: 97.08%\n",
            "Feature Importance Scores:\n",
            "mean radius: 0.0323\n",
            "mean texture: 0.0111\n",
            "mean perimeter: 0.0601\n",
            "mean area: 0.0538\n",
            "mean smoothness: 0.0062\n",
            "mean compactness: 0.0092\n",
            "mean concavity: 0.0806\n",
            "mean concave points: 0.1419\n",
            "mean symmetry: 0.0033\n",
            "mean fractal dimension: 0.0031\n",
            "radius error: 0.0164\n",
            "texture error: 0.0032\n",
            "perimeter error: 0.0118\n",
            "area error: 0.0295\n",
            "smoothness error: 0.0059\n",
            "compactness error: 0.0046\n",
            "concavity error: 0.0058\n",
            "concave points error: 0.0034\n",
            "symmetry error: 0.0040\n",
            "fractal dimension error: 0.0071\n",
            "worst radius: 0.0780\n",
            "worst texture: 0.0188\n",
            "worst perimeter: 0.0743\n",
            "worst area: 0.1182\n",
            "worst smoothness: 0.0118\n",
            "worst compactness: 0.0175\n",
            "worst concavity: 0.0411\n",
            "worst concave points: 0.1271\n",
            "worst symmetry: 0.0129\n",
            "worst fractal dimension: 0.0069\n"
          ]
        }
      ]
    },
    {
      "cell_type": "markdown",
      "source": [
        "24. Train a Random Forest Regressor and compare its performance with a single Decision Tree?\n"
      ],
      "metadata": {
        "id": "hWYlsi84klDn"
      }
    },
    {
      "cell_type": "code",
      "source": [
        "# Import necessary libraries\n",
        "from sklearn.ensemble import RandomForestRegressor\n",
        "from sklearn.tree import DecisionTreeRegressor\n",
        "from sklearn.datasets import fetch_california_housing\n",
        "from sklearn.model_selection import train_test_split\n",
        "from sklearn.metrics import mean_squared_error\n",
        "\n",
        "# Load the California Housing dataset\n",
        "data = fetch_california_housing()\n",
        "X = data.data  # Features\n",
        "y = data.target  # Target variable (house values)\n",
        "\n",
        "# Split the dataset into training and testing sets\n",
        "X_train, X_test, y_train, y_test = train_test_split(X, y, test_size=0.3, random_state=42)\n",
        "\n",
        "# Create and train a Random Forest Regressor\n",
        "rf_regressor = RandomForestRegressor(n_estimators=100, random_state=42)\n",
        "rf_regressor.fit(X_train, y_train)\n",
        "\n",
        "# Create and train a single Decision Tree Regressor\n",
        "dt_regressor = DecisionTreeRegressor(random_state=42)\n",
        "dt_regressor.fit(X_train, y_train)\n",
        "\n",
        "# Make predictions on the test set for both models\n",
        "y_pred_rf = rf_regressor.predict(X_test)\n",
        "y_pred_dt = dt_regressor.predict(X_test)\n",
        "\n",
        "# Calculate the Mean Squared Error (MSE) for both models\n",
        "mse_rf = mean_squared_error(y_test, y_pred_rf)\n",
        "mse_dt = mean_squared_error(y_test, y_pred_dt)\n",
        "\n",
        "# Print the MSE for both models\n",
        "print(f'Mean Squared Error of Random Forest Regressor: {mse_rf:.4f}')\n",
        "print(f'Mean Squared Error of Decision Tree Regressor: {mse_dt:.4f}')\n"
      ],
      "metadata": {
        "colab": {
          "base_uri": "https://localhost:8080/"
        },
        "id": "gGh5Lcj8kp34",
        "outputId": "d96961b4-59e3-4a76-96ec-8322d46ca085"
      },
      "execution_count": 6,
      "outputs": [
        {
          "output_type": "stream",
          "name": "stdout",
          "text": [
            "Mean Squared Error of Random Forest Regressor: 0.2565\n",
            "Mean Squared Error of Decision Tree Regressor: 0.5280\n"
          ]
        }
      ]
    },
    {
      "cell_type": "markdown",
      "source": [
        "24. Compute the Out-of-Bag (OOB) Score for a Random Forest Classifier?\n"
      ],
      "metadata": {
        "id": "NOWhZBh_lPdQ"
      }
    },
    {
      "cell_type": "code",
      "source": [
        "# Import necessary libraries\n",
        "from sklearn.ensemble import RandomForestClassifier\n",
        "from sklearn.datasets import load_breast_cancer\n",
        "from sklearn.model_selection import train_test_split\n",
        "\n",
        "# Load the Breast Cancer dataset\n",
        "data = load_breast_cancer()\n",
        "X = data.data\n",
        "y = data.target\n",
        "\n",
        "# Split the dataset (optional, just to match general workflow)\n",
        "X_train, X_test, y_train, y_test = train_test_split(X, y, test_size=0.3, random_state=42)\n",
        "\n",
        "# Train a Random Forest Classifier with OOB scoring enabled\n",
        "rf_clf = RandomForestClassifier(n_estimators=100, oob_score=True, bootstrap=True, random_state=42)\n",
        "rf_clf.fit(X_train, y_train)\n",
        "\n",
        "# Print the Out-of-Bag score\n",
        "print(f'OOB Score: {rf_clf.oob_score_:.4f}')\n"
      ],
      "metadata": {
        "colab": {
          "base_uri": "https://localhost:8080/"
        },
        "id": "MnDItNYVlVTM",
        "outputId": "2951947f-8271-4f16-ba71-db6ee47b9fde"
      },
      "execution_count": 7,
      "outputs": [
        {
          "output_type": "stream",
          "name": "stdout",
          "text": [
            "OOB Score: 0.9548\n"
          ]
        }
      ]
    },
    {
      "cell_type": "markdown",
      "source": [
        "26. Train a Bagging Classifier using SVM as a base estimator and print accuracy?\n"
      ],
      "metadata": {
        "id": "jH5n47H5lg4B"
      }
    },
    {
      "cell_type": "code",
      "source": [
        "# Import necessary libraries\n",
        "from sklearn.ensemble import BaggingClassifier\n",
        "from sklearn.svm import SVC\n",
        "from sklearn.datasets import load_iris\n",
        "from sklearn.model_selection import train_test_split\n",
        "from sklearn.metrics import accuracy_score\n",
        "\n",
        "# Load the Iris dataset\n",
        "data = load_iris()\n",
        "X = data.data\n",
        "y = data.target\n",
        "\n",
        "# Split the dataset into training and testing sets\n",
        "X_train, X_test, y_train, y_test = train_test_split(X, y, test_size=0.3, random_state=42)\n",
        "\n",
        "# Create a Bagging Classifier with SVM as the base estimator\n",
        "bagging_svm = BaggingClassifier(estimator=SVC(), n_estimators=10, random_state=42)\n",
        "\n",
        "# Train the model\n",
        "bagging_svm.fit(X_train, y_train)\n",
        "\n",
        "# Make predictions\n",
        "y_pred = bagging_svm.predict(X_test)\n",
        "\n",
        "# Calculate and print accuracy\n",
        "accuracy = accuracy_score(y_test, y_pred)\n",
        "print(f'Model Accuracy: {accuracy * 100:.2f}%')\n"
      ],
      "metadata": {
        "colab": {
          "base_uri": "https://localhost:8080/"
        },
        "id": "1NhHOWLLlmvh",
        "outputId": "08b9ba7c-323e-4bc3-8ec2-f60eee9dbc46"
      },
      "execution_count": 8,
      "outputs": [
        {
          "output_type": "stream",
          "name": "stdout",
          "text": [
            "Model Accuracy: 100.00%\n"
          ]
        }
      ]
    },
    {
      "cell_type": "markdown",
      "source": [
        "27. Train a Random Forest Classifier with different numbers of trees and compare accuracy?\n"
      ],
      "metadata": {
        "id": "RAB1tYO7l1mv"
      }
    },
    {
      "cell_type": "code",
      "source": [
        "# Import necessary libraries\n",
        "from sklearn.ensemble import RandomForestClassifier\n",
        "from sklearn.datasets import load_iris\n",
        "from sklearn.model_selection import train_test_split\n",
        "from sklearn.metrics import accuracy_score\n",
        "\n",
        "# Load the Iris dataset\n",
        "data = load_iris()\n",
        "X = data.data\n",
        "y = data.target\n",
        "\n",
        "# Split the data\n",
        "X_train, X_test, y_train, y_test = train_test_split(X, y, test_size=0.3, random_state=42)\n",
        "\n",
        "# Define different numbers of trees to compare\n",
        "tree_counts = [1, 5, 10, 50, 100]\n",
        "print(\"Number of Trees | Accuracy\")\n",
        "\n",
        "# Train and evaluate for each tree count\n",
        "for n in tree_counts:\n",
        "    clf = RandomForestClassifier(n_estimators=n, random_state=42)\n",
        "    clf.fit(X_train, y_train)\n",
        "    y_pred = clf.predict(X_test)\n",
        "    accuracy = accuracy_score(y_test, y_pred)\n",
        "    print(f\"{n:>15} | {accuracy:.4f}\")\n"
      ],
      "metadata": {
        "colab": {
          "base_uri": "https://localhost:8080/"
        },
        "id": "i4mYsPeol89A",
        "outputId": "239eec03-6197-402f-aeaa-11293bd2165d"
      },
      "execution_count": 9,
      "outputs": [
        {
          "output_type": "stream",
          "name": "stdout",
          "text": [
            "Number of Trees | Accuracy\n",
            "              1 | 1.0000\n",
            "              5 | 1.0000\n",
            "             10 | 1.0000\n",
            "             50 | 1.0000\n",
            "            100 | 1.0000\n"
          ]
        }
      ]
    },
    {
      "cell_type": "markdown",
      "source": [
        "28. Train a Bagging Classifier using Logistic Regression as a base estimator and print AUC score?\n"
      ],
      "metadata": {
        "id": "ATDS_0JgmF-2"
      }
    },
    {
      "cell_type": "code",
      "source": [
        "# Import libraries\n",
        "from sklearn.ensemble import BaggingClassifier\n",
        "from sklearn.linear_model import LogisticRegression\n",
        "from sklearn.datasets import load_breast_cancer\n",
        "from sklearn.model_selection import train_test_split\n",
        "from sklearn.metrics import roc_auc_score\n",
        "\n",
        "# Load dataset\n",
        "data = load_breast_cancer()\n",
        "X = data.data\n",
        "y = data.target\n",
        "\n",
        "# Split data\n",
        "X_train, X_test, y_train, y_test = train_test_split(X, y, test_size=0.3, random_state=42)\n",
        "\n",
        "# Create Bagging Classifier with Logistic Regression\n",
        "bagging_lr = BaggingClassifier(estimator=LogisticRegression(max_iter=1000), n_estimators=10, random_state=42)\n",
        "\n",
        "# Train model\n",
        "bagging_lr.fit(X_train, y_train)\n",
        "\n",
        "# Predict probabilities for AUC\n",
        "y_prob = bagging_lr.predict_proba(X_test)[:, 1]\n",
        "\n",
        "# Compute and print AUC score\n",
        "auc_score = roc_auc_score(y_test, y_prob)\n",
        "print(f'AUC Score: {auc_score:.4f}')\n"
      ],
      "metadata": {
        "colab": {
          "base_uri": "https://localhost:8080/"
        },
        "id": "4FgqIYNynMWu",
        "outputId": "d05b5a34-03af-415c-9daa-a95a66dcd17e"
      },
      "execution_count": 10,
      "outputs": [
        {
          "output_type": "stream",
          "name": "stderr",
          "text": [
            "/usr/local/lib/python3.11/dist-packages/sklearn/linear_model/_logistic.py:465: ConvergenceWarning: lbfgs failed to converge (status=1):\n",
            "STOP: TOTAL NO. OF ITERATIONS REACHED LIMIT.\n",
            "\n",
            "Increase the number of iterations (max_iter) or scale the data as shown in:\n",
            "    https://scikit-learn.org/stable/modules/preprocessing.html\n",
            "Please also refer to the documentation for alternative solver options:\n",
            "    https://scikit-learn.org/stable/modules/linear_model.html#logistic-regression\n",
            "  n_iter_i = _check_optimize_result(\n",
            "/usr/local/lib/python3.11/dist-packages/sklearn/linear_model/_logistic.py:465: ConvergenceWarning: lbfgs failed to converge (status=1):\n",
            "STOP: TOTAL NO. OF ITERATIONS REACHED LIMIT.\n",
            "\n",
            "Increase the number of iterations (max_iter) or scale the data as shown in:\n",
            "    https://scikit-learn.org/stable/modules/preprocessing.html\n",
            "Please also refer to the documentation for alternative solver options:\n",
            "    https://scikit-learn.org/stable/modules/linear_model.html#logistic-regression\n",
            "  n_iter_i = _check_optimize_result(\n",
            "/usr/local/lib/python3.11/dist-packages/sklearn/linear_model/_logistic.py:465: ConvergenceWarning: lbfgs failed to converge (status=1):\n",
            "STOP: TOTAL NO. OF ITERATIONS REACHED LIMIT.\n",
            "\n",
            "Increase the number of iterations (max_iter) or scale the data as shown in:\n",
            "    https://scikit-learn.org/stable/modules/preprocessing.html\n",
            "Please also refer to the documentation for alternative solver options:\n",
            "    https://scikit-learn.org/stable/modules/linear_model.html#logistic-regression\n",
            "  n_iter_i = _check_optimize_result(\n",
            "/usr/local/lib/python3.11/dist-packages/sklearn/linear_model/_logistic.py:465: ConvergenceWarning: lbfgs failed to converge (status=1):\n",
            "STOP: TOTAL NO. OF ITERATIONS REACHED LIMIT.\n",
            "\n",
            "Increase the number of iterations (max_iter) or scale the data as shown in:\n",
            "    https://scikit-learn.org/stable/modules/preprocessing.html\n",
            "Please also refer to the documentation for alternative solver options:\n",
            "    https://scikit-learn.org/stable/modules/linear_model.html#logistic-regression\n",
            "  n_iter_i = _check_optimize_result(\n",
            "/usr/local/lib/python3.11/dist-packages/sklearn/linear_model/_logistic.py:465: ConvergenceWarning: lbfgs failed to converge (status=1):\n",
            "STOP: TOTAL NO. OF ITERATIONS REACHED LIMIT.\n",
            "\n",
            "Increase the number of iterations (max_iter) or scale the data as shown in:\n",
            "    https://scikit-learn.org/stable/modules/preprocessing.html\n",
            "Please also refer to the documentation for alternative solver options:\n",
            "    https://scikit-learn.org/stable/modules/linear_model.html#logistic-regression\n",
            "  n_iter_i = _check_optimize_result(\n",
            "/usr/local/lib/python3.11/dist-packages/sklearn/linear_model/_logistic.py:465: ConvergenceWarning: lbfgs failed to converge (status=1):\n",
            "STOP: TOTAL NO. OF ITERATIONS REACHED LIMIT.\n",
            "\n",
            "Increase the number of iterations (max_iter) or scale the data as shown in:\n",
            "    https://scikit-learn.org/stable/modules/preprocessing.html\n",
            "Please also refer to the documentation for alternative solver options:\n",
            "    https://scikit-learn.org/stable/modules/linear_model.html#logistic-regression\n",
            "  n_iter_i = _check_optimize_result(\n",
            "/usr/local/lib/python3.11/dist-packages/sklearn/linear_model/_logistic.py:465: ConvergenceWarning: lbfgs failed to converge (status=1):\n",
            "STOP: TOTAL NO. OF ITERATIONS REACHED LIMIT.\n",
            "\n",
            "Increase the number of iterations (max_iter) or scale the data as shown in:\n",
            "    https://scikit-learn.org/stable/modules/preprocessing.html\n",
            "Please also refer to the documentation for alternative solver options:\n",
            "    https://scikit-learn.org/stable/modules/linear_model.html#logistic-regression\n",
            "  n_iter_i = _check_optimize_result(\n",
            "/usr/local/lib/python3.11/dist-packages/sklearn/linear_model/_logistic.py:465: ConvergenceWarning: lbfgs failed to converge (status=1):\n",
            "STOP: TOTAL NO. OF ITERATIONS REACHED LIMIT.\n",
            "\n",
            "Increase the number of iterations (max_iter) or scale the data as shown in:\n",
            "    https://scikit-learn.org/stable/modules/preprocessing.html\n",
            "Please also refer to the documentation for alternative solver options:\n",
            "    https://scikit-learn.org/stable/modules/linear_model.html#logistic-regression\n",
            "  n_iter_i = _check_optimize_result(\n",
            "/usr/local/lib/python3.11/dist-packages/sklearn/linear_model/_logistic.py:465: ConvergenceWarning: lbfgs failed to converge (status=1):\n",
            "STOP: TOTAL NO. OF ITERATIONS REACHED LIMIT.\n",
            "\n",
            "Increase the number of iterations (max_iter) or scale the data as shown in:\n",
            "    https://scikit-learn.org/stable/modules/preprocessing.html\n",
            "Please also refer to the documentation for alternative solver options:\n",
            "    https://scikit-learn.org/stable/modules/linear_model.html#logistic-regression\n",
            "  n_iter_i = _check_optimize_result(\n"
          ]
        },
        {
          "output_type": "stream",
          "name": "stdout",
          "text": [
            "AUC Score: 0.9978\n"
          ]
        },
        {
          "output_type": "stream",
          "name": "stderr",
          "text": [
            "/usr/local/lib/python3.11/dist-packages/sklearn/linear_model/_logistic.py:465: ConvergenceWarning: lbfgs failed to converge (status=1):\n",
            "STOP: TOTAL NO. OF ITERATIONS REACHED LIMIT.\n",
            "\n",
            "Increase the number of iterations (max_iter) or scale the data as shown in:\n",
            "    https://scikit-learn.org/stable/modules/preprocessing.html\n",
            "Please also refer to the documentation for alternative solver options:\n",
            "    https://scikit-learn.org/stable/modules/linear_model.html#logistic-regression\n",
            "  n_iter_i = _check_optimize_result(\n"
          ]
        }
      ]
    },
    {
      "cell_type": "markdown",
      "source": [
        "29. Train a Random Forest Regressor and analyze feature importance scores?\n"
      ],
      "metadata": {
        "id": "doA5ToC7oBuL"
      }
    },
    {
      "cell_type": "code",
      "source": [
        "# Import necessary libraries\n",
        "from sklearn.ensemble import RandomForestRegressor\n",
        "from sklearn.datasets import fetch_california_housing\n",
        "from sklearn.model_selection import train_test_split\n",
        "from sklearn.metrics import mean_squared_error\n",
        "import pandas as pd\n",
        "\n",
        "# Load dataset\n",
        "data = fetch_california_housing()\n",
        "X = data.data\n",
        "y = data.target\n",
        "feature_names = data.feature_names\n",
        "\n",
        "# Split the data\n",
        "X_train, X_test, y_train, y_test = train_test_split(X, y, test_size=0.3, random_state=42)\n",
        "\n",
        "# Train the Random Forest Regressor\n",
        "rf_regressor = RandomForestRegressor(n_estimators=100, random_state=42)\n",
        "rf_regressor.fit(X_train, y_train)\n",
        "\n",
        "# Predict and evaluate\n",
        "y_pred = rf_regressor.predict(X_test)\n",
        "mse = mean_squared_error(y_test, y_pred)\n",
        "print(f\"Mean Squared Error: {mse:.4f}\")\n",
        "\n",
        "# Analyze feature importance\n",
        "importance = rf_regressor.feature_importances_\n",
        "feature_importance_df = pd.DataFrame({\n",
        "    'Feature': feature_names,\n",
        "    'Importance': importance\n",
        "}).sort_values(by='Importance', ascending=False)\n",
        "\n",
        "print(\"\\nFeature Importances:\")\n",
        "print(feature_importance_df)\n"
      ],
      "metadata": {
        "colab": {
          "base_uri": "https://localhost:8080/"
        },
        "id": "rNoNg_8VpaVt",
        "outputId": "02b96e76-47ed-4133-b992-104b74042b2d"
      },
      "execution_count": 11,
      "outputs": [
        {
          "output_type": "stream",
          "name": "stdout",
          "text": [
            "Mean Squared Error: 0.2565\n",
            "\n",
            "Feature Importances:\n",
            "      Feature  Importance\n",
            "0      MedInc    0.526011\n",
            "5    AveOccup    0.138220\n",
            "7   Longitude    0.086124\n",
            "6    Latitude    0.086086\n",
            "1    HouseAge    0.054654\n",
            "2    AveRooms    0.047188\n",
            "4  Population    0.031722\n",
            "3   AveBedrms    0.029995\n"
          ]
        }
      ]
    },
    {
      "cell_type": "markdown",
      "source": [
        "30.  Train an ensemble model using both Bagging and Random Forest and compare accuracy.\n"
      ],
      "metadata": {
        "id": "c5aj5HJDpwp2"
      }
    },
    {
      "cell_type": "code",
      "source": [
        "# Import necessary libraries\n",
        "from sklearn.datasets import load_iris\n",
        "from sklearn.model_selection import train_test_split\n",
        "from sklearn.ensemble import BaggingClassifier, RandomForestClassifier\n",
        "from sklearn.tree import DecisionTreeClassifier\n",
        "from sklearn.metrics import accuracy_score\n",
        "\n",
        "# Load Iris dataset\n",
        "data = load_iris()\n",
        "X, y = data.data, data.target\n",
        "\n",
        "# Split the data\n",
        "X_train, X_test, y_train, y_test = train_test_split(X, y, test_size=0.3, random_state=42)\n",
        "\n",
        "# Bagging Classifier with Decision Tree\n",
        "bagging_clf = BaggingClassifier(estimator=DecisionTreeClassifier(), n_estimators=50, random_state=42)\n",
        "bagging_clf.fit(X_train, y_train)\n",
        "bagging_pred = bagging_clf.predict(X_test)\n",
        "bagging_acc = accuracy_score(y_test, bagging_pred)\n",
        "\n",
        "# Random Forest Classifier\n",
        "rf_clf = RandomForestClassifier(n_estimators=50, random_state=42)\n",
        "rf_clf.fit(X_train, y_train)\n",
        "rf_pred = rf_clf.predict(X_test)\n",
        "rf_acc = accuracy_score(y_test, rf_pred)\n",
        "\n",
        "# Compare accuracies\n",
        "print(f\"Bagging Classifier Accuracy: {bagging_acc:.4f}\")\n",
        "print(f\"Random Forest Accuracy:     {rf_acc:.4f}\")\n"
      ],
      "metadata": {
        "colab": {
          "base_uri": "https://localhost:8080/"
        },
        "id": "259Ygn7yqJHt",
        "outputId": "c6baf4c7-1e4c-44a1-e79c-243a05a74bf0"
      },
      "execution_count": 12,
      "outputs": [
        {
          "output_type": "stream",
          "name": "stdout",
          "text": [
            "Bagging Classifier Accuracy: 1.0000\n",
            "Random Forest Accuracy:     1.0000\n"
          ]
        }
      ]
    },
    {
      "cell_type": "markdown",
      "source": [
        "31. Train a Random Forest Classifier and tune hyperparameters using GridSearchCV?\n"
      ],
      "metadata": {
        "id": "wVDAF2Lfq7Pd"
      }
    },
    {
      "cell_type": "code",
      "source": [
        "# Import required libraries\n",
        "from sklearn.datasets import load_iris\n",
        "from sklearn.ensemble import RandomForestClassifier\n",
        "from sklearn.model_selection import train_test_split, GridSearchCV\n",
        "from sklearn.metrics import accuracy_score\n",
        "\n",
        "# Load data\n",
        "data = load_iris()\n",
        "X, y = data.data, data.target\n",
        "\n",
        "# Split into train and test\n",
        "X_train, X_test, y_train, y_test = train_test_split(X, y, test_size=0.3, random_state=42)\n",
        "\n",
        "# Define the parameter grid\n",
        "param_grid = {\n",
        "    'n_estimators': [10, 50, 100],\n",
        "    'max_depth': [None, 5, 10],\n",
        "    'min_samples_split': [2, 5],\n",
        "    'min_samples_leaf': [1, 2]\n",
        "}\n",
        "\n",
        "# Create the model\n",
        "rf = RandomForestClassifier(random_state=42)\n",
        "\n",
        "# Set up GridSearchCV\n",
        "grid_search = GridSearchCV(estimator=rf, param_grid=param_grid, cv=5, scoring='accuracy', n_jobs=-1)\n",
        "\n",
        "# Fit the model\n",
        "grid_search.fit(X_train, y_train)\n",
        "\n",
        "# Best model prediction\n",
        "best_model = grid_search.best_estimator_\n",
        "y_pred = best_model.predict(X_test)\n",
        "\n",
        "# Print best params and accuracy\n",
        "print(\"Best Parameters:\", grid_search.best_params_)\n",
        "print(\"Test Accuracy: {:.4f}\".format(accuracy_score(y_test, y_pred)))\n"
      ],
      "metadata": {
        "id": "21Lsh01UsKaC"
      },
      "execution_count": null,
      "outputs": []
    },
    {
      "cell_type": "markdown",
      "source": [
        "32. Train a Bagging Regressor with different numbers of base estimators and compare performance?\n"
      ],
      "metadata": {
        "id": "xQAiY86fsOgD"
      }
    },
    {
      "cell_type": "code",
      "source": [
        "# Import libraries\n",
        "from sklearn.ensemble import BaggingRegressor\n",
        "from sklearn.tree import DecisionTreeRegressor\n",
        "from sklearn.datasets import fetch_california_housing\n",
        "from sklearn.model_selection import train_test_split\n",
        "from sklearn.metrics import mean_squared_error\n",
        "\n",
        "# Load dataset\n",
        "data = fetch_california_housing()\n",
        "X, y = data.data, data.target\n",
        "\n",
        "# Split the data\n",
        "X_train, X_test, y_train, y_test = train_test_split(X, y, test_size=0.3, random_state=42)\n",
        "\n",
        "# Try different numbers of estimators\n",
        "estimators_list = [1, 5, 10, 50, 100]\n",
        "print(\"Estimators | MSE\")\n",
        "\n",
        "for n in estimators_list:\n",
        "    model = BaggingRegressor(\n",
        "        estimator=DecisionTreeRegressor(),\n",
        "        n_estimators=n,\n",
        "        random_state=42\n",
        "    )\n",
        "    model.fit(X_train, y_train)\n",
        "    y_pred = model.predict(X_test)\n",
        "    mse = mean_squared_error(y_test, y_pred)\n",
        "    print(f\"{n:10} | {mse:.4f}\")\n"
      ],
      "metadata": {
        "colab": {
          "base_uri": "https://localhost:8080/"
        },
        "id": "ArtdqPzRsS56",
        "outputId": "9218e5a7-6ed0-4bdd-ca99-2a25b7e2fcf4"
      },
      "execution_count": 13,
      "outputs": [
        {
          "output_type": "stream",
          "name": "stdout",
          "text": [
            "Estimators | MSE\n",
            "         1 | 0.5583\n",
            "         5 | 0.3168\n",
            "        10 | 0.2862\n",
            "        50 | 0.2579\n",
            "       100 | 0.2568\n"
          ]
        }
      ]
    },
    {
      "cell_type": "markdown",
      "source": [
        "33. Train a Random Forest Classifier and analyze misclassified samples?\n"
      ],
      "metadata": {
        "id": "MP-1qkv8tPix"
      }
    },
    {
      "cell_type": "code",
      "source": [
        "# Import libraries\n",
        "from sklearn.datasets import load_iris\n",
        "from sklearn.ensemble import RandomForestClassifier\n",
        "from sklearn.model_selection import train_test_split\n",
        "from sklearn.metrics import accuracy_score, classification_report\n",
        "import pandas as pd\n",
        "\n",
        "# Load dataset\n",
        "iris = load_iris()\n",
        "X, y = iris.data, iris.target\n",
        "feature_names = iris.feature_names\n",
        "target_names = iris.target_names\n",
        "\n",
        "# Split data\n",
        "X_train, X_test, y_train, y_test = train_test_split(X, y, test_size=0.3, random_state=42)\n",
        "\n",
        "# Train model\n",
        "rf = RandomForestClassifier(n_estimators=100, random_state=42)\n",
        "rf.fit(X_train, y_train)\n",
        "\n",
        "# Predict\n",
        "y_pred = rf.predict(X_test)\n",
        "\n",
        "# Print accuracy and classification report\n",
        "print(\"Accuracy:\", accuracy_score(y_test, y_pred))\n",
        "print(\"\\nClassification Report:\\n\", classification_report(y_test, y_pred, target_names=target_names))\n",
        "\n",
        "# Analyze misclassified samples\n",
        "misclassified = X_test[y_test != y_pred]\n",
        "true_labels = y_test[y_test != y_pred]\n",
        "predicted_labels = y_pred[y_test != y_pred]\n",
        "\n",
        "# Display misclassified samples\n",
        "print(\"\\nMisclassified Samples:\")\n",
        "for i in range(len(misclassified)):\n",
        "    print(f\"Sample: {misclassified[i]}, True: {target_names[true_labels[i]]}, Predicted: {target_names[predicted_labels[i]]}\")\n"
      ],
      "metadata": {
        "colab": {
          "base_uri": "https://localhost:8080/"
        },
        "id": "QqyOD5DmtfZ2",
        "outputId": "cd39baa3-8be2-4b84-df0c-ae2b88e258ba"
      },
      "execution_count": 14,
      "outputs": [
        {
          "output_type": "stream",
          "name": "stdout",
          "text": [
            "Accuracy: 1.0\n",
            "\n",
            "Classification Report:\n",
            "               precision    recall  f1-score   support\n",
            "\n",
            "      setosa       1.00      1.00      1.00        19\n",
            "  versicolor       1.00      1.00      1.00        13\n",
            "   virginica       1.00      1.00      1.00        13\n",
            "\n",
            "    accuracy                           1.00        45\n",
            "   macro avg       1.00      1.00      1.00        45\n",
            "weighted avg       1.00      1.00      1.00        45\n",
            "\n",
            "\n",
            "Misclassified Samples:\n"
          ]
        }
      ]
    },
    {
      "cell_type": "markdown",
      "source": [
        "34. Train a Bagging Classifier and compare its performance with a single Decision Tree Classifier?\n"
      ],
      "metadata": {
        "id": "yyCGxzBTthVh"
      }
    },
    {
      "cell_type": "code",
      "source": [
        "# Import required libraries\n",
        "from sklearn.datasets import load_iris\n",
        "from sklearn.model_selection import train_test_split\n",
        "from sklearn.tree import DecisionTreeClassifier\n",
        "from sklearn.ensemble import BaggingClassifier\n",
        "from sklearn.metrics import accuracy_score\n",
        "\n",
        "# Load dataset\n",
        "data = load_iris()\n",
        "X, y = data.data, data.target\n",
        "\n",
        "# Train-test split\n",
        "X_train, X_test, y_train, y_test = train_test_split(X, y, test_size=0.3, random_state=42)\n",
        "\n",
        "# Single Decision Tree\n",
        "dt = DecisionTreeClassifier(random_state=42)\n",
        "dt.fit(X_train, y_train)\n",
        "dt_pred = dt.predict(X_test)\n",
        "dt_acc = accuracy_score(y_test, dt_pred)\n",
        "\n",
        "# Bagging Classifier with Decision Trees\n",
        "bagging = BaggingClassifier(estimator=DecisionTreeClassifier(), n_estimators=50, random_state=42)\n",
        "bagging.fit(X_train, y_train)\n",
        "bagging_pred = bagging.predict(X_test)\n",
        "bagging_acc = accuracy_score(y_test, bagging_pred)\n",
        "\n",
        "# Compare results\n",
        "print(f\"Decision Tree Accuracy: {dt_acc:.4f}\")\n",
        "print(f\"Bagging Classifier Accuracy: {bagging_acc:.4f}\")\n"
      ],
      "metadata": {
        "id": "P3W-e0sPtnGR"
      },
      "execution_count": null,
      "outputs": []
    },
    {
      "cell_type": "markdown",
      "source": [
        "35. Train a Random Forest Classifier and visualize the confusion matrix?\n"
      ],
      "metadata": {
        "id": "lGr1spuatxxE"
      }
    },
    {
      "cell_type": "code",
      "source": [
        "# Import necessary libraries\n",
        "from sklearn.datasets import load_iris\n",
        "from sklearn.ensemble import RandomForestClassifier\n",
        "from sklearn.model_selection import train_test_split\n",
        "from sklearn.metrics import confusion_matrix, ConfusionMatrixDisplay\n",
        "import matplotlib.pyplot as plt\n",
        "\n",
        "# Load dataset\n",
        "data = load_iris()\n",
        "X, y = data.data, data.target\n",
        "target_names = data.target_names\n",
        "\n",
        "# Train-test split\n",
        "X_train, X_test, y_train, y_test = train_test_split(X, y, test_size=0.3, random_state=42)\n",
        "\n",
        "# Train Random Forest Classifier\n",
        "rf = RandomForestClassifier(n_estimators=100, random_state=42)\n",
        "rf.fit(X_train, y_train)\n",
        "\n",
        "# Predict the labels for the test set\n",
        "y_pred = rf.predict(X_test)\n",
        "\n",
        "# Generate confusion matrix\n",
        "cm = confusion_matrix(y_test, y_pred)\n",
        "\n",
        "# Visualize confusion matrix\n",
        "disp = ConfusionMatrixDisplay(confusion_matrix=cm, display_labels=target_names)\n",
        "disp.plot(cmap=plt.cm.Blues)\n",
        "plt.title('Random Forest Classifier - Confusion Matrix')\n",
        "plt.show()\n"
      ],
      "metadata": {
        "colab": {
          "base_uri": "https://localhost:8080/",
          "height": 472
        },
        "id": "viSR-6Lit5kc",
        "outputId": "5196e161-9e38-43f8-f859-122afed6cc96"
      },
      "execution_count": 15,
      "outputs": [
        {
          "output_type": "display_data",
          "data": {
            "text/plain": [
              "<Figure size 640x480 with 2 Axes>"
            ],
            "image/png": "[encoded data removed]"
          },
          "metadata": {}
        }
      ]
    },
    {
      "cell_type": "markdown",
      "source": [
        "36.  Train a Stacking Classifier using Decision Trees, SVM, and Logistic Regression, and compare accuracy?\n"
      ],
      "metadata": {
        "id": "StoBlkNbuDMn"
      }
    },
    {
      "cell_type": "code",
      "source": [
        "# Import necessary libraries\n",
        "from sklearn.datasets import load_iris\n",
        "from sklearn.model_selection import train_test_split\n",
        "from sklearn.tree import DecisionTreeClassifier\n",
        "from sklearn.svm import SVC\n",
        "from sklearn.linear_model import LogisticRegression\n",
        "from sklearn.ensemble import StackingClassifier\n",
        "from sklearn.metrics import accuracy_score\n",
        "\n",
        "# Load dataset\n",
        "data = load_iris()\n",
        "X, y = data.data, data.target\n",
        "\n",
        "# Train-test split\n",
        "X_train, X_test, y_train, y_test = train_test_split(X, y, test_size=0.3, random_state=42)\n",
        "\n",
        "# Define base learners\n",
        "estimators = [\n",
        "    ('dt', DecisionTreeClassifier(random_state=42)),\n",
        "    ('svm', SVC(kernel='linear', random_state=42)),\n",
        "    ('lr', LogisticRegression(random_state=42))\n",
        "]\n",
        "\n",
        "# Create Stacking Classifier\n",
        "stacking_clf = StackingClassifier(estimators=estimators, final_estimator=LogisticRegression())\n",
        "\n",
        "# Train the model\n",
        "stacking_clf.fit(X_train, y_train)\n",
        "\n",
        "# Predict and evaluate accuracy\n",
        "y_pred = stacking_clf.predict(X_test)\n",
        "accuracy = accuracy_score(y_test, y_pred)\n",
        "\n",
        "# Print results\n",
        "print(f\"Stacking Classifier Accuracy: {accuracy:.4f}\")\n"
      ],
      "metadata": {
        "colab": {
          "base_uri": "https://localhost:8080/"
        },
        "id": "qSmCcLxoufSh",
        "outputId": "5690d42c-f7f7-4684-9b5f-f1f4078b5bb0"
      },
      "execution_count": 16,
      "outputs": [
        {
          "output_type": "stream",
          "name": "stdout",
          "text": [
            "Stacking Classifier Accuracy: 1.0000\n"
          ]
        }
      ]
    },
    {
      "cell_type": "markdown",
      "source": [
        "37.Train a Random Forest Classifier and print the top 5 most important features?\n"
      ],
      "metadata": {
        "id": "v6kv_fzWuiEg"
      }
    },
    {
      "cell_type": "code",
      "source": [
        "# Import necessary libraries\n",
        "from sklearn.datasets import load_iris\n",
        "from sklearn.ensemble import RandomForestClassifier\n",
        "import pandas as pd\n",
        "\n",
        "# Load dataset\n",
        "data = load_iris()\n",
        "X, y = data.data, data.target\n",
        "feature_names = data.feature_names\n",
        "\n",
        "# Train a Random Forest Classifier\n",
        "rf = RandomForestClassifier(n_estimators=100, random_state=42)\n",
        "rf.fit(X, y)\n",
        "\n",
        "# Get feature importances\n",
        "feature_importances = rf.feature_importances_\n",
        "\n",
        "# Create a DataFrame to display feature importances\n",
        "features_df = pd.DataFrame({\n",
        "    'Feature': feature_names,\n",
        "    'Importance': feature_importances\n",
        "})\n",
        "\n",
        "# Sort the features by importance in descending order and print the top 5\n",
        "top_5_features = features_df.sort_values(by='Importance', ascending=False).head(5)\n",
        "print(top_5_features)\n"
      ],
      "metadata": {
        "id": "NaqHYmbgu5I9"
      },
      "execution_count": null,
      "outputs": []
    },
    {
      "cell_type": "markdown",
      "source": [
        "38. Train a Bagging Classifier and evaluate performance using Precision, Recall, and F1-score?\n"
      ],
      "metadata": {
        "id": "XHNR3a0tvCDy"
      }
    },
    {
      "cell_type": "code",
      "source": [
        "# Import necessary libraries\n",
        "from sklearn.datasets import load_iris\n",
        "from sklearn.model_selection import train_test_split\n",
        "from sklearn.ensemble import BaggingClassifier\n",
        "from sklearn.tree import DecisionTreeClassifier\n",
        "from sklearn.metrics import precision_score, recall_score, f1_score\n",
        "\n",
        "# Load dataset\n",
        "data = load_iris()\n",
        "X, y = data.data, data.target\n",
        "\n",
        "# Train-test split\n",
        "X_train, X_test, y_train, y_test = train_test_split(X, y, test_size=0.3, random_state=42)\n",
        "\n",
        "# Create and train Bagging Classifier with Decision Trees as base estimators\n",
        "bagging_clf = BaggingClassifier(base_estimator=DecisionTreeClassifier(), n_estimators=50, random_state=42)\n",
        "bagging_clf.fit(X_train, y_train)\n",
        "\n",
        "# Make predictions\n",
        "y_pred = bagging_clf.predict(X_test)\n",
        "\n",
        "# Evaluate performance using Precision, Recall, and F1-score\n",
        "precision = precision_score(y_test, y_pred, average='weighted')\n",
        "recall = recall_score(y_test, y_pred, average='weighted')\n",
        "f1 = f1_score(y_test, y_pred, average='weighted')\n",
        "\n",
        "# Print results\n",
        "print(f\"Precision: {precision:.4f}\")\n",
        "print(f\"Recall: {recall:.4f}\")\n",
        "print(f\"F1-score: {f1:.4f}\")\n"
      ],
      "metadata": {
        "id": "cZ32NH1mvITa"
      },
      "execution_count": null,
      "outputs": []
    },
    {
      "cell_type": "markdown",
      "source": [
        "39.  Train a Random Forest Classifier and analyze the effect of max_depth on accuracy?\n"
      ],
      "metadata": {
        "id": "gI4w1tdwvbrC"
      }
    },
    {
      "cell_type": "code",
      "source": [
        "# Import necessary libraries\n",
        "from sklearn.datasets import load_iris\n",
        "from sklearn.model_selection import train_test_split\n",
        "from sklearn.ensemble import RandomForestClassifier\n",
        "from sklearn.metrics import accuracy_score\n",
        "import matplotlib.pyplot as plt\n",
        "\n",
        "# Load dataset\n",
        "data = load_iris()\n",
        "X, y = data.data, data.target\n",
        "\n",
        "# Train-test split\n",
        "X_train, X_test, y_train, y_test = train_test_split(X, y, test_size=0.3, random_state=42)\n",
        "\n",
        "# List of different max_depth values to test\n",
        "max_depth_values = [None, 2, 3, 5, 7, 10, 15, 20]\n",
        "\n",
        "# Store accuracies for each max_depth\n",
        "accuracies = []\n",
        "\n",
        "# Loop through each max_depth value, train the model, and evaluate accuracy\n",
        "for depth in max_depth_values:\n",
        "    rf = RandomForestClassifier(max_depth=depth, n_estimators=100, random_state=42)\n",
        "    rf.fit(X_train, y_train)\n",
        "    y_pred = rf.predict(X_test)\n",
        "    accuracy = accuracy_score(y_test, y_pred)\n",
        "    accuracies.append(accuracy)\n",
        "\n",
        "# Plot the effect of max_depth on accuracy\n",
        "plt.plot(max_depth_values, accuracies, marker='o', linestyle='-', color='b')\n",
        "plt.title('Effect of max_depth on Random Forest Accuracy')\n",
        "plt.xlabel('max_depth')\n",
        "plt.ylabel('Accuracy')\n",
        "plt.xticks(max_depth_values)\n",
        "plt.grid(True)\n",
        "plt.show()\n",
        "\n",
        "# Print accuracies\n",
        "for depth, acc in zip(max_depth_values, accuracies):\n",
        "    print(f\"max_depth = {depth}, Accuracy = {acc:.4f}\")\n"
      ],
      "metadata": {
        "id": "2RtiGtagvjip"
      },
      "execution_count": null,
      "outputs": []
    },
    {
      "cell_type": "markdown",
      "source": [
        "40.  Train a Bagging Regressor using different base estimators (DecisionTree and KNeighbors) and compare performance?\n"
      ],
      "metadata": {
        "id": "UOgMP7RRvzR4"
      }
    },
    {
      "cell_type": "code",
      "source": [
        "# Import necessary libraries\n",
        "from sklearn.datasets import fetch_california_housing\n",
        "from sklearn.model_selection import train_test_split\n",
        "from sklearn.ensemble import BaggingRegressor\n",
        "from sklearn.tree import DecisionTreeRegressor\n",
        "from sklearn.neighbors import KNeighborsRegressor\n",
        "from sklearn.metrics import mean_squared_error\n",
        "\n",
        "# Load California Housing dataset\n",
        "data = fetch_california_housing()\n",
        "X, y = data.data, data.target\n",
        "\n",
        "# Train-test split\n",
        "X_train, X_test, y_train, y_test = train_test_split(X, y, test_size=0.3, random_state=42)\n",
        "\n",
        "# Train Bagging Regressor with DecisionTreeRegressor as base estimator\n",
        "bagging_dt = BaggingRegressor(base_estimator=DecisionTreeRegressor(), n_estimators=50, random_state=42)\n",
        "bagging_dt.fit(X_train, y_train)\n",
        "\n",
        "# Train Bagging Regressor with KNeighborsRegressor as base estimator\n",
        "bagging_knn = BaggingRegressor(base_estimator=KNeighborsRegressor(), n_estimators=50, random_state=42)\n",
        "bagging_knn.fit(X_train, y_train)\n",
        "\n",
        "# Make predictions\n",
        "y_pred_dt = bagging_dt.predict(X_test)\n",
        "y_pred_knn = bagging_knn.predict(X_test)\n",
        "\n",
        "# Calculate Mean Squared Error for both models\n",
        "mse_dt = mean_squared_error(y_test, y_pred_dt)\n",
        "mse_knn = mean_squared_error(y_test, y_pred_knn)\n",
        "\n",
        "# Print results\n",
        "print(f\"Mean Squared Error (Decision Tree as base estimator): {mse_dt:.4f}\")\n",
        "print(f\"Mean Squared Error (KNeighbors as base estimator): {mse_knn:.4f}\")\n"
      ],
      "metadata": {
        "id": "L9TMwO3XwNXi"
      },
      "execution_count": null,
      "outputs": []
    },
    {
      "cell_type": "markdown",
      "source": [
        "41. Train a Random Forest Classifier and evaluate its performance using ROC-AUC Score?\n"
      ],
      "metadata": {
        "id": "w_7nc0PGwOWk"
      }
    },
    {
      "cell_type": "code",
      "source": [
        "# Import necessary libraries\n",
        "from sklearn.datasets import load_iris\n",
        "from sklearn.model_selection import train_test_split\n",
        "from sklearn.ensemble import RandomForestClassifier\n",
        "from sklearn.metrics import roc_auc_score\n",
        "from sklearn.preprocessing import LabelBinarizer\n",
        "\n",
        "# Load dataset\n",
        "data = load_iris()\n",
        "X, y = data.data, data.target\n",
        "\n",
        "# Binarize the target labels for multi-class ROC-AUC calculation\n",
        "lb = LabelBinarizer()\n",
        "y_bin = lb.fit_transform(y)\n",
        "\n",
        "# Train-test split\n",
        "X_train, X_test, y_train, y_test = train_test_split(X, y_bin, test_size=0.3, random_state=42)\n",
        "\n",
        "# Create and train the Random Forest Classifier\n",
        "rf = RandomForestClassifier(n_estimators=100, random_state=42)\n",
        "rf.fit(X_train, y_train)\n",
        "\n",
        "# Predict probabilities for the test set\n",
        "y_prob = rf.predict_proba(X_test)\n",
        "\n",
        "# Calculate ROC-AUC Score\n",
        "roc_auc = roc_auc_score(y_test, y_prob, multi_class='ovr')\n",
        "\n",
        "# Print ROC-AUC score\n",
        "print(f\"ROC-AUC Score: {roc_auc:.4f}\")\n"
      ],
      "metadata": {
        "id": "uIfkz_PbwkT-"
      },
      "execution_count": null,
      "outputs": []
    },
    {
      "cell_type": "markdown",
      "source": [
        "42. Train a Bagging Classifier and evaluate its performance using cross-validatio?\n"
      ],
      "metadata": {
        "id": "2dviM7p-w4eB"
      }
    },
    {
      "cell_type": "code",
      "source": [
        "# Import necessary libraries\n",
        "from sklearn.datasets import load_iris\n",
        "from sklearn.model_selection import cross_val_score\n",
        "from sklearn.ensemble import BaggingClassifier\n",
        "from sklearn.tree import DecisionTreeClassifier\n",
        "import numpy as np\n",
        "\n",
        "# Load dataset\n",
        "data = load_iris()\n",
        "X, y = data.data, data.target\n",
        "\n",
        "# Create a Bagging Classifier with DecisionTree as base estimator\n",
        "bagging_clf = BaggingClassifier(base_estimator=DecisionTreeClassifier(), n_estimators=50, random_state=42)\n",
        "\n",
        "# Evaluate using cross-validation\n",
        "cv_scores = cross_val_score(bagging_clf, X, y, cv=5, scoring='accuracy')  # 5-fold cross-validation\n",
        "\n",
        "# Print cross-validation scores and the mean score\n",
        "print(f\"Cross-validation scores: {cv_scores}\")\n",
        "print(f\"Mean cross-validation accuracy: {np.mean(cv_scores):.4f}\")\n"
      ],
      "metadata": {
        "id": "ed_Q6FNCw-Or"
      },
      "execution_count": null,
      "outputs": []
    },
    {
      "cell_type": "markdown",
      "source": [
        "43.  Train a Random Forest Classifier and plot the Precision-Recall curv?\n"
      ],
      "metadata": {
        "id": "KaNB1ZX0xMbi"
      }
    },
    {
      "cell_type": "code",
      "source": [
        "# Import necessary libraries\n",
        "from sklearn.datasets import load_iris\n",
        "from sklearn.model_selection import train_test_split\n",
        "from sklearn.ensemble import RandomForestClassifier\n",
        "from sklearn.metrics import precision_recall_curve\n",
        "import matplotlib.pyplot as plt\n",
        "\n",
        "# Load dataset\n",
        "data = load_iris()\n",
        "X, y = data.data, data.target\n",
        "\n",
        "# Convert multi-class to binary for Precision-Recall curve (choose one class for binary classification)\n",
        "# We'll classify class 0 against the rest for simplicity\n",
        "y_binary = (y == 0).astype(int)\n",
        "\n",
        "# Train-test split\n",
        "X_train, X_test, y_train, y_test = train_test_split(X, y_binary, test_size=0.3, random_state=42)\n",
        "\n",
        "# Create and train the Random Forest Classifier\n",
        "rf = RandomForestClassifier(n_estimators=100, random_state=42)\n",
        "rf.fit(X_train, y_train)\n",
        "\n",
        "# Predict probabilities for the test set\n",
        "y_probs = rf.predict_proba(X_test)[:, 1]  # Get probabilities for the positive class\n",
        "\n",
        "# Compute precision and recall\n",
        "precision, recall, _ = precision_recall_curve(y_test, y_probs)\n",
        "\n",
        "# Plot Precision-Recall curve\n",
        "plt.plot(recall, precision, marker='.', color='b')\n",
        "plt.title('Precision-Recall Curve')\n",
        "plt.xlabel('Recall')\n",
        "plt.ylabel('Precision')\n",
        "plt.grid(True)\n",
        "plt.show()\n"
      ],
      "metadata": {
        "id": "HfElKY5ZxRrs"
      },
      "execution_count": null,
      "outputs": []
    },
    {
      "cell_type": "markdown",
      "source": [
        "44. Train a Stacking Classifier with Random Forest and Logistic Regression and compare accuracy?\n"
      ],
      "metadata": {
        "id": "rZCa8BoJxdRV"
      }
    },
    {
      "cell_type": "code",
      "source": [
        "# Import necessary libraries\n",
        "from sklearn.datasets import load_iris\n",
        "from sklearn.model_selection import train_test_split\n",
        "from sklearn.ensemble import StackingClassifier\n",
        "from sklearn.ensemble import RandomForestClassifier\n",
        "from sklearn.linear_model import LogisticRegression\n",
        "from sklearn.metrics import accuracy_score\n",
        "\n",
        "# Load dataset\n",
        "data = load_iris()\n",
        "X, y = data.data, data.target\n",
        "\n",
        "# Train-test split\n",
        "X_train, X_test, y_train, y_test = train_test_split(X, y, test_size=0.3, random_state=42)\n",
        "\n",
        "# Define base models (Random Forest and Logistic Regression)\n",
        "base_learners = [\n",
        "    ('rf', RandomForestClassifier(n_estimators=100, random_state=42)),\n",
        "    ('lr', LogisticRegression(max_iter=200, random_state=42))\n",
        "]\n",
        "\n",
        "# Create Stacking Classifier with Logistic Regression as the final estimator\n",
        "stacking_clf = StackingClassifier(estimators=base_learners, final_estimator=LogisticRegression())\n",
        "\n",
        "# Train the Stacking Classifier\n",
        "stacking_clf.fit(X_train, y_train)\n",
        "\n",
        "# Make predictions\n",
        "y_pred = stacking_clf.predict(X_test)\n",
        "\n",
        "# Evaluate the accuracy\n",
        "accuracy = accuracy_score(y_test, y_pred)\n",
        "\n",
        "# Print the accuracy\n",
        "print(f\"Stacking Classifier Accuracy: {accuracy:.4f}\")\n"
      ],
      "metadata": {
        "id": "-UQXiQ1MxjgY"
      },
      "execution_count": null,
      "outputs": []
    },
    {
      "cell_type": "markdown",
      "source": [
        "45. Train a Bagging Regressor with different levels of bootstrap samples and compare performance?\n"
      ],
      "metadata": {
        "id": "Twe6NdgLxrqo"
      }
    },
    {
      "cell_type": "code",
      "source": [
        "# Import necessary libraries\n",
        "from sklearn.datasets import load_boston\n",
        "from sklearn.model_selection import train_test_split\n",
        "from sklearn.ensemble import BaggingRegressor\n",
        "from sklearn.tree import DecisionTreeRegressor\n",
        "from sklearn.metrics import mean_squared_error\n",
        "import numpy as np\n",
        "import matplotlib.pyplot as plt\n",
        "\n",
        "# Load dataset\n",
        "data = load_boston()\n",
        "X, y = data.data, data.target\n",
        "\n",
        "# Train-test split\n",
        "X_train, X_test, y_train, y_test = train_test_split(X, y, test_size=0.3, random_state=42)\n",
        "\n",
        "# Different levels of bootstrap samples (e.g., 50%, 70%, and 100%)\n",
        "bootstrap_samples = [0.5, 0.7, 1.0]\n",
        "errors = []\n",
        "\n",
        "# Train a Bagging Regressor with different levels of bootstrap samples\n",
        "for sample in bootstrap_samples:\n",
        "    # Create a Bagging Regressor with DecisionTree as the base estimator\n",
        "    bagging_regressor = BaggingRegressor(\n",
        "        base_estimator=DecisionTreeRegressor(),\n",
        "        n_estimators=50,\n",
        "        max_samples=sample,  # Adjust bootstrap sample size\n",
        "        random_state=42\n",
        "    )\n",
        "\n",
        "    # Train the model\n",
        "    bagging_regressor.fit(X_train, y_train)\n",
        "\n",
        "    # Predict on the test set\n",
        "    y_pred = bagging_regressor.predict(X_test)\n",
        "\n",
        "    # Calculate the mean squared error (MSE)\n",
        "    mse = mean_squared_error(y_test, y_pred)\n",
        "    errors.append(mse)\n",
        "\n",
        "# Plot MSE vs. Bootstrap sample size\n",
        "plt.plot(bootstrap_samples, errors, marker='o')\n",
        "plt.title('MSE vs. Bootstrap Sample Size')\n",
        "plt.xlabel('Bootstrap Sample Size')\n",
        "plt.ylabel('Mean Squared Error')\n",
        "plt.grid(True)\n",
        "plt.show()\n",
        "\n",
        "# Print the errors for each sample size\n",
        "for sample, error in zip(bootstrap_samples, errors):\n",
        "    print(f\"Bootstrap sample size: {sample}, MSE: {error:.4f}\")\n"
      ],
      "metadata": {
        "id": "efWP9giix20Z"
      },
      "execution_count": null,
      "outputs": []
    },
    {
      "cell_type": "markdown",
      "source": [],
      "metadata": {
        "id": "FTUv4501jDpJ"
      }
    },
    {
      "cell_type": "markdown",
      "source": [],
      "metadata": {
        "id": "WV2o3tAjWvFK"
      }
    }
  ]
}