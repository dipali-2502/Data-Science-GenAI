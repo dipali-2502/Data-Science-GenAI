{
  "nbformat": 4,
  "nbformat_minor": 0,
  "metadata": {
    "colab": {
      "provenance": []
    },
    "kernelspec": {
      "name": "python3",
      "display_name": "Python 3"
    },
    "language_info": {
      "name": "python"
    }
  },
  "cells": [
    {
      "cell_type": "markdown",
      "source": [
        "# EDA Report\n",
        "\n",
        "## Objective\n",
        "To analyze and understand the structure, distribution, trends, and anomalies in the cryptocurrency dataset before building any predictive models.\n",
        "\n",
        "## Dataset Overview\n",
        "- Columns: `date`, `open`, `high`, `low`, `close`, `volume`\n",
        "- Total Rows: <number of rows after preprocessing>\n",
        "\n",
        "## Steps Performed\n",
        "1. **Loaded Dataset**: Checked basic info using `df.info()` and previewed with `df.head()`.\n",
        "2. **Converted `date` Column**: Converted to `datetime` format for chronological sorting.\n",
        "3. **Missing Value Handling**: Dropped rows with missing data using `df.dropna()`.\n",
        "4. **Sorting**: Sorted data by date for time-series continuity.\n",
        "5. **Summary Statistics**: Used `df.describe()` to inspect distributions.\n",
        "6. **Univariate Analysis**: Visualized distributions of `open`, `close`, `volume`, etc.\n",
        "7. **Bivariate Analysis**:\n",
        "   - Line plots for price trends (`open`, `close`)\n",
        "   - Volume vs Close Price scatter plots\n",
        "8. **Correlation Heatmap**: Examined relationship between numerical variables using `sns.heatmap()`.\n",
        "\n",
        "## Insights\n",
        "- Close price trends match expected volatility for cryptocurrency.\n",
        "- Strong correlation observed between `open`, `high`, `low`, and `close`.\n",
        "- Liquidity is highly variable, indicating usefulness of a volatility prediction model.\n"
      ],
      "metadata": {
        "id": "ZAMdqORdze_F"
      }
    }
  ]
}