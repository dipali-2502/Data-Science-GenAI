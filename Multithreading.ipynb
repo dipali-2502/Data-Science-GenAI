{
  "nbformat": 4,
  "nbformat_minor": 0,
  "metadata": {
    "colab": {
      "provenance": []
    },
    "kernelspec": {
      "name": "python3",
      "display_name": "Python 3"
    },
    "language_info": {
      "name": "python"
    }
  },
  "cells": [
    {
      "cell_type": "markdown",
      "source": [
        "Q1. What is multithreading in python? Why is it used? Name the module used to handle threads in python.\n",
        "\n",
        "ans. Multithreading in Python is the ability to run multiple threads concurrently within a single process. A thread is a lightweight sub-process that shares the same memory space as the parent process. This means that threads can run independently and perform different tasks at the same time.\n",
        "\n",
        "Why is Multithreading Used?\n",
        "Concurrency: It allows multiple tasks to be executed at the same time, improving the efficiency of I/O-bound operations (e.g., reading from a file, making network requests).\n",
        "\n",
        "Better Resource Utilization: Threads within the same process share memory, so they can be more lightweight compared to creating multiple processes.\n",
        "\n",
        "I/O-bound Tasks: It is especially useful for tasks that spend a lot of time waiting for external resources (like file operations or network responses) since while one thread waits, other threads can continue executing.\n",
        "\n",
        "\n",
        "However, multithreading doesn't achieve true parallelism in Python for CPU-bound tasks due to the Global Interpreter Lock (GIL).\n",
        "\n",
        "Module Used to Handle Threads in Python:\n",
        "The module used to handle threads in Python is called threading.\n",
        "\n",
        "\n",
        "\n"
      ],
      "metadata": {
        "id": "h5p6Bj4fXVsn"
      }
    },
    {
      "cell_type": "markdown",
      "source": [
        "Q2. Why threading module used? Write the use of the following functions\n",
        "\n",
        "( activeCount(\n",
        " currentThread(\n",
        " enumerate()\n",
        "\n",
        " ans.\n",
        "\n",
        "The threading module in Python is used to work with threads, allowing you to create and manage threads in a Python program. Threads are lightweight sub-processes that run concurrently within a single process. The threading module helps you:\n",
        "\n",
        "#Execute tasks concurrently.\n",
        "\n",
        "Improve performance for I/O-bound operations.\n",
        "\n",
        "Manage synchronization and communication between threads.\n",
        "\n",
        "Using multithreading, you can make better use of CPU resources and improve efficiency when dealing with I/O-bound tasks, such as file reading, network operations, or database queries.\n",
        "\n",
        "Use of the following functions in the threading module:\n",
        "threading.activeCount()\n",
        "\n",
        "Purpose: Returns the number of Thread objects currently alive. This includes both daemon and non-daemon threads. It helps in monitoring the number of active threads in the program.\n",
        "\n",
        "Example:\n"
      ],
      "metadata": {
        "id": "6jROzF9GX1J0"
      }
    },
    {
      "cell_type": "code",
      "source": [
        "import threading\n",
        "\n",
        "def worker():\n",
        "    print(\"Thread is working\")\n",
        "\n",
        "# Create and start threads\n",
        "thread1 = threading.Thread(target=worker)\n",
        "thread2 = threading.Thread(target=worker)\n",
        "thread1.start()\n",
        "thread2.start()\n",
        "\n",
        "# Get the number of active threads\n",
        "print(\"Active threads:\", threading.activeCount())\n"
      ],
      "metadata": {
        "id": "D653MxQlYtHy"
      },
      "execution_count": null,
      "outputs": []
    },
    {
      "cell_type": "markdown",
      "source": [
        "Q3. Explain the following functions\n",
        "( run(\n",
        " start(\n",
        " join(\n",
        "' isAlive()"
      ],
      "metadata": {
        "id": "ANTcIaIPYuZ4"
      }
    },
    {
      "cell_type": "code",
      "source": [
        "import threading\n",
        "import time\n",
        "\n",
        "# Custom thread class\n",
        "class MyThread(threading.Thread):\n",
        "    def run(self):\n",
        "        print(f\"Thread {self.name} is running\")\n",
        "        time.sleep(2)\n",
        "        print(f\"Thread {self.name} has finished\")\n",
        "\n",
        "# Create threads\n",
        "thread1 = MyThread()\n",
        "thread2 = MyThread()\n",
        "\n",
        "# Start threads\n",
        "thread1.start()\n",
        "thread2.start()\n",
        "\n",
        "# Check if threads are alive before joining\n",
        "print(\"Is thread1 alive?\", thread1.isAlive())\n",
        "print(\"Is thread2 alive?\", thread2.isAlive())\n",
        "\n",
        "# Wait for threads to finish\n",
        "thread1.join()\n",
        "thread2.join()\n",
        "\n",
        "# Check if threads are alive after joining\n",
        "print(\"Is thread1 alive after join?\", thread1.isAlive())\n",
        "print(\"Is thread2 alive after join?\", thread2.isAlive())\n",
        "\n",
        "print(\"Main thread finishes.\")\n"
      ],
      "metadata": {
        "id": "uCBno-q_ZBAI"
      },
      "execution_count": null,
      "outputs": []
    },
    {
      "cell_type": "markdown",
      "source": [
        "Q4. Write a python program to create two threads. Thread one must print the list of squares and thread\n",
        "two must print the list of cubes."
      ],
      "metadata": {
        "id": "euCGLIb1ZGng"
      }
    },
    {
      "cell_type": "code",
      "source": [
        "import threading\n",
        "\n",
        "# Function to print squares\n",
        "def print_squares():\n",
        "    squares = [x**2 for x in range(1, 6)]\n",
        "    print(\"Squares:\", squares)\n",
        "\n",
        "# Function to print cubes\n",
        "def print_cubes():\n",
        "    cubes = [x**3 for x in range(1, 6)]\n",
        "    print(\"Cubes:\", cubes)\n",
        "\n",
        "# Create threads\n",
        "thread1 = threading.Thread(target=print_squares)\n",
        "thread2 = threading.Thread(target=print_cubes)\n",
        "\n",
        "# Start threads\n",
        "thread1.start()\n",
        "thread2.start()\n",
        "\n",
        "# Wait for threads to finish\n",
        "thread1.join()\n",
        "thread2.join()\n",
        "\n",
        "print(\"Both threads have finished.\")\n"
      ],
      "metadata": {
        "id": "kUGEviY8ZMtE"
      },
      "execution_count": null,
      "outputs": []
    },
    {
      "cell_type": "markdown",
      "source": [
        "Q5. State advantages and disadvantages of multithreading.\n",
        "\n",
        "ans.  **Advantages of Multithreading:**\n",
        "\n",
        "1. **Improved Performance**: Allows multiple tasks to run concurrently, boosting performance for I/O-bound tasks.\n",
        "2. **Better Resource Utilization**: Threads share memory space, reducing overhead compared to processes.\n",
        "3. **Concurrency**: Enables simultaneous execution of multiple tasks.\n",
        "4. **Responsiveness**: Enhances the responsiveness of applications (e.g., user interfaces).\n",
        "5. **Reduced Task Time**: Speeds up tasks that can be divided into smaller parts.\n",
        "\n",
        "### **Disadvantages of Multithreading:**\n",
        "\n",
        "1. **Complexity**: Designing and debugging multithreaded programs is difficult.\n",
        "2. **GIL in Python**: Limits true parallelism for CPU-bound tasks.\n",
        "3. **Overhead**: Too many threads can lead to performance degradation.\n",
        "4. **Concurrency Issues**: Risk of race conditions and deadlocks.\n",
        "5. **Synchronization**: Managing shared data requires careful handling to avoid conflicts.\n"
      ],
      "metadata": {
        "id": "XA0IsFQTZN1f"
      }
    },
    {
      "cell_type": "markdown",
      "source": [
        "Q6. Explain deadlocks and race conditions.\n",
        "\n",
        "ans. A deadlock occurs when two or more threads (or processes) are blocked forever, waiting for each other to release resources, leading to a standstill in the program. It happens when there is a circular dependency between threads, where each thread holds a resource and is waiting for another resource held by another thread.\n",
        "\n",
        "Example of Deadlock:\n"
      ],
      "metadata": {
        "id": "EsnPa9wBZdqr"
      }
    },
    {
      "cell_type": "code",
      "source": [
        "# Example of Deadlock\n",
        "\n",
        "import threading\n",
        "\n",
        "# Thread 1: Locks resource A and waits for resource B\n",
        "def thread1(lockA, lockB):\n",
        "    lockA.acquire()\n",
        "    print(\"Thread 1 acquired Lock A\")\n",
        "    lockB.acquire()  # This will cause a deadlock if Thread 2 holds Lock B\n",
        "    print(\"Thread 1 acquired Lock B\")\n",
        "\n",
        "# Thread 2: Locks resource B and waits for resource A\n",
        "def thread2(lockA, lockB):\n",
        "    lockB.acquire()\n",
        "    print(\"Thread 2 acquired Lock B\")\n",
        "    lockA.acquire()  # This will cause a deadlock if Thread 1 holds Lock A\n",
        "    print(\"Thread 2 acquired Lock A\")\n",
        "\n",
        "# Creating locks\n",
        "lockA = threading.Lock()\n",
        "lockB = threading.Lock()\n",
        "\n",
        "# Starting threads\n",
        "t1 = threading.Thread(target=thread1, args=(lockA, lockB))\n",
        "t2 = threading.Thread(target=thread2, args=(lockA, lockB))\n",
        "\n",
        "t1.start()\n",
        "t2.start()\n",
        "\n",
        "t1.join()\n",
        "t2.join()\n",
        "\n",
        "# Example of Race Condition\n",
        "\n",
        "counter = 0\n",
        "\n",
        "# Function to increment the counter\n",
        "def increment():\n",
        "    global counter\n",
        "    for _ in range(100000):\n",
        "        counter += 1\n",
        "\n",
        "# Creating threads\n",
        "t1 = threading.Thread(target=increment)\n",
        "t2 = threading.Thread(target=increment)\n",
        "\n",
        "# Starting threads\n",
        "t1.start()\n",
        "t2.start()\n",
        "\n",
        "t1.join()\n",
        "t2.join()\n",
        "\n",
        "print(\"Final counter value:\", counter)\n"
      ],
      "metadata": {
        "id": "INDN9zNHZp5m"
      },
      "execution_count": null,
      "outputs": []
    }
  ]
}