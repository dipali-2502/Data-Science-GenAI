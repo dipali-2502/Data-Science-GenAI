{
  "nbformat": 4,
  "nbformat_minor": 0,
  "metadata": {
    "colab": {
      "provenance": []
    },
    "kernelspec": {
      "name": "python3",
      "display_name": "Python 3"
    },
    "language_info": {
      "name": "python"
    }
  },
  "cells": [
    {
      "cell_type": "markdown",
      "source": [
        "Q1. What is a database? Differentiate between SQL and NoSQL databases.\n",
        "\n",
        "ans. A database is an organized collection of structured or unstructured data that is stored electronically and can be accessed, managed, and updated efficiently. Databases are used to store information for various applications, such as websites, software, and enterprise systems.\n",
        "\n",
        "Key Theoretical Differences:\n",
        "Data Structure:\n",
        "\n",
        "SQL uses a relational model with tables.\n",
        "\n",
        "NoSQL uses non-relational models like documents or key-value pairs.\n",
        "\n",
        "Schema:\n",
        "\n",
        "SQL has a fixed schema.\n",
        "\n",
        "NoSQL has a dynamic schema, allowing more flexibility.\n",
        "\n",
        "Scalability:\n",
        "\n",
        "SQL is vertically scalable (requires more powerful hardware).\n",
        "\n",
        "NoSQL is horizontally scalable (can use many servers).\n",
        "\n",
        "Transactions:\n",
        "\n",
        "SQL follows ACID properties for strict data integrity.\n",
        "\n",
        "NoSQL often follows BASE, favoring speed and availability.\n",
        "\n",
        "Use Cases:\n",
        "\n",
        "SQL is best for applications requiring complex queries and consistent data.\n",
        "\n",
        "NoSQL is suitable for handling large volumes of varied data types, often in real-time.\n",
        "\n"
      ],
      "metadata": {
        "id": "Gbtc_bmN_p_r"
      }
    },
    {
      "cell_type": "markdown",
      "source": [
        "Key Theoretical Differences:\n",
        "Data Structure:\n",
        "\n",
        "SQL uses a relational model with tables.\n",
        "\n",
        "NoSQL uses non-relational models like documents or key-value pairs.\n",
        "\n",
        "Schema:\n",
        "\n",
        "SQL has a fixed schema.\n",
        "\n",
        "NoSQL has a dynamic schema, allowing more flexibility.\n",
        "\n",
        "Scalability:\n",
        "\n",
        "SQL is vertically scalable (requires more powerful hardware).\n",
        "\n",
        "NoSQL is horizontally scalable (can use many servers).\n",
        "\n",
        "Transactions:\n",
        "\n",
        "SQL follows ACID properties for strict data integrity.\n",
        "\n",
        "NoSQL often follows BASE, favoring speed and availability.\n",
        "\n",
        "Use Cases:\n",
        "\n",
        "SQL is best for applications requiring complex queries and consistent data.\n",
        "\n",
        "NoSQL is suitable for handling large volumes of varied data types, often in real-time.\n",
        "\n"
      ],
      "metadata": {
        "id": "Cel4sRFfAoAb"
      }
    },
    {
      "cell_type": "markdown",
      "source": [
        "Q2. What is DDL? Explain why CREATE, DROP, ALTER, and TRUNCATE are used with an example?\n",
        "\n",
        "ans. DDL (Data Definition Language) is a subset of SQL (Structured Query Language) used to define and manage the structure of database objects such as tables, schemas, indexes, and views. It deals with the creation, alteration, and deletion of these structures, but not the data within them.\n",
        "\n",
        "Q2. What is DDL? Explain why CREATE, DROP, ALTER, and TRUNCATE are used with an example.\n",
        "\n",
        "DDL (Data Definition Language) is a subset of SQL used to define and manage the structure of database objects such as tables, schemas, views, and indexes. It deals with the creation, modification, and deletion of these structures.\n",
        "\n",
        "1. CREATE – Used to create a new database object like a table.\n",
        "   Example:\n",
        "   CREATE TABLE Students (\n",
        "       ID INT,\n",
        "       Name VARCHAR(50),\n",
        "       Age INT\n",
        "   );\n",
        "\n",
        "2. DROP – Used to delete an existing database object permanently.\n",
        "   Example:\n",
        "   DROP TABLE Students;\n",
        "\n",
        "3. ALTER – Used to modify the structure of an existing object.\n",
        "   Example:\n",
        "   ALTER TABLE Students ADD Email VARCHAR(100);\n",
        "\n",
        "4. TRUNCATE – Used to delete all data from a table without removing its structure.\n",
        "   Example:\n",
        "   TRUNCATE TABLE Students;\n"
      ],
      "metadata": {
        "id": "VfP91rxfAyTi"
      }
    },
    {
      "cell_type": "markdown",
      "source": [
        "Q3. What is DML? Explain INSERT, UPDATE, and DELETE with an example.\n",
        "\n",
        "ans. Q3. What is DML? Explain INSERT, UPDATE, and DELETE with an example.\n",
        "\n",
        "DML (Data Manipulation Language) is a subset of SQL used to manage and manipulate data within database tables. It allows users to add, modify, and remove data without altering the structure of the table.\n",
        "\n",
        "1. INSERT – Used to add new records into a table.\n",
        "   Example:\n",
        "   INSERT INTO Students (ID, Name, Age)\n",
        "   VALUES (1, 'Alice', 18);\n",
        "\n",
        "2. UPDATE – Used to modify existing data in a table.\n",
        "   Example:\n",
        "   UPDATE Students\n",
        "   SET Age = 19\n",
        "   WHERE ID = 1;\n",
        "\n",
        "3. DELETE – Used to remove one or more records from a table.\n",
        "   Example:\n",
        "   DELETE FROM Students\n",
        "   WHERE ID = 1;\n"
      ],
      "metadata": {
        "id": "knrkSjQzBhW2"
      }
    },
    {
      "cell_type": "markdown",
      "source": [
        "Q4. What is DQL? Explain SELECT with an example.\n",
        "\n",
        "\n",
        "ans. Q4. What is DQL? Explain SELECT with an example.\n",
        "\n",
        "DQL (Data Query Language) is a subset of SQL used to fetch or retrieve data from a database. It allows users to query data from one or more tables using the SELECT statement.\n",
        "\n",
        "SELECT – It is used to retrieve specific data from one or more tables in a database.\n",
        "\n",
        "Example:\n",
        "SELECT Name, Age FROM Students WHERE Age > 18;\n",
        "\n",
        "This query retrieves the Name and Age of students whose age is greater than 18 from the \"Students\" table.\n",
        "\n",
        "Summary:\n",
        "- DQL is mainly used for data retrieval.\n",
        "- SELECT is the primary DQL command used to query data.\n"
      ],
      "metadata": {
        "id": "uT8TSZ5BB57W"
      }
    },
    {
      "cell_type": "markdown",
      "source": [
        "Q5. Explain Primary Key and Foreign Key.\n",
        "\n",
        "ans.\n",
        "\n",
        "Primary Key:\n",
        "A primary key is a column (or a combination of columns) in a table that uniquely identifies each row in that table. It must contain unique values and cannot contain NULLs.\n",
        "\n",
        "Example:\n",
        "CREATE TABLE Students (\n",
        "    StudentID INT PRIMARY KEY,\n",
        "    Name VARCHAR(50),\n",
        "    Age INT\n",
        ");\n",
        "\n",
        "In this example, StudentID is the primary key and ensures each student has a unique ID.\n",
        "\n",
        "Foreign Key:\n",
        "A foreign key is a column in one table that refers to the primary key in another table. It is used to establish a relationship between two tables.\n",
        "\n",
        "Example:\n",
        "CREATE TABLE Enrollments (\n",
        "    EnrollmentID INT,\n",
        "    StudentID INT,\n",
        "    CourseName VARCHAR(100),\n",
        "    FOREIGN KEY (StudentID) REFERENCES Students(StudentID)\n",
        ");\n",
        "\n",
        "In this example, StudentID in the Enrollments table is a foreign key that refers to StudentID in the Students table.\n",
        "\n"
      ],
      "metadata": {
        "id": "5TQLdiHUCSaL"
      }
    },
    {
      "cell_type": "markdown",
      "source": [
        "Q6. Write a python code to connect MySQL to python. Explain the cursor() and execute() method.\n",
        "\n",
        "\n"
      ],
      "metadata": {
        "id": "8OGLTBKlChTA"
      }
    },
    {
      "cell_type": "code",
      "source": [
        "# Step 1: Install mysql-connector-python\n",
        "!pip install mysql-connector-python\n",
        "\n",
        "# Step 2: Import and connect to MySQL\n",
        "import mysql.connector\n",
        "\n",
        "try:\n",
        "    conn = mysql.connector.connect(\n",
        "        host=\"localhost\",        # Change if your MySQL is on a different host\n",
        "        user=\"your_username\",    # Replace with your MySQL username\n",
        "        password=\"your_password\",# Replace with your MySQL password\n",
        "        database=\"your_database\" # Replace with your database name\n",
        "    )\n",
        "\n",
        "    cursor = conn.cursor()\n",
        "    cursor.execute(\"SHOW TABLES;\")\n",
        "    print(\"Tables in the database:\")\n",
        "    for table in cursor.fetchall():\n",
        "        print(table)\n",
        "\n",
        "except mysql.connector.Error as err:\n",
        "    print(f\"Error: {err}\")\n",
        "\n",
        "finally:\n",
        "    if 'cursor' in locals():\n",
        "        cursor.close()\n",
        "    if 'conn' in locals() and conn.is_connected():\n",
        "        conn.close()\n"
      ],
      "metadata": {
        "colab": {
          "base_uri": "https://localhost:8080/"
        },
        "id": "IH0zaFpRDdx5",
        "outputId": "4618d6ee-80d5-4c7b-c5f5-b752c7efa094"
      },
      "execution_count": 4,
      "outputs": [
        {
          "output_type": "stream",
          "name": "stdout",
          "text": [
            "Collecting mysql-connector-python\n",
            "  Downloading mysql_connector_python-9.3.0-cp311-cp311-manylinux_2_28_x86_64.whl.metadata (7.2 kB)\n",
            "Downloading mysql_connector_python-9.3.0-cp311-cp311-manylinux_2_28_x86_64.whl (33.9 MB)\n",
            "\u001b[2K   \u001b[90m━━━━━━━━━━━━━━━━━━━━━━━━━━━━━━━━━━━━━━━━\u001b[0m \u001b[32m33.9/33.9 MB\u001b[0m \u001b[31m49.8 MB/s\u001b[0m eta \u001b[36m0:00:00\u001b[0m\n",
            "\u001b[?25hInstalling collected packages: mysql-connector-python\n",
            "Successfully installed mysql-connector-python-9.3.0\n",
            "Error: 2003: Can't connect to MySQL server on 'localhost:3306' (Errno 111: Connection refused)\n"
          ]
        }
      ]
    },
    {
      "cell_type": "markdown",
      "source": [
        "Q7. Give the order of execution of SQL clauses in an SQL query.\n",
        "\n"
      ],
      "metadata": {
        "id": "1t__K6dZDmTv"
      }
    },
    {
      "cell_type": "code",
      "source": [
        "# Q7. Order of execution of SQL clauses in an SQL query\n",
        "\n",
        "# Although SQL queries are written like this:\n",
        "# SELECT ...\n",
        "# FROM ...\n",
        "# WHERE ...\n",
        "# GROUP BY ...\n",
        "# HAVING ...\n",
        "# ORDER BY ...\n",
        "\n",
        "# The actual order of execution is:\n",
        "# 1. FROM      - Tables are joined and data source is identified\n",
        "# 2. WHERE     - Rows are filtered based on conditions\n",
        "# 3. GROUP BY  - Rows are grouped based on columns\n",
        "# 4. HAVING   - Groups are filtered based on conditions\n",
        "# 5. SELECT    - Columns or expressions are selected and computed\n",
        "# 6. ORDER BY  - Result set is sorted\n",
        "# 7. LIMIT/OFFSET - Limits number of rows returned or skips rows\n"
      ],
      "metadata": {
        "id": "3U7Ye_-KEVVJ"
      },
      "execution_count": 6,
      "outputs": []
    },
    {
      "cell_type": "markdown",
      "source": [],
      "metadata": {
        "id": "SAhuv-bx_pN6"
      }
    }
  ]
}