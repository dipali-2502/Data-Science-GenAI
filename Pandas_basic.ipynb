{
  "nbformat": 4,
  "nbformat_minor": 0,
  "metadata": {
    "colab": {
      "provenance": []
    },
    "kernelspec": {
      "name": "python3",
      "display_name": "Python 3"
    },
    "language_info": {
      "name": "python"
    }
  },
  "cells": [
    {
      "cell_type": "markdown",
      "source": [
        "Q1. Create a Pandas Series that contains the following data: 4, 8, 15, 16, 23, and 42. Then, print the series.\n"
      ],
      "metadata": {
        "id": "iQdpDoKT8-hf"
      }
    },
    {
      "cell_type": "code",
      "source": [
        "import pandas as pd\n",
        "\n",
        "data = [4, 8, 15, 16, 23, 42]\n",
        "series = pd.Series(data)\n",
        "print(series)\n"
      ],
      "metadata": {
        "colab": {
          "base_uri": "https://localhost:8080/"
        },
        "id": "QTQ_wcya9NQ1",
        "outputId": "7120cd55-c486-4b0f-bf41-16a3fffe8f4a"
      },
      "execution_count": 1,
      "outputs": [
        {
          "output_type": "stream",
          "name": "stdout",
          "text": [
            "0     4\n",
            "1     8\n",
            "2    15\n",
            "3    16\n",
            "4    23\n",
            "5    42\n",
            "dtype: int64\n"
          ]
        }
      ]
    },
    {
      "cell_type": "markdown",
      "source": [
        "Q2. Create a variable of list type containing 10 elements in it, and apply pandas.Series function on the\n",
        "variable print it."
      ],
      "metadata": {
        "id": "tY7DZJOO9TUm"
      }
    },
    {
      "cell_type": "code",
      "source": [
        "my_list = [1, 2, 3, 5, 7, 11, 13, 17, 19, 23]\n",
        "series_from_list = pd.Series(my_list)\n",
        "print(series_from_list)\n"
      ],
      "metadata": {
        "colab": {
          "base_uri": "https://localhost:8080/"
        },
        "id": "otn6Pdyp9YfR",
        "outputId": "34864a02-dcc1-4aaa-fa1c-d277ee448eb9"
      },
      "execution_count": 2,
      "outputs": [
        {
          "output_type": "stream",
          "name": "stdout",
          "text": [
            "0     1\n",
            "1     2\n",
            "2     3\n",
            "3     5\n",
            "4     7\n",
            "5    11\n",
            "6    13\n",
            "7    17\n",
            "8    19\n",
            "9    23\n",
            "dtype: int64\n"
          ]
        }
      ]
    },
    {
      "cell_type": "markdown",
      "source": [
        "q3. Create a Pandas DataFrame that contains the following data:\n",
        "\n",
        "Name     Age     City\n",
        "Alice    25      New York\n",
        "Bob      30      London\n",
        "Charlie  22      Paris\n",
        "\n"
      ],
      "metadata": {
        "id": "u-ZAM9Yk9acA"
      }
    },
    {
      "cell_type": "code",
      "source": [
        "data = {\n",
        "    'Name': ['Alice', 'Bob', 'Charlie'],\n",
        "    'Age': [25, 30, 22],\n",
        "    'City': ['New York', 'London', 'Paris']\n",
        "}\n",
        "df = pd.DataFrame(data)\n",
        "print(df)\n"
      ],
      "metadata": {
        "colab": {
          "base_uri": "https://localhost:8080/"
        },
        "id": "Lhh_uUcB9qN2",
        "outputId": "76771606-ba9e-496d-c05b-279b7b4fdf04"
      },
      "execution_count": 4,
      "outputs": [
        {
          "output_type": "stream",
          "name": "stdout",
          "text": [
            "      Name  Age      City\n",
            "0    Alice   25  New York\n",
            "1      Bob   30    London\n",
            "2  Charlie   22     Paris\n"
          ]
        }
      ]
    },
    {
      "cell_type": "markdown",
      "source": [
        "Q4. What is ‘DataFrame’ in pandas and how is it different from pandas.series? Explain with an example.\n",
        "\n",
        "A DataFrame in Pandas is a 2-dimensional, size-mutable, and heterogeneous tabular data structure with labeled axes (rows and columns). It is similar to a table in a database or an Excel spreadsheet.\n",
        "\n",
        "A Series, on the other hand, is a 1-dimensional labeled array capable of holding any data type.\n",
        "\n",
        " Key Difference:\n",
        "Series → 1D (like a single column)\n",
        "\n",
        "DataFrame → 2D (like a table with multiple columns)"
      ],
      "metadata": {
        "id": "aH5VXDyG9sol"
      }
    },
    {
      "cell_type": "code",
      "source": [
        "import pandas as pd\n",
        "\n",
        "# Creating a Series\n",
        "s = pd.Series([10, 20, 30], index=['a', 'b', 'c'])\n",
        "print(\"Series:\")\n",
        "print(s)\n",
        "\n",
        "# Creating a DataFrame\n",
        "data = {'Marks': [10, 20, 30], 'Subjects': ['Math', 'Science', 'English']}\n",
        "df = pd.DataFrame(data, index=['a', 'b', 'c'])\n",
        "print(\"\\nDataFrame:\")\n",
        "print(df)\n"
      ],
      "metadata": {
        "colab": {
          "base_uri": "https://localhost:8080/"
        },
        "id": "dZ8pyHkT-LgK",
        "outputId": "f2bc332a-7f86-4288-e787-cd4e46977c50"
      },
      "execution_count": 5,
      "outputs": [
        {
          "output_type": "stream",
          "name": "stdout",
          "text": [
            "Series:\n",
            "a    10\n",
            "b    20\n",
            "c    30\n",
            "dtype: int64\n",
            "\n",
            "DataFrame:\n",
            "   Marks Subjects\n",
            "a     10     Math\n",
            "b     20  Science\n",
            "c     30  English\n"
          ]
        }
      ]
    },
    {
      "cell_type": "markdown",
      "source": [
        "Q5. What are some common functions you can use to manipulate data in a Pandas DataFrame? Can you give an example of when you might use one of these functions?\n",
        "\n",
        "ans.\n",
        " Common Pandas DataFrame Functions:\n",
        "head(), tail() – View top/bottom rows\n",
        "\n",
        "info() – Summary of DataFrame\n",
        "\n",
        "describe() – Statistical summary\n",
        "\n",
        "drop() – Remove rows/columns\n",
        "\n",
        "fillna() – Fill missing values\n",
        "\n",
        "groupby() – Group and aggregate data\n",
        "\n",
        "sort_values() – Sort by column\n",
        "\n",
        "merge() / join() – Combine DataFrames\n",
        "\n",
        "loc[], iloc[] – Access specific rows/columns\n",
        "\n"
      ],
      "metadata": {
        "id": "8HhCjyvn-S5K"
      }
    },
    {
      "cell_type": "code",
      "source": [
        "data = {\n",
        "    'Store': ['A', 'B', 'A', 'B', 'A'],\n",
        "    'Sales': [100, 200, 150, 250, 300]\n",
        "}\n",
        "df = pd.DataFrame(data)\n",
        "\n",
        "# Calculate total sales per store\n",
        "total_sales = df.groupby('Store')['Sales'].sum()\n",
        "print(total_sales)\n"
      ],
      "metadata": {
        "colab": {
          "base_uri": "https://localhost:8080/"
        },
        "id": "1mXOTHLZ-iNQ",
        "outputId": "27d1ed3f-4d19-4973-ec37-8383981b0f58"
      },
      "execution_count": 6,
      "outputs": [
        {
          "output_type": "stream",
          "name": "stdout",
          "text": [
            "Store\n",
            "A    550\n",
            "B    450\n",
            "Name: Sales, dtype: int64\n"
          ]
        }
      ]
    },
    {
      "cell_type": "markdown",
      "source": [
        "que6. Which of the following is mutable in nature: Series, DataFrame, Panel?\n",
        "\n",
        "ans.\n",
        " All three – Series, DataFrame, and Panel – are mutable in nature.\n",
        "\n",
        "However, note that Panel has been deprecated since Pandas 1.0, and usage of multi-indexed DataFrames is now recommended instead.\n",
        "\n"
      ],
      "metadata": {
        "id": "ZNx6GhAd-kNd"
      }
    },
    {
      "cell_type": "markdown",
      "source": [
        "Q7. Create a DataFrame using multiple Series. Explain with an example.\n"
      ],
      "metadata": {
        "id": "J3rlvEFg-wK8"
      }
    },
    {
      "cell_type": "code",
      "source": [
        "import pandas as pd\n",
        "\n",
        "# Create multiple Series\n",
        "names = pd.Series(['Alice', 'Bob', 'Charlie'])\n",
        "marks = pd.Series([85, 90, 95])\n",
        "grades = pd.Series(['B', 'A', 'A+'])\n",
        "\n",
        "# Combine into a DataFrame\n",
        "df = pd.DataFrame({\n",
        "    'Name': names,\n",
        "    'Marks': marks,\n",
        "    'Grade': grades\n",
        "})\n",
        "\n",
        "print(df)\n"
      ],
      "metadata": {
        "colab": {
          "base_uri": "https://localhost:8080/"
        },
        "id": "C_NRH1Qv-0Lg",
        "outputId": "8e8d8175-ae77-4f4c-8bf7-bbdd6248c226"
      },
      "execution_count": 7,
      "outputs": [
        {
          "output_type": "stream",
          "name": "stdout",
          "text": [
            "      Name  Marks Grade\n",
            "0    Alice     85     B\n",
            "1      Bob     90     A\n",
            "2  Charlie     95    A+\n"
          ]
        }
      ]
    },
    {
      "cell_type": "markdown",
      "source": [],
      "metadata": {
        "id": "8WhkAn6_-1z7"
      }
    }
  ]
}