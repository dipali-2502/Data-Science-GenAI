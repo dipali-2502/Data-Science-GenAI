{
  "nbformat": 4,
  "nbformat_minor": 0,
  "metadata": {
    "colab": {
      "provenance": []
    },
    "kernelspec": {
      "name": "python3",
      "display_name": "Python 3"
    },
    "language_info": {
      "name": "python"
    }
  },
  "cells": [
    {
      "cell_type": "markdown",
      "source": [
        "Statistics Basics\n"
      ],
      "metadata": {
        "id": "WtDt_aVNtMd8"
      }
    },
    {
      "cell_type": "markdown",
      "source": [
        "1. What is statistics, and why is it important?\n",
        "Ans. Statistics is the study of data collection, analysis, interpretation, and presentation.  \n",
        "\n",
        "###Importance of Statistics:  \n",
        "1. **Informed Decisions** – Helps in making data-driven choices.  \n",
        "2. **Scientific Research** – Validates experiments and hypotheses.  \n",
        "3. **Predictions** – Used in forecasting trends like weather and stock markets.  \n",
        "4. **Quality Control** – Ensures product and service efficiency.  \n",
        "5. **Healthcare & Social Sciences** – Aids in medical research, surveys, and planning.  \n"
      ],
      "metadata": {
        "id": "66BYYAJRtPIP"
      }
    },
    {
      "cell_type": "markdown",
      "source": [
        "2.  What are the two main types of statistics?\n",
        "\n",
        "Ans. The two main types of statistics are:  \n",
        "\n",
        "1. **Descriptive Statistics** – Summarizes and organizes data using measures like mean, median, mode, and standard deviation. It helps in understanding data patterns.  \n",
        "\n",
        "2. **Inferential Statistics** – Draws conclusions and makes predictions about a population based on a sample. It involves hypothesis testing, confidence intervals, and regression analysis.  \n"
      ],
      "metadata": {
        "id": "IAwqIvMEtqgn"
      }
    },
    {
      "cell_type": "markdown",
      "source": [
        "3. What are descriptive statistics?\n",
        "\n",
        "Ans.  **Descriptive Statistics**  \n",
        "Descriptive statistics summarize and organize data without making predictions.  \n",
        "\n",
        "### **Types:**  \n",
        "1. **Central Tendency** – Mean, Median, Mode (represent the center of data).  \n",
        "2. **Dispersion** – Range, Variance, Standard Deviation (show data spread).  \n",
        "3. **Data Distribution** – Uses graphs like histograms and pie charts for visualization.  \n"
      ],
      "metadata": {
        "id": "9BU4Upc7t7b5"
      }
    },
    {
      "cell_type": "markdown",
      "source": [
        "4. What is inferential statistics?\n",
        "\n",
        "ans.  **Inferential Statistics**  \n",
        "Inferential statistics analyze a sample of data to make predictions or generalizations about a larger population.  \n"
      ],
      "metadata": {
        "id": "L673zcOVuPRG"
      }
    },
    {
      "cell_type": "markdown",
      "source": [
        "5. What is sampling in statistics?\n",
        "\n",
        "Ans.  **Sampling in Statistics**  \n",
        "Sampling is the process of selecting a subset (sample) from a larger group (population) to analyze and make inferences about the whole population.  \n",
        "\n",
        "\n"
      ],
      "metadata": {
        "id": "IF3tBoESuyIe"
      }
    },
    {
      "cell_type": "markdown",
      "source": [
        "6. What are the different types of sampling methods?\n",
        "\n",
        "Ans.  **Types of Sampling:**  \n",
        "1. **Random Sampling** – Every member has an equal chance of selection.  \n",
        "2. **Stratified Sampling** – Population is divided into groups, and samples are taken from each.  \n",
        "3. **Systematic Sampling** – Selecting every nth individual from a list.  \n",
        "4. **Cluster Sampling** – Dividing the population into clusters and selecting entire clusters.  \n",
        "5. **Convenience Sampling** – Selecting samples based on ease of access.  \n"
      ],
      "metadata": {
        "id": "ZtUUB970vCK9"
      }
    },
    {
      "cell_type": "markdown",
      "source": [
        "7. What is the difference between random and non-random sampling?\n",
        "\n",
        "ans. ### **Difference Between Random and Non-Random Sampling**  \n",
        "\n",
        "| Feature              | Random Sampling | Non-Random Sampling |\n",
        "|-------------------- |----------------|---------------------|\n",
        "| **Definition**     | Every member has an equal chance of selection. | Selection is based on specific criteria or convenience. |\n",
        "| **Bias**          | Minimizes bias, ensuring a representative sample. | May have bias, leading to less generalizable results. |\n",
        "| **Techniques**    | Simple Random, Stratified, Systematic, Cluster. | Convenience, Purposive, Quota, Snowball. |\n",
        "| **Reliability**   | High reliability and accuracy in generalizations. | Less reliable due to potential selection bias. |\n",
        "| **Use Cases**     | Large-scale surveys, scientific research. | Exploratory research, quick decision-making. |  \n",
        "\n",
        "Random sampling is ideal for unbiased, generalizable results, while non-random sampling is useful for specific or quick studies.\n"
      ],
      "metadata": {
        "id": "pfrGolarvaNS"
      }
    },
    {
      "cell_type": "markdown",
      "source": [
        "8. Define and give examples of qualitative and quantitative data?\n",
        "\n",
        "Ans.  **Qualitative vs. Quantitative Data**  \n",
        "\n",
        "| Feature           | **Qualitative Data** | **Quantitative Data** |\n",
        "|------------------|------------------|------------------|\n",
        "| **Definition**   | Describes characteristics, qualities, or categories. | Represents numerical values that can be measured or counted. |\n",
        "| **Nature**       | Non-numeric, descriptive. | Numeric, measurable. |\n",
        "| **Examples**     | Colors (red, blue), Emotions (happy, sad), Gender (male, female). | Height (170 cm), Age (25 years), Income ($50,000). |\n",
        "| **Types**        | Nominal (labels, names), Ordinal (ranked order). | Discrete (countable numbers), Continuous (measurable values). |\n",
        "| **Use Cases**    | Customer feedback, interviews, product reviews. | Statistical analysis, experiments, surveys. |\n",
        "\n",
        "Qualitative data describes \"what\" something is, while quantitative data measures \"how much\" or \"how many.\"\n"
      ],
      "metadata": {
        "id": "v0BQycTTvuO2"
      }
    },
    {
      "cell_type": "markdown",
      "source": [
        "9. What are the different types of data in statistics?\n",
        "\n",
        "Ans.  **Types of Data in Statistics**  \n",
        "\n",
        "1. **Qualitative (Categorical) Data** – Descriptive and non-numeric.  \n",
        "   - **Nominal Data** – Categories without order (e.g., gender, eye color).  \n",
        "   - **Ordinal Data** – Categories with a ranked order (e.g., education level, customer ratings).  \n",
        "\n",
        "2. **Quantitative (Numerical) Data** – Measurable and numeric.  \n",
        "   - **Discrete Data** – Countable values (e.g., number of students, cars sold).  \n",
        "   - **Continuous Data** – Measured values with decimals (e.g., height, temperature).  \n",
        "\n"
      ],
      "metadata": {
        "id": "i8Hdoyb3wB8k"
      }
    },
    {
      "cell_type": "markdown",
      "source": [
        "10. Explain nominal, ordinal, interval, and ratio levels of measurement?\n",
        "\n",
        "Ans.  **Levels of Measurement in Statistics**  \n",
        "\n",
        "1. **Nominal Level** (Categorical, No Order)  \n",
        "   - Data consists of labels or names without a specific order.  \n",
        "   - **Example:** Eye color (blue, brown, green), Blood type (A, B, O).  \n",
        "\n",
        "2. **Ordinal Level** (Categorical, Ordered)  \n",
        "   - Data has a meaningful order, but differences between values are not measurable.  \n",
        "   - **Example:** Education level (High school < Bachelor’s < Master’s), Customer satisfaction (Poor < Fair < Good).  \n",
        "\n",
        "3. **Interval Level** (Numeric, No True Zero)  \n",
        "   - Data has meaningful differences, but no true zero point.  \n",
        "   - **Example:** Temperature in Celsius or Fahrenheit (0°C is not the absence of temperature), IQ scores.  \n",
        "\n",
        "4. **Ratio Level** (Numeric, True Zero Exists)  \n",
        "   - Data has a meaningful order, measurable differences, and a true zero.  \n",
        "   - **Example:** Height, Weight, Income, Age (0 means absence of the quantity).  \n"
      ],
      "metadata": {
        "id": "b9YCOwg9wurV"
      }
    },
    {
      "cell_type": "markdown",
      "source": [
        "11. What is the measure of central tendency?\n",
        "\n",
        "ans. **Measure of Central Tendency**  \n",
        "A measure of central tendency is a statistical value that represents the center or typical value of a dataset. It helps summarize and describe a set of data using a single value.  \n",
        "\n",
        "### **Types of Central Tendency:**  \n",
        "1. **Mean (Average):**  \n",
        "   - Sum of all values divided by the number of values.  \n",
        "   - **Example:** (10 + 20 + 30) / 3 = 20.  \n",
        "\n",
        "2. **Median (Middle Value):**  \n",
        "   - The middle value when data is arranged in order.  \n",
        "   - **Example:** In {10, 20, 30}, the median is **20**.  \n",
        "\n",
        "3. **Mode (Most Frequent Value):**  \n",
        "   - The most commonly occurring value in a dataset.  \n",
        "   - **Example:** In {2, 3, 3, 5, 7}, the mode is **3**.  \n",
        "\n",
        "These measures help in understanding data distribution and making comparisons.\n"
      ],
      "metadata": {
        "id": "0iNVM-5MxB7S"
      }
    },
    {
      "cell_type": "markdown",
      "source": [
        "12.  Define mean, median, and mode?\n",
        "\n",
        "Ans. **Mean, Median, and Mode – Definitions**  \n",
        "\n",
        "1. **Mean (Average):**  \n",
        "   - The sum of all values divided by the number of values.  \n",
        "   - **Formula:**  \n",
        "     \\[\n",
        "     \\text{Mean} = \\frac{\\sum X}{N}\n",
        "     \\]  \n",
        "   - **Example:** For {10, 20, 30},  \n",
        "     \\[\n",
        "     \\frac{10 + 20 + 30}{3} = 20\n",
        "     \\]  \n",
        "\n",
        "2. **Median (Middle Value):**  \n",
        "   - The middle value when data is arranged in ascending order.  \n",
        "   - **Example:** In {5, 10, 15}, the median is **10**.  \n",
        "   - If there’s an even number of values, the median is the average of the two middle numbers.  \n",
        "\n",
        "3. **Mode (Most Frequent Value):**  \n",
        "   - The value that appears most often in a dataset.  \n",
        "   - **Example:** In {2, 3, 3, 5, 7}, the mode is **3**.  \n",
        "\n",
        "These measures help summarize data and identify central trends.\n"
      ],
      "metadata": {
        "id": "9muFLLqvxTP2"
      }
    },
    {
      "cell_type": "markdown",
      "source": [
        "13.  What is the significance of the measure of central tendency?\n",
        "\n",
        "Ans.  **Significance of the Measure of Central Tendency**  \n",
        "\n",
        "The measure of central tendency (Mean, Median, and Mode) is crucial in statistics because it helps summarize large datasets using a single representative value.  \n",
        "\n",
        "### **Key Significance:**  \n",
        "1. **Simplifies Data Analysis:** Provides a quick summary of data distribution.  \n",
        "2. **Comparison of Datasets:** Helps compare different datasets easily.  \n",
        "3. **Decision Making:** Used in business, healthcare, and research to make informed decisions.  \n",
        "4. **Identifies Data Trends:** Shows common or typical values in a dataset.  \n",
        "5. **Guides Further Analysis:** Essential for statistical methods like standard deviation and hypothesis testing.  \n",
        "\n",
        "It is widely used in various fields like economics, social sciences, and engineering for data-driven insights.\n"
      ],
      "metadata": {
        "id": "ty7k83UayUea"
      }
    },
    {
      "cell_type": "markdown",
      "source": [
        "14. What is variance, and how is it calculated?\n",
        "\n",
        "Ans.  **What is Variance?**  \n",
        "Variance measures the spread or dispersion of a dataset. It indicates how far individual data points deviate from the mean. A high variance means data points are spread out, while a low variance means they are close to the mean.  \n",
        "\n",
        "### **Formula for Variance:**  \n",
        "For a dataset with **N** values:  \n",
        "1. **Population Variance (σ²):**  \n",
        "   \\[\n",
        "   \\sigma^2 = \\frac{\\sum (X_i - \\mu)^2}{N}\n",
        "   \\]  \n",
        "2. **Sample Variance (s²):**  \n",
        "   \\[\n",
        "   s^2 = \\frac{\\sum (X_i - \\bar{X})^2}{n - 1}\n",
        "   \\]  \n",
        "   - **Xᵢ** = Individual data points  \n",
        "   - **μ (Mean for Population)** or **X̄ (Mean for Sample)**  \n",
        "   - **N (Total Population Size)** or **n (Sample Size)**  \n",
        "\n",
        "### **Steps to Calculate Variance:**  \n",
        "1. Find the **mean** (average) of the dataset.  \n",
        "2. Subtract the mean from each data point and square the result.  \n",
        "3. Sum all squared differences.  \n",
        "4. Divide by **N** for population variance or **(n - 1)** for sample variance.  \n",
        "\n",
        "### **Example:**  \n",
        "For data {2, 4, 6},  \n",
        "1. **Mean (X̄):** (2+4+6)/3 = 4  \n",
        "2. **Squared Differences:** (2-4)², (4-4)², (6-4)² → 4, 0, 4  \n",
        "3. **Sum of Squared Differences:** 4 + 0 + 4 = 8  \n",
        "4. **Variance (Population):** 8/3 = **2.67**  \n",
        "   **Variance (Sample):** 8/2 = **4**  \n",
        "\n",
        "Variance is useful in statistics for understanding data dispersion and is commonly used in finance, quality control, and scientific research.\n"
      ],
      "metadata": {
        "id": "DaGazHK6zjc3"
      }
    },
    {
      "cell_type": "markdown",
      "source": [
        "15. What is standard deviation, and why is it important?\n",
        "\n",
        "Ans.  **What is Standard Deviation?**  \n",
        "Standard deviation (SD) measures the dispersion or spread of data relative to its mean. It is the square root of variance and indicates how much the data deviates from the average value.  \n",
        "\n",
        "### **Formula:**  \n",
        "1. **Population Standard Deviation (σ):**  \n",
        "   \\[\n",
        "   \\sigma = \\sqrt{\\frac{\\sum (X_i - \\mu)^2}{N}}\n",
        "   \\]  \n",
        "2. **Sample Standard Deviation (s):**  \n",
        "   \\[\n",
        "   s = \\sqrt{\\frac{\\sum (X_i - \\bar{X})^2}{n - 1}}\n",
        "   \\]  \n",
        "   - **Xᵢ** = Individual data points  \n",
        "   - **μ (Mean for Population)** or **X̄ (Mean for Sample)**  \n",
        "   - **N (Total Population Size)** or **n (Sample Size)**  \n",
        "\n",
        "### **Importance of Standard Deviation:**  \n",
        "1. **Measures Data Spread** – Shows how much values vary from the mean.  \n",
        "2. **Identifies Consistency** – A low SD means data is closely clustered, while a high SD means more variability.  \n",
        "3. **Used in Risk Analysis** – In finance, it helps measure investment risk.  \n",
        "4. **Essential for Hypothesis Testing** – Helps in confidence intervals and z-scores.  \n",
        "5. **Comparing Datasets** – Allows comparison of different datasets' variability.  \n",
        "\n",
        "Standard deviation is widely used in research, quality control, and decision-making processes.\n"
      ],
      "metadata": {
        "id": "Qc5AujQOz0xH"
      }
    },
    {
      "cell_type": "markdown",
      "source": [
        "16. Define and explain the term range in statistics?\n",
        "\n",
        "Ans. **Definition of Range in Statistics**  \n",
        "The **range** is a measure of dispersion that represents the difference between the highest and lowest values in a dataset.  \n",
        "\n",
        "### **Formula:**  \n",
        "\\[\n",
        "\\text{Range} = \\text{Maximum Value} - \\text{Minimum Value}\n",
        "\\]  \n",
        "\n",
        "### **Explanation:**  \n",
        "- The range gives a quick sense of how spread out the data is.  \n",
        "- A **larger range** indicates more variability, while a **smaller range** means data points are closely clustered.  \n",
        "- It is **easy to calculate** but can be influenced by outliers.  \n"
      ],
      "metadata": {
        "id": "388-NQsG0GHO"
      }
    },
    {
      "cell_type": "markdown",
      "source": [
        "17.  What is the difference between variance and standard deviation?\n",
        "\n",
        "Ans. **Difference Between Variance and Standard Deviation**  \n",
        "\n",
        "| Feature             | **Variance** (σ² or s²) | **Standard Deviation** (σ or s) |\n",
        "|--------------------|------------------|----------------------|\n",
        "| **Definition**     | Measures the average squared deviation from the mean. | Measures the spread of data using the same unit as the original values. |\n",
        "| **Formula**       | \\(\\sigma^2 = \\frac{\\sum (X_i - \\mu)^2}{N}\\) (Population) | \\(\\sigma = \\sqrt{\\sigma^2}\\) |\n",
        "| **Units**         | Squared units of the original data. | Same units as the original data. |\n",
        "| **Interpretation** | Harder to interpret due to squared values. | Easier to interpret as it represents actual data dispersion. |\n",
        "| **Use Case**      | Used in further statistical calculations (e.g., in regression). | Used for direct understanding of variability. |\n",
        "\n",
        "### **Key Point:**  \n",
        "Standard deviation is simply the **square root** of variance, making it more practical for understanding data spread.\n"
      ],
      "metadata": {
        "id": "d2OWvk7M0cw_"
      }
    },
    {
      "cell_type": "markdown",
      "source": [
        "18.  What is skewness in a dataset?\n",
        "\n",
        "Ans. **Skewness** measures the **asymmetry** of a dataset:\n",
        "\n",
        "- **Positive skew**: Tail is on the right (mean > median).\n",
        "- **Negative skew**: Tail is on the left (mean < median).\n",
        "- **Zero skew**: Symmetrical distribution (mean = median).\n",
        "\n",
        "It shows if the data leans left, right, or is balanced.\n"
      ],
      "metadata": {
        "id": "O4a2NEJl9yeO"
      }
    },
    {
      "cell_type": "markdown",
      "source": [
        "19. What does it mean if a dataset is positively or negatively skewed?\n",
        "\n",
        "Ans If a dataset is:\n",
        "\n",
        "###  **Positively Skewed (Right-Skewed)**  \n",
        "- Most values are **low**, with a few very **high** values.  \n",
        "- Tail stretches to the **right**.  \n",
        "- **Mean > Median**.  \n",
        "- Example: Income — most people earn less, few earn a lot.\n",
        "\n",
        "###  **Negatively Skewed (Left-Skewed)**  \n",
        "- Most values are **high**, with a few very **low** values.  \n",
        "- Tail stretches to the **left**.  \n",
        "- **Mean < Median**.  \n",
        "- Example: Age of retirement — most retire at 60–65, few very early.\n",
        "\n",
        "In short, skewness tells you **which side the data is \"pulled\" toward**.\n"
      ],
      "metadata": {
        "id": "Dq1V0YOK-YQO"
      }
    },
    {
      "cell_type": "markdown",
      "source": [
        "20.  Define and explain kurtosis?\n",
        "\n",
        "ans. **Mesokurtic** (Normal):\n",
        "\n",
        "This is the standard bell-shaped curve.\n",
        "\n",
        "Tails and peak are just like a normal distribution.\n",
        "\n",
        "Example: Heights of people in a large population.\n",
        "\n",
        "**Leptokurtic (High kurtosis)**:\n",
        "\n",
        "Tall and sharp peak, with fat tails.\n",
        "\n",
        "This means more extreme values or outliers.\n",
        "\n",
        "Example: Daily stock returns — mostly small changes, sometimes big jumps.\n",
        "\n",
        "**Platykurtic** (Low kurtosis):\n",
        "\n",
        "Flat and wide peak, with thin tails.\n",
        "\n",
        "Fewer outliers than normal.\n",
        "\n",
        "Example: Exam scores where most students scored similarly.\n",
        "\n",
        "\n"
      ],
      "metadata": {
        "id": "oun8sBYK-zod"
      }
    },
    {
      "cell_type": "markdown",
      "source": [
        "21.  What is the purpose of covariance?\n",
        "\n",
        "Ans. What is the Purpose of Covariance?\n",
        "\n",
        "**Covariance** shows the **relationship between two variables** — specifically, how they **change together**.\n",
        "\n",
        "\n",
        "### 🔹 Purpose:\n",
        "To understand whether two variables **increase or decrease together**:\n",
        "\n",
        "- **Positive covariance**:  \n",
        "  When one variable increases, the other also tends to increase.  \n",
        "  (They move in the **same direction**.)\n",
        "\n",
        "- **Negative covariance**:  \n",
        "  When one increases, the other tends to decrease.  \n",
        "  (They move in **opposite directions**.)\n",
        "\n",
        "- **Zero covariance**:  \n",
        "  No consistent relationship between the variables.\n",
        "\n"
      ],
      "metadata": {
        "id": "wAwvJOfX_3cj"
      }
    },
    {
      "cell_type": "markdown",
      "source": [
        "22. What does correlation measure in statistics?\n",
        "Ans. Sure! Let's break it down clearly and simply:\n",
        " **What is Correlation?**\n",
        "\n",
        "**Correlation** is a statistical measure that tells you:\n",
        "1. **How strongly two variables are related**, and  \n",
        "2. **In which direction** they move together.\n",
        "\n",
        "\n",
        " **How is it measured?**\n",
        "\n",
        "The correlation value (called the **correlation coefficient**, often denoted as **r**) ranges from **-1 to +1**:\n",
        "\n",
        "- **+1** → Perfect **positive** relationship  \n",
        "  (As one goes **up**, the other also goes **up**)\n",
        "\n",
        "- **-1** → Perfect **negative** relationship  \n",
        "  (As one goes **up**, the other goes **down**)\n",
        "\n",
        "- **0** → **No** linear relationship  \n",
        "  (Changes in one variable do **not affect** the other)\n",
        "\n"
      ],
      "metadata": {
        "id": "HtR2PzGHAfls"
      }
    },
    {
      "cell_type": "markdown",
      "source": [
        "23. What is the difference between covariance and correlation?\n",
        "\n",
        "Ans. Term\tWhat it Tells You\tRange\tEasy to Understand?\n",
        "Covariance\tIf two things move together (same or opposite direction)\tAny number\t Not easy (depends on units)\n",
        "Correlation\tHow strongly they move together and in which direction\t-1 to +1\t Yes (standardized)\n"
      ],
      "metadata": {
        "id": "8JiNJmo1A9bJ"
      }
    },
    {
      "cell_type": "markdown",
      "source": [
        "24.  What are some real-world applications of statistics?\n",
        "\n",
        "Ans.\n",
        " 1.**Medicine & Healthcare**\n",
        "\n",
        "Analyzing patient data to find disease trends.\n",
        "\n",
        "Testing effectiveness of new drugs (clinical trials).\n",
        "\n",
        "Predicting disease outbreaks.\n",
        "\n",
        " 2. **Business & Marketing**\n",
        "Studying customer behavior and preferences.\n",
        "\n",
        "Forecasting sales and setting prices.\n",
        "\n",
        "Measuring ad campaign performance.\n",
        "\n",
        " 3. **Finance**\n",
        "Evaluating investment risks.\n",
        "\n",
        "Predicting stock market trends.\n",
        "\n",
        "Managing insurance claims and policies.\n",
        "\n",
        " 4. **Government & Policy Making**\n",
        "\n",
        "Conducting surveys and censuses.\n",
        "\n",
        "Making decisions on budgets, education, and healthcare.\n",
        "\n",
        "Monitoring unemployment and inflation rates.\n",
        "\n",
        " 5. **Education**\n",
        "\n",
        "Analyzing student performance data.\n",
        "\n",
        "Improving teaching methods.\n",
        "\n",
        "Setting exam difficulty levels.\n",
        "\n",
        " 6. **Sports**\n",
        "\n",
        "Tracking player performance.\n",
        "\n",
        "Making game strategies.\n",
        "\n",
        "Fantasy sports predictions.\n",
        "\n",
        "\n"
      ],
      "metadata": {
        "id": "kx0dFJsQB-b_"
      }
    },
    {
      "cell_type": "markdown",
      "source": [
        "**practical**"
      ],
      "metadata": {
        "id": "6Z2un5aWDiot"
      }
    },
    {
      "cell_type": "markdown",
      "source": [
        "1.  How do you calculate the mean, median, and mode of a dataset?\n",
        "\n",
        "ans. These are the **three main measures of central tendency** in statistics. Here’s how to calculate them:\n",
        "\n",
        "\n",
        " **1. Mean (Average)**  \n",
        "**Formula:**  \n",
        "\\[\n",
        "\\text{Mean} = \\frac{\\text{Sum of all values}}{\\text{Total number of values}}\n",
        "\\]\n",
        "\n",
        "**Example:**  \n",
        "Dataset: **2, 4, 6, 8, 10**  \n",
        "Mean = \\( (2+4+6+8+10) / 5 = 30 / 5 = 6 \\)\n",
        "\n",
        " **2. Median (Middle Value)**  \n",
        "- Arrange numbers in **ascending order**.  \n",
        "- If **odd** number of values → Middle number is the median.  \n",
        "- If **even** number of values → Average of the two middle numbers.\n",
        "\n",
        "**Example 1 (Odd Count):**  \n",
        "Dataset: **3, 5, 7** → Median = **5**  \n",
        "\n",
        "**Example 2 (Even Count):**  \n",
        "Dataset: **1, 3, 5, 7** → Median = \\( (3+5) / 2 = 4 \\)\n",
        "\n",
        "\n",
        "\n",
        " **3. Mode (Most Frequent Value)**  \n",
        "- The **number that appears most often** in a dataset.  \n",
        "- A dataset can have **one mode, multiple modes, or no mode**.\n",
        "\n",
        "**Example 1 (Single Mode):**  \n",
        "Dataset: **2, 3, 3, 5, 7** → Mode = **3**  \n",
        "\n",
        "**Example 2 (Multiple Modes):**  \n",
        "Dataset: **1, 2, 2, 3, 3, 4** → Modes = **2 and 3**  \n",
        "\n",
        "**Example 3 (No Mode):**  \n",
        "Dataset: **1, 2, 3, 4** → No mode (all values appear once)\n"
      ],
      "metadata": {
        "id": "LDfs00wWDv23"
      }
    },
    {
      "cell_type": "markdown",
      "source": [
        "2. Write a Python program to compute the variance and standard deviation of a dataset?\n",
        "\n"
      ],
      "metadata": {
        "id": "en9Ub2-8Egn9"
      }
    },
    {
      "cell_type": "code",
      "source": [
        "import statistics\n",
        "\n",
        "# Sample dataset (You can replace this with your own data)\n",
        "data = [78, 85, 90, 92, 85, 88, 95]\n",
        "\n",
        "# Calculate variance\n",
        "variance = statistics.variance(data)\n",
        "\n",
        "# Calculate standard deviation\n",
        "std_dev = statistics.stdev(data)\n",
        "\n",
        "# Print results\n",
        "print(f\"Variance: {variance}\")\n",
        "print(f\"Standard Deviation: {std_dev}\")\n"
      ],
      "metadata": {
        "colab": {
          "base_uri": "https://localhost:8080/"
        },
        "id": "zQOv-nlREl6k",
        "outputId": "4c8c6ff8-234b-43d1-8ded-60645dd0aade"
      },
      "execution_count": 3,
      "outputs": [
        {
          "output_type": "stream",
          "name": "stdout",
          "text": [
            "Variance: 30.952380952380953\n",
            "Standard Deviation: 5.563486402641868\n"
          ]
        }
      ]
    },
    {
      "cell_type": "markdown",
      "source": [
        "3. Create a dataset and classify it into nominal, ordinal, interval, and ratio types?\n"
      ],
      "metadata": {
        "id": "PpgZRhT_EyYM"
      }
    },
    {
      "cell_type": "code",
      "source": [
        "# Creating a dataset with different types of data\n",
        "dataset = {\n",
        "    \"Patient ID\": [101, 102, 103, 104],  # Nominal (Unique Identifier, but not used for analysis)\n",
        "    \"Blood Type\": [\"A+\", \"O-\", \"B+\", \"AB-\"],  # Nominal (Categories without order)\n",
        "    \"Pain Level\": [3, 7, 5, 8],  # Ordinal (Ordered, but differences not exact)\n",
        "    \"Body Temperature (°C)\": [37.2, 38.1, 36.5, 39.0],  # Interval (Measurable, no true zero)\n",
        "    \"Weight (kg)\": [70, 85, 60, 75]  # Ratio (Measurable, has a true zero)\n",
        "}\n",
        "\n",
        "# Printing dataset with classifications\n",
        "print(\"Dataset and Classification:\\n\")\n",
        "for key, values in dataset.items():\n",
        "    if key in [\"Blood Type\"]:\n",
        "        data_type = \"Nominal (Categorical, No Order)\"\n",
        "    elif key in [\"Pain Level\"]:\n",
        "        data_type = \"Ordinal (Categorical, Ordered)\"\n",
        "    elif key in [\"Body Temperature (°C)\"]:\n",
        "        data_type = \"Interval (Numerical, No True Zero)\"\n",
        "    elif key in [\"Weight (kg)\"]:\n",
        "        data_type = \"Ratio (Numerical, True Zero Exists)\"\n",
        "    else:\n",
        "        data_type = \"Identifier (Not for Analysis)\"\n",
        "\n",
        "    print(f\"{key}: {values} → {data_type}\")\n"
      ],
      "metadata": {
        "colab": {
          "base_uri": "https://localhost:8080/"
        },
        "id": "dl60HlraE-c4",
        "outputId": "4135ba7e-8170-4870-a370-6db53083d442"
      },
      "execution_count": 4,
      "outputs": [
        {
          "output_type": "stream",
          "name": "stdout",
          "text": [
            "Dataset and Classification:\n",
            "\n",
            "Patient ID: [101, 102, 103, 104] → Identifier (Not for Analysis)\n",
            "Blood Type: ['A+', 'O-', 'B+', 'AB-'] → Nominal (Categorical, No Order)\n",
            "Pain Level: [3, 7, 5, 8] → Ordinal (Categorical, Ordered)\n",
            "Body Temperature (°C): [37.2, 38.1, 36.5, 39.0] → Interval (Numerical, No True Zero)\n",
            "Weight (kg): [70, 85, 60, 75] → Ratio (Numerical, True Zero Exists)\n"
          ]
        }
      ]
    },
    {
      "cell_type": "markdown",
      "source": [
        "4. Implement sampling techniques like random sampling and stratified sampling?\n"
      ],
      "metadata": {
        "id": "MlBtdnyKFqdr"
      }
    },
    {
      "cell_type": "code",
      "source": [
        "import random\n",
        "import pandas as pd\n",
        "from sklearn.model_selection import train_test_split\n",
        "\n",
        "# Sample dataset: Students with marks and categories\n",
        "data = {\n",
        "    \"Student ID\": [101, 102, 103, 104, 105, 106, 107, 108, 109, 110],\n",
        "    \"Marks\": [85, 78, 92, 88, 76, 90, 95, 89, 82, 80],\n",
        "    \"Category\": [\"A\", \"B\", \"A\", \"B\", \"A\", \"C\", \"C\", \"B\", \"A\", \"C\"]\n",
        "}\n",
        "\n",
        "# Convert to DataFrame\n",
        "df = pd.DataFrame(data)\n",
        "\n",
        "###  1. Random Sampling (Select 5 random students)\n",
        "random_sample = df.sample(n=5, random_state=42)\n",
        "print(\" Random Sampling:\\n\", random_sample)\n",
        "\n",
        "###  2. Stratified Sampling (Ensure equal representation from each category)\n",
        "stratified_sample, _ = train_test_split(df, test_size=0.5, stratify=df[\"Category\"], random_state=42)\n",
        "print(\"\\n Stratified Sampling:\\n\", stratified_sample)\n"
      ],
      "metadata": {
        "colab": {
          "base_uri": "https://localhost:8080/"
        },
        "id": "oEvK59DwGUym",
        "outputId": "4c0e76fc-fa46-43a5-9e5a-6fb01f9d71c6"
      },
      "execution_count": 7,
      "outputs": [
        {
          "output_type": "stream",
          "name": "stdout",
          "text": [
            " Random Sampling:\n",
            "    Student ID  Marks Category\n",
            "8         109     82        A\n",
            "1         102     78        B\n",
            "5         106     90        C\n",
            "0         101     85        A\n",
            "7         108     89        B\n",
            "\n",
            " Stratified Sampling:\n",
            "    Student ID  Marks Category\n",
            "9         110     80        C\n",
            "2         103     92        A\n",
            "6         107     95        C\n",
            "1         102     78        B\n",
            "4         105     76        A\n"
          ]
        }
      ]
    },
    {
      "cell_type": "markdown",
      "source": [
        "5.  Write a Python function to calculate the range of a dataset?\n"
      ],
      "metadata": {
        "id": "_4ePrI_gGe93"
      }
    },
    {
      "cell_type": "code",
      "source": [
        "def calculate_range(data):\n",
        "    if not data:\n",
        "        return \"Dataset is empty\"\n",
        "\n",
        "    return max(data) - min(data)  # Range = Max - Min\n",
        "\n",
        "# Example dataset\n",
        "dataset = [15, 22, 8, 35, 42, 18, 27]\n",
        "\n",
        "# Calculate range\n",
        "range_value = calculate_range(dataset)\n",
        "\n",
        "# Print result\n",
        "print(f\"The range of the dataset is: {range_value}\")\n"
      ],
      "metadata": {
        "colab": {
          "base_uri": "https://localhost:8080/"
        },
        "id": "FHxzIKd3GpiB",
        "outputId": "b7bb88eb-2946-4b1e-8494-5397c51a4844"
      },
      "execution_count": 8,
      "outputs": [
        {
          "output_type": "stream",
          "name": "stdout",
          "text": [
            "The range of the dataset is: 34\n"
          ]
        }
      ]
    },
    {
      "cell_type": "markdown",
      "source": [
        "6. Create a dataset and plot its histogram to visualize skewness?\n"
      ],
      "metadata": {
        "id": "_4npFeMqGxrN"
      }
    },
    {
      "cell_type": "code",
      "source": [
        "import numpy as np\n",
        "import matplotlib.pyplot as plt\n",
        "import seaborn as sns\n",
        "\n",
        "# Generate a right-skewed (positively skewed) dataset\n",
        "data = np.random.exponential(scale=2, size=1000)  # Exponential distribution for skewness\n",
        "\n",
        "# Plot histogram\n",
        "plt.figure(figsize=(8, 5))\n",
        "sns.histplot(data, bins=30, kde=True, color='skyblue')\n",
        "\n",
        "# Labels and Title\n",
        "plt.xlabel(\"Values\")\n",
        "plt.ylabel(\"Frequency\")\n",
        "plt.title(\"Histogram to Visualize Skewness\")\n",
        "\n",
        "# Show plot\n",
        "plt.show()\n"
      ],
      "metadata": {
        "colab": {
          "base_uri": "https://localhost:8080/",
          "height": 487
        },
        "id": "FgCVN3CsG36S",
        "outputId": "b4690ddb-8e97-4d76-bdc7-09b8416790c2"
      },
      "execution_count": 9,
      "outputs": [
        {
          "output_type": "display_data",
          "data": {
            "text/plain": [
              "<Figure size 800x500 with 1 Axes>"
            ],
            "image/png": "[encoded data removed]"
          },
          "metadata": {}
        }
      ]
    },
    {
      "cell_type": "markdown",
      "source": [
        "7. Calculate skewness and kurtosis of a dataset using Python libraries?\n"
      ],
      "metadata": {
        "id": "cQLoHqXXHQxt"
      }
    },
    {
      "cell_type": "code",
      "source": [
        "import numpy as np\n",
        "import pandas as pd\n",
        "from scipy.stats import skew, kurtosis\n",
        "\n",
        "# Create a sample dataset\n",
        "data = [15, 18, 21, 21, 24, 30, 45, 55, 60, 70, 85]\n",
        "\n",
        "# Convert to pandas Series\n",
        "series = pd.Series(data)\n",
        "\n",
        "# Calculate skewness and kurtosis\n",
        "data_skewness = skew(series)\n",
        "data_kurtosis = kurtosis(series)\n",
        "\n",
        "# Print the results\n",
        "print(f\"Skewness: {data_skewness:.2f}\")\n",
        "print(f\"Kurtosis: {data_kurtosis:.2f}\")\n"
      ],
      "metadata": {
        "colab": {
          "base_uri": "https://localhost:8080/"
        },
        "id": "Zny5QpsNHXOm",
        "outputId": "f1e023d0-9d71-4a3e-ea50-615f09cc0e69"
      },
      "execution_count": 10,
      "outputs": [
        {
          "output_type": "stream",
          "name": "stdout",
          "text": [
            "Skewness: 0.59\n",
            "Kurtosis: -1.02\n"
          ]
        }
      ]
    },
    {
      "cell_type": "markdown",
      "source": [
        "8.  Generate a dataset and demonstrate positive and negative skewness?\n"
      ],
      "metadata": {
        "id": "7Ur7WDLCHe_T"
      }
    },
    {
      "cell_type": "code",
      "source": [
        "import numpy as np\n",
        "import matplotlib.pyplot as plt\n",
        "import seaborn as sns\n",
        "from scipy.stats import skew\n",
        "\n",
        "# Set seed for reproducibility\n",
        "np.random.seed(0)\n",
        "\n",
        "# Generate datasets\n",
        "positive_skew = np.random.exponential(scale=2, size=1000)  # Right-skewed\n",
        "negative_skew = np.random.exponential(scale=2, size=1000)\n",
        "negative_skew = -negative_skew + 10  # Left-skewed\n",
        "\n",
        "# Calculate skewness\n",
        "positive_skewness = skew(positive_skew)\n",
        "negative_skewness = skew(negative_skew)\n",
        "\n",
        "# Plotting\n",
        "plt.figure(figsize=(14, 5))\n",
        "\n",
        "# Positive skew\n",
        "plt.subplot(1, 2, 1)\n",
        "sns.histplot(positive_skew, bins=30, kde=True, color='skyblue')\n",
        "plt.title(f\"Positively Skewed Distribution\\nSkewness: {positive_skewness:.2f}\")\n",
        "\n",
        "# Negative skew\n",
        "plt.subplot(1, 2, 2)\n",
        "sns.histplot(negative_skew, bins=30, kde=True, color='salmon')\n",
        "plt.title(f\"Negatively Skewed Distribution\\nSkewness: {negative_skewness:.2f}\")\n",
        "\n",
        "plt.tight_layout()\n",
        "plt.show()\n"
      ],
      "metadata": {
        "colab": {
          "base_uri": "https://localhost:8080/",
          "height": 506
        },
        "id": "ZIqmJxKpHlSQ",
        "outputId": "b6208b97-1037-482c-9e1e-12d37d9b22cd"
      },
      "execution_count": 11,
      "outputs": [
        {
          "output_type": "display_data",
          "data": {
            "text/plain": [
              "<Figure size 1400x500 with 2 Axes>"
            ],
            "image/png": "[encoded data removed]"
          },
          "metadata": {}
        }
      ]
    },
    {
      "cell_type": "markdown",
      "source": [
        "9.  Write a Python script to calculate covariance between two datasets?\n"
      ],
      "metadata": {
        "id": "OOZX3HHpSgCt"
      }
    },
    {
      "cell_type": "code",
      "source": [
        "import numpy as np\n",
        "\n",
        "def calculate_covariance(x, y):\n",
        "    if len(x) != len(y):\n",
        "        raise ValueError(\"Datasets must have the same length.\")\n",
        "\n",
        "    n = len(x)\n",
        "    mean_x = sum(x) / n\n",
        "    mean_y = sum(y) / n\n",
        "\n",
        "    covariance = sum((x[i] - mean_x) * (y[i] - mean_y) for i in range(n)) / (n - 1)\n",
        "    return covariance\n",
        "\n",
        "# Example datasets\n",
        "x = [2, 4, 6, 8, 10]\n",
        "y = [1, 3, 5, 7, 9]\n",
        "\n",
        "# Manual covariance calculation\n",
        "manual_cov = calculate_covariance(x, y)\n",
        "\n",
        "# NumPy covariance calculation\n",
        "x_array = np.array(x)\n",
        "y_array = np.array(y)\n",
        "numpy_cov = np.cov(x_array, y_array)[0][1]\n",
        "\n",
        "# Output\n",
        "print(\"Dataset X:\", x)\n",
        "print(\"Dataset Y:\", y)\n",
        "print(f\"Covariance (Manual): {manual_cov}\")\n",
        "print(f\"Covariance (NumPy): {numpy_cov}\")\n"
      ],
      "metadata": {
        "colab": {
          "base_uri": "https://localhost:8080/"
        },
        "id": "YRFqDvFGTplb",
        "outputId": "46e68420-407f-4157-9d3c-79822d427f8a"
      },
      "execution_count": 16,
      "outputs": [
        {
          "output_type": "stream",
          "name": "stdout",
          "text": [
            "Dataset X: [2, 4, 6, 8, 10]\n",
            "Dataset Y: [1, 3, 5, 7, 9]\n",
            "Covariance (Manual): 10.0\n",
            "Covariance (NumPy): 10.0\n"
          ]
        }
      ]
    },
    {
      "cell_type": "markdown",
      "source": [
        "10.Write a Python script to calculate the correlation coefficient between two datasets?\n"
      ],
      "metadata": {
        "id": "LsNsAKbWTuGc"
      }
    },
    {
      "cell_type": "code",
      "source": [
        "import numpy as np\n",
        "\n",
        "def calculate_correlation(x, y):\n",
        "    if len(x) != len(y):\n",
        "        raise ValueError(\"Datasets must have the same length.\")\n",
        "\n",
        "    n = len(x)\n",
        "    mean_x = sum(x) / n\n",
        "    mean_y = sum(y) / n\n",
        "\n",
        "    numerator = sum((x[i] - mean_x) * (y[i] - mean_y) for i in range(n))\n",
        "    denominator_x = sum((x[i] - mean_x) ** 2 for i in range(n)) ** 0.5\n",
        "    denominator_y = sum((y[i] - mean_y) ** 2 for i in range(n)) ** 0.5\n",
        "\n",
        "    correlation = numerator / (denominator_x * denominator_y)\n",
        "    return correlation\n",
        "\n",
        "# Example datasets\n",
        "x = [10, 20, 30, 40, 50]\n",
        "y = [5, 15, 25, 35, 45]\n",
        "\n",
        "# Manual correlation calculation\n",
        "manual_corr = calculate_correlation(x, y)\n",
        "\n",
        "# NumPy correlation\n",
        "numpy_corr = np.corrcoef(x, y)[0][1]\n",
        "\n",
        "# Output\n",
        "print(\"Dataset X:\", x)\n",
        "print(\"Dataset Y:\", y)\n",
        "print(f\"Correlation Coefficient (Manual): {manual_corr}\")\n",
        "print(f\"Correlation Coefficient (NumPy): {numpy_corr}\")\n"
      ],
      "metadata": {
        "colab": {
          "base_uri": "https://localhost:8080/"
        },
        "id": "uBHcy6jPT_zN",
        "outputId": "7150545f-b871-4417-d12d-c4fb7afc6489"
      },
      "execution_count": 17,
      "outputs": [
        {
          "output_type": "stream",
          "name": "stdout",
          "text": [
            "Dataset X: [10, 20, 30, 40, 50]\n",
            "Dataset Y: [5, 15, 25, 35, 45]\n",
            "Correlation Coefficient (Manual): 1.0\n",
            "Correlation Coefficient (NumPy): 1.0\n"
          ]
        }
      ]
    },
    {
      "cell_type": "markdown",
      "source": [
        "11.  Create a scatter plot to visualize the relationship between two variables?\n"
      ],
      "metadata": {
        "id": "p0TtBjEyUTe0"
      }
    },
    {
      "cell_type": "code",
      "source": [
        "import numpy as np\n",
        "import matplotlib.pyplot as plt\n",
        "\n",
        "# Sample datasets\n",
        "x = [10, 20, 30, 40, 50]\n",
        "y = [5, 15, 25, 35, 45]\n",
        "\n",
        "# Calculate correlation using NumPy\n",
        "correlation = np.corrcoef(x, y)[0][1]\n",
        "\n",
        "# Create a scatter plot\n",
        "plt.figure(figsize=(8, 6))\n",
        "plt.scatter(x, y, color='blue', edgecolors='black')\n",
        "plt.title(f'Scatter Plot of X vs Y\\nCorrelation Coefficient: {correlation:.2f}')\n",
        "plt.xlabel('X values')\n",
        "plt.ylabel('Y values')\n",
        "plt.grid(True)\n",
        "plt.tight_layout()\n",
        "plt.show()\n"
      ],
      "metadata": {
        "colab": {
          "base_uri": "https://localhost:8080/",
          "height": 607
        },
        "id": "ERF2ku9OUeaa",
        "outputId": "b9837193-8e62-4f98-a9c9-864d6d79df06"
      },
      "execution_count": 18,
      "outputs": [
        {
          "output_type": "display_data",
          "data": {
            "text/plain": [
              "<Figure size 800x600 with 1 Axes>"
            ],
            "image/png": "[encoded data removed]"
          },
          "metadata": {}
        }
      ]
    },
    {
      "cell_type": "markdown",
      "source": [
        "12.  Implement and compare simple random sampling and systematic sampling?\n"
      ],
      "metadata": {
        "id": "W6iLUEB9bmOh"
      }
    },
    {
      "cell_type": "code",
      "source": [
        "import numpy as np\n",
        "import matplotlib.pyplot as plt\n",
        "\n",
        "# Generate a synthetic dataset (simulated population)\n",
        "np.random.seed(42)\n",
        "population_size = 100\n",
        "population = np.random.randint(1, 100, population_size)\n",
        "\n",
        "# Sample size\n",
        "sample_size = 10\n",
        "\n",
        "# Simple Random Sampling (SRS)\n",
        "srs_sample = np.random.choice(population, sample_size, replace=False)\n",
        "\n",
        "# Systematic Sampling\n",
        "k = population_size // sample_size  # Step size\n",
        "sys_sample = population[::k]  # Pick every k-th element\n",
        "\n",
        "# Plotting\n",
        "plt.figure(figsize=(12, 5))\n",
        "\n",
        "# Original Population\n",
        "plt.subplot(1, 3, 1)\n",
        "plt.bar(range(1, population_size + 1), population, color='gray', alpha=0.6)\n",
        "plt.title(\"Original Population\")\n",
        "\n",
        "# Simple Random Sample\n",
        "plt.subplot(1, 3, 2)\n",
        "plt.bar(range(1, sample_size + 1), srs_sample, color='blue')\n",
        "plt.title(\"Simple Random Sampling\")\n",
        "\n",
        "# Systematic Sample\n",
        "plt.subplot(1, 3, 3)\n",
        "plt.bar(range(1, sample_size + 1), sys_sample, color='green')\n",
        "plt.title(\"Systematic Sampling\")\n",
        "\n",
        "plt.tight_layout()\n",
        "plt.show()\n"
      ],
      "metadata": {
        "colab": {
          "base_uri": "https://localhost:8080/",
          "height": 507
        },
        "id": "vnWUerylhIpX",
        "outputId": "a19ef4f0-5116-45d0-8925-3d89d9a76965"
      },
      "execution_count": 19,
      "outputs": [
        {
          "output_type": "display_data",
          "data": {
            "text/plain": [
              "<Figure size 1200x500 with 3 Axes>"
            ],
            "image/png": "[encoded data removed]"
          },
          "metadata": {}
        }
      ]
    },
    {
      "cell_type": "markdown",
      "source": [
        "13. Calculate the mean, median, and mode of grouped data?\n"
      ],
      "metadata": {
        "id": "7u6GoSvphSv9"
      }
    },
    {
      "cell_type": "code",
      "source": [
        "import numpy as np\n",
        "\n",
        "# Sample grouped data (Class Intervals and Frequencies)\n",
        "class_intervals = [(0, 10), (10, 20), (20, 30), (30, 40), (40, 50)]\n",
        "frequencies = [5, 8, 15, 10, 7]  # Frequency of each class interval\n",
        "\n",
        "# Calculate class midpoints\n",
        "midpoints = [(ci[0] + ci[1]) / 2 for ci in class_intervals]\n",
        "\n",
        "# Calculate Mean\n",
        "mean = sum(f * m for f, m in zip(frequencies, midpoints)) / sum(frequencies)\n",
        "\n",
        "# Calculate Median\n",
        "cumulative_frequencies = np.cumsum(frequencies)\n",
        "total_n = sum(frequencies)\n",
        "median_class_index = np.searchsorted(cumulative_frequencies, total_n / 2)\n",
        "\n",
        "L = class_intervals[median_class_index][0]  # Lower boundary of median class\n",
        "F = cumulative_frequencies[median_class_index - 1] if median_class_index > 0 else 0  # Cumulative frequency before median class\n",
        "f_median = frequencies[median_class_index]  # Frequency of median class\n",
        "h = class_intervals[median_class_index][1] - class_intervals[median_class_index][0]  # Class width\n",
        "\n",
        "median = L + ((total_n / 2 - F) / f_median) * h\n",
        "\n",
        "# Calculate Mode\n",
        "mode_class_index = np.argmax(frequencies)  # Index of modal class\n",
        "L_mode = class_intervals[mode_class_index][0]  # Lower boundary of modal class\n",
        "f1 = frequencies[mode_class_index]  # Frequency of modal class\n",
        "f0 = frequencies[mode_class_index - 1] if mode_class_index > 0 else 0  # Previous class frequency\n",
        "f2 = frequencies[mode_class_index + 1] if mode_class_index < len(frequencies) - 1 else 0  # Next class frequency\n",
        "h_mode = class_intervals[mode_class_index][1] - class_intervals[mode_class_index][0]  # Class width\n",
        "\n",
        "mode = L_mode + ((f1 - f0) / ((2 * f1) - f0 - f2)) * h_mode if (f1 - f0) > 0 or (f1 - f2) > 0 else None\n",
        "\n",
        "# Output results\n",
        "print(f\"Mean: {mean:.2f}\")\n",
        "print(f\"Median: {median:.2f}\")\n",
        "print(f\"Mode: {mode:.2f}\" if mode is not None else \"Mode: No clear mode\")\n"
      ],
      "metadata": {
        "colab": {
          "base_uri": "https://localhost:8080/"
        },
        "id": "9d_t1cn4haEW",
        "outputId": "d76fd453-6fb0-49df-c85a-a1c2bb48f18c"
      },
      "execution_count": 1,
      "outputs": [
        {
          "output_type": "stream",
          "name": "stdout",
          "text": [
            "Mean: 26.33\n",
            "Median: 26.33\n",
            "Mode: 25.83\n"
          ]
        }
      ]
    },
    {
      "cell_type": "markdown",
      "source": [
        "14. Simulate data using Python and calculate its central tendency and dispersion?\n"
      ],
      "metadata": {
        "id": "SWmysMVD2y3K"
      }
    },
    {
      "cell_type": "code",
      "source": [
        "import numpy as np\n",
        "import scipy.stats as stats\n",
        "import matplotlib.pyplot as plt\n",
        "\n",
        "# Step 1: Simulate a dataset (Normal distribution)\n",
        "np.random.seed(42)  # For reproducibility\n",
        "data = np.random.normal(loc=50, scale=15, size=1000)  # Mean=50, Std=15, Size=1000\n",
        "\n",
        "# Step 2: Central Tendency Measures\n",
        "mean = np.mean(data)\n",
        "median = np.median(data)\n",
        "mode = stats.mode(data, keepdims=True)[0][0]\n",
        "\n",
        "# Step 3: Dispersion Measures\n",
        "variance = np.var(data, ddof=1)  # Sample variance\n",
        "std_dev = np.std(data, ddof=1)  # Sample standard deviation\n",
        "data_range = np.ptp(data)  # Range (Max - Min)\n",
        "\n",
        "# Display results\n",
        "print(f\"Mean: {mean:.2f}\")\n",
        "print(f\"Median: {median:.2f}\")\n",
        "print(f\"Mode: {mode:.2f}\")\n",
        "print(f\"Variance: {variance:.2f}\")\n",
        "print(f\"Standard Deviation: {std_dev:.2f}\")\n",
        "print(f\"Range: {data_range:.2f}\")\n",
        "\n",
        "# Step 4: Visualizing Data\n",
        "plt.figure(figsize=(10, 5))\n",
        "plt.hist(data, bins=30, color='skyblue', edgecolor='black', alpha=0.7)\n",
        "plt.axvline(mean, color='red', linestyle='dashed', linewidth=2, label=f'Mean: {mean:.2f}')\n",
        "plt.axvline(median, color='green', linestyle='dashed', linewidth=2, label=f'Median: {median:.2f}')\n",
        "plt.axvline(mode, color='blue', linestyle='dashed', linewidth=2, label=f'Mode: {mode:.2f}')\n",
        "plt.title(\"Histogram of Simulated Data\")\n",
        "plt.xlabel(\"Value\")\n",
        "plt.ylabel(\"Frequency\")\n",
        "plt.legend()\n",
        "plt.show()\n"
      ],
      "metadata": {
        "colab": {
          "base_uri": "https://localhost:8080/",
          "height": 591
        },
        "id": "Z4m4wyBW3Sep",
        "outputId": "bb7fef6a-3b3f-4dd7-c948-df82531f3fd5"
      },
      "execution_count": 2,
      "outputs": [
        {
          "output_type": "stream",
          "name": "stdout",
          "text": [
            "Mean: 50.29\n",
            "Median: 50.38\n",
            "Mode: 1.38\n",
            "Variance: 215.74\n",
            "Standard Deviation: 14.69\n",
            "Range: 106.41\n"
          ]
        },
        {
          "output_type": "display_data",
          "data": {
            "text/plain": [
              "<Figure size 1000x500 with 1 Axes>"
            ],
            "image/png": "[encoded data removed]"
          },
          "metadata": {}
        }
      ]
    },
    {
      "cell_type": "markdown",
      "source": [
        "15.  Use NumPy or pandas to summarize a dataset’s descriptive statistics?\n"
      ],
      "metadata": {
        "id": "j2DChPLm3ZHL"
      }
    },
    {
      "cell_type": "code",
      "source": [
        "import numpy as np\n",
        "import pandas as pd\n",
        "\n",
        "# Step 1: Simulating a dataset\n",
        "np.random.seed(42)  # For reproducibility\n",
        "data = np.random.normal(loc=50, scale=15, size=1000)  # Mean=50, Std=15, Size=1000\n",
        "\n",
        "# Convert data into a pandas DataFrame\n",
        "df = pd.DataFrame(data, columns=['Values'])\n",
        "\n",
        "# Step 2: Using pandas' describe() function\n",
        "print(\"Summary using Pandas:\")\n",
        "print(df.describe())  # Provides count, mean, std, min, 25%, 50%, 75%, max\n",
        "\n",
        "# Step 3: Using NumPy for manual calculations\n",
        "print(\"\\nSummary using NumPy:\")\n",
        "mean = np.mean(data)\n",
        "median = np.median(data)\n",
        "mode = pd.Series(data).mode()[0]  # Convert to pandas Series for mode\n",
        "variance = np.var(data, ddof=1)  # Sample variance\n",
        "std_dev = np.std(data, ddof=1)  # Sample standard deviation\n",
        "data_range = np.ptp(data)  # Range (Max - Min)\n",
        "q1 = np.percentile(data, 25)  # 1st quartile\n",
        "q3 = np.percentile(data, 75)  # 3rd quartile\n",
        "iqr = q3 - q1  # Interquartile Range\n",
        "\n",
        "# Print results\n",
        "print(f\"Mean: {mean:.2f}\")\n",
        "print(f\"Median: {median:.2f}\")\n",
        "print(f\"Mode: {mode:.2f}\")\n",
        "print(f\"Variance: {variance:.2f}\")\n",
        "print(f\"Standard Deviation: {std_dev:.2f}\")\n",
        "print(f\"Range: {data_range:.2f}\")\n",
        "print(f\"Q1 (25th Percentile): {q1:.2f}\")\n",
        "print(f\"Q3 (75th Percentile): {q3:.2f}\")\n",
        "print(f\"IQR: {iqr:.2f}\")\n"
      ],
      "metadata": {
        "id": "DTorCc403jZF"
      },
      "execution_count": null,
      "outputs": []
    },
    {
      "cell_type": "markdown",
      "source": [
        "16.  Plot a boxplot to understand the spread and identify outliers?\n"
      ],
      "metadata": {
        "id": "Xm3sXvIf3tf0"
      }
    },
    {
      "cell_type": "code",
      "source": [
        "import numpy as np\n",
        "import pandas as pd\n",
        "import matplotlib.pyplot as plt\n",
        "import seaborn as sns\n",
        "\n",
        "# Step 1: Simulating a dataset\n",
        "np.random.seed(42)\n",
        "data = np.random.normal(loc=50, scale=15, size=1000)  # Mean=50, Std=15, Size=1000\n",
        "\n",
        "# Convert data into a pandas DataFrame\n",
        "df = pd.DataFrame(data, columns=['Values'])\n",
        "\n",
        "# Step 2: Plot Boxplot\n",
        "plt.figure(figsize=(8, 5))\n",
        "sns.boxplot(y=df['Values'], color='skyblue', width=0.3)\n",
        "\n",
        "# Customizing plot\n",
        "plt.title(\"Boxplot of the Data\", fontsize=14)\n",
        "plt.ylabel(\"Values\", fontsize=12)\n",
        "plt.grid(axis='y', linestyle='--', alpha=0.7)\n",
        "\n",
        "# Show plot\n",
        "plt.show()\n"
      ],
      "metadata": {
        "id": "Nz4dgvUw3zTQ"
      },
      "execution_count": null,
      "outputs": []
    },
    {
      "cell_type": "markdown",
      "source": [
        "17.  Calculate the interquartile range (IQR) of a dataset>?\n"
      ],
      "metadata": {
        "id": "BHyPrI3W36vZ"
      }
    },
    {
      "cell_type": "code",
      "source": [
        "import numpy as np\n",
        "import pandas as pd\n",
        "\n",
        "# Step 1: Simulating a dataset\n",
        "np.random.seed(42)\n",
        "data = np.random.normal(loc=50, scale=15, size=1000)  # Mean=50, Std=15, Size=1000\n",
        "\n",
        "# Convert data into a pandas Series\n",
        "df = pd.Series(data)\n",
        "\n",
        "# Step 2: Calculate IQR\n",
        "q1 = np.percentile(data, 25)  # 25th percentile (Q1)\n",
        "q3 = np.percentile(data, 75)  # 75th percentile (Q3)\n",
        "iqr = q3 - q1  # Interquartile Range\n",
        "\n",
        "# Display results\n",
        "print(f\"Q1 (25th Percentile): {q1:.2f}\")\n",
        "print(f\"Q3 (75th Percentile): {q3:.2f}\")\n",
        "print(f\"IQR: {iqr:.2f}\")\n"
      ],
      "metadata": {
        "id": "Z9aOCBa74APm"
      },
      "execution_count": null,
      "outputs": []
    },
    {
      "cell_type": "markdown",
      "source": [
        "18. Implement Z-score normalization and explain its significance?\n"
      ],
      "metadata": {
        "id": "eKRepg5a4iJ1"
      }
    },
    {
      "cell_type": "code",
      "source": [
        "import numpy as np\n",
        "import pandas as pd\n",
        "import scipy.stats as stats\n",
        "\n",
        "# Step 1: Simulating a dataset\n",
        "np.random.seed(42)\n",
        "data = np.random.normal(loc=50, scale=15, size=1000)  # Mean=50, Std=15, Size=1000\n",
        "\n",
        "# Convert to pandas DataFrame\n",
        "df = pd.DataFrame(data, columns=['Values'])\n",
        "\n",
        "# Step 2: Apply Z-score normalization\n",
        "df['Z-score'] = stats.zscore(df['Values'])\n",
        "\n",
        "# Display first few rows\n",
        "print(df.head())\n",
        "\n",
        "# Step 3: Verify the transformation\n",
        "mean_z = df['Z-score'].mean()\n",
        "std_z = df['Z-score'].std()\n",
        "\n",
        "print(f\"\\nMean after Z-score Normalization: {mean_z:.2f}\")  # Should be ~0\n",
        "print(f\"Standard Deviation after Z-score Normalization: {std_z:.2f}\")  # Should be ~1\n"
      ],
      "metadata": {
        "id": "UD9VGj7R4ow6"
      },
      "execution_count": null,
      "outputs": []
    },
    {
      "cell_type": "markdown",
      "source": [
        "19.  Compare two datasets using their standard deviations?\n"
      ],
      "metadata": {
        "id": "3KlVVSFc4_Ez"
      }
    },
    {
      "cell_type": "code",
      "source": [
        "import numpy as np\n",
        "import pandas as pd\n",
        "\n",
        "# Step 1: Simulating two datasets with different variability\n",
        "np.random.seed(42)\n",
        "dataset1 = np.random.normal(loc=50, scale=10, size=1000)  # Mean=50, Std=10\n",
        "dataset2 = np.random.normal(loc=50, scale=20, size=1000)  # Mean=50, Std=20\n",
        "\n",
        "# Convert to pandas DataFrame\n",
        "df = pd.DataFrame({'Dataset 1': dataset1, 'Dataset 2': dataset2})\n",
        "\n",
        "# Step 2: Compute standard deviation\n",
        "std1 = np.std(dataset1, ddof=1)  # Sample standard deviation\n",
        "std2 = np.std(dataset2, ddof=1)  # Sample standard deviation\n",
        "\n",
        "# Display results\n",
        "print(f\"Standard Deviation of Dataset 1: {std1:.2f}\")\n",
        "print(f\"Standard Deviation of Dataset 2: {std2:.2f}\")\n",
        "\n",
        "# Interpretation\n",
        "if std1 > std2:\n",
        "    print(\"\\nDataset 1 has more variability (is more spread out).\")\n",
        "elif std2 > std1:\n",
        "    print(\"\\nDataset 2 has more variability (is more spread out).\")\n",
        "else:\n",
        "    print(\"\\nBoth datasets have the same spread.\")\n"
      ],
      "metadata": {
        "id": "Rb_L3lNR5Ihz"
      },
      "execution_count": null,
      "outputs": []
    },
    {
      "cell_type": "markdown",
      "source": [
        "20. Write a Python program to visualize covariance using a heatmap?\n"
      ],
      "metadata": {
        "id": "uiI4MLlV5VJx"
      }
    },
    {
      "cell_type": "code",
      "source": [
        "import numpy as np\n",
        "import pandas as pd\n",
        "import seaborn as sns\n",
        "import matplotlib.pyplot as plt\n",
        "\n",
        "# Step 1: Simulating two correlated datasets\n",
        "np.random.seed(42)\n",
        "x = np.random.normal(loc=50, scale=10, size=1000)  # Mean=50, Std=10\n",
        "y = x * 1.5 + np.random.normal(loc=0, scale=5, size=1000)  # Creating correlation\n",
        "\n",
        "# Convert to pandas DataFrame\n",
        "df = pd.DataFrame({'Variable X': x, 'Variable Y': y})\n",
        "\n",
        "# Step 2: Compute Covariance Matrix\n",
        "cov_matrix = df.cov()\n",
        "\n",
        "# Step 3: Plot Heatmap\n",
        "plt.figure(figsize=(6, 5))\n",
        "sns.heatmap(cov_matrix, annot=True, cmap='coolwarm', fmt=\".2f\", linewidths=0.5)\n",
        "\n",
        "# Customizing the heatmap\n",
        "plt.title(\"Covariance Heatmap\", fontsize=14)\n",
        "plt.show()\n"
      ],
      "metadata": {
        "colab": {
          "base_uri": "https://localhost:8080/",
          "height": 469
        },
        "id": "YfdM65aO5j4S",
        "outputId": "21342130-7d68-4dbc-8942-75998f098fa1"
      },
      "execution_count": 3,
      "outputs": [
        {
          "output_type": "display_data",
          "data": {
            "text/plain": [
              "<Figure size 600x500 with 2 Axes>"
            ],
            "image/png": "[encoded data removed]"
          },
          "metadata": {}
        }
      ]
    },
    {
      "cell_type": "markdown",
      "source": [
        "22.  Generate a dataset and implement both variance and standard deviation computations?\n"
      ],
      "metadata": {
        "id": "w7kvZ4AD55WE"
      }
    },
    {
      "cell_type": "code",
      "source": [
        "import numpy as np\n",
        "import pandas as pd\n",
        "\n",
        "# Step 1: Generate a random dataset\n",
        "np.random.seed(42)\n",
        "data = np.random.normal(loc=50, scale=15, size=1000)  # Mean=50, Std Dev=15, Size=1000\n",
        "\n",
        "# Convert data into a pandas Series\n",
        "df = pd.Series(data)\n",
        "\n",
        "# Step 2: Compute Variance and Standard Deviation\n",
        "variance = np.var(df, ddof=1)  # Sample Variance (ddof=1 for unbiased estimator)\n",
        "std_dev = np.std(df, ddof=1)   # Sample Standard Deviation\n",
        "\n",
        "# Display results\n",
        "print(f\"Variance: {variance:.2f}\")\n",
        "print(f\"Standard Deviation: {std_dev:.2f}\")\n"
      ],
      "metadata": {
        "id": "R2jom3av6ACM"
      },
      "execution_count": null,
      "outputs": []
    },
    {
      "cell_type": "markdown",
      "source": [
        "23. Visualize skewness and kurtosis using Python libraries like matplotlib or seaborn?\n"
      ],
      "metadata": {
        "id": "0zQnpW616Qdp"
      }
    },
    {
      "cell_type": "code",
      "source": [
        "import numpy as np\n",
        "import pandas as pd\n",
        "import seaborn as sns\n",
        "import matplotlib.pyplot as plt\n",
        "from scipy.stats import skew, kurtosis\n",
        "\n",
        "# Step 1: Generate a dataset with skewness and kurtosis\n",
        "np.random.seed(42)\n",
        "data = np.random.normal(loc=50, scale=15, size=1000)  # Normal Distribution (Mean=50, Std=15)\n",
        "\n",
        "# Introduce skewness (positive skew)\n",
        "skewed_data = np.concatenate([np.random.normal(40, 10, 700), np.random.normal(80, 15, 300)])\n",
        "\n",
        "# Convert to pandas Series\n",
        "df = pd.Series(skewed_data)\n",
        "\n",
        "# Step 2: Compute Skewness and Kurtosis\n",
        "skew_value = skew(df)\n",
        "kurt_value = kurtosis(df)\n",
        "\n",
        "print(f\"Skewness: {skew_value:.2f}\")\n",
        "print(f\"Kurtosis: {kurt_value:.2f}\")\n",
        "\n",
        "# Step 3: Visualize Skewness and Kurtosis\n",
        "plt.figure(figsize=(12, 5))\n",
        "\n",
        "# Histogram & KDE Plot\n",
        "sns.histplot(df, bins=30, kde=True, color='blue', alpha=0.6)\n",
        "plt.axvline(df.mean(), color='red', linestyle='dashed', linewidth=2, label=\"Mean\")\n",
        "plt.axvline(df.median(), color='green', linestyle='dashed', linewidth=2, label=\"Median\")\n",
        "\n",
        "# Titles and labels\n",
        "plt.title(f\"Histogram with KDE Plot\\nSkewness: {skew_value:.2f} | Kurtosis: {kurt_value:.2f}\", fontsize=14)\n",
        "plt.xlabel(\"Values\")\n",
        "plt.ylabel(\"Frequency\")\n",
        "plt.legend()\n",
        "plt.show()\n"
      ],
      "metadata": {
        "id": "RCd_C97A6WOL"
      },
      "execution_count": null,
      "outputs": []
    },
    {
      "cell_type": "markdown",
      "source": [
        "24.  Implement the Pearson and Spearman correlation coefficients for a dataset?"
      ],
      "metadata": {
        "id": "e5StRooe6de5"
      }
    },
    {
      "cell_type": "code",
      "source": [
        "import numpy as np\n",
        "import pandas as pd\n",
        "import scipy.stats as stats\n",
        "import seaborn as sns\n",
        "import matplotlib.pyplot as plt\n",
        "\n",
        "# Step 1: Generate a dataset\n",
        "np.random.seed(42)\n",
        "x = np.random.normal(50, 10, 1000)  # Normally distributed variable\n",
        "y = 2 * x + np.random.normal(0, 5, 1000)  # Linear relationship with some noise\n",
        "\n",
        "# Introduce non-linear relationship for Spearman comparison\n",
        "y_spearman = np.log(x + np.abs(np.min(x)) + 1) + np.random.normal(0, 0.2, 1000)\n",
        "\n",
        "# Convert to DataFrame\n",
        "df = pd.DataFrame({'X': x, 'Y_Pearson': y, 'Y_Spearman': y_spearman})\n",
        "\n",
        "# Step 2: Compute Pearson and Spearman Correlation\n",
        "pearson_corr, _ = stats.pearsonr(df['X'], df['Y_Pearson'])\n",
        "spearman_corr, _ = stats.spearmanr(df['X'], df['Y_Spearman'])\n",
        "\n",
        "# Display results\n",
        "print(f\"Pearson Correlation: {pearson_corr:.2f}\")\n",
        "print(f\"Spearman Correlation: {spearman_corr:.2f}\")\n",
        "\n",
        "# Step 3: Visualizing the correlation\n",
        "plt.figure(figsize=(12, 5))\n",
        "\n",
        "# Scatter Plot for Pearson\n",
        "plt.subplot(1, 2, 1)\n",
        "sns.scatterplot(x=df['X'], y=df['Y_Pearson'], color='blue', alpha=0.6)\n",
        "plt.title(f'Pearson Correlation: {pearson_corr:.2f}')\n",
        "plt.xlabel('X')\n",
        "plt.ylabel('Y (Linear)')\n",
        "\n",
        "# Scatter Plot for Spearman\n",
        "plt.subplot(1, 2, 2)\n",
        "sns.scatterplot(x=df['X'], y=df['Y_Spearman'], color='green', alpha=0.6)\n",
        "plt.title(f'Spearman Correlation: {spearman_corr:.2f}')\n",
        "plt.xlabel('X')\n",
        "plt.ylabel('Y (Non-Linear)')\n",
        "\n",
        "plt.tight_layout()\n",
        "plt.show()\n"
      ],
      "metadata": {
        "id": "JV67rCGm6oJ-"
      },
      "execution_count": null,
      "outputs": []
    },
    {
      "cell_type": "markdown",
      "source": [],
      "metadata": {
        "id": "PL_HRCgj5ryo"
      }
    },
    {
      "cell_type": "markdown",
      "source": [],
      "metadata": {
        "id": "Y3v8ES9k40MQ"
      }
    },
    {
      "cell_type": "markdown",
      "source": [],
      "metadata": {
        "id": "iQF4JVGX3Mdl"
      }
    },
    {
      "cell_type": "markdown",
      "source": [],
      "metadata": {
        "id": "xuhN_iptv-9-"
      }
    },
    {
      "cell_type": "markdown",
      "source": [],
      "metadata": {
        "id": "3TFKkDGytUaH"
      }
    }
  ]
}