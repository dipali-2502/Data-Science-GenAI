{
  "nbformat": 4,
  "nbformat_minor": 0,
  "metadata": {
    "colab": {
      "provenance": []
    },
    "kernelspec": {
      "name": "python3",
      "display_name": "Python 3"
    },
    "language_info": {
      "name": "python"
    }
  },
  "cells": [
    {
      "cell_type": "markdown",
      "source": [
        "1. Q1. Create one variable containing following type of data:\n"
      ],
      "metadata": {
        "id": "H1nkqGyegHkz"
      }
    },
    {
      "cell_type": "code",
      "source": [
        "# One variable for each data type\n",
        "var_string = \"Hello, World!\"      # String\n",
        "var_list = [1, 2, 3, \"AI\"]        # List\n",
        "var_float = 3.14                  # Float\n",
        "var_tuple = (10, 20, \"Python\")    # Tuple\n"
      ],
      "metadata": {
        "id": "rGAM4mmFgo82"
      },
      "execution_count": null,
      "outputs": []
    },
    {
      "cell_type": "markdown",
      "source": [
        "2. Q2. Given are some following variables containing data:\n",
        "(i) var1 = ‘ ‘\n",
        "(ii) var2 = ‘[ DS , ML , Python]’\n",
        "(iii) var3 = [ ‘DS’ , ’ML’ , ‘Python’ ]\n",
        "(iv) var4 = 1.\n",
        "What will be the data type of the above given variable."
      ],
      "metadata": {
        "id": "c5XPEr-xgqtm"
      }
    },
    {
      "cell_type": "code",
      "source": [
        "var1 = ' '                       # String\n",
        "var2 = '[ DS , ML , Python]'     # String (it's a string with list-like content)\n",
        "var3 = ['DS', 'ML', 'Python']    # List\n",
        "var4 = 1.                        # Float\n"
      ],
      "metadata": {
        "id": "wAKeMN-khlYl"
      },
      "execution_count": 1,
      "outputs": []
    },
    {
      "cell_type": "markdown",
      "source": [
        "3. Q3. Explain the use of the following operators using an example:\n",
        "(i) /\n",
        "(ii) %\n",
        "(iii) //\n",
        "(iv) **"
      ],
      "metadata": {
        "id": "uTgFHDjIhoeD"
      }
    },
    {
      "cell_type": "code",
      "source": [
        "a = 10\n",
        "b = 3\n",
        "\n",
        "print(a / b)   # Division → 3.333...\n",
        "print(a % b)   # Modulus → 1 (remainder)\n",
        "print(a // b)  # Floor Division → 3\n",
        "print(a ** b)  # Exponentiation → 1000\n"
      ],
      "metadata": {
        "id": "jWHdoQtXhvNs"
      },
      "execution_count": null,
      "outputs": []
    },
    {
      "cell_type": "markdown",
      "source": [
        "4. Q4. Create a list of length 10 of your choice containing multiple types of data. Using for loop print the\n",
        "element and its data type."
      ],
      "metadata": {
        "id": "PPrpxu7shwhU"
      }
    },
    {
      "cell_type": "code",
      "source": [
        "mixed_list = [1, \"Python\", 3.14, True, None, [1,2], (5,6), {'a': 1}, {1,2}, b'bytes']\n",
        "\n",
        "for item in mixed_list:\n",
        "    print(item, \"->\", type(item))\n"
      ],
      "metadata": {
        "colab": {
          "base_uri": "https://localhost:8080/"
        },
        "id": "PAJNVv-qh7Hk",
        "outputId": "28b3f5e6-859d-4b0a-dd52-b91893fbc8ef"
      },
      "execution_count": 2,
      "outputs": [
        {
          "output_type": "stream",
          "name": "stdout",
          "text": [
            "1 -> <class 'int'>\n",
            "Python -> <class 'str'>\n",
            "3.14 -> <class 'float'>\n",
            "True -> <class 'bool'>\n",
            "None -> <class 'NoneType'>\n",
            "[1, 2] -> <class 'list'>\n",
            "(5, 6) -> <class 'tuple'>\n",
            "{'a': 1} -> <class 'dict'>\n",
            "{1, 2} -> <class 'set'>\n",
            "b'bytes' -> <class 'bytes'>\n"
          ]
        }
      ]
    },
    {
      "cell_type": "markdown",
      "source": [
        "Q5. Using a while loop, verify if the number A is purely divisible by number B and if so then how many\n",
        "times it can be divisible."
      ],
      "metadata": {
        "id": "7JJb-28Jh8ua"
      }
    },
    {
      "cell_type": "code",
      "source": [
        "A = 24\n",
        "B = 4\n",
        "count = 0\n",
        "\n",
        "if B == 0:\n",
        "    print(\"Division by zero is not allowed.\")\n",
        "else:\n",
        "    temp = A\n",
        "    while temp % B == 0:\n",
        "        temp = temp // B\n",
        "        count += 1\n",
        "\n",
        "    if count > 0:\n",
        "        print(f\"{A} is divisible by {B} for {count} times.\")\n",
        "    else:\n",
        "        print(f\"{A} is not divisible by {B}.\")\n"
      ],
      "metadata": {
        "colab": {
          "base_uri": "https://localhost:8080/"
        },
        "id": "s5XTrJxyiEmZ",
        "outputId": "0a30090e-1d43-4be7-a7c1-75076db4491b"
      },
      "execution_count": 3,
      "outputs": [
        {
          "output_type": "stream",
          "name": "stdout",
          "text": [
            "24 is divisible by 4 for 1 times.\n"
          ]
        }
      ]
    },
    {
      "cell_type": "markdown",
      "source": [
        "Q6. Create a list containing 25 int type data. Using for loop and if-else condition print if the element is\n",
        "divisible by 3 or not."
      ],
      "metadata": {
        "id": "v9vFwpWyiGJ3"
      }
    },
    {
      "cell_type": "code",
      "source": [
        "int_list = list(range(1, 26))  # List from 1 to 25\n",
        "\n",
        "for num in int_list:\n",
        "    if num % 3 == 0:\n",
        "        print(f\"{num} is divisible by 3\")\n",
        "    else:\n",
        "        print(f\"{num} is not divisible by 3\")\n"
      ],
      "metadata": {
        "colab": {
          "base_uri": "https://localhost:8080/"
        },
        "id": "GwYZvXoBiLcX",
        "outputId": "3aa9a2eb-59da-4506-eaf1-2371494eecaf"
      },
      "execution_count": 4,
      "outputs": [
        {
          "output_type": "stream",
          "name": "stdout",
          "text": [
            "1 is not divisible by 3\n",
            "2 is not divisible by 3\n",
            "3 is divisible by 3\n",
            "4 is not divisible by 3\n",
            "5 is not divisible by 3\n",
            "6 is divisible by 3\n",
            "7 is not divisible by 3\n",
            "8 is not divisible by 3\n",
            "9 is divisible by 3\n",
            "10 is not divisible by 3\n",
            "11 is not divisible by 3\n",
            "12 is divisible by 3\n",
            "13 is not divisible by 3\n",
            "14 is not divisible by 3\n",
            "15 is divisible by 3\n",
            "16 is not divisible by 3\n",
            "17 is not divisible by 3\n",
            "18 is divisible by 3\n",
            "19 is not divisible by 3\n",
            "20 is not divisible by 3\n",
            "21 is divisible by 3\n",
            "22 is not divisible by 3\n",
            "23 is not divisible by 3\n",
            "24 is divisible by 3\n",
            "25 is not divisible by 3\n"
          ]
        }
      ]
    },
    {
      "cell_type": "markdown",
      "source": [
        "Q7. What do you understand about mutable and immutable data types? Give examples for both showing\n",
        "this property.\n",
        "\n",
        "ans. Mutable: Can be changed after creation.\n",
        "\n",
        "Immutable: Cannot be changed after creation.\n",
        "\n",
        "Examples:"
      ],
      "metadata": {
        "id": "GfFGvb1ZiNU0"
      }
    },
    {
      "cell_type": "code",
      "source": [
        "# Mutable Example - List\n",
        "my_list = [1, 2, 3]\n",
        "my_list[0] = 100  # Changes the first element\n",
        "print(my_list)    # Output: [100, 2, 3]\n",
        "\n",
        "# Immutable Example - String\n",
        "my_str = \"Hello\"\n",
        "# my_str[0] = 'h'  # This will cause an error (strings are immutable)\n",
        "my_str = \"hello\"   # You can only reassign, not modify in-place\n",
        "print(my_str)\n"
      ],
      "metadata": {
        "id": "RlE75gExiTZb"
      },
      "execution_count": null,
      "outputs": []
    }
  ]
}