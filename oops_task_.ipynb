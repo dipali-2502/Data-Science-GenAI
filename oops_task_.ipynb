{
  "nbformat": 4,
  "nbformat_minor": 0,
  "metadata": {
    "colab": {
      "provenance": []
    },
    "kernelspec": {
      "name": "python3",
      "display_name": "Python 3"
    },
    "language_info": {
      "name": "python"
    }
  },
  "cells": [
    {
      "cell_type": "markdown",
      "source": [
        "Q1, Create a vehicle class with an init method having instance variables as name_of_vehicle, max_speed\n",
        "and average_of_vehicle.\n",
        "\n"
      ],
      "metadata": {
        "id": "12iy6tq6y7nK"
      }
    },
    {
      "cell_type": "code",
      "source": [
        "class Vehicle:\n",
        "    def __init__(self, name_of_vehicle, max_speed, average_of_vehicle):\n",
        "        self.name_of_vehicle = name_of_vehicle\n",
        "        self.max_speed = max_speed\n",
        "        self.average_of_vehicle = average_of_vehicle\n"
      ],
      "metadata": {
        "id": "OW4VGPzczFsO"
      },
      "execution_count": null,
      "outputs": []
    },
    {
      "cell_type": "markdown",
      "source": [
        "Q2. Create a child class car from the vehicle class created in Que 1, which will inherit the vehicle class.\n",
        "Create a method named seating_capacity which takes capacity as an argument and returns the name of\n",
        "the vehicle and its seating capacity."
      ],
      "metadata": {
        "id": "aEIvBLmFzKPm"
      }
    },
    {
      "cell_type": "code",
      "source": [
        "class Vehicle:\n",
        "    def __init__(self, name_of_vehicle, max_speed, average_of_vehicle):\n",
        "        self.name_of_vehicle = name_of_vehicle\n",
        "        self.max_speed = max_speed\n",
        "        self.average_of_vehicle = average_of_vehicle\n",
        "\n",
        "class Car(Vehicle):\n",
        "    def seating_capacity(self, capacity):\n",
        "        return f\"{self.name_of_vehicle} has a seating capacity of {capacity}\"\n"
      ],
      "metadata": {
        "id": "aMNMX56vzOnn"
      },
      "execution_count": null,
      "outputs": []
    },
    {
      "cell_type": "markdown",
      "source": [
        "Q3. What is multiple inheritance? Write a python code to demonstrate multiple inheritance.\n",
        "\n",
        "ans. Multiple Inheritance is a feature in object-oriented programming where a class can inherit attributes and methods from more than one parent class.\n",
        "\n"
      ],
      "metadata": {
        "id": "J7zNMmSGzUT2"
      }
    },
    {
      "cell_type": "code",
      "source": [
        "class Engine:\n",
        "    def engine_info(self):\n",
        "        print(\"Engine type: V8\")\n",
        "\n",
        "class Body:\n",
        "    def body_info(self):\n",
        "        print(\"Body type: Sedan\")\n",
        "\n",
        "class Car(Engine, Body):\n",
        "    def car_info(self):\n",
        "        print(\"Car: Toyota Camry\")\n",
        "\n",
        "# Create object\n",
        "my_car = Car()\n",
        "my_car.car_info()\n",
        "my_car.engine_info()\n",
        "my_car.body_info()\n"
      ],
      "metadata": {
        "id": "t8eZ9xEHzjZW"
      },
      "execution_count": null,
      "outputs": []
    },
    {
      "cell_type": "markdown",
      "source": [
        "Q4. What are getter and setter in python? Create a class and create a getter and a setter method in this\n",
        "class.\n",
        "\n",
        "ans.In Python, getters and setters are methods used to access and update the value of private attributes in a class. They help in encapsulating data, meaning internal object details are hidden from outside interference and misuse.\n",
        "\n",
        "Why use Getter and Setter?\n",
        "To control access to class attributes.\n",
        "\n",
        "To validate data before updating it.\n",
        "\n",
        "To follow object-oriented programming principles.\n",
        "\n"
      ],
      "metadata": {
        "id": "1XX7X9Wqz2yn"
      }
    },
    {
      "cell_type": "code",
      "source": [
        "class Student:\n",
        "    def __init__(self, name):\n",
        "        self.__name = name  # private attribute\n",
        "\n",
        "    # Getter method\n",
        "    def get_name(self):\n",
        "        return self.__name\n",
        "\n",
        "    # Setter method\n",
        "    def set_name(self, new_name):\n",
        "        if isinstance(new_name, str) and new_name.strip():\n",
        "            self.__name = new_name\n",
        "        else:\n",
        "            print(\"Invalid name. Name must be a non-empty string.\")\n",
        "\n",
        "# Using the class\n",
        "student1 = Student(\"John\")\n",
        "\n",
        "print(\"Original name:\", student1.get_name())  # Using getter\n",
        "\n",
        "student1.set_name(\"Alice\")  # Using setter\n",
        "print(\"Updated name:\", student1.get_name())\n",
        "\n",
        "student1.set_name(\"\")  # Trying to set invalid name\n"
      ],
      "metadata": {
        "id": "AaTAlNkV0ewv"
      },
      "execution_count": null,
      "outputs": []
    },
    {
      "cell_type": "markdown",
      "source": [
        "Q5.What is method overriding in python? Write a python code to demonstrate method overriding.\n",
        "\n",
        "ans. Method overriding occurs when a child class provides a specific implementation of a method that is already defined in its parent class. The overridden method in the child class is called instead of the one in the parent class when accessed through the child class object.\n",
        "\n"
      ],
      "metadata": {
        "id": "UV_lgw5r0g6T"
      }
    },
    {
      "cell_type": "code",
      "source": [
        "class Animal:\n",
        "    def sound(self):\n",
        "        print(\"Animal makes a sound\")\n",
        "\n",
        "class Dog(Animal):\n",
        "    def sound(self):\n",
        "        print(\"Dog barks\")\n",
        "\n",
        "# Creating objects\n",
        "animal = Animal()\n",
        "dog = Dog()\n",
        "\n",
        "# Calling the sound method\n",
        "animal.sound()  # Output: Animal makes a sound\n",
        "dog.sound()     # Output: Dog barks (method overridden)\n"
      ],
      "metadata": {
        "id": "DmXc0vsZ0ycZ"
      },
      "execution_count": null,
      "outputs": []
    }
  ]
}