{
  "nbformat": 4,
  "nbformat_minor": 0,
  "metadata": {
    "colab": {
      "provenance": []
    },
    "kernelspec": {
      "name": "python3",
      "display_name": "Python 3"
    },
    "language_info": {
      "name": "python"
    }
  },
  "cells": [
    {
      "cell_type": "markdown",
      "source": [
        "Q1. Why do we use the Exception class while creating a Custom Exception?\n",
        "We use the Exception class as a base class for creating custom exceptions because:\n",
        "\n",
        "It is the base class for all built-in exceptions in Python (excluding system-exiting exceptions).\n",
        "\n",
        "Inheriting from Exception ensures that our custom exception integrates well with Python’s exception handling mechanisms (try, except).\n",
        "\n",
        "It provides all the standard behaviors and properties that an exception should have (like message, traceback, etc.).\n",
        "\n"
      ],
      "metadata": {
        "id": "hKf8j7XiRb7e"
      }
    },
    {
      "cell_type": "code",
      "source": [
        "class MyCustomError(Exception):\n",
        "    def __init__(self, message):\n",
        "        super().__init__(message)\n",
        "\n",
        "try:\n",
        "    raise MyCustomError(\"Something went wrong!\")\n",
        "except MyCustomError as e:\n",
        "    print(e)\n"
      ],
      "metadata": {
        "id": "d3QOnjTSR2o9"
      },
      "execution_count": null,
      "outputs": []
    },
    {
      "cell_type": "markdown",
      "source": [
        "Q2. Write a python program to print Python Exception Hierarchy."
      ],
      "metadata": {
        "id": "ShB_43xXR4lV"
      }
    },
    {
      "cell_type": "code",
      "source": [
        "import sys\n",
        "\n",
        "def print_exception_tree(exception_class, indent=0):\n",
        "    print(\" \" * indent + exception_class.__name__)\n",
        "    for subclass in exception_class.__subclasses__():\n",
        "        print_exception_tree(subclass, indent + 4)\n",
        "\n",
        "print(\"Python Exception Hierarchy:\")\n",
        "print_exception_tree(BaseException)\n"
      ],
      "metadata": {
        "id": "FyZLpf02R_tI"
      },
      "execution_count": null,
      "outputs": []
    },
    {
      "cell_type": "markdown",
      "source": [
        "Q3. What errors are defined in the ArithmeticError class? Explain any two with an example.\n",
        "\n",
        "ans. ArithmeticError is a base class for all errors related to arithmetic calculations. Common subclasses include:\n",
        "\n",
        "ZeroDivisionError\n",
        "\n",
        "OverflowError\n",
        "\n",
        "FloatingPointError"
      ],
      "metadata": {
        "id": "V2QVG2czSCBc"
      }
    },
    {
      "cell_type": "code",
      "source": [
        "# Example 1: ZeroDivisionError\n",
        "try:\n",
        "    result = 10 / 0\n",
        "except ZeroDivisionError as e:\n",
        "    print(f\"ZeroDivisionError: {e}\")\n",
        "\n",
        "# Example 2: OverflowError\n",
        "try:\n",
        "    import math\n",
        "    print(math.exp(1000))  # This will overflow\n",
        "except OverflowError as e:\n",
        "    print(f\"OverflowError: {e}\")\n",
        "\n",
        "# Example 3: FloatingPointError\n",
        "try:\n",
        "    import numpy as np\n",
        "    np.seterr(all='raise')  # Raise an exception on floating point errors\n",
        "    x = np.divide(1.0, 0.0)  # Division by zero for floating-point\n",
        "except FloatingPointError as e:\n",
        "    print(f\"FloatingPointError: {e}\")\n"
      ],
      "metadata": {
        "colab": {
          "base_uri": "https://localhost:8080/"
        },
        "id": "9fPVekXCSLW6",
        "outputId": "2144a023-3d74-45c0-d0a5-6ef8400a729a"
      },
      "execution_count": 1,
      "outputs": [
        {
          "output_type": "stream",
          "name": "stdout",
          "text": [
            "ZeroDivisionError: division by zero\n",
            "OverflowError: math range error\n",
            "FloatingPointError: divide by zero encountered in divide\n"
          ]
        }
      ]
    },
    {
      "cell_type": "markdown",
      "source": [
        "Q4. Why LookupError class is used? Explain with an example KeyError and IndexError.\n",
        "\n",
        "ans. LookupError is a base class for errors raised when a key or index used for lookup is invalid. It helps in catching both IndexError and KeyError.\n",
        "\n"
      ],
      "metadata": {
        "id": "TJ3plDSHSh_T"
      }
    },
    {
      "cell_type": "code",
      "source": [
        "# Example 1: KeyError (LookupError)\n",
        "try:\n",
        "    d = {\"a\": 1}\n",
        "    print(d[\"b\"])  # Key \"b\" does not exist\n",
        "except KeyError as e:\n",
        "    print(f\"KeyError: {e}\")\n",
        "\n",
        "# Example 2: IndexError (LookupError)\n",
        "try:\n",
        "    lst = [1, 2, 3]\n",
        "    print(lst[5])  # Index 5 is out of range\n",
        "except IndexError as e:\n",
        "    print(f\"IndexError: {e}\")\n"
      ],
      "metadata": {
        "id": "iUnUe592S5cr"
      },
      "execution_count": null,
      "outputs": []
    },
    {
      "cell_type": "markdown",
      "source": [
        "Q5. Explain ImportError. What is ModuleNotFoundError?\n",
        "\n",
        "ans. ImportError: Raised when an import statement fails (general failure in loading a module or name from a module).\n",
        "\n",
        "ModuleNotFoundError: A subclass of ImportError raised specifically when the module is not found.\n"
      ],
      "metadata": {
        "id": "RoHCQ8lTS62m"
      }
    },
    {
      "cell_type": "code",
      "source": [
        "# Example 1: ModuleNotFoundError\n",
        "try:\n",
        "    import non_existing_module  # Module does not exist\n",
        "except ModuleNotFoundError as e:\n",
        "    print(f\"ModuleNotFoundError: {e}\")\n",
        "\n",
        "# Example 2: ImportError (when a specific name can't be imported from a module)\n",
        "try:\n",
        "    from math import non_existing_function  # Function does not exist\n",
        "except ImportError as e:\n",
        "    print(f\"ImportError: {e}\")\n"
      ],
      "metadata": {
        "colab": {
          "base_uri": "https://localhost:8080/"
        },
        "id": "RQHZsmftTEwS",
        "outputId": "a2fcbcd0-2771-4947-e1c5-b22178687264"
      },
      "execution_count": 2,
      "outputs": [
        {
          "output_type": "stream",
          "name": "stdout",
          "text": [
            "ModuleNotFoundError: No module named 'non_existing_module'\n",
            "ImportError: cannot import name 'non_existing_function' from 'math' (unknown location)\n"
          ]
        }
      ]
    },
    {
      "cell_type": "markdown",
      "source": [
        "Q6. List down some best practices for exception handling in python."
      ],
      "metadata": {
        "id": "YFKbKd1DTNGu"
      }
    },
    {
      "cell_type": "code",
      "source": [
        "# Example 1: Catch specific exceptions\n",
        "try:\n",
        "    result = 10 / 0  # Division by zero\n",
        "except ZeroDivisionError as e:\n",
        "    print(f\"Handled ZeroDivisionError: {e}\")\n",
        "\n",
        "# Example 2: Use finally for cleanup\n",
        "try:\n",
        "    f = open(\"file.txt\", \"w\")\n",
        "    f.write(\"Hello, World!\")\n",
        "finally:\n",
        "    f.close()\n",
        "    print(\"File closed successfully.\")\n",
        "\n",
        "# Example 3: Avoid silent failures (don't catch generic exceptions without handling)\n",
        "try:\n",
        "    value = int(\"abc\")  # Invalid integer conversion\n",
        "except ValueError as e:\n",
        "    print(f\"Handled ValueError: {e}\")\n",
        "\n",
        "# Example 4: Raise a custom exception\n",
        "class CustomError(Exception):\n",
        "    def __init__(self, message):\n",
        "        super().__init__(message)\n",
        "\n",
        "try:\n",
        "    raise CustomError(\"This is a custom error!\")\n",
        "except CustomError as e:\n",
        "    print(f\"Handled CustomError: {e}\")\n",
        "\n",
        "# Example 5: Log exceptions for traceability (using logging)\n",
        "import logging\n",
        "logging.basicConfig(level=logging.ERROR)\n",
        "\n",
        "try:\n",
        "    result = 10 / 0\n",
        "except ZeroDivisionError as e:\n",
        "    logging.error(f\"Error occurred: {e}\")\n"
      ],
      "metadata": {
        "colab": {
          "base_uri": "https://localhost:8080/"
        },
        "id": "dbiplE4STamd",
        "outputId": "0b5d0102-4842-46bb-ad0f-be576448532c"
      },
      "execution_count": 3,
      "outputs": [
        {
          "output_type": "stream",
          "name": "stderr",
          "text": [
            "ERROR:root:Error occurred: division by zero\n"
          ]
        },
        {
          "output_type": "stream",
          "name": "stdout",
          "text": [
            "Handled ZeroDivisionError: division by zero\n",
            "File closed successfully.\n",
            "Handled ValueError: invalid literal for int() with base 10: 'abc'\n",
            "Handled CustomError: This is a custom error!\n"
          ]
        }
      ]
    }
  ]
}