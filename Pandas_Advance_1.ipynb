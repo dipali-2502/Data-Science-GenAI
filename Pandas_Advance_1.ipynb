{
  "nbformat": 4,
  "nbformat_minor": 0,
  "metadata": {
    "colab": {
      "provenance": []
    },
    "kernelspec": {
      "name": "python3",
      "display_name": "Python 3"
    },
    "language_info": {
      "name": "python"
    }
  },
  "cells": [
    {
      "cell_type": "markdown",
      "source": [
        "Q1. List any five functions of the pandas library with execution."
      ],
      "metadata": {
        "id": "PbQ0G4ye_d5q"
      }
    },
    {
      "cell_type": "code",
      "source": [
        "import pandas as pd\n",
        "\n",
        "# Sample DataFrame for demonstration\n",
        "df = pd.DataFrame({\n",
        "    'Name': ['Alice', 'Bob', 'Charlie'],\n",
        "    'Age': [25, 30, 22]\n",
        "})\n",
        "\n",
        "# 1. head() - Display the first few rows\n",
        "print(\"1. head():\\n\", df.head(), \"\\n\")\n",
        "\n",
        "# 2. describe() - Summary statistics for numerical columns\n",
        "print(\"2. describe():\\n\", df.describe(), \"\\n\")\n",
        "\n",
        "# 3. drop() - Drop a column\n",
        "df_dropped = df.drop('Age', axis=1)\n",
        "print(\"3. drop('Age'):\\n\", df_dropped, \"\\n\")\n",
        "\n",
        "# 4. sort_values() - Sort the DataFrame by 'Age'\n",
        "sorted_df = df.sort_values(by='Age')\n",
        "print(\"4. sort_values(by='Age'):\\n\", sorted_df, \"\\n\")\n",
        "\n",
        "# 5. read_csv() - Read CSV file (commented since no actual file used here)\n",
        "# df_from_csv = pd.read_csv('data.csv')\n",
        "print(\"5. read_csv(): Demonstrated but not executed (requires actual CSV file)\\n\")\n"
      ],
      "metadata": {
        "colab": {
          "base_uri": "https://localhost:8080/"
        },
        "id": "10CFX1qNAhcQ",
        "outputId": "f5e65c8a-83a9-4e3d-d3d0-1a1d3bc78acc"
      },
      "execution_count": 1,
      "outputs": [
        {
          "output_type": "stream",
          "name": "stdout",
          "text": [
            "1. head():\n",
            "       Name  Age\n",
            "0    Alice   25\n",
            "1      Bob   30\n",
            "2  Charlie   22 \n",
            "\n",
            "2. describe():\n",
            "              Age\n",
            "count   3.000000\n",
            "mean   25.666667\n",
            "std     4.041452\n",
            "min    22.000000\n",
            "25%    23.500000\n",
            "50%    25.000000\n",
            "75%    27.500000\n",
            "max    30.000000 \n",
            "\n",
            "3. drop('Age'):\n",
            "       Name\n",
            "0    Alice\n",
            "1      Bob\n",
            "2  Charlie \n",
            "\n",
            "4. sort_values(by='Age'):\n",
            "       Name  Age\n",
            "2  Charlie   22\n",
            "0    Alice   25\n",
            "1      Bob   30 \n",
            "\n",
            "5. read_csv(): Demonstrated but not executed (requires actual CSV file)\n",
            "\n"
          ]
        }
      ]
    },
    {
      "cell_type": "markdown",
      "source": [
        "Q2. Given a Pandas DataFrame df with columns 'A', 'B', and 'C', write a Python function to re-index the\n",
        "DataFrame with a new index that starts from 1 and increments by 2 for each row."
      ],
      "metadata": {
        "id": "4sv8uoQlAmbw"
      }
    },
    {
      "cell_type": "code",
      "source": [
        "import pandas as pd\n",
        "\n",
        "# Sample DataFrame with columns A, B, and C\n",
        "df = pd.DataFrame({\n",
        "    'A': [10, 20, 30],\n",
        "    'B': [40, 50, 60],\n",
        "    'C': [70, 80, 90]\n",
        "})\n",
        "\n",
        "# Function to re-index the DataFrame with index starting at 1 and increasing by 2\n",
        "def reindex_custom(df):\n",
        "    new_index = range(1, 2 * len(df) + 1, 2)\n",
        "    df.index = new_index\n",
        "    return df\n",
        "\n",
        "# Apply the function\n",
        "df_reindexed = reindex_custom(df)\n",
        "\n",
        "# Display the re-indexed DataFrame\n",
        "print(df_reindexed)\n"
      ],
      "metadata": {
        "colab": {
          "base_uri": "https://localhost:8080/"
        },
        "id": "mJmw2StEAvrp",
        "outputId": "c03772b7-ff03-40b6-f9ab-def174bb7e69"
      },
      "execution_count": 2,
      "outputs": [
        {
          "output_type": "stream",
          "name": "stdout",
          "text": [
            "    A   B   C\n",
            "1  10  40  70\n",
            "3  20  50  80\n",
            "5  30  60  90\n"
          ]
        }
      ]
    },
    {
      "cell_type": "markdown",
      "source": [
        "Q3. You have a Pandas DataFrame df with a column named 'Values'. Write a Python function that\n",
        "iterates over the DataFrame and calculates the sum of the first three values in the 'Values' column. The\n",
        "function should print the sum to the console."
      ],
      "metadata": {
        "id": "iZekjHSyAxvb"
      }
    },
    {
      "cell_type": "code",
      "source": [
        "import pandas as pd\n",
        "\n",
        "# Sample DataFrame\n",
        "df = pd.DataFrame({\n",
        "    'Values': [10, 20, 30, 40, 50]\n",
        "})\n",
        "\n",
        "# Function to calculate the sum of the first three values\n",
        "def sum_first_three(df):\n",
        "    total = 0\n",
        "    count = 0\n",
        "    for val in df['Values']:\n",
        "        total += val\n",
        "        count += 1\n",
        "        if count == 3:\n",
        "            break\n",
        "    print(\"Sum of first three values:\", total)\n",
        "\n",
        "# Call the function\n",
        "sum_first_three(df)\n"
      ],
      "metadata": {
        "colab": {
          "base_uri": "https://localhost:8080/"
        },
        "id": "exJQhExTBHzC",
        "outputId": "c8ed9358-2dc7-4e13-fc88-229b5c2e006d"
      },
      "execution_count": 3,
      "outputs": [
        {
          "output_type": "stream",
          "name": "stdout",
          "text": [
            "Sum of first three values: 60\n"
          ]
        }
      ]
    },
    {
      "cell_type": "markdown",
      "source": [
        "Q4. Given a Pandas DataFrame df with a column 'Text', write a Python function to create a new column\n",
        "'Word_Count' that contains the number of words in each row of the 'Text' column."
      ],
      "metadata": {
        "id": "b_QHf9WRBJuz"
      }
    },
    {
      "cell_type": "code",
      "source": [
        "import pandas as pd\n",
        "\n",
        "df = pd.DataFrame({\n",
        "    'Text': [\"Hello world\", \"Data Science is fun\", \"Pandas is powerful\"]\n",
        "})\n",
        "\n",
        "def add_word_count(df):\n",
        "    df['Word_Count'] = df['Text'].apply(lambda x: len(str(x).split()))\n",
        "    return df\n",
        "\n",
        "print(add_word_count(df))\n"
      ],
      "metadata": {
        "colab": {
          "base_uri": "https://localhost:8080/"
        },
        "id": "x5XZm-UNB2LX",
        "outputId": "d84cf2d4-bc55-4ba4-f075-daf9a22ce558"
      },
      "execution_count": 4,
      "outputs": [
        {
          "output_type": "stream",
          "name": "stdout",
          "text": [
            "                  Text  Word_Count\n",
            "0          Hello world           2\n",
            "1  Data Science is fun           4\n",
            "2   Pandas is powerful           3\n"
          ]
        }
      ]
    },
    {
      "cell_type": "markdown",
      "source": [
        "Q5. How are DataFrame.size() and DataFrame.shape() different?\n",
        "\n",
        "ans. df.shape returns a tuple (rows, columns) of the DataFrame.\n",
        "\n",
        "df.size returns the total number of elements in the DataFrame (rows * columns).\n",
        "\n",
        "Example:\n",
        "\n"
      ],
      "metadata": {
        "id": "yKgjp4bvc49T"
      }
    },
    {
      "cell_type": "code",
      "source": [
        "import pandas as pd  #  Make sure this line is at the top\n",
        "\n",
        "# Create a sample DataFrame\n",
        "df = pd.DataFrame({'A': [1, 2], 'B': [3, 4]})\n",
        "\n",
        "# Print shape and size\n",
        "print(\"Shape:\", df.shape)  # Output: (2, 2) — 2 rows, 2 columns\n",
        "print(\"Size:\", df.size)    # Output: 4 — total 2 × 2 = 4 elements\n"
      ],
      "metadata": {
        "colab": {
          "base_uri": "https://localhost:8080/"
        },
        "id": "kQpC7d4zdUCz",
        "outputId": "d81c5ca3-c68a-436f-b385-be2ce1234dae"
      },
      "execution_count": 2,
      "outputs": [
        {
          "output_type": "stream",
          "name": "stdout",
          "text": [
            "Shape: (2, 2)\n",
            "Size: 4\n"
          ]
        }
      ]
    },
    {
      "cell_type": "markdown",
      "source": [
        "Q6. Which function of pandas do we use to read an excel file?"
      ],
      "metadata": {
        "id": "9nirdmApdWZ0"
      }
    },
    {
      "cell_type": "code",
      "source": [
        "import pandas as pd\n",
        "\n",
        "#  Create and save a sample Excel file\n",
        "sample_df = pd.DataFrame({'Name': ['Alice', 'Bob'], 'Score': [85, 90]})\n",
        "sample_df.to_excel('sample.xlsx', index=False)  # Save to Excel\n",
        "\n",
        "#  Now read the Excel file using pd.read_excel()\n",
        "df = pd.read_excel('sample.xlsx')\n",
        "\n",
        "#  Print the DataFrame\n",
        "print(df)\n"
      ],
      "metadata": {
        "colab": {
          "base_uri": "https://localhost:8080/"
        },
        "id": "u6JnFCq3dvoT",
        "outputId": "32c3f282-5995-4126-f9d6-ffa749ebbf46"
      },
      "execution_count": 4,
      "outputs": [
        {
          "output_type": "stream",
          "name": "stdout",
          "text": [
            "    Name  Score\n",
            "0  Alice     85\n",
            "1    Bob     90\n"
          ]
        }
      ]
    },
    {
      "cell_type": "markdown",
      "source": [
        "Q7. You have a Pandas DataFrame df that contains a column named 'Email' that contains email\n",
        "addresses in the format 'username@domain.com'. Write a Python function that creates a new column\n",
        "'Username' in df that contains only the username part of each email address."
      ],
      "metadata": {
        "id": "ZUlqN1J-dzWG"
      }
    },
    {
      "cell_type": "code",
      "source": [
        "import pandas as pd\n",
        "\n",
        "# Sample DataFrame with email addresses\n",
        "df = pd.DataFrame({\n",
        "    'Email': ['john.doe@example.com', 'alice.smith@domain.org', 'bob99@test.net']\n",
        "})\n",
        "\n",
        "# Function to extract the username from each email\n",
        "def add_username_column(dataframe):\n",
        "    dataframe['Username'] = dataframe['Email'].apply(lambda x: x.split('@')[0])\n",
        "    return dataframe\n",
        "\n",
        "# Apply the function\n",
        "df = add_username_column(df)\n",
        "\n",
        "# Display the updated DataFrame\n",
        "print(df)\n"
      ],
      "metadata": {
        "colab": {
          "base_uri": "https://localhost:8080/"
        },
        "id": "BwZAnIaVeIXQ",
        "outputId": "2e52c068-b3a7-4145-f5a7-04898b12e8e7"
      },
      "execution_count": 6,
      "outputs": [
        {
          "output_type": "stream",
          "name": "stdout",
          "text": [
            "                    Email     Username\n",
            "0    john.doe@example.com     john.doe\n",
            "1  alice.smith@domain.org  alice.smith\n",
            "2          bob99@test.net        bob99\n"
          ]
        }
      ]
    },
    {
      "cell_type": "markdown",
      "source": [
        "Q8. You have a Pandas DataFrame df with columns 'A', 'B', and 'C'. Write a Python function that selects\n",
        "all rows where the value in column 'A' is greater than 5 and the value in column 'B' is less than 10. The\n",
        "function should return a new DataFrame that contains only the selected rows.\n",
        "For example, if df contains the following values:\n",
        "A B C\n",
        "0 3 5 1\n",
        "1 8 2 7\n",
        "2 6 9 4\n",
        "3 2 3 5\n",
        "4 9 1 2"
      ],
      "metadata": {
        "id": "n6QF8neteKPG"
      }
    },
    {
      "cell_type": "code",
      "source": [
        "import pandas as pd\n",
        "\n",
        "# Given DataFrame\n",
        "df = pd.DataFrame({\n",
        "    'A': [3, 8, 6, 2, 9],\n",
        "    'B': [5, 2, 9, 3, 1],\n",
        "    'C': [1, 7, 4, 5, 2]\n",
        "})\n",
        "\n",
        "# Function to select rows where A > 5 and B < 5\n",
        "def filter_rows(dataframe):\n",
        "    return dataframe[(dataframe['A'] > 5) & (dataframe['B'] < 5)]\n",
        "\n",
        "# Apply the function\n",
        "filtered_df = filter_rows(df)\n",
        "\n",
        "# Display the filtered DataFrame\n",
        "print(filtered_df)\n"
      ],
      "metadata": {
        "id": "HDNI_1abelpr"
      },
      "execution_count": null,
      "outputs": []
    },
    {
      "cell_type": "markdown",
      "source": [
        "Q9. Given a Pandas DataFrame df with a column 'Values', write a Python function to calculate the mean,\n",
        "median, and standard deviation of the values in the 'Values' column."
      ],
      "metadata": {
        "id": "CaQMLcR5etGA"
      }
    },
    {
      "cell_type": "code",
      "source": [
        "import pandas as pd\n",
        "\n",
        "def calculate_statistics(df):\n",
        "    \"\"\"\n",
        "    Calculate mean, median, and standard deviation of the 'Values' column in a DataFrame.\n",
        "\n",
        "    Parameters:\n",
        "    df (pd.DataFrame): DataFrame with a column named 'Values'.\n",
        "\n",
        "    Returns:\n",
        "    dict: A dictionary with mean, median, and standard deviation.\n",
        "    \"\"\"\n",
        "    mean_val = df['Values'].mean()\n",
        "    median_val = df['Values'].median()\n",
        "    std_dev = df['Values'].std()\n",
        "\n",
        "    return {\n",
        "        'mean': mean_val,\n",
        "        'median': median_val,\n",
        "        'std_dev': std_dev\n",
        "    }\n"
      ],
      "metadata": {
        "id": "Kc-YdpRSf5Yv"
      },
      "execution_count": null,
      "outputs": []
    },
    {
      "cell_type": "code",
      "source": [
        "Q10. Given a Pandas DataFrame df with a column 'Sales' and a column 'Date', write a Python function to\n",
        "create a new column 'MovingAverage' that contains the moving average of the sales for the past 7 days\n",
        "for each row in the DataFrame. The moving average should be calculated using a window of size 7 and\n",
        "should include the current day."
      ],
      "metadata": {
        "id": "R8FqPrbugDOL"
      },
      "execution_count": null,
      "outputs": []
    },
    {
      "cell_type": "code",
      "source": [
        "import pandas as pd\n",
        "\n",
        "def add_moving_average(df):\n",
        "    \"\"\"\n",
        "    Adds a 'MovingAverage' column to the DataFrame which is the 7-day moving average\n",
        "    of the 'Sales' column, including the current day.\n",
        "\n",
        "    Parameters:\n",
        "    df (pd.DataFrame): DataFrame with 'Sales' and 'Date' columns.\n",
        "\n",
        "    Returns:\n",
        "    pd.DataFrame: DataFrame with the new 'MovingAverage' column.\n",
        "    \"\"\"\n",
        "    # Ensure 'Date' column is datetime type\n",
        "    df['Date'] = pd.to_datetime(df['Date'])\n",
        "\n",
        "    # Sort by date to ensure correct rolling computation\n",
        "    df = df.sort_values('Date')\n",
        "\n",
        "    # Calculate the 7-day moving average\n",
        "    df['MovingAverage'] = df['Sales'].rolling(window=7, min_periods=1).mean()\n",
        "\n",
        "    return df\n"
      ],
      "metadata": {
        "id": "fo8Hm24MgMR1"
      },
      "execution_count": null,
      "outputs": []
    },
    {
      "cell_type": "markdown",
      "source": [
        "Q11. You have a Pandas DataFrame df with a column 'Date'. Write a Python function that creates a new\n",
        "column 'Weekday' in the DataFrame. The 'Weekday' column should contain the weekday name (e.g.\n",
        "Monday, Tuesday) corresponding to each date in the 'Date' column.\n",
        "For example, if df contains the following values:\n",
        "Date\n",
        "0 2023-01-01\n",
        "1 2023-01-02\n",
        "2 2023-01-03\n",
        "3 2023-01-04\n",
        "4 2023-01-05\n",
        "Your function should create the following DataFrame:\n",
        "\n",
        "Date Weekday\n",
        "0 2023-01-01 Sunday\n",
        "1 2023-01-02 Monday\n",
        "2 2023-01-03 Tuesday\n",
        "3 2023-01-04 Wednesday\n",
        "4 2023-01-05 Thursday\n",
        "The function should return the modified DataFrame."
      ],
      "metadata": {
        "id": "fimkR3JOgOHz"
      }
    },
    {
      "cell_type": "code",
      "source": [
        "import pandas as pd\n",
        "\n",
        "def add_weekday_column(df):\n",
        "    \"\"\"\n",
        "    Adds a 'Weekday' column to the DataFrame based on the 'Date' column.\n",
        "    The 'Weekday' column will contain the name of the day (e.g., Monday, Tuesday).\n",
        "\n",
        "    Parameters:\n",
        "    df (pd.DataFrame): DataFrame with a 'Date' column.\n",
        "\n",
        "    Returns:\n",
        "    pd.DataFrame: Modified DataFrame with an added 'Weekday' column.\n",
        "    \"\"\"\n",
        "    # Ensure 'Date' column is in datetime format\n",
        "    df['Date'] = pd.to_datetime(df['Date'])\n",
        "\n",
        "    # Add 'Weekday' column\n",
        "    df['Weekday'] = df['Date'].dt.day_name()\n",
        "\n",
        "    return df\n"
      ],
      "metadata": {
        "id": "jujMQkCngaNJ"
      },
      "execution_count": null,
      "outputs": []
    },
    {
      "cell_type": "markdown",
      "source": [
        "Q12. Given a Pandas DataFrame df with a column 'Date' that contains timestamps, write a Python\n",
        "function to select all rows where the date is between '2023-01-01' and '2023-01-31'."
      ],
      "metadata": {
        "id": "OAQmkGEogjQR"
      }
    },
    {
      "cell_type": "code",
      "source": [
        "import pandas as pd\n",
        "\n",
        "def filter_dates_in_january(df):\n",
        "    \"\"\"\n",
        "    Select rows where the 'Date' is between '2023-01-01' and '2023-01-31'.\n",
        "\n",
        "    Parameters:\n",
        "    df (pd.DataFrame): DataFrame with a 'Date' column containing timestamps.\n",
        "\n",
        "    Returns:\n",
        "    pd.DataFrame: Filtered DataFrame with dates in the specified range.\n",
        "    \"\"\"\n",
        "    df['Date'] = pd.to_datetime(df['Date'])\n",
        "    mask = (df['Date'] >= '2023-01-01') & (df['Date'] <= '2023-01-31')\n",
        "    return df.loc[mask]\n"
      ],
      "metadata": {
        "id": "kwaMjlcrgwOT"
      },
      "execution_count": null,
      "outputs": []
    },
    {
      "cell_type": "markdown",
      "source": [
        "Q13. To use the basic functions of pandas, what is the first and foremost necessary library that needs to\n",
        "be imported?"
      ],
      "metadata": {
        "id": "ku2nbcEqgx50"
      }
    },
    {
      "cell_type": "code",
      "source": [
        "import pandas as pd\n"
      ],
      "metadata": {
        "id": "t1g6wO93g5IN"
      },
      "execution_count": null,
      "outputs": []
    },
    {
      "cell_type": "markdown",
      "source": [],
      "metadata": {
        "id": "lFWG_thSeVLz"
      }
    },
    {
      "cell_type": "markdown",
      "source": [],
      "metadata": {
        "id": "f6dCZ-0-dJKs"
      }
    },
    {
      "cell_type": "markdown",
      "source": [],
      "metadata": {
        "id": "s0D4G2yAAxr-"
      }
    },
    {
      "cell_type": "markdown",
      "source": [],
      "metadata": {
        "id": "A4rSInZt_dXV"
      }
    }
  ]
}