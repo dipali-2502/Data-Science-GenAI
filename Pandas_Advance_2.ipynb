{
  "nbformat": 4,
  "nbformat_minor": 0,
  "metadata": {
    "colab": {
      "provenance": []
    },
    "kernelspec": {
      "name": "python3",
      "display_name": "Python 3"
    },
    "language_info": {
      "name": "python"
    }
  },
  "cells": [
    {
      "cell_type": "markdown",
      "source": [
        "Consider following code to answer further questions:\n",
        "import pandas as pd\n",
        "course_name = [‘Data Science’, ‘Machine Learning’, ‘Big Data’, ‘Data Engineer’]\n",
        "duration = [2,3,6,4]\n",
        "df = pd.DataFrame(data = {‘course_name’ : course_name, ‘duration’ : duration})\n",
        "Q1. Write a code to print the data present in the second row of the dataframe, df."
      ],
      "metadata": {
        "id": "x9xjTAL2iGjg"
      }
    },
    {
      "cell_type": "code",
      "source": [
        "import pandas as pd\n",
        "\n",
        "course_name = ['Data Science', 'Machine Learning', 'Big Data', 'Data Engineer']\n",
        "duration = [2, 3, 6, 4]\n",
        "\n",
        "df = pd.DataFrame(data={'course_name': course_name, 'duration': duration})\n",
        "\n",
        "# Now print the second row\n",
        "print(df.iloc[1])\n"
      ],
      "metadata": {
        "colab": {
          "base_uri": "https://localhost:8080/"
        },
        "id": "gS6LRZ66ilAE",
        "outputId": "aa248d09-dd40-4fef-acca-063c31a53754"
      },
      "execution_count": null,
      "outputs": [
        {
          "output_type": "stream",
          "name": "stdout",
          "text": [
            "course_name    Machine Learning\n",
            "duration                      3\n",
            "Name: 1, dtype: object\n"
          ]
        }
      ]
    },
    {
      "cell_type": "markdown",
      "source": [
        "Q2. What is the difference between the functions loc and iloc in pandas.DataFrame?\n",
        "\n",
        "ans.  **Difference between `loc` and `iloc` in pandas.DataFrame:**\n",
        "\n",
        "* **`loc`**: Access rows and columns by **label/index name**. It includes the last index in slicing.\n",
        "  Example: `df.loc[2]` returns the row with index label `2`.\n",
        "\n",
        "* **`iloc`**: Access rows and columns by **integer position** (0-based). It excludes the last index in slicing.\n",
        "  Example: `df.iloc[2]` returns the third row (position 2, counting from 0).\n",
        "\n"
      ],
      "metadata": {
        "id": "mO-bjIRyimf4"
      }
    },
    {
      "cell_type": "markdown",
      "source": [
        "Q3. Reindex the given dataframe using a variable, reindex = [3,0,1,2] and store it in the variable, new_df\n",
        "then find the output for both new_df.loc[2] and new_df.iloc[2].\n",
        "\n",
        "Did you observe any difference in both the outputs? If so then explain it.\n",
        "Consider the below code to answer further questions:\n",
        "import pandas as pd\n",
        "import numpy as np\n",
        "columns = ['column_1', 'column_2', 'column_3', 'column_4', 'column_5', 'column_6']\n",
        "indices = [1,2,3,4,5,6]\n",
        "\n",
        "Creating a dataframe:\n",
        "df1 = pd.DataFrame(np.random.rand(6,6), columns = columns, index = indices)"
      ],
      "metadata": {
        "id": "Nsl6IIp3i3Nz"
      }
    },
    {
      "cell_type": "code",
      "source": [
        "import pandas as pd\n",
        "import numpy as np\n",
        "\n",
        "columns = ['column_1', 'column_2', 'column_3', 'column_4', 'column_5', 'column_6']\n",
        "indices = [1, 2, 3, 4, 5, 6]\n",
        "df1 = pd.DataFrame(np.random.rand(6, 6), columns=columns, index=indices)\n",
        "\n",
        "print(\"df1.loc[2]:\\n\", df1.loc[2])    # Access by index label 2\n",
        "print(\"\\ndf1.iloc[2]:\\n\", df1.iloc[2])  # Access by integer position 2 (3rd row)\n",
        "\n",
        "# Explanation:\n",
        "# df1.loc[2] returns the row where index label is 2.\n",
        "# df1.iloc[2] returns the 3rd row by position (index label 3).\n",
        "# loc uses index labels; iloc uses integer positions.\n"
      ],
      "metadata": {
        "colab": {
          "base_uri": "https://localhost:8080/"
        },
        "id": "478tYbWcjL7N",
        "outputId": "bb42aa01-7248-486c-fe58-867e53f8deaf"
      },
      "execution_count": null,
      "outputs": [
        {
          "output_type": "stream",
          "name": "stdout",
          "text": [
            "df1.loc[2]:\n",
            " column_1    0.563721\n",
            "column_2    0.572812\n",
            "column_3    0.741315\n",
            "column_4    0.697928\n",
            "column_5    0.647453\n",
            "column_6    0.309687\n",
            "Name: 2, dtype: float64\n",
            "\n",
            "df1.iloc[2]:\n",
            " column_1    0.674793\n",
            "column_2    0.088661\n",
            "column_3    0.893800\n",
            "column_4    0.516518\n",
            "column_5    0.084868\n",
            "column_6    0.230639\n",
            "Name: 3, dtype: float64\n"
          ]
        }
      ]
    },
    {
      "cell_type": "markdown",
      "source": [
        "Q4. Write a code to find the following statistical measurements for the above dataframe df1:\n",
        "(i) mean of each and every column present in the dataframe.\n",
        "(ii) standard deviation of column, ‘column_2’"
      ],
      "metadata": {
        "id": "W-FSRue_jNvX"
      }
    },
    {
      "cell_type": "code",
      "source": [
        "# (i) Mean of each column in df1\n",
        "mean_values = df1.mean()\n",
        "print(\"Mean of each column:\\n\", mean_values)\n",
        "\n",
        "# (ii) Standard deviation of 'column_2'\n",
        "std_column_2 = df1['column_2'].std()\n",
        "print(\"\\nStandard deviation of column_2:\", std_column_2)\n"
      ],
      "metadata": {
        "colab": {
          "base_uri": "https://localhost:8080/"
        },
        "id": "o0jf_1pAjWAq",
        "outputId": "30d25056-5ba5-44c6-c5da-976c731edeed"
      },
      "execution_count": null,
      "outputs": [
        {
          "output_type": "stream",
          "name": "stdout",
          "text": [
            "Mean of each column:\n",
            " column_1    0.515387\n",
            "column_2    0.317256\n",
            "column_3    0.506700\n",
            "column_4    0.459936\n",
            "column_5    0.357244\n",
            "column_6    0.438116\n",
            "dtype: float64\n",
            "\n",
            "Standard deviation of column_2: 0.3029914745121855\n"
          ]
        }
      ]
    },
    {
      "cell_type": "markdown",
      "source": [
        "Q5. Replace the data present in the second row of column, ‘column_2’ by a string variable then find the\n",
        "mean of column, column_2.\n",
        "If you are getting errors in executing it then explain why.\n",
        "[Hint: To replace the data use df1.loc[] and equate this to string data of your choice.]"
      ],
      "metadata": {
        "id": "Xqd1WPN4jXgW"
      }
    },
    {
      "cell_type": "code",
      "source": [
        "import pandas as pd\n",
        "import numpy as np\n",
        "\n",
        "# Setup DataFrame\n",
        "columns = ['column_1', 'column_2', 'column_3', 'column_4', 'column_5', 'column_6']\n",
        "indices = [1, 2, 3, 4, 5, 6]\n",
        "df1 = pd.DataFrame(np.random.rand(6, 6), columns=columns, index=indices)\n",
        "\n",
        "# Replace the data in the second row (index label 2) of 'column_2' with a string\n",
        "df1.loc[2, 'column_2'] = 'string_value'\n",
        "\n",
        "# Convert the column to numeric, coercing errors to NaN (which will ignore the string for calculations)\n",
        "df1['column_2'] = pd.to_numeric(df1['column_2'], errors='coerce')\n",
        "\n",
        "# Now calculate the mean of 'column_2' ignoring the non-numeric entry\n",
        "mean_value = df1['column_2'].mean()\n",
        "\n",
        "print(\"Mean of column_2 after replacing a value with string and converting to numeric (ignoring string):\", mean_value)\n"
      ],
      "metadata": {
        "colab": {
          "base_uri": "https://localhost:8080/"
        },
        "id": "wGV3nIn0jv-m",
        "outputId": "6e24ae65-9d09-49d5-932e-28020db7f17e"
      },
      "execution_count": null,
      "outputs": [
        {
          "output_type": "stream",
          "name": "stdout",
          "text": [
            "Mean of column_2 after replacing a value with string and converting to numeric (ignoring string): 0.7447118085839426\n"
          ]
        },
        {
          "output_type": "stream",
          "name": "stderr",
          "text": [
            "<ipython-input-8-bab628853b59>:10: FutureWarning: Setting an item of incompatible dtype is deprecated and will raise an error in a future version of pandas. Value 'string_value' has dtype incompatible with float64, please explicitly cast to a compatible dtype first.\n",
            "  df1.loc[2, 'column_2'] = 'string_value'\n"
          ]
        }
      ]
    },
    {
      "cell_type": "markdown",
      "source": [
        "Q6. What do you understand about the windows function in pandas and list the types of windows\n",
        "functions?\n",
        "\n",
        "ans. **Window Functions in pandas:**\n",
        "\n",
        "Window functions perform calculations across a *sliding window* of data — a subset of rows defined by a frame that moves through the dataset. Unlike simple aggregation, window functions return a value for each row based on the data in that window, enabling analysis like moving averages, cumulative sums, ranks, etc.\n",
        "\n",
        "\n",
        "**Key Points:**\n",
        "\n",
        "* They operate on a rolling or expanding subset of data.\n",
        "* The window moves row-by-row or based on time/index.\n",
        "* Output size is same as input (unlike groupby aggregations).\n",
        "\n",
        "\n",
        "\n",
        "**Types of Window Functions in pandas:**\n",
        "\n",
        "1. **Rolling Window (`rolling`)**\n",
        "   Computes statistics over a fixed-size sliding window.\n",
        "   Example: Moving average, rolling sum.\n",
        "\n",
        "2. **Expanding Window (`expanding`)**\n",
        "   Computes statistics over an expanding window that starts at the beginning and grows with each row.\n",
        "   Example: Cumulative sum, cumulative mean.\n",
        "\n",
        "3. **Exponentially Weighted Window (`ewm`)**\n",
        "   Applies exponentially weighted functions giving more weight to recent observations.\n",
        "   Example: Exponentially weighted moving average (EWMA).\n",
        "\n"
      ],
      "metadata": {
        "id": "VZ8cwAo_jxuE"
      }
    },
    {
      "cell_type": "markdown",
      "source": [
        "Q7. Write a code to print only the current month and year at the time of answering this question.\n",
        "[Hint: Use pandas.datetime function]"
      ],
      "metadata": {
        "id": "-ZKIuS8zj_8l"
      }
    },
    {
      "cell_type": "code",
      "source": [
        "import pandas as pd\n",
        "\n",
        "# Get current date and time using pandas Timestamp (pandas.datetime is deprecated)\n",
        "current_date = pd.Timestamp.now()\n",
        "\n",
        "# Extract current month and year\n",
        "current_month = current_date.month\n",
        "current_year = current_date.year\n",
        "\n",
        "print(f\"Current Month: {current_month}\")\n",
        "print(f\"Current Year: {current_year}\")\n"
      ],
      "metadata": {
        "colab": {
          "base_uri": "https://localhost:8080/"
        },
        "id": "IPSg3ee-kHSL",
        "outputId": "9f94b3b9-4873-49d6-aa6a-f8d95bb96ee0"
      },
      "execution_count": null,
      "outputs": [
        {
          "output_type": "stream",
          "name": "stdout",
          "text": [
            "Current Month: 5\n",
            "Current Year: 2025\n"
          ]
        }
      ]
    },
    {
      "cell_type": "markdown",
      "source": [
        "Q8. Write a Python program that takes in two dates as input (in the format YYYY-MM-DD) and\n",
        "calculates the difference between them in days, hours, and minutes using Pandas time delta. The\n",
        "program should prompt the user to enter the dates and display the result."
      ],
      "metadata": {
        "id": "W7zzE22hkIx_"
      }
    },
    {
      "cell_type": "code",
      "source": [
        "import pandas as pd\n",
        "\n",
        "# For testing without manual input, set fixed dates:\n",
        "date1_str = \"2023-05-01\"\n",
        "date2_str = \"2023-05-10\"\n",
        "\n",
        "# Convert input strings to pandas Timestamp\n",
        "date1 = pd.to_datetime(date1_str)\n",
        "date2 = pd.to_datetime(date2_str)\n",
        "\n",
        "# Calculate the difference as Timedelta (absolute value)\n",
        "diff = abs(date2 - date1)\n",
        "\n",
        "# Extract days, hours, and minutes from the Timedelta\n",
        "days = diff.days\n",
        "hours = diff.components.hours\n",
        "minutes = diff.components.minutes\n",
        "\n",
        "print(f\"Difference: {days} days, {hours} hours, {minutes} minutes\")\n"
      ],
      "metadata": {
        "id": "Oef5aAGmmtts",
        "outputId": "27ec4676-bdfd-4109-b44f-29f85f4a7df4",
        "colab": {
          "base_uri": "https://localhost:8080/"
        }
      },
      "execution_count": 11,
      "outputs": [
        {
          "output_type": "stream",
          "name": "stdout",
          "text": [
            "Difference: 9 days, 0 hours, 0 minutes\n"
          ]
        }
      ]
    },
    {
      "cell_type": "markdown",
      "source": [
        "Q9. Write a Python program that reads a CSV file containing categorical data and converts a specified\n",
        "column to a categorical data type. The program should prompt the user to enter the file path, column\n",
        "name, and category order, and then display the sorted data."
      ],
      "metadata": {
        "id": "OB19i4RfkRxn"
      }
    },
    {
      "cell_type": "code",
      "source": [
        "import pandas as pd\n",
        "\n",
        "# Take inputs from the user\n",
        "file_path = input(\"Enter the CSV file path: \")\n",
        "column_name = input(\"Enter the column name to convert to categorical: \")\n",
        "category_order_input = input(\"Enter the category order separated by commas (e.g., Low,Medium,High): \")\n",
        "\n",
        "# Convert input string to list for category order\n",
        "category_order = [cat.strip() for cat in category_order_input.split(',')]\n",
        "\n",
        "# Read the CSV file\n",
        "df = pd.read_csv(file_path)\n",
        "\n",
        "# Convert the specified column to categorical with the user-defined order\n",
        "df[column_name] = pd.Categorical(df[column_name], categories=category_order, ordered=True)\n",
        "\n",
        "# Sort the dataframe by the categorical column\n",
        "sorted_df = df.sort_values(by=column_name)\n",
        "\n",
        "# Display the sorted data\n",
        "print(\"\\nSorted DataFrame:\\n\", sorted_df)\n"
      ],
      "metadata": {
        "id": "EVeMib59kZuF"
      },
      "execution_count": null,
      "outputs": []
    },
    {
      "cell_type": "markdown",
      "source": [
        "Q10. Write a Python program that reads a CSV file containing sales data for different products and\n",
        "visualizes the data using a stacked bar chart to show the sales of each product category over time. The\n",
        "program should prompt the user to enter the file path and display the chart."
      ],
      "metadata": {
        "id": "XKCPTX26kiBl"
      }
    },
    {
      "cell_type": "code",
      "source": [
        "import pandas as pd\n",
        "import matplotlib.pyplot as plt\n",
        "\n",
        "# Take input from user\n",
        "file_path = input(\"Enter the CSV file path: \")\n",
        "\n",
        "# Read the CSV file\n",
        "df = pd.read_csv(file_path)\n",
        "\n",
        "# Assume the CSV has columns: 'Date', 'Product_Category', 'Sales'\n",
        "# Convert 'Date' column to datetime\n",
        "df['Date'] = pd.to_datetime(df['Date'])\n",
        "\n",
        "# Aggregate sales by Date and Product_Category\n",
        "sales_pivot = df.pivot_table(index='Date', columns='Product_Category', values='Sales', aggfunc='sum')\n",
        "\n",
        "# Plot stacked bar chart\n",
        "sales_pivot.plot(kind='bar', stacked=True, figsize=(12,6))\n",
        "\n",
        "plt.title('Sales of Product Categories Over Time')\n",
        "plt.xlabel('Date')\n",
        "plt.ylabel('Sales')\n",
        "plt.legend(title='Product Category', bbox_to_anchor=(1.05, 1), loc='upper left')\n",
        "plt.tight_layout()\n",
        "plt.show()\n"
      ],
      "metadata": {
        "id": "bi5DJioJkmPB"
      },
      "execution_count": null,
      "outputs": []
    },
    {
      "cell_type": "markdown",
      "source": [
        "Q11. You are given a CSV file containing student data that includes the student ID and their test score. Write\n",
        "a Python program that reads the CSV file, calculates the mean, median, and mode of the test scores, and\n",
        "displays the results in a table.\n",
        "The program should do the followingM\n",
        "I Prompt the user to enter the file path of the CSV file containing the student dataR\n",
        "I Read the CSV file into a Pandas DataFrameR\n",
        "I Calculate the mean, median, and mode of the test scores using Pandas toolsR\n",
        "I Display the mean, median, and mode in a table.\n",
        "Assume the CSV file contains the following columnsM\n",
        "I Student ID: The ID of the studentR\n",
        "I Test Score: The score of the student's test.\n",
        "Example usage of the program:\n",
        "Enter the file path of the CSV file containing the student data: student_data.csv\n",
        "+-----------+--------+\n",
        "| Statistic | Value |\n",
        "+-----------+--------+\n",
        "| Mean | 79.6 |\n",
        "| Median | 82 |\n",
        "| Mode | 85, 90 |\n",
        "+-----------+--------+\n",
        "Assume that the CSV file student_data.csv contains the following data:\n",
        "Student ID,Test Score\n",
        "1,85\n",
        "2,90\n",
        "3,80\n",
        "4,75\n",
        "5,85\n",
        "6,82\n",
        "7,78\n",
        "8,85\n",
        "9,90\n",
        "10,85\n",
        "The program should calculate the mean, median, and mode of the test scores and display the results"
      ],
      "metadata": {
        "id": "EYdoUwOUkqAd"
      }
    },
    {
      "cell_type": "code",
      "source": [
        "import pandas as pd\n",
        "\n",
        "# Prompt user for file path\n",
        "file_path = input(\"Enter the file path of the CSV file containing the student data: \")\n",
        "\n",
        "# Read CSV into DataFrame\n",
        "df = pd.read_csv(file_path)\n",
        "\n",
        "# Calculate statistics\n",
        "mean_score = df['Test Score'].mean()\n",
        "median_score = df['Test Score'].median()\n",
        "mode_scores = df['Test Score'].mode().tolist()  # mode can have multiple values\n",
        "\n",
        "# Format mode as comma-separated string\n",
        "mode_str = \", \".join(str(m) for m in mode_scores)\n",
        "\n",
        "# Display results in a table format\n",
        "print(\"+-----------+--------+\")\n",
        "print(\"| Statistic | Value  |\")\n",
        "print(\"+-----------+--------+\")\n",
        "print(f\"| Mean      | {mean_score:.1f}    |\")\n",
        "print(f\"| Median    | {median_score}      |\")\n",
        "print(f\"| Mode      | {mode_str} |\")\n",
        "print(\"+-----------+--------+\")\n"
      ],
      "metadata": {
        "id": "bOTQ9lSPk3F4"
      },
      "execution_count": null,
      "outputs": []
    }
  ]
}