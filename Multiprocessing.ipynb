{
  "nbformat": 4,
  "nbformat_minor": 0,
  "metadata": {
    "colab": {
      "provenance": []
    },
    "kernelspec": {
      "name": "python3",
      "display_name": "Python 3"
    },
    "language_info": {
      "name": "python"
    }
  },
  "cells": [
    {
      "cell_type": "markdown",
      "source": [
        "Q1. What is multiprocessing in python? Why is it useful?\n",
        "\n",
        "ans.\n",
        "multiprocessing in Python allows running multiple processes concurrently, leveraging multiple CPU cores for better performance. It is useful for CPU-bound tasks that require heavy computation, as it bypasses Python’s Global Interpreter Lock (GIL), unlike threading. Each process runs in its own memory space, enabling true parallel execution. This improves performance, especially for tasks like image processing or complex calculations, by utilizing the full potential of multi-core systems.\n",
        "\n"
      ],
      "metadata": {
        "id": "84oJsmpmUqBm"
      }
    },
    {
      "cell_type": "code",
      "source": [
        "import multiprocessing\n",
        "\n",
        "def worker(num):\n",
        "    print(f'Worker {num} is processing')\n",
        "\n",
        "if __name__ == \"__main__\":\n",
        "    processes = [multiprocessing.Process(target=worker, args=(i,)) for i in range(5)]\n",
        "    for p in processes: p.start()\n",
        "    for p in processes: p.join()\n"
      ],
      "metadata": {
        "colab": {
          "base_uri": "https://localhost:8080/"
        },
        "id": "928cIYvNUubD",
        "outputId": "6deb6086-fba1-4106-d112-122cb15d4e30"
      },
      "execution_count": 1,
      "outputs": [
        {
          "output_type": "stream",
          "name": "stdout",
          "text": [
            "Worker 0 is processing\n",
            "Worker 1 is processing\n",
            "Worker 2 is processingWorker 3 is processing\n",
            "Worker 4 is processing\n",
            "\n"
          ]
        }
      ]
    },
    {
      "cell_type": "markdown",
      "source": [
        "Q2. What are the differences between multiprocessing and multithreading?\n",
        "\n",
        "ans.\n",
        "### **Differences Between Multiprocessing and Multithreading:**\n",
        "\n",
        "* **Memory Usage**:\n",
        "\n",
        "  * **Multiprocessing**: Each process has its own memory space.\n",
        "  * **Multithreading**: Threads share the same memory space.\n",
        "\n",
        "* **CPU Usage**:\n",
        "\n",
        "  * **Multiprocessing**: Can use multiple CPU cores for true parallel execution.\n",
        "  * **Multithreading**: Limited to one core in Python due to the Global Interpreter Lock (GIL).\n",
        "\n",
        "* **Ideal Use Case**:\n",
        "\n",
        "  * **Multiprocessing**: Best for CPU-bound tasks (e.g., heavy calculations).\n",
        "  * **Multithreading**: Best for I/O-bound tasks (e.g., file operations, network requests).\n",
        "\n",
        "* **Communication**:\n",
        "\n",
        "  * **Multiprocessing**: Uses inter-process communication (IPC) like `Queue`.\n",
        "  * **Multithreading**: Threads communicate through shared memory.\n",
        "\n",
        "* **Fault Tolerance**:\n",
        "\n",
        "  * **Multiprocessing**: If one process crashes, others continue running.\n",
        "  * **Multithreading**: If one thread crashes, it can affect the entire process.\n",
        "\n"
      ],
      "metadata": {
        "id": "WM14r7tMVIbQ"
      }
    },
    {
      "cell_type": "markdown",
      "source": [
        "Q3. Write a python code to create a process using the multiprocessing module.\n",
        "\n"
      ],
      "metadata": {
        "id": "-qa9u3AFVgdF"
      }
    },
    {
      "cell_type": "code",
      "source": [
        "import multiprocessing\n",
        "\n",
        "# Function to be executed by the process\n",
        "def print_message():\n",
        "    print(\"Hello from the child process!\")\n",
        "\n",
        "# Main program\n",
        "if __name__ == \"__main__\":\n",
        "    # Create a new process\n",
        "    process = multiprocessing.Process(target=print_message)\n",
        "\n",
        "    # Start the process\n",
        "    process.start()\n",
        "\n",
        "    # Wait for the process to finish\n",
        "    process.join()\n",
        "\n",
        "    print(\"Main process continues after child process completes.\")\n"
      ],
      "metadata": {
        "id": "8abvtdUaV5CN"
      },
      "execution_count": null,
      "outputs": []
    },
    {
      "cell_type": "markdown",
      "source": [
        "Q4. What is a multiprocessing pool in python? Why is it used?\n",
        "\n",
        "ans. multiprocessing Pool in Python is a collection of worker processes that can be used to execute a function concurrently across multiple input values. It helps to parallelize a task across multiple processes, allowing you to take advantage of multiple CPU cores.\n",
        "\n",
        "The Pool class from the multiprocessing module provides a simple way to create and manage a pool of worker processes. The tasks are divided among the available processes in the pool, and the results are returned to the main process.\n",
        "\n",
        "Why is it used?\n",
        "A multiprocessing pool is used when you need to apply a function to a large dataset and want to process the data concurrently in parallel across multiple processes. It is useful for tasks where the work can be divided into independent sub-tasks, making it ideal for CPU-bound tasks that benefit from parallel execution.\n",
        "\n"
      ],
      "metadata": {
        "id": "s0ZPU5XBV6Fd"
      }
    },
    {
      "cell_type": "markdown",
      "source": [
        "Q5. How can we create a pool of worker processes in python using the multiprocessing module?\n",
        "\n",
        "ans. To create a pool of worker processes in Python using the multiprocessing module, we can use the Pool class. This allows us to manage multiple worker processes that can execute tasks concurrently. Here's how you can do it:\n",
        "\n",
        "Steps to create a pool of worker processes:\n",
        "Import the multiprocessing module.\n",
        "\n",
        "Create a Pool object: This will create a pool of worker processes.\n",
        "\n",
        "Use map(), apply(), or apply_async() to distribute the tasks to the pool of worker processes.\n",
        "\n",
        "Use join() to ensure the main process waits for all tasks to complete.\n",
        "\n",
        "example;"
      ],
      "metadata": {
        "id": "gDQX5ooeWJiL"
      }
    },
    {
      "cell_type": "code",
      "source": [
        "import multiprocessing\n",
        "\n",
        "# Function to square a number\n",
        "def square(n):\n",
        "    return n * n\n",
        "\n",
        "if __name__ == \"__main__\":\n",
        "    # Create a pool of 4 worker processes\n",
        "    with multiprocessing.Pool(processes=4) as pool:\n",
        "        # Apply the 'square' function to each element in the list using pool.map\n",
        "        result = pool.map(square, [1, 2, 3, 4, 5])\n",
        "\n",
        "    # Print the result\n",
        "    print(\"Squared numbers:\", result)\n"
      ],
      "metadata": {
        "id": "EA63nV5_Wd5D"
      },
      "execution_count": null,
      "outputs": []
    },
    {
      "cell_type": "markdown",
      "source": [
        "Q6. Write a python program to create 4 processes, each process should print a different number using the\n",
        "multiprocessing module in python."
      ],
      "metadata": {
        "id": "T71Q7yG0Wgm8"
      }
    },
    {
      "cell_type": "code",
      "source": [
        "import multiprocessing\n",
        "\n",
        "# Function to print a different number\n",
        "def print_number(number):\n",
        "    print(f\"Process {multiprocessing.current_process().name} is printing number: {number}\")\n",
        "\n",
        "if __name__ == \"__main__\":\n",
        "    # List of numbers to be printed by each process\n",
        "    numbers = [1, 2, 3, 4]\n",
        "\n",
        "    # Create and start 4 processes\n",
        "    processes = []\n",
        "    for number in numbers:\n",
        "        process = multiprocessing.Process(target=print_number, args=(number,))\n",
        "        processes.append(process)\n",
        "        process.start()\n",
        "\n",
        "    # Wait for all processes to finish\n",
        "    for process in processes:\n",
        "        process.join()\n",
        "\n",
        "    print(\"All processes have finished printing.\")\n"
      ],
      "metadata": {
        "id": "N_NZYYhzWpN2"
      },
      "execution_count": null,
      "outputs": []
    }
  ]
}